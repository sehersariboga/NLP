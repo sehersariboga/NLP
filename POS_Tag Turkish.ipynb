{
 "cells": [
  {
   "cell_type": "code",
   "execution_count": 1,
   "metadata": {},
   "outputs": [
    {
     "name": "stdout",
     "output_type": "stream",
     "text": [
      "Requirement already satisfied: zemberek-python in c:\\users\\seher\\anaconda3\\lib\\site-packages (0.1.0)\n",
      "Requirement already satisfied: antlr4-python3-runtime>=4.8 in c:\\users\\seher\\anaconda3\\lib\\site-packages (from zemberek-python) (4.9)\n",
      "Requirement already satisfied: numpy>=1.18.2 in c:\\users\\seher\\anaconda3\\lib\\site-packages (from zemberek-python) (1.19.2)\n",
      "Note: you may need to restart the kernel to use updated packages.\n"
     ]
    }
   ],
   "source": [
    "pip install zemberek-python"
   ]
  },
  {
   "cell_type": "code",
   "execution_count": 10,
   "metadata": {},
   "outputs": [],
   "source": [
    "import zemberek"
   ]
  },
  {
   "cell_type": "code",
   "execution_count": 3,
   "metadata": {},
   "outputs": [
    {
     "name": "stdout",
     "output_type": "stream",
     "text": [
      "Help on package zemberek:\n",
      "\n",
      "NAME\n",
      "    zemberek\n",
      "\n",
      "PACKAGE CONTENTS\n",
      "    core (package)\n",
      "    examples\n",
      "    lm (package)\n",
      "    morphology (package)\n",
      "    normalization (package)\n",
      "    resources (package)\n",
      "    tokenization (package)\n",
      "\n",
      "DATA\n",
      "    formatter = <logging.Formatter object>\n",
      "    handler = <StreamHandler stdout (INFO)>\n",
      "    root = <RootLogger root (INFO)>\n",
      "\n",
      "FILE\n",
      "    c:\\users\\seher\\anaconda3\\lib\\site-packages\\zemberek\\__init__.py\n",
      "\n",
      "\n"
     ]
    }
   ],
   "source": [
    "help(zemberek)"
   ]
  },
  {
   "cell_type": "code",
   "execution_count": 24,
   "metadata": {},
   "outputs": [
    {
     "name": "stderr",
     "output_type": "stream",
     "text": [
      "INFO:zemberek.morphology.turkish_morphology:TurkishMorphology instance initialized in 11.473276615142822\n"
     ]
    },
    {
     "name": "stdout",
     "output_type": "stream",
     "text": [
      "2020-12-01 21:27:58,633 - zemberek.morphology.turkish_morphology - INFO\n",
      "Msg: TurkishMorphology instance initialized in 11.473276615142822\n",
      "\n"
     ]
    }
   ],
   "source": [
    "pos= zemberek.TurkishMorphology.create_with_defaults()"
   ]
  },
  {
   "cell_type": "code",
   "execution_count": 38,
   "metadata": {},
   "outputs": [
    {
     "name": "stderr",
     "output_type": "stream",
     "text": [
      "WARNING:root:APPENDING RESULT: <(Japonya_Noun_Prop)(-)(japonya:nounProper_S + a3sg_S + pnon_S + nın:gen_ST)>\n"
     ]
    },
    {
     "name": "stdout",
     "output_type": "stream",
     "text": [
      "2020-12-01 21:35:24,297 - root - WARNING\n",
      "Msg: APPENDING RESULT: <(Japonya_Noun_Prop)(-)(japonya:nounProper_S + a3sg_S + pnon_S + nın:gen_ST)>\n",
      "\n"
     ]
    },
    {
     "name": "stderr",
     "output_type": "stream",
     "text": [
      "WARNING:root:APPENDING RESULT: <(Japonya_Noun_Prop)(-)(japonya:nounProper_S + a3sg_S + n:p2sg_S + ın:gen_ST)>\n"
     ]
    },
    {
     "name": "stdout",
     "output_type": "stream",
     "text": [
      "2020-12-01 21:35:24,298 - root - WARNING\n",
      "Msg: APPENDING RESULT: <(Japonya_Noun_Prop)(-)(japonya:nounProper_S + a3sg_S + n:p2sg_S + ın:gen_ST)>\n",
      "\n"
     ]
    },
    {
     "name": "stderr",
     "output_type": "stream",
     "text": [
      "WARNING:root:APPENDING RESULT: <(başkent_Noun)(-)(başkent:noun_S + a3sg_S + pnon_S + i:acc_ST)>\n"
     ]
    },
    {
     "name": "stdout",
     "output_type": "stream",
     "text": [
      "2020-12-01 21:35:24,303 - root - WARNING\n",
      "Msg: APPENDING RESULT: <(başkent_Noun)(-)(başkent:noun_S + a3sg_S + pnon_S + i:acc_ST)>\n",
      "\n"
     ]
    },
    {
     "name": "stderr",
     "output_type": "stream",
     "text": [
      "WARNING:root:APPENDING RESULT: <(başkent_Noun)(-)(başkent:noun_S + a3sg_S + i:p3sg_S + nom_ST)>\n"
     ]
    },
    {
     "name": "stdout",
     "output_type": "stream",
     "text": [
      "2020-12-01 21:35:24,305 - root - WARNING\n",
      "Msg: APPENDING RESULT: <(başkent_Noun)(-)(başkent:noun_S + a3sg_S + i:p3sg_S + nom_ST)>\n",
      "\n"
     ]
    },
    {
     "name": "stderr",
     "output_type": "stream",
     "text": [
      "WARNING:root:APPENDING RESULT: <(tokyo_Noun)(-)(tokyo:noun_S + a3sg_S + pnon_S + da:loc_ST)>\n"
     ]
    },
    {
     "name": "stdout",
     "output_type": "stream",
     "text": [
      "2020-12-01 21:35:24,310 - root - WARNING\n",
      "Msg: APPENDING RESULT: <(tokyo_Noun)(-)(tokyo:noun_S + a3sg_S + pnon_S + da:loc_ST)>\n",
      "\n"
     ]
    },
    {
     "name": "stderr",
     "output_type": "stream",
     "text": [
      "WARNING:root:APPENDING RESULT: <(bugün_Noun_Time)(-)(bugün:noun_S + a3sg_S + pnon_S + e:dat_ST)>\n"
     ]
    },
    {
     "name": "stdout",
     "output_type": "stream",
     "text": [
      "2020-12-01 21:35:24,315 - root - WARNING\n",
      "Msg: APPENDING RESULT: <(bugün_Noun_Time)(-)(bugün:noun_S + a3sg_S + pnon_S + e:dat_ST)>\n",
      "\n"
     ]
    },
    {
     "name": "stderr",
     "output_type": "stream",
     "text": [
      "WARNING:root:APPENDING RESULT: <(kadar_Postp_PCDat)(-)(kadar:postpRoot_ST)>\n"
     ]
    },
    {
     "name": "stdout",
     "output_type": "stream",
     "text": [
      "2020-12-01 21:35:24,317 - root - WARNING\n",
      "Msg: APPENDING RESULT: <(kadar_Postp_PCDat)(-)(kadar:postpRoot_ST)>\n",
      "\n"
     ]
    },
    {
     "name": "stderr",
     "output_type": "stream",
     "text": [
      "WARNING:root:APPENDING RESULT: <(kadar_Postp_PCGen)(-)(kadar:postpRoot_ST)>\n"
     ]
    },
    {
     "name": "stdout",
     "output_type": "stream",
     "text": [
      "2020-12-01 21:35:24,319 - root - WARNING\n",
      "Msg: APPENDING RESULT: <(kadar_Postp_PCGen)(-)(kadar:postpRoot_ST)>\n",
      "\n"
     ]
    },
    {
     "name": "stderr",
     "output_type": "stream",
     "text": [
      "WARNING:root:APPENDING RESULT: <(kadar_Postp_PCNom)(-)(kadar:postpRoot_ST)>\n"
     ]
    },
    {
     "name": "stdout",
     "output_type": "stream",
     "text": [
      "2020-12-01 21:35:24,320 - root - WARNING\n",
      "Msg: APPENDING RESULT: <(kadar_Postp_PCNom)(-)(kadar:postpRoot_ST)>\n",
      "\n"
     ]
    },
    {
     "name": "stderr",
     "output_type": "stream",
     "text": [
      "WARNING:root:APPENDING RESULT: <(Kadar_Noun_Prop)(-)(kadar:nounProper_S + a3sg_S + pnon_S + nom_ST)>\n"
     ]
    },
    {
     "name": "stdout",
     "output_type": "stream",
     "text": [
      "2020-12-01 21:35:24,323 - root - WARNING\n",
      "Msg: APPENDING RESULT: <(Kadar_Noun_Prop)(-)(kadar:nounProper_S + a3sg_S + pnon_S + nom_ST)>\n",
      "\n"
     ]
    },
    {
     "name": "stderr",
     "output_type": "stream",
     "text": [
      "WARNING:root:APPENDING RESULT: <(kadar_Noun)(-)(kadar:noun_S + a3sg_S + pnon_S + nom_ST)>\n"
     ]
    },
    {
     "name": "stdout",
     "output_type": "stream",
     "text": [
      "2020-12-01 21:35:24,325 - root - WARNING\n",
      "Msg: APPENDING RESULT: <(kadar_Noun)(-)(kadar:noun_S + a3sg_S + pnon_S + nom_ST)>\n",
      "\n"
     ]
    },
    {
     "name": "stderr",
     "output_type": "stream",
     "text": [
      "WARNING:root:APPENDING RESULT: <(görmek_Verb)(-)(gör:verbRoot_S + ül:vPass_S + verbRoot_S + en:vPresPart_S + adjAfterVerb_ST)>\n"
     ]
    },
    {
     "name": "stdout",
     "output_type": "stream",
     "text": [
      "2020-12-01 21:35:24,328 - root - WARNING\n",
      "Msg: APPENDING RESULT: <(görmek_Verb)(-)(gör:verbRoot_S + ül:vPass_S + verbRoot_S + en:vPresPart_S + adjAfterVerb_ST)>\n",
      "\n"
     ]
    },
    {
     "name": "stderr",
     "output_type": "stream",
     "text": [
      "WARNING:root:APPENDING RESULT: <(görü_Noun)(-)(görü:noun_S + a3sg_S + pnon_S + nom_ST + len:acquire_S + verbRoot_S + vImp_S + vA2sg_ST)>\n"
     ]
    },
    {
     "name": "stdout",
     "output_type": "stream",
     "text": [
      "2020-12-01 21:35:24,331 - root - WARNING\n",
      "Msg: APPENDING RESULT: <(görü_Noun)(-)(görü:noun_S + a3sg_S + pnon_S + nom_ST + len:acquire_S + verbRoot_S + vImp_S + vA2sg_ST)>\n",
      "\n"
     ]
    },
    {
     "name": "stderr",
     "output_type": "stream",
     "text": [
      "WARNING:root:APPENDING RESULT: <(en_Adv)(-)(en:advRoot_ST)>\n"
     ]
    },
    {
     "name": "stdout",
     "output_type": "stream",
     "text": [
      "2020-12-01 21:35:24,332 - root - WARNING\n",
      "Msg: APPENDING RESULT: <(en_Adv)(-)(en:advRoot_ST)>\n",
      "\n"
     ]
    },
    {
     "name": "stderr",
     "output_type": "stream",
     "text": [
      "WARNING:root:APPENDING RESULT: <(en_Noun)(-)(en:noun_S + a3sg_S + pnon_S + nom_ST)>\n"
     ]
    },
    {
     "name": "stdout",
     "output_type": "stream",
     "text": [
      "2020-12-01 21:35:24,333 - root - WARNING\n",
      "Msg: APPENDING RESULT: <(en_Noun)(-)(en:noun_S + a3sg_S + pnon_S + nom_ST)>\n",
      "\n"
     ]
    },
    {
     "name": "stderr",
     "output_type": "stream",
     "text": [
      "WARNING:root:APPENDING RESULT: <(yüksek_Adj)(-)(yüksek:adjectiveRoot_ST)>\n"
     ]
    },
    {
     "name": "stdout",
     "output_type": "stream",
     "text": [
      "2020-12-01 21:35:24,335 - root - WARNING\n",
      "Msg: APPENDING RESULT: <(yüksek_Adj)(-)(yüksek:adjectiveRoot_ST)>\n",
      "\n"
     ]
    },
    {
     "name": "stderr",
     "output_type": "stream",
     "text": [
      "WARNING:root:APPENDING RESULT: <(yüksek_Noun)(-)(yüksek:noun_S + a3sg_S + pnon_S + nom_ST)>\n"
     ]
    },
    {
     "name": "stdout",
     "output_type": "stream",
     "text": [
      "2020-12-01 21:35:24,338 - root - WARNING\n",
      "Msg: APPENDING RESULT: <(yüksek_Noun)(-)(yüksek:noun_S + a3sg_S + pnon_S + nom_ST)>\n",
      "\n"
     ]
    },
    {
     "name": "stderr",
     "output_type": "stream",
     "text": [
      "WARNING:root:APPENDING RESULT: <(Yüksek_Noun_Prop)(-)(yüksek:nounProper_S + a3sg_S + pnon_S + nom_ST)>\n"
     ]
    },
    {
     "name": "stdout",
     "output_type": "stream",
     "text": [
      "2020-12-01 21:35:24,339 - root - WARNING\n",
      "Msg: APPENDING RESULT: <(Yüksek_Noun_Prop)(-)(yüksek:nounProper_S + a3sg_S + pnon_S + nom_ST)>\n",
      "\n"
     ]
    },
    {
     "name": "stderr",
     "output_type": "stream",
     "text": [
      "WARNING:root:APPENDING RESULT: <(yük_Noun)(-)(yük:noun_S + a3sg_S + pnon_S + nom_ST + nounZeroDeriv_S + nVerb_S + se:nCond_S + k:nA1pl_ST)>\n"
     ]
    },
    {
     "name": "stdout",
     "output_type": "stream",
     "text": [
      "2020-12-01 21:35:24,342 - root - WARNING\n",
      "Msg: APPENDING RESULT: <(yük_Noun)(-)(yük:noun_S + a3sg_S + pnon_S + nom_ST + nounZeroDeriv_S + nVerb_S + se:nCond_S + k:nA1pl_ST)>\n",
      "\n"
     ]
    },
    {
     "name": "stderr",
     "output_type": "stream",
     "text": [
      "WARNING:root:APPENDING RESULT: <(günlük_Adj)(-)(günlük:adjectiveRoot_ST)>\n"
     ]
    },
    {
     "name": "stdout",
     "output_type": "stream",
     "text": [
      "2020-12-01 21:35:24,344 - root - WARNING\n",
      "Msg: APPENDING RESULT: <(günlük_Adj)(-)(günlük:adjectiveRoot_ST)>\n",
      "\n"
     ]
    },
    {
     "name": "stderr",
     "output_type": "stream",
     "text": [
      "WARNING:root:APPENDING RESULT: <(günlük_Noun)(-)(günlük:noun_S + a3sg_S + pnon_S + nom_ST)>\n"
     ]
    },
    {
     "name": "stdout",
     "output_type": "stream",
     "text": [
      "2020-12-01 21:35:24,348 - root - WARNING\n",
      "Msg: APPENDING RESULT: <(günlük_Noun)(-)(günlük:noun_S + a3sg_S + pnon_S + nom_ST)>\n",
      "\n"
     ]
    },
    {
     "name": "stderr",
     "output_type": "stream",
     "text": [
      "WARNING:root:APPENDING RESULT: <(gün_Noun_Time)(-)(gün:noun_S + a3sg_S + pnon_S + nom_ST + lük:ness_S + noun_S + a3sg_S + pnon_S + nom_ST)>\n"
     ]
    },
    {
     "name": "stdout",
     "output_type": "stream",
     "text": [
      "2020-12-01 21:35:24,350 - root - WARNING\n",
      "Msg: APPENDING RESULT: <(gün_Noun_Time)(-)(gün:noun_S + a3sg_S + pnon_S + nom_ST + lük:ness_S + noun_S + a3sg_S + pnon_S + nom_ST)>\n",
      "\n"
     ]
    },
    {
     "name": "stderr",
     "output_type": "stream",
     "text": [
      "WARNING:root:APPENDING RESULT: <(vaka_Noun)(-)(vaka:noun_S + a3sg_S + pnon_S + nom_ST)>\n"
     ]
    },
    {
     "name": "stdout",
     "output_type": "stream",
     "text": [
      "2020-12-01 21:35:24,354 - root - WARNING\n",
      "Msg: APPENDING RESULT: <(vaka_Noun)(-)(vaka:noun_S + a3sg_S + pnon_S + nom_ST)>\n",
      "\n"
     ]
    },
    {
     "name": "stderr",
     "output_type": "stream",
     "text": [
      "WARNING:root:APPENDING RESULT: <(sayı_Noun)(-)(sayı:noun_S + a3sg_S + sı:p3sg_S + nom_ST)>\n"
     ]
    },
    {
     "name": "stdout",
     "output_type": "stream",
     "text": [
      "2020-12-01 21:35:24,358 - root - WARNING\n",
      "Msg: APPENDING RESULT: <(sayı_Noun)(-)(sayı:noun_S + a3sg_S + sı:p3sg_S + nom_ST)>\n",
      "\n"
     ]
    },
    {
     "name": "stderr",
     "output_type": "stream",
     "text": [
      "WARNING:root:APPENDING RESULT: <(kay_Noun)(-)(kay:noun_S + a3sg_S + pnon_S + da:loc_ST)>\n"
     ]
    },
    {
     "name": "stdout",
     "output_type": "stream",
     "text": [
      "2020-12-01 21:35:24,362 - root - WARNING\n",
      "Msg: APPENDING RESULT: <(kay_Noun)(-)(kay:noun_S + a3sg_S + pnon_S + da:loc_ST)>\n",
      "\n"
     ]
    },
    {
     "name": "stderr",
     "output_type": "stream",
     "text": [
      "WARNING:root:APPENDING RESULT: <(kayıt_Noun)(-)(kayd:noun_S + a3sg_S + pnon_S + a:dat_ST)>\n"
     ]
    },
    {
     "name": "stdout",
     "output_type": "stream",
     "text": [
      "2020-12-01 21:35:24,364 - root - WARNING\n",
      "Msg: APPENDING RESULT: <(kayıt_Noun)(-)(kayd:noun_S + a3sg_S + pnon_S + a:dat_ST)>\n",
      "\n"
     ]
    },
    {
     "name": "stderr",
     "output_type": "stream",
     "text": [
      "WARNING:root:APPENDING RESULT: <(geçmek_Verb)(-)(geç:verbRoot_S + ti:vPast_S + vA3sg_ST)>\n"
     ]
    },
    {
     "name": "stdout",
     "output_type": "stream",
     "text": [
      "2020-12-01 21:35:24,367 - root - WARNING\n",
      "Msg: APPENDING RESULT: <(geçmek_Verb)(-)(geç:verbRoot_S + ti:vPast_S + vA3sg_ST)>\n",
      "\n"
     ]
    },
    {
     "name": "stderr",
     "output_type": "stream",
     "text": [
      "WARNING:root:APPENDING RESULT: <(Geçti_Noun_Prop)(-)(geçti:nounProper_S + a3sg_S + pnon_S + nom_ST)>\n"
     ]
    },
    {
     "name": "stdout",
     "output_type": "stream",
     "text": [
      "2020-12-01 21:35:24,369 - root - WARNING\n",
      "Msg: APPENDING RESULT: <(Geçti_Noun_Prop)(-)(geçti:nounProper_S + a3sg_S + pnon_S + nom_ST)>\n",
      "\n"
     ]
    },
    {
     "name": "stderr",
     "output_type": "stream",
     "text": [
      "WARNING:root:APPENDING RESULT: <(geç_Adj)(-)(geç:adjectiveRoot_ST + adjZeroDeriv_S + nVerb_S + ti:nPast_S + nA3sg_ST)>\n"
     ]
    },
    {
     "name": "stdout",
     "output_type": "stream",
     "text": [
      "2020-12-01 21:35:24,371 - root - WARNING\n",
      "Msg: APPENDING RESULT: <(geç_Adj)(-)(geç:adjectiveRoot_ST + adjZeroDeriv_S + nVerb_S + ti:nPast_S + nA3sg_ST)>\n",
      "\n"
     ]
    },
    {
     "name": "stderr",
     "output_type": "stream",
     "text": [
      "WARNING:root:APPENDING RESULT: <(._Punc)(-)(.:puncRoot_ST)>\n"
     ]
    },
    {
     "name": "stdout",
     "output_type": "stream",
     "text": [
      "2020-12-01 21:35:24,373 - root - WARNING\n",
      "Msg: APPENDING RESULT: <(._Punc)(-)(.:puncRoot_ST)>\n",
      "\n"
     ]
    },
    {
     "name": "stderr",
     "output_type": "stream",
     "text": [
      "WARNING:root:APPENDING RESULT: <(yerel_Adj)(-)(yerel:adjectiveRoot_ST)>\n"
     ]
    },
    {
     "name": "stdout",
     "output_type": "stream",
     "text": [
      "2020-12-01 21:35:24,375 - root - WARNING\n",
      "Msg: APPENDING RESULT: <(yerel_Adj)(-)(yerel:adjectiveRoot_ST)>\n",
      "\n"
     ]
    },
    {
     "name": "stderr",
     "output_type": "stream",
     "text": [
      "WARNING:root:APPENDING RESULT: <(Yerel_Noun_Prop)(-)(yerel:nounProper_S + a3sg_S + pnon_S + nom_ST)>\n"
     ]
    },
    {
     "name": "stdout",
     "output_type": "stream",
     "text": [
      "2020-12-01 21:35:24,378 - root - WARNING\n",
      "Msg: APPENDING RESULT: <(Yerel_Noun_Prop)(-)(yerel:nounProper_S + a3sg_S + pnon_S + nom_ST)>\n",
      "\n"
     ]
    },
    {
     "name": "stderr",
     "output_type": "stream",
     "text": [
      "WARNING:root:APPENDING RESULT: <(,_Punc)(-)(,:puncRoot_ST)>\n"
     ]
    },
    {
     "name": "stdout",
     "output_type": "stream",
     "text": [
      "2020-12-01 21:35:24,382 - root - WARNING\n",
      "Msg: APPENDING RESULT: <(,_Punc)(-)(,:puncRoot_ST)>\n",
      "\n"
     ]
    },
    {
     "name": "stderr",
     "output_type": "stream",
     "text": [
      "WARNING:root:APPENDING RESULT: <(artmak_Verb)(-)(art:verbRoot_S + an:vPresPart_S + adjAfterVerb_ST)>\n"
     ]
    },
    {
     "name": "stdout",
     "output_type": "stream",
     "text": [
      "2020-12-01 21:35:24,387 - root - WARNING\n",
      "Msg: APPENDING RESULT: <(artmak_Verb)(-)(art:verbRoot_S + an:vPresPart_S + adjAfterVerb_ST)>\n",
      "\n"
     ]
    },
    {
     "name": "stderr",
     "output_type": "stream",
     "text": [
      "WARNING:root:APPENDING RESULT: <(Artan_Noun_Prop)(-)(artan:nounProper_S + a3sg_S + pnon_S + nom_ST)>\n"
     ]
    },
    {
     "name": "stdout",
     "output_type": "stream",
     "text": [
      "2020-12-01 21:35:24,390 - root - WARNING\n",
      "Msg: APPENDING RESULT: <(Artan_Noun_Prop)(-)(artan:nounProper_S + a3sg_S + pnon_S + nom_ST)>\n",
      "\n"
     ]
    },
    {
     "name": "stderr",
     "output_type": "stream",
     "text": [
      "WARNING:root:APPENDING RESULT: <(enfeksiyon_Noun)(-)(enfeksiyon:noun_S + lar:a3pl_S + pnon_S + nom_ST)>\n"
     ]
    },
    {
     "name": "stdout",
     "output_type": "stream",
     "text": [
      "2020-12-01 21:35:24,394 - root - WARNING\n",
      "Msg: APPENDING RESULT: <(enfeksiyon_Noun)(-)(enfeksiyon:noun_S + lar:a3pl_S + pnon_S + nom_ST)>\n",
      "\n"
     ]
    },
    {
     "name": "stderr",
     "output_type": "stream",
     "text": [
      "WARNING:root:APPENDING RESULT: <(enfeksiyon_Noun)(-)(enfeksiyon:noun_S + a3sg_S + pnon_S + nom_ST + nounZeroDeriv_S + nVerb_S + nPresent_S + lar:nA3pl_ST)>\n"
     ]
    },
    {
     "name": "stdout",
     "output_type": "stream",
     "text": [
      "2020-12-01 21:35:24,396 - root - WARNING\n",
      "Msg: APPENDING RESULT: <(enfeksiyon_Noun)(-)(enfeksiyon:noun_S + a3sg_S + pnon_S + nom_ST + nounZeroDeriv_S + nVerb_S + nPresent_S + lar:nA3pl_ST)>\n",
      "\n"
     ]
    },
    {
     "name": "stderr",
     "output_type": "stream",
     "text": [
      "WARNING:root:APPENDING RESULT: <(karşı_Noun)(-)(karşı:noun_S + a3sg_S + sı:p3sg_S + nda:loc_ST)>\n"
     ]
    },
    {
     "name": "stdout",
     "output_type": "stream",
     "text": [
      "2020-12-01 21:35:24,400 - root - WARNING\n",
      "Msg: APPENDING RESULT: <(karşı_Noun)(-)(karşı:noun_S + a3sg_S + sı:p3sg_S + nda:loc_ST)>\n",
      "\n"
     ]
    },
    {
     "name": "stderr",
     "output_type": "stream",
     "text": [
      "WARNING:root:APPENDING RESULT: <(karşı_Adj)(-)(karşı:adjectiveRoot_ST + adjZeroDeriv_S + noun_S + a3sg_S + sı:p3sg_S + nda:loc_ST)>\n"
     ]
    },
    {
     "name": "stdout",
     "output_type": "stream",
     "text": [
      "2020-12-01 21:35:24,402 - root - WARNING\n",
      "Msg: APPENDING RESULT: <(karşı_Adj)(-)(karşı:adjectiveRoot_ST + adjZeroDeriv_S + noun_S + a3sg_S + sı:p3sg_S + nda:loc_ST)>\n",
      "\n"
     ]
    },
    {
     "name": "stderr",
     "output_type": "stream",
     "text": [
      "WARNING:root:APPENDING RESULT: <(alarm_Noun)(-)(alarm:noun_S + a3sg_S + pnon_S + nom_ST)>\n"
     ]
    },
    {
     "name": "stdout",
     "output_type": "stream",
     "text": [
      "2020-12-01 21:35:24,413 - root - WARNING\n",
      "Msg: APPENDING RESULT: <(alarm_Noun)(-)(alarm:noun_S + a3sg_S + pnon_S + nom_ST)>\n",
      "\n"
     ]
    },
    {
     "name": "stderr",
     "output_type": "stream",
     "text": [
      "WARNING:root:APPENDING RESULT: <(seviye_Noun)(-)(seviye:noun_S + a3sg_S + si:p3sg_S + nin:gen_ST)>\n"
     ]
    },
    {
     "name": "stdout",
     "output_type": "stream",
     "text": [
      "2020-12-01 21:35:24,422 - root - WARNING\n",
      "Msg: APPENDING RESULT: <(seviye_Noun)(-)(seviye:noun_S + a3sg_S + si:p3sg_S + nin:gen_ST)>\n",
      "\n"
     ]
    },
    {
     "name": "stderr",
     "output_type": "stream",
     "text": [
      "WARNING:root:APPENDING RESULT: <(en_Adv)(-)(en:advRoot_ST)>\n"
     ]
    },
    {
     "name": "stdout",
     "output_type": "stream",
     "text": [
      "2020-12-01 21:35:24,425 - root - WARNING\n",
      "Msg: APPENDING RESULT: <(en_Adv)(-)(en:advRoot_ST)>\n",
      "\n"
     ]
    },
    {
     "name": "stderr",
     "output_type": "stream",
     "text": [
      "WARNING:root:APPENDING RESULT: <(en_Noun)(-)(en:noun_S + a3sg_S + pnon_S + nom_ST)>\n"
     ]
    },
    {
     "name": "stdout",
     "output_type": "stream",
     "text": [
      "2020-12-01 21:35:24,427 - root - WARNING\n",
      "Msg: APPENDING RESULT: <(en_Noun)(-)(en:noun_S + a3sg_S + pnon_S + nom_ST)>\n",
      "\n"
     ]
    },
    {
     "name": "stderr",
     "output_type": "stream",
     "text": [
      "WARNING:root:APPENDING RESULT: <(üst_Adj)(-)(üst:adjectiveRoot_ST)>\n"
     ]
    },
    {
     "name": "stdout",
     "output_type": "stream",
     "text": [
      "2020-12-01 21:35:24,428 - root - WARNING\n",
      "Msg: APPENDING RESULT: <(üst_Adj)(-)(üst:adjectiveRoot_ST)>\n",
      "\n"
     ]
    },
    {
     "name": "stderr",
     "output_type": "stream",
     "text": [
      "WARNING:root:APPENDING RESULT: <(üst_Noun)(-)(üst:noun_S + a3sg_S + pnon_S + nom_ST)>\n"
     ]
    },
    {
     "name": "stdout",
     "output_type": "stream",
     "text": [
      "2020-12-01 21:35:24,430 - root - WARNING\n",
      "Msg: APPENDING RESULT: <(üst_Noun)(-)(üst:noun_S + a3sg_S + pnon_S + nom_ST)>\n",
      "\n"
     ]
    },
    {
     "name": "stderr",
     "output_type": "stream",
     "text": [
      "WARNING:root:APPENDING RESULT: <(düzemek_Verb)(-)(düze:verbRoot_S + ye:vOpt_S + vA3sg_ST)>\n"
     ]
    },
    {
     "name": "stdout",
     "output_type": "stream",
     "text": [
      "2020-12-01 21:35:24,433 - root - WARNING\n",
      "Msg: APPENDING RESULT: <(düzemek_Verb)(-)(düze:verbRoot_S + ye:vOpt_S + vA3sg_ST)>\n",
      "\n"
     ]
    },
    {
     "name": "stderr",
     "output_type": "stream",
     "text": [
      "WARNING:root:APPENDING RESULT: <(düze_Noun)(-)(düze:noun_S + a3sg_S + pnon_S + ye:dat_ST)>\n"
     ]
    },
    {
     "name": "stdout",
     "output_type": "stream",
     "text": [
      "2020-12-01 21:35:24,436 - root - WARNING\n",
      "Msg: APPENDING RESULT: <(düze_Noun)(-)(düze:noun_S + a3sg_S + pnon_S + ye:dat_ST)>\n",
      "\n"
     ]
    },
    {
     "name": "stderr",
     "output_type": "stream",
     "text": [
      "WARNING:root:APPENDING RESULT: <(düzey_Noun)(-)(düzey:noun_S + a3sg_S + pnon_S + e:dat_ST)>\n"
     ]
    },
    {
     "name": "stdout",
     "output_type": "stream",
     "text": [
      "2020-12-01 21:35:24,438 - root - WARNING\n",
      "Msg: APPENDING RESULT: <(düzey_Noun)(-)(düzey:noun_S + a3sg_S + pnon_S + e:dat_ST)>\n",
      "\n"
     ]
    },
    {
     "name": "stderr",
     "output_type": "stream",
     "text": [
      "WARNING:root:APPENDING RESULT: <(Düzey_Noun_Prop)(-)(düzey:nounProper_S + a3sg_S + pnon_S + e:dat_ST)>\n"
     ]
    },
    {
     "name": "stdout",
     "output_type": "stream",
     "text": [
      "2020-12-01 21:35:24,440 - root - WARNING\n",
      "Msg: APPENDING RESULT: <(Düzey_Noun_Prop)(-)(düzey:nounProper_S + a3sg_S + pnon_S + e:dat_ST)>\n",
      "\n"
     ]
    },
    {
     "name": "stderr",
     "output_type": "stream",
     "text": [
      "WARNING:root:APPENDING RESULT: <(çıkarmak_Verb)(-)(çıkar:verbRoot_S + ıl:vPass_S + verbRoot_S + acağ:vFutPart_S + noun_S + a3sg_S + ın:p2sg_S + ı:acc_ST)>\n"
     ]
    },
    {
     "name": "stdout",
     "output_type": "stream",
     "text": [
      "2020-12-01 21:35:24,452 - root - WARNING\n",
      "Msg: APPENDING RESULT: <(çıkarmak_Verb)(-)(çıkar:verbRoot_S + ıl:vPass_S + verbRoot_S + acağ:vFutPart_S + noun_S + a3sg_S + ın:p2sg_S + ı:acc_ST)>\n",
      "\n"
     ]
    },
    {
     "name": "stderr",
     "output_type": "stream",
     "text": [
      "WARNING:root:APPENDING RESULT: <(çıkarmak_Verb)(-)(çıkar:verbRoot_S + ıl:vPass_S + verbRoot_S + acağ:vFutPart_S + noun_S + a3sg_S + ı:p3sg_S + nı:acc_ST)>\n"
     ]
    },
    {
     "name": "stdout",
     "output_type": "stream",
     "text": [
      "2020-12-01 21:35:24,454 - root - WARNING\n",
      "Msg: APPENDING RESULT: <(çıkarmak_Verb)(-)(çıkar:verbRoot_S + ıl:vPass_S + verbRoot_S + acağ:vFutPart_S + noun_S + a3sg_S + ı:p3sg_S + nı:acc_ST)>\n",
      "\n"
     ]
    },
    {
     "name": "stderr",
     "output_type": "stream",
     "text": [
      "WARNING:root:APPENDING RESULT: <(açıklamak_Verb)(-)(açıkla:verbRoot_S + dı:vPast_S + vA3sg_ST)>\n"
     ]
    },
    {
     "name": "stdout",
     "output_type": "stream",
     "text": [
      "2020-12-01 21:35:24,461 - root - WARNING\n",
      "Msg: APPENDING RESULT: <(açıklamak_Verb)(-)(açıkla:verbRoot_S + dı:vPast_S + vA3sg_ST)>\n",
      "\n"
     ]
    },
    {
     "name": "stderr",
     "output_type": "stream",
     "text": [
      "WARNING:root:APPENDING RESULT: <(._Punc)(-)(.:puncRoot_ST)>\n"
     ]
    },
    {
     "name": "stdout",
     "output_type": "stream",
     "text": [
      "2020-12-01 21:35:24,466 - root - WARNING\n",
      "Msg: APPENDING RESULT: <(._Punc)(-)(.:puncRoot_ST)>\n",
      "\n"
     ]
    },
    {
     "name": "stderr",
     "output_type": "stream",
     "text": [
      "WARNING:root:APPENDING RESULT: <(Dünya_Noun_Prop)(-)(dünya:nounProper_S + a3sg_S + pnon_S + nom_ST)>\n"
     ]
    },
    {
     "name": "stdout",
     "output_type": "stream",
     "text": [
      "2020-12-01 21:35:24,470 - root - WARNING\n",
      "Msg: APPENDING RESULT: <(Dünya_Noun_Prop)(-)(dünya:nounProper_S + a3sg_S + pnon_S + nom_ST)>\n",
      "\n"
     ]
    },
    {
     "name": "stderr",
     "output_type": "stream",
     "text": [
      "WARNING:root:APPENDING RESULT: <(dünya_Noun)(-)(dünya:noun_S + a3sg_S + pnon_S + nom_ST)>\n"
     ]
    },
    {
     "name": "stdout",
     "output_type": "stream",
     "text": [
      "2020-12-01 21:35:24,472 - root - WARNING\n",
      "Msg: APPENDING RESULT: <(dünya_Noun)(-)(dünya:noun_S + a3sg_S + pnon_S + nom_ST)>\n",
      "\n"
     ]
    },
    {
     "name": "stderr",
     "output_type": "stream",
     "text": [
      "WARNING:root:APPENDING RESULT: <(genel_Adj)(-)(genel:adjectiveRoot_ST + adjZeroDeriv_S + noun_S + a3sg_S + in:p2sg_S + de:loc_ST)>\n"
     ]
    },
    {
     "name": "stdout",
     "output_type": "stream",
     "text": [
      "2020-12-01 21:35:24,481 - root - WARNING\n",
      "Msg: APPENDING RESULT: <(genel_Adj)(-)(genel:adjectiveRoot_ST + adjZeroDeriv_S + noun_S + a3sg_S + in:p2sg_S + de:loc_ST)>\n",
      "\n"
     ]
    },
    {
     "name": "stderr",
     "output_type": "stream",
     "text": [
      "WARNING:root:APPENDING RESULT: <(genel_Adj)(-)(genel:adjectiveRoot_ST + adjZeroDeriv_S + noun_S + a3sg_S + i:p3sg_S + nde:loc_ST)>\n"
     ]
    },
    {
     "name": "stdout",
     "output_type": "stream",
     "text": [
      "2020-12-01 21:35:24,483 - root - WARNING\n",
      "Msg: APPENDING RESULT: <(genel_Adj)(-)(genel:adjectiveRoot_ST + adjZeroDeriv_S + noun_S + a3sg_S + i:p3sg_S + nde:loc_ST)>\n",
      "\n"
     ]
    },
    {
     "name": "stderr",
     "output_type": "stream",
     "text": [
      "WARNING:root:APPENDING RESULT: <(yaklaşık_Adj)(-)(yaklaşık:adjectiveRoot_ST)>\n"
     ]
    },
    {
     "name": "stdout",
     "output_type": "stream",
     "text": [
      "2020-12-01 21:35:24,487 - root - WARNING\n",
      "Msg: APPENDING RESULT: <(yaklaşık_Adj)(-)(yaklaşık:adjectiveRoot_ST)>\n",
      "\n"
     ]
    },
    {
     "name": "stderr",
     "output_type": "stream",
     "text": [
      "WARNING:root:APPENDING RESULT: <(milyon_Num_Card)(-)(milyon:numeralRoot_ST)>\n"
     ]
    },
    {
     "name": "stdout",
     "output_type": "stream",
     "text": [
      "2020-12-01 21:35:24,491 - root - WARNING\n",
      "Msg: APPENDING RESULT: <(milyon_Num_Card)(-)(milyon:numeralRoot_ST)>\n",
      "\n"
     ]
    },
    {
     "name": "stderr",
     "output_type": "stream",
     "text": [
      "WARNING:root:APPENDING RESULT: <(kişi_Noun)(-)(kişi:noun_S + a3sg_S + pnon_S + ye:dat_ST)>\n"
     ]
    },
    {
     "name": "stdout",
     "output_type": "stream",
     "text": [
      "2020-12-01 21:35:24,497 - root - WARNING\n",
      "Msg: APPENDING RESULT: <(kişi_Noun)(-)(kişi:noun_S + a3sg_S + pnon_S + ye:dat_ST)>\n",
      "\n"
     ]
    },
    {
     "name": "stderr",
     "output_type": "stream",
     "text": [
      "WARNING:root:APPENDING RESULT: <(bulaşmak_Verb)(-)(bulaş:verbRoot_S + arak:vByDoingSo_S + advRoot_ST)>\n"
     ]
    },
    {
     "name": "stdout",
     "output_type": "stream",
     "text": [
      "2020-12-01 21:35:24,501 - root - WARNING\n",
      "Msg: APPENDING RESULT: <(bulaşmak_Verb)(-)(bulaş:verbRoot_S + arak:vByDoingSo_S + advRoot_ST)>\n",
      "\n"
     ]
    },
    {
     "name": "stderr",
     "output_type": "stream",
     "text": [
      "WARNING:root:APPENDING RESULT: <(milyon_Num_Card)(-)(milyon:numeralRoot_ST + numZeroDeriv_S + noun_S + a3sg_S + pnon_S + u:acc_ST)>\n"
     ]
    },
    {
     "name": "stdout",
     "output_type": "stream",
     "text": [
      "2020-12-01 21:35:24,509 - root - WARNING\n",
      "Msg: APPENDING RESULT: <(milyon_Num_Card)(-)(milyon:numeralRoot_ST + numZeroDeriv_S + noun_S + a3sg_S + pnon_S + u:acc_ST)>\n",
      "\n"
     ]
    },
    {
     "name": "stderr",
     "output_type": "stream",
     "text": [
      "WARNING:root:APPENDING RESULT: <(milyon_Num_Card)(-)(milyon:numeralRoot_ST + numZeroDeriv_S + noun_S + a3sg_S + u:p3sg_S + nom_ST)>\n"
     ]
    },
    {
     "name": "stdout",
     "output_type": "stream",
     "text": [
      "2020-12-01 21:35:24,511 - root - WARNING\n",
      "Msg: APPENDING RESULT: <(milyon_Num_Card)(-)(milyon:numeralRoot_ST + numZeroDeriv_S + noun_S + a3sg_S + u:p3sg_S + nom_ST)>\n",
      "\n"
     ]
    },
    {
     "name": "stderr",
     "output_type": "stream",
     "text": [
      "WARNING:root:APPENDING RESULT: <(aşkın_Postp_PCAcc)(-)(aşkın:postpRoot_ST)>\n"
     ]
    },
    {
     "name": "stdout",
     "output_type": "stream",
     "text": [
      "2020-12-01 21:35:24,513 - root - WARNING\n",
      "Msg: APPENDING RESULT: <(aşkın_Postp_PCAcc)(-)(aşkın:postpRoot_ST)>\n",
      "\n"
     ]
    },
    {
     "name": "stderr",
     "output_type": "stream",
     "text": [
      "WARNING:root:APPENDING RESULT: <(aşkın_Adj)(-)(aşkın:adjectiveRoot_ST)>\n"
     ]
    },
    {
     "name": "stdout",
     "output_type": "stream",
     "text": [
      "2020-12-01 21:35:24,515 - root - WARNING\n",
      "Msg: APPENDING RESULT: <(aşkın_Adj)(-)(aşkın:adjectiveRoot_ST)>\n",
      "\n"
     ]
    },
    {
     "name": "stderr",
     "output_type": "stream",
     "text": [
      "WARNING:root:APPENDING RESULT: <(aşk_Noun)(-)(aşk:noun_S + a3sg_S + pnon_S + ın:gen_ST)>\n"
     ]
    },
    {
     "name": "stdout",
     "output_type": "stream",
     "text": [
      "2020-12-01 21:35:24,517 - root - WARNING\n",
      "Msg: APPENDING RESULT: <(aşk_Noun)(-)(aşk:noun_S + a3sg_S + pnon_S + ın:gen_ST)>\n",
      "\n"
     ]
    },
    {
     "name": "stderr",
     "output_type": "stream",
     "text": [
      "WARNING:root:APPENDING RESULT: <(aşk_Noun)(-)(aşk:noun_S + a3sg_S + ın:p2sg_S + nom_ST)>\n"
     ]
    },
    {
     "name": "stdout",
     "output_type": "stream",
     "text": [
      "2020-12-01 21:35:24,518 - root - WARNING\n",
      "Msg: APPENDING RESULT: <(aşk_Noun)(-)(aşk:noun_S + a3sg_S + ın:p2sg_S + nom_ST)>\n",
      "\n"
     ]
    },
    {
     "name": "stderr",
     "output_type": "stream",
     "text": [
      "WARNING:root:APPENDING RESULT: <(Aşkın_Noun_Prop)(-)(aşkın:nounProper_S + a3sg_S + pnon_S + nom_ST)>\n"
     ]
    },
    {
     "name": "stdout",
     "output_type": "stream",
     "text": [
      "2020-12-01 21:35:24,520 - root - WARNING\n",
      "Msg: APPENDING RESULT: <(Aşkın_Noun_Prop)(-)(aşkın:nounProper_S + a3sg_S + pnon_S + nom_ST)>\n",
      "\n"
     ]
    },
    {
     "name": "stderr",
     "output_type": "stream",
     "text": [
      "WARNING:root:APPENDING RESULT: <(ölü_Noun)(-)(ölü:noun_S + a3sg_S + m:p1sg_S + e:dat_ST)>\n"
     ]
    },
    {
     "name": "stdout",
     "output_type": "stream",
     "text": [
      "2020-12-01 21:35:24,524 - root - WARNING\n",
      "Msg: APPENDING RESULT: <(ölü_Noun)(-)(ölü:noun_S + a3sg_S + m:p1sg_S + e:dat_ST)>\n",
      "\n"
     ]
    },
    {
     "name": "stderr",
     "output_type": "stream",
     "text": [
      "WARNING:root:APPENDING RESULT: <(ölüm_Noun)(-)(ölüm:noun_S + a3sg_S + pnon_S + e:dat_ST)>\n"
     ]
    },
    {
     "name": "stdout",
     "output_type": "stream",
     "text": [
      "2020-12-01 21:35:24,526 - root - WARNING\n",
      "Msg: APPENDING RESULT: <(ölüm_Noun)(-)(ölüm:noun_S + a3sg_S + pnon_S + e:dat_ST)>\n",
      "\n"
     ]
    },
    {
     "name": "stderr",
     "output_type": "stream",
     "text": [
      "WARNING:root:APPENDING RESULT: <(ölü_Adj)(-)(ölü:adjectiveRoot_ST + adjZeroDeriv_S + noun_S + a3sg_S + m:p1sg_S + e:dat_ST)>\n"
     ]
    },
    {
     "name": "stdout",
     "output_type": "stream",
     "text": [
      "2020-12-01 21:35:24,529 - root - WARNING\n",
      "Msg: APPENDING RESULT: <(ölü_Adj)(-)(ölü:adjectiveRoot_ST + adjZeroDeriv_S + noun_S + a3sg_S + m:p1sg_S + e:dat_ST)>\n",
      "\n"
     ]
    },
    {
     "name": "stderr",
     "output_type": "stream",
     "text": [
      "WARNING:root:APPENDING RESULT: <(neden_Adv)(-)(neden:advRoot_ST)>\n"
     ]
    },
    {
     "name": "stdout",
     "output_type": "stream",
     "text": [
      "2020-12-01 21:35:24,532 - root - WARNING\n",
      "Msg: APPENDING RESULT: <(neden_Adv)(-)(neden:advRoot_ST)>\n",
      "\n"
     ]
    },
    {
     "name": "stderr",
     "output_type": "stream",
     "text": [
      "WARNING:root:APPENDING RESULT: <(ne_Pron_Ques)(-)(ne:pronQues_S + pQuesA3sg_S + pPnon_S + den:pAbl_ST)>\n"
     ]
    },
    {
     "name": "stdout",
     "output_type": "stream",
     "text": [
      "2020-12-01 21:35:24,535 - root - WARNING\n",
      "Msg: APPENDING RESULT: <(ne_Pron_Ques)(-)(ne:pronQues_S + pQuesA3sg_S + pPnon_S + den:pAbl_ST)>\n",
      "\n"
     ]
    },
    {
     "name": "stderr",
     "output_type": "stream",
     "text": [
      "WARNING:root:APPENDING RESULT: <(Ne_Noun_Abbrv)(-)(ne:nounAbbrv_S + a3sg_S + pnon_S + den:abl_ST)>\n"
     ]
    },
    {
     "name": "stdout",
     "output_type": "stream",
     "text": [
      "2020-12-01 21:35:24,537 - root - WARNING\n",
      "Msg: APPENDING RESULT: <(Ne_Noun_Abbrv)(-)(ne:nounAbbrv_S + a3sg_S + pnon_S + den:abl_ST)>\n",
      "\n"
     ]
    },
    {
     "name": "stderr",
     "output_type": "stream",
     "text": [
      "WARNING:root:APPENDING RESULT: <(ne_Noun)(-)(ne:noun_S + a3sg_S + pnon_S + den:abl_ST)>\n"
     ]
    },
    {
     "name": "stdout",
     "output_type": "stream",
     "text": [
      "2020-12-01 21:35:24,538 - root - WARNING\n",
      "Msg: APPENDING RESULT: <(ne_Noun)(-)(ne:noun_S + a3sg_S + pnon_S + den:abl_ST)>\n",
      "\n"
     ]
    },
    {
     "name": "stderr",
     "output_type": "stream",
     "text": [
      "WARNING:root:APPENDING RESULT: <(neden_Noun)(-)(neden:noun_S + a3sg_S + pnon_S + nom_ST)>\n"
     ]
    },
    {
     "name": "stdout",
     "output_type": "stream",
     "text": [
      "2020-12-01 21:35:24,540 - root - WARNING\n",
      "Msg: APPENDING RESULT: <(neden_Noun)(-)(neden:noun_S + a3sg_S + pnon_S + nom_ST)>\n",
      "\n"
     ]
    },
    {
     "name": "stderr",
     "output_type": "stream",
     "text": [
      "WARNING:root:APPENDING RESULT: <(ne_Adj)(-)(ne:adjectiveRoot_ST + adjZeroDeriv_S + noun_S + a3sg_S + pnon_S + den:abl_ST)>\n"
     ]
    },
    {
     "name": "stdout",
     "output_type": "stream",
     "text": [
      "2020-12-01 21:35:24,543 - root - WARNING\n",
      "Msg: APPENDING RESULT: <(ne_Adj)(-)(ne:adjectiveRoot_ST + adjZeroDeriv_S + noun_S + a3sg_S + pnon_S + den:abl_ST)>\n",
      "\n"
     ]
    },
    {
     "name": "stderr",
     "output_type": "stream",
     "text": [
      "WARNING:root:APPENDING RESULT: <(olmak_Verb)(-)(ol:verbRoot_S + an:vPresPart_S + adjAfterVerb_ST)>\n"
     ]
    },
    {
     "name": "stdout",
     "output_type": "stream",
     "text": [
      "2020-12-01 21:35:24,548 - root - WARNING\n",
      "Msg: APPENDING RESULT: <(olmak_Verb)(-)(ol:verbRoot_S + an:vPresPart_S + adjAfterVerb_ST)>\n",
      "\n"
     ]
    },
    {
     "name": "stderr",
     "output_type": "stream",
     "text": [
      "WARNING:root:APPENDING RESULT: <(o_Adj)(-)(o:adjectiveRoot_ST + lan:acquire_S + verbRoot_S + vImp_S + vA2sg_ST)>\n"
     ]
    },
    {
     "name": "stdout",
     "output_type": "stream",
     "text": [
      "2020-12-01 21:35:24,550 - root - WARNING\n",
      "Msg: APPENDING RESULT: <(o_Adj)(-)(o:adjectiveRoot_ST + lan:acquire_S + verbRoot_S + vImp_S + vA2sg_ST)>\n",
      "\n"
     ]
    },
    {
     "name": "stderr",
     "output_type": "stream",
     "text": [
      "WARNING:root:APPENDING RESULT: <(salgın_Noun)(-)(salgın:noun_S + a3sg_S + ın:p2sg_S + ın:gen_ST)>\n"
     ]
    },
    {
     "name": "stdout",
     "output_type": "stream",
     "text": [
      "2020-12-01 21:35:24,558 - root - WARNING\n",
      "Msg: APPENDING RESULT: <(salgın_Noun)(-)(salgın:noun_S + a3sg_S + ın:p2sg_S + ın:gen_ST)>\n",
      "\n"
     ]
    },
    {
     "name": "stderr",
     "output_type": "stream",
     "text": [
      "WARNING:root:APPENDING RESULT: <(salgın_Noun)(-)(salgın:noun_S + a3sg_S + ı:p3sg_S + nın:gen_ST)>\n"
     ]
    },
    {
     "name": "stdout",
     "output_type": "stream",
     "text": [
      "2020-12-01 21:35:24,559 - root - WARNING\n",
      "Msg: APPENDING RESULT: <(salgın_Noun)(-)(salgın:noun_S + a3sg_S + ı:p3sg_S + nın:gen_ST)>\n",
      "\n"
     ]
    },
    {
     "name": "stderr",
     "output_type": "stream",
     "text": [
      "WARNING:root:APPENDING RESULT: <(salgın_Adj)(-)(salgın:adjectiveRoot_ST + adjZeroDeriv_S + noun_S + a3sg_S + ın:p2sg_S + ın:gen_ST)>\n"
     ]
    },
    {
     "name": "stdout",
     "output_type": "stream",
     "text": [
      "2020-12-01 21:35:24,564 - root - WARNING\n",
      "Msg: APPENDING RESULT: <(salgın_Adj)(-)(salgın:adjectiveRoot_ST + adjZeroDeriv_S + noun_S + a3sg_S + ın:p2sg_S + ın:gen_ST)>\n",
      "\n"
     ]
    },
    {
     "name": "stderr",
     "output_type": "stream",
     "text": [
      "WARNING:root:APPENDING RESULT: <(salgın_Adj)(-)(salgın:adjectiveRoot_ST + adjZeroDeriv_S + noun_S + a3sg_S + ı:p3sg_S + nın:gen_ST)>\n"
     ]
    },
    {
     "name": "stdout",
     "output_type": "stream",
     "text": [
      "2020-12-01 21:35:24,565 - root - WARNING\n",
      "Msg: APPENDING RESULT: <(salgın_Adj)(-)(salgın:adjectiveRoot_ST + adjZeroDeriv_S + noun_S + a3sg_S + ı:p3sg_S + nın:gen_ST)>\n",
      "\n"
     ]
    },
    {
     "name": "stderr",
     "output_type": "stream",
     "text": [
      "WARNING:root:APPENDING RESULT: <(Japonya_Noun_Prop)(-)(japonya:nounProper_S + a3sg_S + pnon_S + da:loc_ST)>\n"
     ]
    },
    {
     "name": "stdout",
     "output_type": "stream",
     "text": [
      "2020-12-01 21:35:24,571 - root - WARNING\n",
      "Msg: APPENDING RESULT: <(Japonya_Noun_Prop)(-)(japonya:nounProper_S + a3sg_S + pnon_S + da:loc_ST)>\n",
      "\n"
     ]
    },
    {
     "name": "stderr",
     "output_type": "stream",
     "text": [
      "WARNING:root:APPENDING RESULT: <(yeniden_Adv)(-)(yeniden:advRoot_ST)>\n"
     ]
    },
    {
     "name": "stdout",
     "output_type": "stream",
     "text": [
      "2020-12-01 21:35:24,575 - root - WARNING\n",
      "Msg: APPENDING RESULT: <(yeniden_Adv)(-)(yeniden:advRoot_ST)>\n",
      "\n"
     ]
    },
    {
     "name": "stderr",
     "output_type": "stream",
     "text": [
      "WARNING:root:APPENDING RESULT: <(yeni_Adj)(-)(yeni:adjectiveRoot_ST + adjZeroDeriv_S + noun_S + a3sg_S + pnon_S + den:abl_ST)>\n"
     ]
    },
    {
     "name": "stdout",
     "output_type": "stream",
     "text": [
      "2020-12-01 21:35:24,580 - root - WARNING\n",
      "Msg: APPENDING RESULT: <(yeni_Adj)(-)(yeni:adjectiveRoot_ST + adjZeroDeriv_S + noun_S + a3sg_S + pnon_S + den:abl_ST)>\n",
      "\n"
     ]
    },
    {
     "name": "stderr",
     "output_type": "stream",
     "text": [
      "WARNING:root:APPENDING RESULT: <(tırmanmak_Verb)(-)(tırman:verbRoot_S + ış:vInf3_S + noun_S + a3sg_S + pnon_S + a:dat_ST)>\n"
     ]
    },
    {
     "name": "stdout",
     "output_type": "stream",
     "text": [
      "2020-12-01 21:35:24,583 - root - WARNING\n",
      "Msg: APPENDING RESULT: <(tırmanmak_Verb)(-)(tırman:verbRoot_S + ış:vInf3_S + noun_S + a3sg_S + pnon_S + a:dat_ST)>\n",
      "\n"
     ]
    },
    {
     "name": "stderr",
     "output_type": "stream",
     "text": [
      "WARNING:root:APPENDING RESULT: <(geçmek_Verb)(-)(geç:verbRoot_S + me:vInf2_S + noun_S + a3sg_S + si:p3sg_S + nom_ST)>\n"
     ]
    },
    {
     "name": "stdout",
     "output_type": "stream",
     "text": [
      "2020-12-01 21:35:24,590 - root - WARNING\n",
      "Msg: APPENDING RESULT: <(geçmek_Verb)(-)(geç:verbRoot_S + me:vInf2_S + noun_S + a3sg_S + si:p3sg_S + nom_ST)>\n",
      "\n"
     ]
    },
    {
     "name": "stderr",
     "output_type": "stream",
     "text": [
      "WARNING:root:APPENDING RESULT: <(,_Punc)(-)(,:puncRoot_ST)>\n"
     ]
    },
    {
     "name": "stdout",
     "output_type": "stream",
     "text": [
      "2020-12-01 21:35:24,592 - root - WARNING\n",
      "Msg: APPENDING RESULT: <(,_Punc)(-)(,:puncRoot_ST)>\n",
      "\n"
     ]
    },
    {
     "name": "stderr",
     "output_type": "stream",
     "text": [
      "WARNING:root:APPENDING RESULT: <(başkent_Noun)(-)(başkent:noun_S + a3sg_S + pnon_S + nom_ST)>\n"
     ]
    },
    {
     "name": "stdout",
     "output_type": "stream",
     "text": [
      "2020-12-01 21:35:24,596 - root - WARNING\n",
      "Msg: APPENDING RESULT: <(başkent_Noun)(-)(başkent:noun_S + a3sg_S + pnon_S + nom_ST)>\n",
      "\n"
     ]
    },
    {
     "name": "stderr",
     "output_type": "stream",
     "text": [
      "WARNING:root:APPENDING RESULT: <(tokyo_Noun)(-)(tokyo:noun_S + a3sg_S + pnon_S + nun:gen_ST)>\n"
     ]
    },
    {
     "name": "stdout",
     "output_type": "stream",
     "text": [
      "2020-12-01 21:35:24,599 - root - WARNING\n",
      "Msg: APPENDING RESULT: <(tokyo_Noun)(-)(tokyo:noun_S + a3sg_S + pnon_S + nun:gen_ST)>\n",
      "\n"
     ]
    },
    {
     "name": "stderr",
     "output_type": "stream",
     "text": [
      "WARNING:root:APPENDING RESULT: <(tokyo_Noun)(-)(tokyo:noun_S + a3sg_S + n:p2sg_S + un:gen_ST)>\n"
     ]
    },
    {
     "name": "stdout",
     "output_type": "stream",
     "text": [
      "2020-12-01 21:35:24,601 - root - WARNING\n",
      "Msg: APPENDING RESULT: <(tokyo_Noun)(-)(tokyo:noun_S + a3sg_S + n:p2sg_S + un:gen_ST)>\n",
      "\n"
     ]
    },
    {
     "name": "stderr",
     "output_type": "stream",
     "text": [
      "WARNING:root:APPENDING RESULT: <(yerel_Adj)(-)(yerel:adjectiveRoot_ST)>\n"
     ]
    },
    {
     "name": "stdout",
     "output_type": "stream",
     "text": [
      "2020-12-01 21:35:24,605 - root - WARNING\n",
      "Msg: APPENDING RESULT: <(yerel_Adj)(-)(yerel:adjectiveRoot_ST)>\n",
      "\n"
     ]
    },
    {
     "name": "stderr",
     "output_type": "stream",
     "text": [
      "WARNING:root:APPENDING RESULT: <(Yerel_Noun_Prop)(-)(yerel:nounProper_S + a3sg_S + pnon_S + nom_ST)>\n"
     ]
    },
    {
     "name": "stdout",
     "output_type": "stream",
     "text": [
      "2020-12-01 21:35:24,608 - root - WARNING\n",
      "Msg: APPENDING RESULT: <(Yerel_Noun_Prop)(-)(yerel:nounProper_S + a3sg_S + pnon_S + nom_ST)>\n",
      "\n"
     ]
    },
    {
     "name": "stderr",
     "output_type": "stream",
     "text": [
      "WARNING:root:APPENDING RESULT: <(yönetim_Noun)(-)(yönetim:noun_S + a3sg_S + in:p2sg_S + i:acc_ST)>\n"
     ]
    },
    {
     "name": "stdout",
     "output_type": "stream",
     "text": [
      "2020-12-01 21:35:24,614 - root - WARNING\n",
      "Msg: APPENDING RESULT: <(yönetim_Noun)(-)(yönetim:noun_S + a3sg_S + in:p2sg_S + i:acc_ST)>\n",
      "\n"
     ]
    },
    {
     "name": "stderr",
     "output_type": "stream",
     "text": [
      "WARNING:root:APPENDING RESULT: <(yönetim_Noun)(-)(yönetim:noun_S + a3sg_S + i:p3sg_S + ni:acc_ST)>\n"
     ]
    },
    {
     "name": "stdout",
     "output_type": "stream",
     "text": [
      "2020-12-01 21:35:24,616 - root - WARNING\n",
      "Msg: APPENDING RESULT: <(yönetim_Noun)(-)(yönetim:noun_S + a3sg_S + i:p3sg_S + ni:acc_ST)>\n",
      "\n"
     ]
    },
    {
     "name": "stderr",
     "output_type": "stream",
     "text": [
      "WARNING:root:APPENDING RESULT: <(hareket_Noun)(-)(hareket:noun_S + a3sg_S + pnon_S + e:dat_ST)>\n"
     ]
    },
    {
     "name": "stdout",
     "output_type": "stream",
     "text": [
      "2020-12-01 21:35:24,623 - root - WARNING\n",
      "Msg: APPENDING RESULT: <(hareket_Noun)(-)(hareket:noun_S + a3sg_S + pnon_S + e:dat_ST)>\n",
      "\n"
     ]
    },
    {
     "name": "stderr",
     "output_type": "stream",
     "text": [
      "WARNING:root:APPENDING RESULT: <(geçirmek_Verb)(-)(geçir:verbRoot_S + di:vPast_S + vA3sg_ST)>\n"
     ]
    },
    {
     "name": "stdout",
     "output_type": "stream",
     "text": [
      "2020-12-01 21:35:24,628 - root - WARNING\n",
      "Msg: APPENDING RESULT: <(geçirmek_Verb)(-)(geçir:verbRoot_S + di:vPast_S + vA3sg_ST)>\n",
      "\n"
     ]
    },
    {
     "name": "stderr",
     "output_type": "stream",
     "text": [
      "WARNING:root:APPENDING RESULT: <(._Punc)(-)(.:puncRoot_ST)>\n"
     ]
    },
    {
     "name": "stdout",
     "output_type": "stream",
     "text": [
      "2020-12-01 21:35:24,631 - root - WARNING\n",
      "Msg: APPENDING RESULT: <(._Punc)(-)(.:puncRoot_ST)>\n",
      "\n"
     ]
    },
    {
     "name": "stderr",
     "output_type": "stream",
     "text": [
      "WARNING:root:APPENDING RESULT: <(şimdi_Noun_Time)(-)(şimdi:noun_S + a3sg_S + pnon_S + ye:dat_ST)>\n"
     ]
    },
    {
     "name": "stdout",
     "output_type": "stream",
     "text": [
      "2020-12-01 21:35:24,634 - root - WARNING\n",
      "Msg: APPENDING RESULT: <(şimdi_Noun_Time)(-)(şimdi:noun_S + a3sg_S + pnon_S + ye:dat_ST)>\n",
      "\n"
     ]
    },
    {
     "name": "stderr",
     "output_type": "stream",
     "text": [
      "WARNING:root:APPENDING RESULT: <(dek_Postp_PCDat)(-)(dek:postpRoot_ST)>\n"
     ]
    },
    {
     "name": "stdout",
     "output_type": "stream",
     "text": [
      "2020-12-01 21:35:24,636 - root - WARNING\n",
      "Msg: APPENDING RESULT: <(dek_Postp_PCDat)(-)(dek:postpRoot_ST)>\n",
      "\n"
     ]
    },
    {
     "name": "stderr",
     "output_type": "stream",
     "text": [
      "WARNING:root:APPENDING RESULT: <(dek_Noun)(-)(dek:noun_S + a3sg_S + pnon_S + nom_ST)>\n"
     ]
    },
    {
     "name": "stdout",
     "output_type": "stream",
     "text": [
      "2020-12-01 21:35:24,639 - root - WARNING\n",
      "Msg: APPENDING RESULT: <(dek_Noun)(-)(dek:noun_S + a3sg_S + pnon_S + nom_ST)>\n",
      "\n"
     ]
    },
    {
     "name": "stderr",
     "output_type": "stream",
     "text": [
      "WARNING:root:APPENDING RESULT: <(doğru_Adj)(-)(doğru:adjectiveRoot_ST + lan:acquire_S + verbRoot_S + an:vPresPart_S + adjAfterVerb_ST)>\n"
     ]
    },
    {
     "name": "stdout",
     "output_type": "stream",
     "text": [
      "2020-12-01 21:35:24,647 - root - WARNING\n",
      "Msg: APPENDING RESULT: <(doğru_Adj)(-)(doğru:adjectiveRoot_ST + lan:acquire_S + verbRoot_S + an:vPresPart_S + adjAfterVerb_ST)>\n",
      "\n"
     ]
    },
    {
     "name": "stderr",
     "output_type": "stream",
     "text": [
      "WARNING:root:APPENDING RESULT: <(doğrulamak_Verb)(-)(doğrula:verbRoot_S + n:vPass_S + verbRoot_S + an:vPresPart_S + adjAfterVerb_ST)>\n"
     ]
    },
    {
     "name": "stdout",
     "output_type": "stream",
     "text": [
      "2020-12-01 21:35:24,648 - root - WARNING\n",
      "Msg: APPENDING RESULT: <(doğrulamak_Verb)(-)(doğrula:verbRoot_S + n:vPass_S + verbRoot_S + an:vPresPart_S + adjAfterVerb_ST)>\n",
      "\n"
     ]
    },
    {
     "name": "stderr",
     "output_type": "stream",
     "text": [
      "WARNING:root:APPENDING RESULT: <(doğru_Noun)(-)(doğru:noun_S + a3sg_S + pnon_S + nom_ST + lan:acquire_S + verbRoot_S + an:vPresPart_S + adjAfterVerb_ST)>\n"
     ]
    },
    {
     "name": "stdout",
     "output_type": "stream",
     "text": [
      "2020-12-01 21:35:24,652 - root - WARNING\n",
      "Msg: APPENDING RESULT: <(doğru_Noun)(-)(doğru:noun_S + a3sg_S + pnon_S + nom_ST + lan:acquire_S + verbRoot_S + an:vPresPart_S + adjAfterVerb_ST)>\n",
      "\n"
     ]
    },
    {
     "name": "stderr",
     "output_type": "stream",
     "text": [
      "WARNING:root:APPENDING RESULT: <(yaklaşık_Adj)(-)(yaklaşık:adjectiveRoot_ST)>\n"
     ]
    },
    {
     "name": "stdout",
     "output_type": "stream",
     "text": [
      "2020-12-01 21:35:24,655 - root - WARNING\n",
      "Msg: APPENDING RESULT: <(yaklaşık_Adj)(-)(yaklaşık:adjectiveRoot_ST)>\n",
      "\n"
     ]
    },
    {
     "name": "stderr",
     "output_type": "stream",
     "text": [
      "WARNING:root:APPENDING RESULT: <(bin_Num_Card)(-)(bin:numeralRoot_ST)>\n"
     ]
    },
    {
     "name": "stdout",
     "output_type": "stream",
     "text": [
      "2020-12-01 21:35:24,659 - root - WARNING\n",
      "Msg: APPENDING RESULT: <(bin_Num_Card)(-)(bin:numeralRoot_ST)>\n",
      "\n"
     ]
    },
    {
     "name": "stderr",
     "output_type": "stream",
     "text": [
      "WARNING:root:APPENDING RESULT: <(binmek_Verb)(-)(bin:verbRoot_S + vImp_S + vA2sg_ST)>\n"
     ]
    },
    {
     "name": "stdout",
     "output_type": "stream",
     "text": [
      "2020-12-01 21:35:24,661 - root - WARNING\n",
      "Msg: APPENDING RESULT: <(binmek_Verb)(-)(bin:verbRoot_S + vImp_S + vA2sg_ST)>\n",
      "\n"
     ]
    },
    {
     "name": "stderr",
     "output_type": "stream",
     "text": [
      "WARNING:root:APPENDING RESULT: <(vaka_Noun)(-)(vaka:noun_S + a3sg_S + pnon_S + yla:ins_ST)>\n"
     ]
    },
    {
     "name": "stdout",
     "output_type": "stream",
     "text": [
      "2020-12-01 21:35:24,664 - root - WARNING\n",
      "Msg: APPENDING RESULT: <(vaka_Noun)(-)(vaka:noun_S + a3sg_S + pnon_S + yla:ins_ST)>\n",
      "\n"
     ]
    },
    {
     "name": "stderr",
     "output_type": "stream",
     "text": [
      "WARNING:root:APPENDING RESULT: <(salgı_Noun)(-)(salgı:noun_S + a3sg_S + n:p2sg_S + dan:abl_ST)>\n"
     ]
    },
    {
     "name": "stdout",
     "output_type": "stream",
     "text": [
      "2020-12-01 21:35:24,668 - root - WARNING\n",
      "Msg: APPENDING RESULT: <(salgı_Noun)(-)(salgı:noun_S + a3sg_S + n:p2sg_S + dan:abl_ST)>\n",
      "\n"
     ]
    },
    {
     "name": "stderr",
     "output_type": "stream",
     "text": [
      "WARNING:root:APPENDING RESULT: <(salgın_Noun)(-)(salgın:noun_S + a3sg_S + pnon_S + dan:abl_ST)>\n"
     ]
    },
    {
     "name": "stdout",
     "output_type": "stream",
     "text": [
      "2020-12-01 21:35:24,670 - root - WARNING\n",
      "Msg: APPENDING RESULT: <(salgın_Noun)(-)(salgın:noun_S + a3sg_S + pnon_S + dan:abl_ST)>\n",
      "\n"
     ]
    },
    {
     "name": "stderr",
     "output_type": "stream",
     "text": [
      "WARNING:root:APPENDING RESULT: <(salgın_Adj)(-)(salgın:adjectiveRoot_ST + adjZeroDeriv_S + noun_S + a3sg_S + pnon_S + dan:abl_ST)>\n"
     ]
    },
    {
     "name": "stdout",
     "output_type": "stream",
     "text": [
      "2020-12-01 21:35:24,673 - root - WARNING\n",
      "Msg: APPENDING RESULT: <(salgın_Adj)(-)(salgın:adjectiveRoot_ST + adjZeroDeriv_S + noun_S + a3sg_S + pnon_S + dan:abl_ST)>\n",
      "\n"
     ]
    },
    {
     "name": "stderr",
     "output_type": "stream",
     "text": [
      "WARNING:root:APPENDING RESULT: <(en_Adv)(-)(en:advRoot_ST)>\n"
     ]
    },
    {
     "name": "stdout",
     "output_type": "stream",
     "text": [
      "2020-12-01 21:35:24,676 - root - WARNING\n",
      "Msg: APPENDING RESULT: <(en_Adv)(-)(en:advRoot_ST)>\n",
      "\n"
     ]
    },
    {
     "name": "stderr",
     "output_type": "stream",
     "text": [
      "WARNING:root:APPENDING RESULT: <(en_Noun)(-)(en:noun_S + a3sg_S + pnon_S + nom_ST)>\n"
     ]
    },
    {
     "name": "stdout",
     "output_type": "stream",
     "text": [
      "2020-12-01 21:35:24,678 - root - WARNING\n",
      "Msg: APPENDING RESULT: <(en_Noun)(-)(en:noun_S + a3sg_S + pnon_S + nom_ST)>\n",
      "\n"
     ]
    },
    {
     "name": "stderr",
     "output_type": "stream",
     "text": [
      "WARNING:root:APPENDING RESULT: <(fazla_Postp_PCAbl)(-)(fazla:postpRoot_ST)>\n"
     ]
    },
    {
     "name": "stdout",
     "output_type": "stream",
     "text": [
      "2020-12-01 21:35:24,680 - root - WARNING\n",
      "Msg: APPENDING RESULT: <(fazla_Postp_PCAbl)(-)(fazla:postpRoot_ST)>\n",
      "\n"
     ]
    },
    {
     "name": "stderr",
     "output_type": "stream",
     "text": [
      "WARNING:root:APPENDING RESULT: <(fazla_Adv)(-)(fazla:advRoot_ST)>\n"
     ]
    },
    {
     "name": "stdout",
     "output_type": "stream",
     "text": [
      "2020-12-01 21:35:24,681 - root - WARNING\n",
      "Msg: APPENDING RESULT: <(fazla_Adv)(-)(fazla:advRoot_ST)>\n",
      "\n"
     ]
    },
    {
     "name": "stderr",
     "output_type": "stream",
     "text": [
      "WARNING:root:APPENDING RESULT: <(fazla_Adj)(-)(fazla:adjectiveRoot_ST)>\n"
     ]
    },
    {
     "name": "stdout",
     "output_type": "stream",
     "text": [
      "2020-12-01 21:35:24,682 - root - WARNING\n",
      "Msg: APPENDING RESULT: <(fazla_Adj)(-)(fazla:adjectiveRoot_ST)>\n",
      "\n"
     ]
    },
    {
     "name": "stderr",
     "output_type": "stream",
     "text": [
      "WARNING:root:APPENDING RESULT: <(faz_Noun)(-)(faz:noun_S + a3sg_S + pnon_S + la:ins_ST)>\n"
     ]
    },
    {
     "name": "stdout",
     "output_type": "stream",
     "text": [
      "2020-12-01 21:35:24,685 - root - WARNING\n",
      "Msg: APPENDING RESULT: <(faz_Noun)(-)(faz:noun_S + a3sg_S + pnon_S + la:ins_ST)>\n",
      "\n"
     ]
    },
    {
     "name": "stderr",
     "output_type": "stream",
     "text": [
      "WARNING:root:APPENDING RESULT: <(etkilemek_Verb)(-)(etkile:verbRoot_S + n:vPass_S + verbRoot_S + en:vPresPart_S + adjAfterVerb_ST)>\n"
     ]
    },
    {
     "name": "stdout",
     "output_type": "stream",
     "text": [
      "2020-12-01 21:35:24,693 - root - WARNING\n",
      "Msg: APPENDING RESULT: <(etkilemek_Verb)(-)(etkile:verbRoot_S + n:vPass_S + verbRoot_S + en:vPresPart_S + adjAfterVerb_ST)>\n",
      "\n"
     ]
    },
    {
     "name": "stderr",
     "output_type": "stream",
     "text": [
      "WARNING:root:APPENDING RESULT: <(etki_Noun)(-)(etki:noun_S + a3sg_S + pnon_S + nom_ST + len:acquire_S + verbRoot_S + en:vPresPart_S + adjAfterVerb_ST)>\n"
     ]
    },
    {
     "name": "stdout",
     "output_type": "stream",
     "text": [
      "2020-12-01 21:35:24,696 - root - WARNING\n",
      "Msg: APPENDING RESULT: <(etki_Noun)(-)(etki:noun_S + a3sg_S + pnon_S + nom_ST + len:acquire_S + verbRoot_S + en:vPresPart_S + adjAfterVerb_ST)>\n",
      "\n"
     ]
    },
    {
     "name": "stderr",
     "output_type": "stream",
     "text": [
      "WARNING:root:APPENDING RESULT: <(bölge_Noun)(-)(bölge:noun_S + a3sg_S + pnon_S + nom_ST)>\n"
     ]
    },
    {
     "name": "stdout",
     "output_type": "stream",
     "text": [
      "2020-12-01 21:35:24,699 - root - WARNING\n",
      "Msg: APPENDING RESULT: <(bölge_Noun)(-)(bölge:noun_S + a3sg_S + pnon_S + nom_ST)>\n",
      "\n"
     ]
    },
    {
     "name": "stderr",
     "output_type": "stream",
     "text": [
      "WARNING:root:APPENDING RESULT: <(olmak_Verb)(-)(ol:verbRoot_S + an:vPresPart_S + adjAfterVerb_ST)>\n"
     ]
    },
    {
     "name": "stdout",
     "output_type": "stream",
     "text": [
      "2020-12-01 21:35:24,702 - root - WARNING\n",
      "Msg: APPENDING RESULT: <(olmak_Verb)(-)(ol:verbRoot_S + an:vPresPart_S + adjAfterVerb_ST)>\n",
      "\n"
     ]
    },
    {
     "name": "stderr",
     "output_type": "stream",
     "text": [
      "WARNING:root:APPENDING RESULT: <(o_Adj)(-)(o:adjectiveRoot_ST + lan:acquire_S + verbRoot_S + vImp_S + vA2sg_ST)>\n"
     ]
    },
    {
     "name": "stdout",
     "output_type": "stream",
     "text": [
      "2020-12-01 21:35:24,704 - root - WARNING\n",
      "Msg: APPENDING RESULT: <(o_Adj)(-)(o:adjectiveRoot_ST + lan:acquire_S + verbRoot_S + vImp_S + vA2sg_ST)>\n",
      "\n"
     ]
    },
    {
     "name": "stderr",
     "output_type": "stream",
     "text": [
      "WARNING:root:APPENDING RESULT: <(tokyo_Noun)(-)(tokyo:noun_S + a3sg_S + pnon_S + da:loc_ST)>\n"
     ]
    },
    {
     "name": "stdout",
     "output_type": "stream",
     "text": [
      "2020-12-01 21:35:24,707 - root - WARNING\n",
      "Msg: APPENDING RESULT: <(tokyo_Noun)(-)(tokyo:noun_S + a3sg_S + pnon_S + da:loc_ST)>\n",
      "\n"
     ]
    },
    {
     "name": "stderr",
     "output_type": "stream",
     "text": [
      "WARNING:root:APPENDING RESULT: <(bugün_Adv)(-)(bugün:advRoot_ST)>\n"
     ]
    },
    {
     "name": "stdout",
     "output_type": "stream",
     "text": [
      "2020-12-01 21:35:24,710 - root - WARNING\n",
      "Msg: APPENDING RESULT: <(bugün_Adv)(-)(bugün:advRoot_ST)>\n",
      "\n"
     ]
    },
    {
     "name": "stderr",
     "output_type": "stream",
     "text": [
      "WARNING:root:APPENDING RESULT: <(bugün_Noun_Time)(-)(bugün:noun_S + a3sg_S + pnon_S + nom_ST)>\n"
     ]
    },
    {
     "name": "stdout",
     "output_type": "stream",
     "text": [
      "2020-12-01 21:35:24,712 - root - WARNING\n",
      "Msg: APPENDING RESULT: <(bugün_Noun_Time)(-)(bugün:noun_S + a3sg_S + pnon_S + nom_ST)>\n",
      "\n"
     ]
    },
    {
     "name": "stderr",
     "output_type": "stream",
     "text": [
      "WARNING:root:APPENDING RESULT: <(yeni_Adv)(-)(yeni:advRoot_ST)>\n"
     ]
    },
    {
     "name": "stdout",
     "output_type": "stream",
     "text": [
      "2020-12-01 21:35:24,717 - root - WARNING\n",
      "Msg: APPENDING RESULT: <(yeni_Adv)(-)(yeni:advRoot_ST)>\n",
      "\n"
     ]
    },
    {
     "name": "stderr",
     "output_type": "stream",
     "text": [
      "WARNING:root:APPENDING RESULT: <(yeni_Adj)(-)(yeni:adjectiveRoot_ST)>\n"
     ]
    },
    {
     "name": "stdout",
     "output_type": "stream",
     "text": [
      "2020-12-01 21:35:24,717 - root - WARNING\n",
      "Msg: APPENDING RESULT: <(yeni_Adj)(-)(yeni:adjectiveRoot_ST)>\n",
      "\n"
     ]
    },
    {
     "name": "stderr",
     "output_type": "stream",
     "text": [
      "WARNING:root:APPENDING RESULT: <(yen_Noun)(-)(yen:noun_S + a3sg_S + pnon_S + i:acc_ST)>\n"
     ]
    },
    {
     "name": "stdout",
     "output_type": "stream",
     "text": [
      "2020-12-01 21:35:24,721 - root - WARNING\n",
      "Msg: APPENDING RESULT: <(yen_Noun)(-)(yen:noun_S + a3sg_S + pnon_S + i:acc_ST)>\n",
      "\n"
     ]
    },
    {
     "name": "stderr",
     "output_type": "stream",
     "text": [
      "WARNING:root:APPENDING RESULT: <(yen_Noun)(-)(yen:noun_S + a3sg_S + i:p3sg_S + nom_ST)>\n"
     ]
    },
    {
     "name": "stdout",
     "output_type": "stream",
     "text": [
      "2020-12-01 21:35:24,722 - root - WARNING\n",
      "Msg: APPENDING RESULT: <(yen_Noun)(-)(yen:noun_S + a3sg_S + i:p3sg_S + nom_ST)>\n",
      "\n"
     ]
    },
    {
     "name": "stderr",
     "output_type": "stream",
     "text": [
      "WARNING:root:APPENDING RESULT: <(enfeksiyon_Noun)(-)(enfeksiyon:noun_S + a3sg_S + pnon_S + nom_ST)>\n"
     ]
    },
    {
     "name": "stdout",
     "output_type": "stream",
     "text": [
      "2020-12-01 21:35:24,724 - root - WARNING\n",
      "Msg: APPENDING RESULT: <(enfeksiyon_Noun)(-)(enfeksiyon:noun_S + a3sg_S + pnon_S + nom_ST)>\n",
      "\n"
     ]
    },
    {
     "name": "stderr",
     "output_type": "stream",
     "text": [
      "WARNING:root:APPENDING RESULT: <(tespit_Noun)(-)(tespit:noun_S + a3sg_S + pnon_S + nom_ST)>\n"
     ]
    },
    {
     "name": "stdout",
     "output_type": "stream",
     "text": [
      "2020-12-01 21:35:24,728 - root - WARNING\n",
      "Msg: APPENDING RESULT: <(tespit_Noun)(-)(tespit:noun_S + a3sg_S + pnon_S + nom_ST)>\n",
      "\n"
     ]
    },
    {
     "name": "stderr",
     "output_type": "stream",
     "text": [
      "WARNING:root:APPENDING RESULT: <(etmek_Verb)(-)(ed:verbRoot_S + il:vPass_S + verbRoot_S + di:vPast_S + vA3sg_ST)>\n"
     ]
    },
    {
     "name": "stdout",
     "output_type": "stream",
     "text": [
      "2020-12-01 21:35:24,732 - root - WARNING\n",
      "Msg: APPENDING RESULT: <(etmek_Verb)(-)(ed:verbRoot_S + il:vPass_S + verbRoot_S + di:vPast_S + vA3sg_ST)>\n",
      "\n"
     ]
    },
    {
     "name": "stderr",
     "output_type": "stream",
     "text": [
      "WARNING:root:APPENDING RESULT: <(._Punc)(-)(.:puncRoot_ST)>\n"
     ]
    },
    {
     "name": "stdout",
     "output_type": "stream",
     "text": [
      "2020-12-01 21:35:24,734 - root - WARNING\n",
      "Msg: APPENDING RESULT: <(._Punc)(-)(.:puncRoot_ST)>\n",
      "\n"
     ]
    },
    {
     "name": "stderr",
     "output_type": "stream",
     "text": [
      "WARNING:root:APPENDING RESULT: <(kay_Noun)(-)(kay:noun_S + a3sg_S + pnon_S + da:loc_ST)>\n"
     ]
    },
    {
     "name": "stdout",
     "output_type": "stream",
     "text": [
      "2020-12-01 21:35:24,738 - root - WARNING\n",
      "Msg: APPENDING RESULT: <(kay_Noun)(-)(kay:noun_S + a3sg_S + pnon_S + da:loc_ST)>\n",
      "\n"
     ]
    },
    {
     "name": "stderr",
     "output_type": "stream",
     "text": [
      "WARNING:root:APPENDING RESULT: <(kayıt_Noun)(-)(kayd:noun_S + a3sg_S + pnon_S + a:dat_ST)>\n"
     ]
    },
    {
     "name": "stdout",
     "output_type": "stream",
     "text": [
      "2020-12-01 21:35:24,740 - root - WARNING\n",
      "Msg: APPENDING RESULT: <(kayıt_Noun)(-)(kayd:noun_S + a3sg_S + pnon_S + a:dat_ST)>\n",
      "\n"
     ]
    },
    {
     "name": "stderr",
     "output_type": "stream",
     "text": [
      "WARNING:root:APPENDING RESULT: <(geçen_Adj)(-)(geçen:adjectiveRoot_ST)>\n"
     ]
    },
    {
     "name": "stdout",
     "output_type": "stream",
     "text": [
      "2020-12-01 21:35:24,743 - root - WARNING\n",
      "Msg: APPENDING RESULT: <(geçen_Adj)(-)(geçen:adjectiveRoot_ST)>\n",
      "\n"
     ]
    },
    {
     "name": "stderr",
     "output_type": "stream",
     "text": [
      "WARNING:root:APPENDING RESULT: <(geçmek_Verb)(-)(geç:verbRoot_S + en:vPresPart_S + adjAfterVerb_ST)>\n"
     ]
    },
    {
     "name": "stdout",
     "output_type": "stream",
     "text": [
      "2020-12-01 21:35:24,745 - root - WARNING\n",
      "Msg: APPENDING RESULT: <(geçmek_Verb)(-)(geç:verbRoot_S + en:vPresPart_S + adjAfterVerb_ST)>\n",
      "\n"
     ]
    },
    {
     "name": "stderr",
     "output_type": "stream",
     "text": [
      "WARNING:root:APPENDING RESULT: <(rekor_Noun)(-)(rekor:noun_S + a3sg_S + pnon_S + nom_ST)>\n"
     ]
    },
    {
     "name": "stdout",
     "output_type": "stream",
     "text": [
      "2020-12-01 21:35:24,750 - root - WARNING\n",
      "Msg: APPENDING RESULT: <(rekor_Noun)(-)(rekor:noun_S + a3sg_S + pnon_S + nom_ST)>\n",
      "\n"
     ]
    },
    {
     "name": "stderr",
     "output_type": "stream",
     "text": [
      "WARNING:root:APPENDING RESULT: <(sayı_Noun)(-)(sayı:noun_S + a3sg_S + pnon_S + da:loc_ST + ki:rel_S + adjectiveRoot_ST)>\n"
     ]
    },
    {
     "name": "stdout",
     "output_type": "stream",
     "text": [
      "2020-12-01 21:35:24,755 - root - WARNING\n",
      "Msg: APPENDING RESULT: <(sayı_Noun)(-)(sayı:noun_S + a3sg_S + pnon_S + da:loc_ST + ki:rel_S + adjectiveRoot_ST)>\n",
      "\n"
     ]
    },
    {
     "name": "stderr",
     "output_type": "stream",
     "text": [
      "WARNING:root:APPENDING RESULT: <(yeni_Adv)(-)(yeni:advRoot_ST)>\n"
     ]
    },
    {
     "name": "stdout",
     "output_type": "stream",
     "text": [
      "2020-12-01 21:35:24,758 - root - WARNING\n",
      "Msg: APPENDING RESULT: <(yeni_Adv)(-)(yeni:advRoot_ST)>\n",
      "\n"
     ]
    },
    {
     "name": "stderr",
     "output_type": "stream",
     "text": [
      "WARNING:root:APPENDING RESULT: <(yeni_Adj)(-)(yeni:adjectiveRoot_ST)>\n"
     ]
    },
    {
     "name": "stdout",
     "output_type": "stream",
     "text": [
      "2020-12-01 21:35:24,759 - root - WARNING\n",
      "Msg: APPENDING RESULT: <(yeni_Adj)(-)(yeni:adjectiveRoot_ST)>\n",
      "\n"
     ]
    },
    {
     "name": "stderr",
     "output_type": "stream",
     "text": [
      "WARNING:root:APPENDING RESULT: <(yen_Noun)(-)(yen:noun_S + a3sg_S + pnon_S + i:acc_ST)>\n"
     ]
    },
    {
     "name": "stdout",
     "output_type": "stream",
     "text": [
      "2020-12-01 21:35:24,761 - root - WARNING\n",
      "Msg: APPENDING RESULT: <(yen_Noun)(-)(yen:noun_S + a3sg_S + pnon_S + i:acc_ST)>\n",
      "\n"
     ]
    },
    {
     "name": "stderr",
     "output_type": "stream",
     "text": [
      "WARNING:root:APPENDING RESULT: <(yen_Noun)(-)(yen:noun_S + a3sg_S + i:p3sg_S + nom_ST)>\n"
     ]
    },
    {
     "name": "stdout",
     "output_type": "stream",
     "text": [
      "2020-12-01 21:35:24,763 - root - WARNING\n",
      "Msg: APPENDING RESULT: <(yen_Noun)(-)(yen:noun_S + a3sg_S + i:p3sg_S + nom_ST)>\n",
      "\n"
     ]
    },
    {
     "name": "stderr",
     "output_type": "stream",
     "text": [
      "WARNING:root:APPENDING RESULT: <(enfeksiyon_Noun)(-)(enfeksiyon:noun_S + a3sg_S + pnon_S + un:gen_ST)>\n"
     ]
    },
    {
     "name": "stdout",
     "output_type": "stream",
     "text": [
      "2020-12-01 21:35:24,766 - root - WARNING\n",
      "Msg: APPENDING RESULT: <(enfeksiyon_Noun)(-)(enfeksiyon:noun_S + a3sg_S + pnon_S + un:gen_ST)>\n",
      "\n"
     ]
    },
    {
     "name": "stderr",
     "output_type": "stream",
     "text": [
      "WARNING:root:APPENDING RESULT: <(enfeksiyon_Noun)(-)(enfeksiyon:noun_S + a3sg_S + un:p2sg_S + nom_ST)>\n"
     ]
    },
    {
     "name": "stdout",
     "output_type": "stream",
     "text": [
      "2020-12-01 21:35:24,767 - root - WARNING\n",
      "Msg: APPENDING RESULT: <(enfeksiyon_Noun)(-)(enfeksiyon:noun_S + a3sg_S + un:p2sg_S + nom_ST)>\n",
      "\n"
     ]
    },
    {
     "name": "stderr",
     "output_type": "stream",
     "text": [
      "WARNING:root:APPENDING RESULT: <(ardından_Adv)(-)(ardından:advRoot_ST)>\n"
     ]
    },
    {
     "name": "stdout",
     "output_type": "stream",
     "text": [
      "2020-12-01 21:35:24,770 - root - WARNING\n",
      "Msg: APPENDING RESULT: <(ardından_Adv)(-)(ardından:advRoot_ST)>\n",
      "\n"
     ]
    },
    {
     "name": "stderr",
     "output_type": "stream",
     "text": [
      "WARNING:root:APPENDING RESULT: <(art_Noun)(-)(ard:noun_S + a3sg_S + ın:p2sg_S + dan:abl_ST)>\n"
     ]
    },
    {
     "name": "stdout",
     "output_type": "stream",
     "text": [
      "2020-12-01 21:35:24,774 - root - WARNING\n",
      "Msg: APPENDING RESULT: <(art_Noun)(-)(ard:noun_S + a3sg_S + ın:p2sg_S + dan:abl_ST)>\n",
      "\n"
     ]
    },
    {
     "name": "stderr",
     "output_type": "stream",
     "text": [
      "WARNING:root:APPENDING RESULT: <(art_Noun)(-)(ard:noun_S + a3sg_S + ı:p3sg_S + ndan:abl_ST)>\n"
     ]
    },
    {
     "name": "stdout",
     "output_type": "stream",
     "text": [
      "2020-12-01 21:35:24,776 - root - WARNING\n",
      "Msg: APPENDING RESULT: <(art_Noun)(-)(ard:noun_S + a3sg_S + ı:p3sg_S + ndan:abl_ST)>\n",
      "\n"
     ]
    },
    {
     "name": "stderr",
     "output_type": "stream",
     "text": [
      "WARNING:root:APPENDING RESULT: <(art_Adj)(-)(ard:adjectiveRoot_ST + adjZeroDeriv_S + noun_S + a3sg_S + ın:p2sg_S + dan:abl_ST)>\n"
     ]
    },
    {
     "name": "stdout",
     "output_type": "stream",
     "text": [
      "2020-12-01 21:35:24,780 - root - WARNING\n",
      "Msg: APPENDING RESULT: <(art_Adj)(-)(ard:adjectiveRoot_ST + adjZeroDeriv_S + noun_S + a3sg_S + ın:p2sg_S + dan:abl_ST)>\n",
      "\n"
     ]
    },
    {
     "name": "stderr",
     "output_type": "stream",
     "text": [
      "WARNING:root:APPENDING RESULT: <(art_Adj)(-)(ard:adjectiveRoot_ST + adjZeroDeriv_S + noun_S + a3sg_S + ı:p3sg_S + ndan:abl_ST)>\n"
     ]
    },
    {
     "name": "stdout",
     "output_type": "stream",
     "text": [
      "2020-12-01 21:35:24,782 - root - WARNING\n",
      "Msg: APPENDING RESULT: <(art_Adj)(-)(ard:adjectiveRoot_ST + adjZeroDeriv_S + noun_S + a3sg_S + ı:p3sg_S + ndan:abl_ST)>\n",
      "\n"
     ]
    },
    {
     "name": "stderr",
     "output_type": "stream",
     "text": [
      "WARNING:root:APPENDING RESULT: <(yerel_Adj)(-)(yerel:adjectiveRoot_ST)>\n"
     ]
    },
    {
     "name": "stdout",
     "output_type": "stream",
     "text": [
      "2020-12-01 21:35:24,786 - root - WARNING\n",
      "Msg: APPENDING RESULT: <(yerel_Adj)(-)(yerel:adjectiveRoot_ST)>\n",
      "\n"
     ]
    },
    {
     "name": "stderr",
     "output_type": "stream",
     "text": [
      "WARNING:root:APPENDING RESULT: <(Yerel_Noun_Prop)(-)(yerel:nounProper_S + a3sg_S + pnon_S + nom_ST)>\n"
     ]
    },
    {
     "name": "stdout",
     "output_type": "stream",
     "text": [
      "2020-12-01 21:35:24,789 - root - WARNING\n",
      "Msg: APPENDING RESULT: <(Yerel_Noun_Prop)(-)(yerel:nounProper_S + a3sg_S + pnon_S + nom_ST)>\n",
      "\n"
     ]
    },
    {
     "name": "stderr",
     "output_type": "stream",
     "text": [
      "WARNING:root:APPENDING RESULT: <(,_Punc)(-)(,:puncRoot_ST)>\n"
     ]
    },
    {
     "name": "stdout",
     "output_type": "stream",
     "text": [
      "2020-12-01 21:35:24,793 - root - WARNING\n",
      "Msg: APPENDING RESULT: <(,_Punc)(-)(,:puncRoot_ST)>\n",
      "\n"
     ]
    },
    {
     "name": "stderr",
     "output_type": "stream",
     "text": [
      "WARNING:root:APPENDING RESULT: <(alarm_Noun)(-)(alarm:noun_S + a3sg_S + pnon_S + nom_ST)>\n"
     ]
    },
    {
     "name": "stdout",
     "output_type": "stream",
     "text": [
      "2020-12-01 21:35:24,800 - root - WARNING\n",
      "Msg: APPENDING RESULT: <(alarm_Noun)(-)(alarm:noun_S + a3sg_S + pnon_S + nom_ST)>\n",
      "\n"
     ]
    },
    {
     "name": "stderr",
     "output_type": "stream",
     "text": [
      "WARNING:root:APPENDING RESULT: <(seviye_Noun)(-)(seviye:noun_S + a3sg_S + si:p3sg_S + nin:gen_ST)>\n"
     ]
    },
    {
     "name": "stdout",
     "output_type": "stream",
     "text": [
      "2020-12-01 21:35:24,807 - root - WARNING\n",
      "Msg: APPENDING RESULT: <(seviye_Noun)(-)(seviye:noun_S + a3sg_S + si:p3sg_S + nin:gen_ST)>\n",
      "\n"
     ]
    },
    {
     "name": "stderr",
     "output_type": "stream",
     "text": [
      "WARNING:root:APPENDING RESULT: <(en_Adv)(-)(en:advRoot_ST)>\n"
     ]
    },
    {
     "name": "stdout",
     "output_type": "stream",
     "text": [
      "2020-12-01 21:35:24,810 - root - WARNING\n",
      "Msg: APPENDING RESULT: <(en_Adv)(-)(en:advRoot_ST)>\n",
      "\n"
     ]
    },
    {
     "name": "stderr",
     "output_type": "stream",
     "text": [
      "WARNING:root:APPENDING RESULT: <(en_Noun)(-)(en:noun_S + a3sg_S + pnon_S + nom_ST)>\n"
     ]
    },
    {
     "name": "stdout",
     "output_type": "stream",
     "text": [
      "2020-12-01 21:35:24,812 - root - WARNING\n",
      "Msg: APPENDING RESULT: <(en_Noun)(-)(en:noun_S + a3sg_S + pnon_S + nom_ST)>\n",
      "\n"
     ]
    },
    {
     "name": "stderr",
     "output_type": "stream",
     "text": [
      "WARNING:root:APPENDING RESULT: <(üst_Adj)(-)(üst:adjectiveRoot_ST)>\n"
     ]
    },
    {
     "name": "stdout",
     "output_type": "stream",
     "text": [
      "2020-12-01 21:35:24,814 - root - WARNING\n",
      "Msg: APPENDING RESULT: <(üst_Adj)(-)(üst:adjectiveRoot_ST)>\n",
      "\n"
     ]
    },
    {
     "name": "stderr",
     "output_type": "stream",
     "text": [
      "WARNING:root:APPENDING RESULT: <(üst_Noun)(-)(üst:noun_S + a3sg_S + pnon_S + nom_ST)>\n"
     ]
    },
    {
     "name": "stdout",
     "output_type": "stream",
     "text": [
      "2020-12-01 21:35:24,816 - root - WARNING\n",
      "Msg: APPENDING RESULT: <(üst_Noun)(-)(üst:noun_S + a3sg_S + pnon_S + nom_ST)>\n",
      "\n"
     ]
    },
    {
     "name": "stderr",
     "output_type": "stream",
     "text": [
      "WARNING:root:APPENDING RESULT: <(düzemek_Verb)(-)(düze:verbRoot_S + ye:vOpt_S + vA3sg_ST)>\n"
     ]
    },
    {
     "name": "stdout",
     "output_type": "stream",
     "text": [
      "2020-12-01 21:35:24,819 - root - WARNING\n",
      "Msg: APPENDING RESULT: <(düzemek_Verb)(-)(düze:verbRoot_S + ye:vOpt_S + vA3sg_ST)>\n",
      "\n"
     ]
    },
    {
     "name": "stderr",
     "output_type": "stream",
     "text": [
      "WARNING:root:APPENDING RESULT: <(düze_Noun)(-)(düze:noun_S + a3sg_S + pnon_S + ye:dat_ST)>\n"
     ]
    },
    {
     "name": "stdout",
     "output_type": "stream",
     "text": [
      "2020-12-01 21:35:24,823 - root - WARNING\n",
      "Msg: APPENDING RESULT: <(düze_Noun)(-)(düze:noun_S + a3sg_S + pnon_S + ye:dat_ST)>\n",
      "\n"
     ]
    },
    {
     "name": "stderr",
     "output_type": "stream",
     "text": [
      "WARNING:root:APPENDING RESULT: <(düzey_Noun)(-)(düzey:noun_S + a3sg_S + pnon_S + e:dat_ST)>\n"
     ]
    },
    {
     "name": "stdout",
     "output_type": "stream",
     "text": [
      "2020-12-01 21:35:24,825 - root - WARNING\n",
      "Msg: APPENDING RESULT: <(düzey_Noun)(-)(düzey:noun_S + a3sg_S + pnon_S + e:dat_ST)>\n",
      "\n"
     ]
    },
    {
     "name": "stderr",
     "output_type": "stream",
     "text": [
      "WARNING:root:APPENDING RESULT: <(Düzey_Noun_Prop)(-)(düzey:nounProper_S + a3sg_S + pnon_S + e:dat_ST)>\n"
     ]
    },
    {
     "name": "stdout",
     "output_type": "stream",
     "text": [
      "2020-12-01 21:35:24,826 - root - WARNING\n",
      "Msg: APPENDING RESULT: <(Düzey_Noun_Prop)(-)(düzey:nounProper_S + a3sg_S + pnon_S + e:dat_ST)>\n",
      "\n"
     ]
    },
    {
     "name": "stderr",
     "output_type": "stream",
     "text": [
      "WARNING:root:APPENDING RESULT: <(çıkarmak_Verb)(-)(çıkar:verbRoot_S + ıl:vPass_S + verbRoot_S + acağ:vFutPart_S + noun_S + a3sg_S + ın:p2sg_S + ı:acc_ST)>\n"
     ]
    },
    {
     "name": "stdout",
     "output_type": "stream",
     "text": [
      "2020-12-01 21:35:24,835 - root - WARNING\n",
      "Msg: APPENDING RESULT: <(çıkarmak_Verb)(-)(çıkar:verbRoot_S + ıl:vPass_S + verbRoot_S + acağ:vFutPart_S + noun_S + a3sg_S + ın:p2sg_S + ı:acc_ST)>\n",
      "\n"
     ]
    },
    {
     "name": "stderr",
     "output_type": "stream",
     "text": [
      "WARNING:root:APPENDING RESULT: <(çıkarmak_Verb)(-)(çıkar:verbRoot_S + ıl:vPass_S + verbRoot_S + acağ:vFutPart_S + noun_S + a3sg_S + ı:p3sg_S + nı:acc_ST)>\n"
     ]
    },
    {
     "name": "stdout",
     "output_type": "stream",
     "text": [
      "2020-12-01 21:35:24,836 - root - WARNING\n",
      "Msg: APPENDING RESULT: <(çıkarmak_Verb)(-)(çıkar:verbRoot_S + ıl:vPass_S + verbRoot_S + acağ:vFutPart_S + noun_S + a3sg_S + ı:p3sg_S + nı:acc_ST)>\n",
      "\n"
     ]
    },
    {
     "name": "stderr",
     "output_type": "stream",
     "text": [
      "WARNING:root:APPENDING RESULT: <(açıklamak_Verb)(-)(açıkla:verbRoot_S + dı:vPast_S + vA3sg_ST)>\n"
     ]
    },
    {
     "name": "stdout",
     "output_type": "stream",
     "text": [
      "2020-12-01 21:35:24,841 - root - WARNING\n",
      "Msg: APPENDING RESULT: <(açıklamak_Verb)(-)(açıkla:verbRoot_S + dı:vPast_S + vA3sg_ST)>\n",
      "\n"
     ]
    },
    {
     "name": "stderr",
     "output_type": "stream",
     "text": [
      "WARNING:root:APPENDING RESULT: <(._Punc)(-)(.:puncRoot_ST)>\n"
     ]
    },
    {
     "name": "stdout",
     "output_type": "stream",
     "text": [
      "2020-12-01 21:35:24,847 - root - WARNING\n",
      "Msg: APPENDING RESULT: <(._Punc)(-)(.:puncRoot_ST)>\n",
      "\n"
     ]
    },
    {
     "name": "stderr",
     "output_type": "stream",
     "text": [
      "WARNING:root:APPENDING RESULT: <(restoran_Noun)(-)(restoran:noun_S + a3sg_S + pnon_S + nom_ST)>\n"
     ]
    },
    {
     "name": "stdout",
     "output_type": "stream",
     "text": [
      "2020-12-01 21:35:24,850 - root - WARNING\n",
      "Msg: APPENDING RESULT: <(restoran_Noun)(-)(restoran:noun_S + a3sg_S + pnon_S + nom_ST)>\n",
      "\n"
     ]
    },
    {
     "name": "stderr",
     "output_type": "stream",
     "text": [
      "WARNING:root:APPENDING RESULT: <(ve_Conj)(-)(ve:conjRoot_ST)>\n"
     ]
    },
    {
     "name": "stdout",
     "output_type": "stream",
     "text": [
      "2020-12-01 21:35:24,852 - root - WARNING\n",
      "Msg: APPENDING RESULT: <(ve_Conj)(-)(ve:conjRoot_ST)>\n",
      "\n"
     ]
    },
    {
     "name": "stderr",
     "output_type": "stream",
     "text": [
      "WARNING:root:APPENDING RESULT: <(bar_Noun)(-)(bar:noun_S + a3sg_S + pnon_S + nom_ST)>\n"
     ]
    },
    {
     "name": "stdout",
     "output_type": "stream",
     "text": [
      "2020-12-01 21:35:24,856 - root - WARNING\n",
      "Msg: APPENDING RESULT: <(bar_Noun)(-)(bar:noun_S + a3sg_S + pnon_S + nom_ST)>\n",
      "\n"
     ]
    },
    {
     "name": "stderr",
     "output_type": "stream",
     "text": [
      "WARNING:root:APPENDING RESULT: <(benzeri_Adj)(-)(benzeri:adjectiveRoot_ST)>\n"
     ]
    },
    {
     "name": "stdout",
     "output_type": "stream",
     "text": [
      "2020-12-01 21:35:24,859 - root - WARNING\n",
      "Msg: APPENDING RESULT: <(benzeri_Adj)(-)(benzeri:adjectiveRoot_ST)>\n",
      "\n"
     ]
    },
    {
     "name": "stderr",
     "output_type": "stream",
     "text": [
      "WARNING:root:APPENDING RESULT: <(benzer_Noun)(-)(benzer:noun_S + a3sg_S + pnon_S + i:acc_ST)>\n"
     ]
    },
    {
     "name": "stdout",
     "output_type": "stream",
     "text": [
      "2020-12-01 21:35:24,864 - root - WARNING\n",
      "Msg: APPENDING RESULT: <(benzer_Noun)(-)(benzer:noun_S + a3sg_S + pnon_S + i:acc_ST)>\n",
      "\n"
     ]
    },
    {
     "name": "stderr",
     "output_type": "stream",
     "text": [
      "WARNING:root:APPENDING RESULT: <(benzer_Noun)(-)(benzer:noun_S + a3sg_S + i:p3sg_S + nom_ST)>\n"
     ]
    },
    {
     "name": "stdout",
     "output_type": "stream",
     "text": [
      "2020-12-01 21:35:24,865 - root - WARNING\n",
      "Msg: APPENDING RESULT: <(benzer_Noun)(-)(benzer:noun_S + a3sg_S + i:p3sg_S + nom_ST)>\n",
      "\n"
     ]
    },
    {
     "name": "stderr",
     "output_type": "stream",
     "text": [
      "WARNING:root:APPENDING RESULT: <(benzeri_Noun)(-)(benzeri:noun_S + a3sg_S + pnon_S + nom_ST)>\n"
     ]
    },
    {
     "name": "stdout",
     "output_type": "stream",
     "text": [
      "2020-12-01 21:35:24,866 - root - WARNING\n",
      "Msg: APPENDING RESULT: <(benzeri_Noun)(-)(benzeri:noun_S + a3sg_S + pnon_S + nom_ST)>\n",
      "\n"
     ]
    },
    {
     "name": "stderr",
     "output_type": "stream",
     "text": [
      "WARNING:root:APPENDING RESULT: <(benzer_Adj)(-)(benzer:adjectiveRoot_ST + adjZeroDeriv_S + noun_S + a3sg_S + pnon_S + i:acc_ST)>\n"
     ]
    },
    {
     "name": "stdout",
     "output_type": "stream",
     "text": [
      "2020-12-01 21:35:24,869 - root - WARNING\n",
      "Msg: APPENDING RESULT: <(benzer_Adj)(-)(benzer:adjectiveRoot_ST + adjZeroDeriv_S + noun_S + a3sg_S + pnon_S + i:acc_ST)>\n",
      "\n"
     ]
    },
    {
     "name": "stderr",
     "output_type": "stream",
     "text": [
      "WARNING:root:APPENDING RESULT: <(benzer_Adj)(-)(benzer:adjectiveRoot_ST + adjZeroDeriv_S + noun_S + a3sg_S + i:p3sg_S + nom_ST)>\n"
     ]
    },
    {
     "name": "stdout",
     "output_type": "stream",
     "text": [
      "2020-12-01 21:35:24,870 - root - WARNING\n",
      "Msg: APPENDING RESULT: <(benzer_Adj)(-)(benzer:adjectiveRoot_ST + adjZeroDeriv_S + noun_S + a3sg_S + i:p3sg_S + nom_ST)>\n",
      "\n"
     ]
    },
    {
     "name": "stderr",
     "output_type": "stream",
     "text": [
      "WARNING:root:APPENDING RESULT: <(işletme_Noun)(-)(işletme:noun_S + ler:a3pl_S + pnon_S + den:abl_ST)>\n"
     ]
    },
    {
     "name": "stdout",
     "output_type": "stream",
     "text": [
      "2020-12-01 21:35:24,875 - root - WARNING\n",
      "Msg: APPENDING RESULT: <(işletme_Noun)(-)(işletme:noun_S + ler:a3pl_S + pnon_S + den:abl_ST)>\n",
      "\n"
     ]
    },
    {
     "name": "stderr",
     "output_type": "stream",
     "text": [
      "WARNING:root:APPENDING RESULT: <(işlemek_Verb)(-)(işle:verbRoot_S + t:vCaus_S + verbRoot_S + me:vInf2_S + noun_S + ler:a3pl_S + pnon_S + den:abl_ST)>\n"
     ]
    },
    {
     "name": "stdout",
     "output_type": "stream",
     "text": [
      "2020-12-01 21:35:24,879 - root - WARNING\n",
      "Msg: APPENDING RESULT: <(işlemek_Verb)(-)(işle:verbRoot_S + t:vCaus_S + verbRoot_S + me:vInf2_S + noun_S + ler:a3pl_S + pnon_S + den:abl_ST)>\n",
      "\n"
     ]
    },
    {
     "name": "stderr",
     "output_type": "stream",
     "text": [
      "WARNING:root:APPENDING RESULT: <(çalışmak_Verb)(-)(çalış:verbRoot_S + ma:vNeg_S + vImp_S + vA2sg_ST)>\n"
     ]
    },
    {
     "name": "stdout",
     "output_type": "stream",
     "text": [
      "2020-12-01 21:35:24,885 - root - WARNING\n",
      "Msg: APPENDING RESULT: <(çalışmak_Verb)(-)(çalış:verbRoot_S + ma:vNeg_S + vImp_S + vA2sg_ST)>\n",
      "\n"
     ]
    },
    {
     "name": "stderr",
     "output_type": "stream",
     "text": [
      "WARNING:root:APPENDING RESULT: <(çalışmak_Verb)(-)(çalış:verbRoot_S + ma:vInf2_S + noun_S + a3sg_S + pnon_S + nom_ST)>\n"
     ]
    },
    {
     "name": "stdout",
     "output_type": "stream",
     "text": [
      "2020-12-01 21:35:24,888 - root - WARNING\n",
      "Msg: APPENDING RESULT: <(çalışmak_Verb)(-)(çalış:verbRoot_S + ma:vInf2_S + noun_S + a3sg_S + pnon_S + nom_ST)>\n",
      "\n"
     ]
    },
    {
     "name": "stderr",
     "output_type": "stream",
     "text": [
      "WARNING:root:APPENDING RESULT: <(saat_Noun)(-)(saat:noun_S + a3sg_S + leri:p3pl_S + ni:acc_ST)>\n"
     ]
    },
    {
     "name": "stdout",
     "output_type": "stream",
     "text": [
      "2020-12-01 21:35:24,892 - root - WARNING\n",
      "Msg: APPENDING RESULT: <(saat_Noun)(-)(saat:noun_S + a3sg_S + leri:p3pl_S + ni:acc_ST)>\n",
      "\n"
     ]
    },
    {
     "name": "stderr",
     "output_type": "stream",
     "text": [
      "WARNING:root:APPENDING RESULT: <(saat_Noun)(-)(saat:noun_S + ler:a3pl_S + in:p2sg_S + i:acc_ST)>\n"
     ]
    },
    {
     "name": "stdout",
     "output_type": "stream",
     "text": [
      "2020-12-01 21:35:24,893 - root - WARNING\n",
      "Msg: APPENDING RESULT: <(saat_Noun)(-)(saat:noun_S + ler:a3pl_S + in:p2sg_S + i:acc_ST)>\n",
      "\n"
     ]
    },
    {
     "name": "stderr",
     "output_type": "stream",
     "text": [
      "WARNING:root:APPENDING RESULT: <(saat_Noun)(-)(saat:noun_S + ler:a3pl_S + i:p3sg_S + ni:acc_ST)>\n"
     ]
    },
    {
     "name": "stdout",
     "output_type": "stream",
     "text": [
      "2020-12-01 21:35:24,895 - root - WARNING\n",
      "Msg: APPENDING RESULT: <(saat_Noun)(-)(saat:noun_S + ler:a3pl_S + i:p3sg_S + ni:acc_ST)>\n",
      "\n"
     ]
    },
    {
     "name": "stderr",
     "output_type": "stream",
     "text": [
      "WARNING:root:APPENDING RESULT: <(saat_Noun)(-)(saat:noun_S + ler:a3pl_S + i:p3pl_S + ni:acc_ST)>\n"
     ]
    },
    {
     "name": "stdout",
     "output_type": "stream",
     "text": [
      "2020-12-01 21:35:24,896 - root - WARNING\n",
      "Msg: APPENDING RESULT: <(saat_Noun)(-)(saat:noun_S + ler:a3pl_S + i:p3pl_S + ni:acc_ST)>\n",
      "\n"
     ]
    },
    {
     "name": "stderr",
     "output_type": "stream",
     "text": [
      "WARNING:root:APPENDING RESULT: <(kısalmak_Verb)(-)(kısal:verbRoot_S + t:vCaus_S + verbRoot_S + ma:vInf2_S + noun_S + a3sg_S + ları:p3pl_S + nı:acc_ST)>\n"
     ]
    },
    {
     "name": "stdout",
     "output_type": "stream",
     "text": [
      "2020-12-01 21:35:24,908 - root - WARNING\n",
      "Msg: APPENDING RESULT: <(kısalmak_Verb)(-)(kısal:verbRoot_S + t:vCaus_S + verbRoot_S + ma:vInf2_S + noun_S + a3sg_S + ları:p3pl_S + nı:acc_ST)>\n",
      "\n"
     ]
    },
    {
     "name": "stderr",
     "output_type": "stream",
     "text": [
      "WARNING:root:APPENDING RESULT: <(kısalmak_Verb)(-)(kısal:verbRoot_S + t:vCaus_S + verbRoot_S + ma:vInf2_S + noun_S + lar:a3pl_S + ın:p2sg_S + ı:acc_ST)>\n"
     ]
    },
    {
     "name": "stdout",
     "output_type": "stream",
     "text": [
      "2020-12-01 21:35:24,910 - root - WARNING\n",
      "Msg: APPENDING RESULT: <(kısalmak_Verb)(-)(kısal:verbRoot_S + t:vCaus_S + verbRoot_S + ma:vInf2_S + noun_S + lar:a3pl_S + ın:p2sg_S + ı:acc_ST)>\n",
      "\n"
     ]
    },
    {
     "name": "stderr",
     "output_type": "stream",
     "text": [
      "WARNING:root:APPENDING RESULT: <(kısalmak_Verb)(-)(kısal:verbRoot_S + t:vCaus_S + verbRoot_S + ma:vInf2_S + noun_S + lar:a3pl_S + ı:p3sg_S + nı:acc_ST)>\n"
     ]
    },
    {
     "name": "stdout",
     "output_type": "stream",
     "text": [
      "2020-12-01 21:35:24,912 - root - WARNING\n",
      "Msg: APPENDING RESULT: <(kısalmak_Verb)(-)(kısal:verbRoot_S + t:vCaus_S + verbRoot_S + ma:vInf2_S + noun_S + lar:a3pl_S + ı:p3sg_S + nı:acc_ST)>\n",
      "\n"
     ]
    },
    {
     "name": "stderr",
     "output_type": "stream",
     "text": [
      "WARNING:root:APPENDING RESULT: <(kısalmak_Verb)(-)(kısal:verbRoot_S + t:vCaus_S + verbRoot_S + ma:vInf2_S + noun_S + lar:a3pl_S + ı:p3pl_S + nı:acc_ST)>\n"
     ]
    },
    {
     "name": "stdout",
     "output_type": "stream",
     "text": [
      "2020-12-01 21:35:24,913 - root - WARNING\n",
      "Msg: APPENDING RESULT: <(kısalmak_Verb)(-)(kısal:verbRoot_S + t:vCaus_S + verbRoot_S + ma:vInf2_S + noun_S + lar:a3pl_S + ı:p3pl_S + nı:acc_ST)>\n",
      "\n"
     ]
    },
    {
     "name": "stderr",
     "output_type": "stream",
     "text": [
      "WARNING:root:APPENDING RESULT: <(istemek_Verb)(-)(iste:verbRoot_S + yip:vAfterDoing_S + advRoot_ST)>\n"
     ]
    },
    {
     "name": "stdout",
     "output_type": "stream",
     "text": [
      "2020-12-01 21:35:24,918 - root - WARNING\n",
      "Msg: APPENDING RESULT: <(istemek_Verb)(-)(iste:verbRoot_S + yip:vAfterDoing_S + advRoot_ST)>\n",
      "\n"
     ]
    },
    {
     "name": "stderr",
     "output_type": "stream",
     "text": [
      "WARNING:root:APPENDING RESULT: <(istemek_Verb)(-)(iste:verbRoot_S + me:vNeg_S + yeceğ:vFutPart_S + adjAfterVerb_S + i:aP3sg_ST)>\n"
     ]
    },
    {
     "name": "stdout",
     "output_type": "stream",
     "text": [
      "2020-12-01 21:35:24,925 - root - WARNING\n",
      "Msg: APPENDING RESULT: <(istemek_Verb)(-)(iste:verbRoot_S + me:vNeg_S + yeceğ:vFutPart_S + adjAfterVerb_S + i:aP3sg_ST)>\n",
      "\n"
     ]
    },
    {
     "name": "stderr",
     "output_type": "stream",
     "text": [
      "WARNING:root:APPENDING RESULT: <(istemek_Verb)(-)(iste:verbRoot_S + me:vNeg_S + yeceğ:vFutPart_S + noun_S + a3sg_S + pnon_S + i:acc_ST)>\n"
     ]
    },
    {
     "name": "stdout",
     "output_type": "stream",
     "text": [
      "2020-12-01 21:35:24,929 - root - WARNING\n",
      "Msg: APPENDING RESULT: <(istemek_Verb)(-)(iste:verbRoot_S + me:vNeg_S + yeceğ:vFutPart_S + noun_S + a3sg_S + pnon_S + i:acc_ST)>\n",
      "\n"
     ]
    },
    {
     "name": "stderr",
     "output_type": "stream",
     "text": [
      "WARNING:root:APPENDING RESULT: <(istemek_Verb)(-)(iste:verbRoot_S + me:vNeg_S + yeceğ:vFutPart_S + noun_S + a3sg_S + i:p3sg_S + nom_ST)>\n"
     ]
    },
    {
     "name": "stdout",
     "output_type": "stream",
     "text": [
      "2020-12-01 21:35:24,930 - root - WARNING\n",
      "Msg: APPENDING RESULT: <(istemek_Verb)(-)(iste:verbRoot_S + me:vNeg_S + yeceğ:vFutPart_S + noun_S + a3sg_S + i:p3sg_S + nom_ST)>\n",
      "\n"
     ]
    },
    {
     "name": "stderr",
     "output_type": "stream",
     "text": [
      "WARNING:root:APPENDING RESULT: <(merak_Noun)(-)(merak:noun_S + a3sg_S + pnon_S + nom_ST)>\n"
     ]
    },
    {
     "name": "stdout",
     "output_type": "stream",
     "text": [
      "2020-12-01 21:35:24,934 - root - WARNING\n",
      "Msg: APPENDING RESULT: <(merak_Noun)(-)(merak:noun_S + a3sg_S + pnon_S + nom_ST)>\n",
      "\n"
     ]
    },
    {
     "name": "stderr",
     "output_type": "stream",
     "text": [
      "WARNING:root:APPENDING RESULT: <(konu_Noun)(-)(konu:noun_S + a3sg_S + su:p3sg_S + nom_ST)>\n"
     ]
    },
    {
     "name": "stdout",
     "output_type": "stream",
     "text": [
      "2020-12-01 21:35:24,938 - root - WARNING\n",
      "Msg: APPENDING RESULT: <(konu_Noun)(-)(konu:noun_S + a3sg_S + su:p3sg_S + nom_ST)>\n",
      "\n"
     ]
    },
    {
     "name": "stderr",
     "output_type": "stream",
     "text": [
      "WARNING:root:APPENDING RESULT: <(olmak_Verb)(-)(ol:verbRoot_S + an:vPresPart_S + adjAfterVerb_ST)>\n"
     ]
    },
    {
     "name": "stdout",
     "output_type": "stream",
     "text": [
      "2020-12-01 21:35:24,942 - root - WARNING\n",
      "Msg: APPENDING RESULT: <(olmak_Verb)(-)(ol:verbRoot_S + an:vPresPart_S + adjAfterVerb_ST)>\n",
      "\n"
     ]
    },
    {
     "name": "stderr",
     "output_type": "stream",
     "text": [
      "WARNING:root:APPENDING RESULT: <(o_Adj)(-)(o:adjectiveRoot_ST + lan:acquire_S + verbRoot_S + vImp_S + vA2sg_ST)>\n"
     ]
    },
    {
     "name": "stdout",
     "output_type": "stream",
     "text": [
      "2020-12-01 21:35:24,944 - root - WARNING\n",
      "Msg: APPENDING RESULT: <(o_Adj)(-)(o:adjectiveRoot_ST + lan:acquire_S + verbRoot_S + vImp_S + vA2sg_ST)>\n",
      "\n"
     ]
    },
    {
     "name": "stderr",
     "output_type": "stream",
     "text": [
      "WARNING:root:APPENDING RESULT: <(yerel_Adj)(-)(yerel:adjectiveRoot_ST)>\n"
     ]
    },
    {
     "name": "stdout",
     "output_type": "stream",
     "text": [
      "2020-12-01 21:35:24,947 - root - WARNING\n",
      "Msg: APPENDING RESULT: <(yerel_Adj)(-)(yerel:adjectiveRoot_ST)>\n",
      "\n"
     ]
    },
    {
     "name": "stderr",
     "output_type": "stream",
     "text": [
      "WARNING:root:APPENDING RESULT: <(Yerel_Noun_Prop)(-)(yerel:nounProper_S + a3sg_S + pnon_S + nom_ST)>\n"
     ]
    },
    {
     "name": "stdout",
     "output_type": "stream",
     "text": [
      "2020-12-01 21:35:24,951 - root - WARNING\n",
      "Msg: APPENDING RESULT: <(Yerel_Noun_Prop)(-)(yerel:nounProper_S + a3sg_S + pnon_S + nom_ST)>\n",
      "\n"
     ]
    },
    {
     "name": "stderr",
     "output_type": "stream",
     "text": [
      "WARNING:root:APPENDING RESULT: <(otorite_Noun)(-)(otorite:noun_S + ler:a3pl_S + pnon_S + in:gen_ST)>\n"
     ]
    },
    {
     "name": "stdout",
     "output_type": "stream",
     "text": [
      "2020-12-01 21:35:24,958 - root - WARNING\n",
      "Msg: APPENDING RESULT: <(otorite_Noun)(-)(otorite:noun_S + ler:a3pl_S + pnon_S + in:gen_ST)>\n",
      "\n"
     ]
    },
    {
     "name": "stderr",
     "output_type": "stream",
     "text": [
      "WARNING:root:APPENDING RESULT: <(otorite_Noun)(-)(otorite:noun_S + ler:a3pl_S + in:p2sg_S + nom_ST)>\n"
     ]
    },
    {
     "name": "stdout",
     "output_type": "stream",
     "text": [
      "2020-12-01 21:35:24,959 - root - WARNING\n",
      "Msg: APPENDING RESULT: <(otorite_Noun)(-)(otorite:noun_S + ler:a3pl_S + in:p2sg_S + nom_ST)>\n",
      "\n"
     ]
    },
    {
     "name": "stderr",
     "output_type": "stream",
     "text": [
      "WARNING:root:APPENDING RESULT: <(,_Punc)(-)(,:puncRoot_ST)>\n"
     ]
    },
    {
     "name": "stdout",
     "output_type": "stream",
     "text": [
      "2020-12-01 21:35:24,963 - root - WARNING\n",
      "Msg: APPENDING RESULT: <(,_Punc)(-)(,:puncRoot_ST)>\n",
      "\n"
     ]
    },
    {
     "name": "stderr",
     "output_type": "stream",
     "text": [
      "WARNING:root:APPENDING RESULT: <(almak_Verb)(-)(al:verbRoot_S + ın:vPass_S + verbRoot_S + acak:vFutPart_S + adjAfterVerb_S + aPnon_ST)>\n"
     ]
    },
    {
     "name": "stdout",
     "output_type": "stream",
     "text": [
      "2020-12-01 21:35:24,974 - root - WARNING\n",
      "Msg: APPENDING RESULT: <(almak_Verb)(-)(al:verbRoot_S + ın:vPass_S + verbRoot_S + acak:vFutPart_S + adjAfterVerb_S + aPnon_ST)>\n",
      "\n"
     ]
    },
    {
     "name": "stderr",
     "output_type": "stream",
     "text": [
      "WARNING:root:APPENDING RESULT: <(tedbir_Noun)(-)(tedbir:noun_S + ler:a3pl_S + pnon_S + nom_ST)>\n"
     ]
    },
    {
     "name": "stdout",
     "output_type": "stream",
     "text": [
      "2020-12-01 21:35:24,982 - root - WARNING\n",
      "Msg: APPENDING RESULT: <(tedbir_Noun)(-)(tedbir:noun_S + ler:a3pl_S + pnon_S + nom_ST)>\n",
      "\n"
     ]
    },
    {
     "name": "stderr",
     "output_type": "stream",
     "text": [
      "WARNING:root:APPENDING RESULT: <(tedbir_Noun)(-)(tedbir:noun_S + a3sg_S + pnon_S + nom_ST + nounZeroDeriv_S + nVerb_S + nPresent_S + ler:nA3pl_ST)>\n"
     ]
    },
    {
     "name": "stdout",
     "output_type": "stream",
     "text": [
      "2020-12-01 21:35:24,985 - root - WARNING\n",
      "Msg: APPENDING RESULT: <(tedbir_Noun)(-)(tedbir:noun_S + a3sg_S + pnon_S + nom_ST + nounZeroDeriv_S + nVerb_S + nPresent_S + ler:nA3pl_ST)>\n",
      "\n"
     ]
    },
    {
     "name": "stderr",
     "output_type": "stream",
     "text": [
      "WARNING:root:APPENDING RESULT: <(üzerinde_Adv)(-)(üzerinde:advRoot_ST)>\n"
     ]
    },
    {
     "name": "stdout",
     "output_type": "stream",
     "text": [
      "2020-12-01 21:35:24,986 - root - WARNING\n",
      "Msg: APPENDING RESULT: <(üzerinde_Adv)(-)(üzerinde:advRoot_ST)>\n",
      "\n"
     ]
    },
    {
     "name": "stderr",
     "output_type": "stream",
     "text": [
      "WARNING:root:APPENDING RESULT: <(Üzer_Noun_Prop)(-)(üzer:nounProper_S + a3sg_S + in:p2sg_S + de:loc_ST)>\n"
     ]
    },
    {
     "name": "stdout",
     "output_type": "stream",
     "text": [
      "2020-12-01 21:35:24,989 - root - WARNING\n",
      "Msg: APPENDING RESULT: <(Üzer_Noun_Prop)(-)(üzer:nounProper_S + a3sg_S + in:p2sg_S + de:loc_ST)>\n",
      "\n"
     ]
    },
    {
     "name": "stderr",
     "output_type": "stream",
     "text": [
      "WARNING:root:APPENDING RESULT: <(Üzer_Noun_Prop)(-)(üzer:nounProper_S + a3sg_S + i:p3sg_S + nde:loc_ST)>\n"
     ]
    },
    {
     "name": "stdout",
     "output_type": "stream",
     "text": [
      "2020-12-01 21:35:24,991 - root - WARNING\n",
      "Msg: APPENDING RESULT: <(Üzer_Noun_Prop)(-)(üzer:nounProper_S + a3sg_S + i:p3sg_S + nde:loc_ST)>\n",
      "\n"
     ]
    },
    {
     "name": "stderr",
     "output_type": "stream",
     "text": [
      "WARNING:root:APPENDING RESULT: <(istişare_Noun)(-)(istişare:noun_S + a3sg_S + pnon_S + nom_ST)>\n"
     ]
    },
    {
     "name": "stdout",
     "output_type": "stream",
     "text": [
      "2020-12-01 21:35:24,994 - root - WARNING\n",
      "Msg: APPENDING RESULT: <(istişare_Noun)(-)(istişare:noun_S + a3sg_S + pnon_S + nom_ST)>\n",
      "\n"
     ]
    },
    {
     "name": "stderr",
     "output_type": "stream",
     "text": [
      "WARNING:root:APPENDING RESULT: <(etmek_Verb)(-)(et:verbRoot_S + tiğ:vPastPart_S + adjAfterVerb_S + i:aP3sg_ST)>\n"
     ]
    },
    {
     "name": "stdout",
     "output_type": "stream",
     "text": [
      "2020-12-01 21:35:24,998 - root - WARNING\n",
      "Msg: APPENDING RESULT: <(etmek_Verb)(-)(et:verbRoot_S + tiğ:vPastPart_S + adjAfterVerb_S + i:aP3sg_ST)>\n",
      "\n"
     ]
    },
    {
     "name": "stderr",
     "output_type": "stream",
     "text": [
      "WARNING:root:APPENDING RESULT: <(etmek_Verb)(-)(et:verbRoot_S + tiğ:vPastPart_S + noun_S + a3sg_S + pnon_S + i:acc_ST)>\n"
     ]
    },
    {
     "name": "stdout",
     "output_type": "stream",
     "text": [
      "2020-12-01 21:35:25,001 - root - WARNING\n",
      "Msg: APPENDING RESULT: <(etmek_Verb)(-)(et:verbRoot_S + tiğ:vPastPart_S + noun_S + a3sg_S + pnon_S + i:acc_ST)>\n",
      "\n"
     ]
    },
    {
     "name": "stderr",
     "output_type": "stream",
     "text": [
      "WARNING:root:APPENDING RESULT: <(etmek_Verb)(-)(et:verbRoot_S + tiğ:vPastPart_S + noun_S + a3sg_S + i:p3sg_S + nom_ST)>\n"
     ]
    },
    {
     "name": "stdout",
     "output_type": "stream",
     "text": [
      "2020-12-01 21:35:25,006 - root - WARNING\n",
      "Msg: APPENDING RESULT: <(etmek_Verb)(-)(et:verbRoot_S + tiğ:vPastPart_S + noun_S + a3sg_S + i:p3sg_S + nom_ST)>\n",
      "\n"
     ]
    },
    {
     "name": "stderr",
     "output_type": "stream",
     "text": [
      "WARNING:root:APPENDING RESULT: <(öğrenmek_Verb)(-)(öğren:verbRoot_S + il:vPass_S + verbRoot_S + di:vPast_S + vA3sg_ST)>\n"
     ]
    },
    {
     "name": "stdout",
     "output_type": "stream",
     "text": [
      "2020-12-01 21:35:25,022 - root - WARNING\n",
      "Msg: APPENDING RESULT: <(öğrenmek_Verb)(-)(öğren:verbRoot_S + il:vPass_S + verbRoot_S + di:vPast_S + vA3sg_ST)>\n",
      "\n"
     ]
    },
    {
     "name": "stderr",
     "output_type": "stream",
     "text": [
      "WARNING:root:APPENDING RESULT: <(._Punc)(-)(.:puncRoot_ST)>\n"
     ]
    },
    {
     "name": "stdout",
     "output_type": "stream",
     "text": [
      "2020-12-01 21:35:25,024 - root - WARNING\n",
      "Msg: APPENDING RESULT: <(._Punc)(-)(.:puncRoot_ST)>\n",
      "\n"
     ]
    },
    {
     "name": "stderr",
     "output_type": "stream",
     "text": [
      "WARNING:root:APPENDING RESULT: <(öte_Postp_PCAbl)(-)(öte:postpRoot_ST)>\n"
     ]
    },
    {
     "name": "stdout",
     "output_type": "stream",
     "text": [
      "2020-12-01 21:35:25,025 - root - WARNING\n",
      "Msg: APPENDING RESULT: <(öte_Postp_PCAbl)(-)(öte:postpRoot_ST)>\n",
      "\n"
     ]
    },
    {
     "name": "stderr",
     "output_type": "stream",
     "text": [
      "WARNING:root:APPENDING RESULT: <(ötmek_Verb)(-)(öt:verbRoot_S + e:vOpt_S + vA3sg_ST)>\n"
     ]
    },
    {
     "name": "stdout",
     "output_type": "stream",
     "text": [
      "2020-12-01 21:35:25,027 - root - WARNING\n",
      "Msg: APPENDING RESULT: <(ötmek_Verb)(-)(öt:verbRoot_S + e:vOpt_S + vA3sg_ST)>\n",
      "\n"
     ]
    },
    {
     "name": "stderr",
     "output_type": "stream",
     "text": [
      "WARNING:root:APPENDING RESULT: <(öte_Noun)(-)(öte:noun_S + a3sg_S + pnon_S + nom_ST)>\n"
     ]
    },
    {
     "name": "stdout",
     "output_type": "stream",
     "text": [
      "2020-12-01 21:35:25,028 - root - WARNING\n",
      "Msg: APPENDING RESULT: <(öte_Noun)(-)(öte:noun_S + a3sg_S + pnon_S + nom_ST)>\n",
      "\n"
     ]
    },
    {
     "name": "stderr",
     "output_type": "stream",
     "text": [
      "WARNING:root:APPENDING RESULT: <(öte_Noun)(-)(öte:noun_S + a3sg_S + pnon_S + dat_ST)>\n"
     ]
    },
    {
     "name": "stdout",
     "output_type": "stream",
     "text": [
      "2020-12-01 21:35:25,046 - root - WARNING\n",
      "Msg: APPENDING RESULT: <(öte_Noun)(-)(öte:noun_S + a3sg_S + pnon_S + dat_ST)>\n",
      "\n"
     ]
    },
    {
     "name": "stderr",
     "output_type": "stream",
     "text": [
      "WARNING:root:APPENDING RESULT: <(yan_Noun)(-)(yan:noun_S + a3sg_S + pnon_S + dan:abl_ST)>\n"
     ]
    },
    {
     "name": "stdout",
     "output_type": "stream",
     "text": [
      "2020-12-01 21:35:25,051 - root - WARNING\n",
      "Msg: APPENDING RESULT: <(yan_Noun)(-)(yan:noun_S + a3sg_S + pnon_S + dan:abl_ST)>\n",
      "\n"
     ]
    },
    {
     "name": "stderr",
     "output_type": "stream",
     "text": [
      "WARNING:root:APPENDING RESULT: <(son_Num)(-)(son:numeralRoot_ST)>\n"
     ]
    },
    {
     "name": "stdout",
     "output_type": "stream",
     "text": [
      "2020-12-01 21:35:25,054 - root - WARNING\n",
      "Msg: APPENDING RESULT: <(son_Num)(-)(son:numeralRoot_ST)>\n",
      "\n"
     ]
    },
    {
     "name": "stderr",
     "output_type": "stream",
     "text": [
      "WARNING:root:APPENDING RESULT: <(son_Adj)(-)(son:adjectiveRoot_ST)>\n"
     ]
    },
    {
     "name": "stdout",
     "output_type": "stream",
     "text": [
      "2020-12-01 21:35:25,055 - root - WARNING\n",
      "Msg: APPENDING RESULT: <(son_Adj)(-)(son:adjectiveRoot_ST)>\n",
      "\n"
     ]
    },
    {
     "name": "stderr",
     "output_type": "stream",
     "text": [
      "WARNING:root:APPENDING RESULT: <(son_Noun)(-)(son:noun_S + a3sg_S + pnon_S + nom_ST)>\n"
     ]
    },
    {
     "name": "stdout",
     "output_type": "stream",
     "text": [
      "2020-12-01 21:35:25,058 - root - WARNING\n",
      "Msg: APPENDING RESULT: <(son_Noun)(-)(son:noun_S + a3sg_S + pnon_S + nom_ST)>\n",
      "\n"
     ]
    },
    {
     "name": "stderr",
     "output_type": "stream",
     "text": [
      "WARNING:root:APPENDING RESULT: <(gün_Noun_Time)(-)(gün:noun_S + ler:a3pl_S + pnon_S + de:loc_ST)>\n"
     ]
    },
    {
     "name": "stdout",
     "output_type": "stream",
     "text": [
      "2020-12-01 21:35:25,065 - root - WARNING\n",
      "Msg: APPENDING RESULT: <(gün_Noun_Time)(-)(gün:noun_S + ler:a3pl_S + pnon_S + de:loc_ST)>\n",
      "\n"
     ]
    },
    {
     "name": "stderr",
     "output_type": "stream",
     "text": [
      "WARNING:root:APPENDING RESULT: <(art_Adj)(-)(art:adjectiveRoot_ST)>\n"
     ]
    },
    {
     "name": "stdout",
     "output_type": "stream",
     "text": [
      "2020-12-01 21:35:25,068 - root - WARNING\n",
      "Msg: APPENDING RESULT: <(art_Adj)(-)(art:adjectiveRoot_ST)>\n",
      "\n"
     ]
    },
    {
     "name": "stderr",
     "output_type": "stream",
     "text": [
      "WARNING:root:APPENDING RESULT: <(artmak_Verb)(-)(art:verbRoot_S + vImp_S + vA2sg_ST)>\n"
     ]
    },
    {
     "name": "stdout",
     "output_type": "stream",
     "text": [
      "2020-12-01 21:35:25,070 - root - WARNING\n",
      "Msg: APPENDING RESULT: <(artmak_Verb)(-)(art:verbRoot_S + vImp_S + vA2sg_ST)>\n",
      "\n"
     ]
    },
    {
     "name": "stderr",
     "output_type": "stream",
     "text": [
      "WARNING:root:APPENDING RESULT: <(art_Noun)(-)(art:noun_S + a3sg_S + pnon_S + nom_ST)>\n"
     ]
    },
    {
     "name": "stdout",
     "output_type": "stream",
     "text": [
      "2020-12-01 21:35:25,072 - root - WARNING\n",
      "Msg: APPENDING RESULT: <(art_Noun)(-)(art:noun_S + a3sg_S + pnon_S + nom_ST)>\n",
      "\n"
     ]
    },
    {
     "name": "stderr",
     "output_type": "stream",
     "text": [
      "WARNING:root:APPENDING RESULT: <(Ar_Noun_Prop)(-)(ar:nounProper_S + a3sg_S + pnon_S + da:loc_ST)>\n"
     ]
    },
    {
     "name": "stdout",
     "output_type": "stream",
     "text": [
      "2020-12-01 21:35:25,079 - root - WARNING\n",
      "Msg: APPENDING RESULT: <(Ar_Noun_Prop)(-)(ar:nounProper_S + a3sg_S + pnon_S + da:loc_ST)>\n",
      "\n"
     ]
    },
    {
     "name": "stderr",
     "output_type": "stream",
     "text": [
      "WARNING:root:APPENDING RESULT: <(ar_Noun)(-)(ar:noun_S + a3sg_S + pnon_S + da:loc_ST)>\n"
     ]
    },
    {
     "name": "stdout",
     "output_type": "stream",
     "text": [
      "2020-12-01 21:35:25,080 - root - WARNING\n",
      "Msg: APPENDING RESULT: <(ar_Noun)(-)(ar:noun_S + a3sg_S + pnon_S + da:loc_ST)>\n",
      "\n"
     ]
    },
    {
     "name": "stderr",
     "output_type": "stream",
     "text": [
      "WARNING:root:APPENDING RESULT: <(art_Noun)(-)(ard:noun_S + a3sg_S + pnon_S + a:dat_ST)>\n"
     ]
    },
    {
     "name": "stdout",
     "output_type": "stream",
     "text": [
      "2020-12-01 21:35:25,081 - root - WARNING\n",
      "Msg: APPENDING RESULT: <(art_Noun)(-)(ard:noun_S + a3sg_S + pnon_S + a:dat_ST)>\n",
      "\n"
     ]
    },
    {
     "name": "stderr",
     "output_type": "stream",
     "text": [
      "WARNING:root:APPENDING RESULT: <(arda_Noun)(-)(arda:noun_S + a3sg_S + pnon_S + nom_ST)>\n"
     ]
    },
    {
     "name": "stdout",
     "output_type": "stream",
     "text": [
      "2020-12-01 21:35:25,082 - root - WARNING\n",
      "Msg: APPENDING RESULT: <(arda_Noun)(-)(arda:noun_S + a3sg_S + pnon_S + nom_ST)>\n",
      "\n"
     ]
    },
    {
     "name": "stderr",
     "output_type": "stream",
     "text": [
      "WARNING:root:APPENDING RESULT: <(Arda_Noun_Prop)(-)(arda:nounProper_S + a3sg_S + pnon_S + nom_ST)>\n"
     ]
    },
    {
     "name": "stdout",
     "output_type": "stream",
     "text": [
      "2020-12-01 21:35:25,084 - root - WARNING\n",
      "Msg: APPENDING RESULT: <(Arda_Noun_Prop)(-)(arda:nounProper_S + a3sg_S + pnon_S + nom_ST)>\n",
      "\n"
     ]
    },
    {
     "name": "stderr",
     "output_type": "stream",
     "text": [
      "WARNING:root:APPENDING RESULT: <(art_Adj)(-)(ard:adjectiveRoot_ST + adjZeroDeriv_S + noun_S + a3sg_S + pnon_S + a:dat_ST)>\n"
     ]
    },
    {
     "name": "stdout",
     "output_type": "stream",
     "text": [
      "2020-12-01 21:35:25,087 - root - WARNING\n",
      "Msg: APPENDING RESULT: <(art_Adj)(-)(ard:adjectiveRoot_ST + adjZeroDeriv_S + noun_S + a3sg_S + pnon_S + a:dat_ST)>\n",
      "\n"
     ]
    },
    {
     "name": "stderr",
     "output_type": "stream",
     "text": [
      "WARNING:root:APPENDING RESULT: <(bin_Num_Card)(-)(bin:numeralRoot_ST)>\n"
     ]
    },
    {
     "name": "stdout",
     "output_type": "stream",
     "text": [
      "2020-12-01 21:35:25,089 - root - WARNING\n",
      "Msg: APPENDING RESULT: <(bin_Num_Card)(-)(bin:numeralRoot_ST)>\n",
      "\n"
     ]
    },
    {
     "name": "stderr",
     "output_type": "stream",
     "text": [
      "WARNING:root:APPENDING RESULT: <(binmek_Verb)(-)(bin:verbRoot_S + vImp_S + vA2sg_ST)>\n"
     ]
    },
    {
     "name": "stdout",
     "output_type": "stream",
     "text": [
      "2020-12-01 21:35:25,091 - root - WARNING\n",
      "Msg: APPENDING RESULT: <(binmek_Verb)(-)(bin:verbRoot_S + vImp_S + vA2sg_ST)>\n",
      "\n"
     ]
    },
    {
     "name": "stderr",
     "output_type": "stream",
     "text": [
      "WARNING:root:APPENDING RESULT: <(ve_Conj)(-)(ve:conjRoot_ST)>\n"
     ]
    },
    {
     "name": "stdout",
     "output_type": "stream",
     "text": [
      "2020-12-01 21:35:25,092 - root - WARNING\n",
      "Msg: APPENDING RESULT: <(ve_Conj)(-)(ve:conjRoot_ST)>\n",
      "\n"
     ]
    },
    {
     "name": "stderr",
     "output_type": "stream",
     "text": [
      "WARNING:root:APPENDING RESULT: <(Üzer_Noun_Prop)(-)(üzer:nounProper_S + a3sg_S + pnon_S + i:acc_ST)>\n"
     ]
    },
    {
     "name": "stdout",
     "output_type": "stream",
     "text": [
      "2020-12-01 21:35:25,095 - root - WARNING\n",
      "Msg: APPENDING RESULT: <(Üzer_Noun_Prop)(-)(üzer:nounProper_S + a3sg_S + pnon_S + i:acc_ST)>\n",
      "\n"
     ]
    },
    {
     "name": "stderr",
     "output_type": "stream",
     "text": [
      "WARNING:root:APPENDING RESULT: <(Üzer_Noun_Prop)(-)(üzer:nounProper_S + a3sg_S + i:p3sg_S + nom_ST)>\n"
     ]
    },
    {
     "name": "stdout",
     "output_type": "stream",
     "text": [
      "2020-12-01 21:35:25,096 - root - WARNING\n",
      "Msg: APPENDING RESULT: <(Üzer_Noun_Prop)(-)(üzer:nounProper_S + a3sg_S + i:p3sg_S + nom_ST)>\n",
      "\n"
     ]
    },
    {
     "name": "stderr",
     "output_type": "stream",
     "text": [
      "WARNING:root:APPENDING RESULT: <(yeni_Adv)(-)(yeni:advRoot_ST)>\n"
     ]
    },
    {
     "name": "stdout",
     "output_type": "stream",
     "text": [
      "2020-12-01 21:35:25,098 - root - WARNING\n",
      "Msg: APPENDING RESULT: <(yeni_Adv)(-)(yeni:advRoot_ST)>\n",
      "\n"
     ]
    },
    {
     "name": "stderr",
     "output_type": "stream",
     "text": [
      "WARNING:root:APPENDING RESULT: <(yeni_Adj)(-)(yeni:adjectiveRoot_ST)>\n"
     ]
    },
    {
     "name": "stdout",
     "output_type": "stream",
     "text": [
      "2020-12-01 21:35:25,100 - root - WARNING\n",
      "Msg: APPENDING RESULT: <(yeni_Adj)(-)(yeni:adjectiveRoot_ST)>\n",
      "\n"
     ]
    },
    {
     "name": "stderr",
     "output_type": "stream",
     "text": [
      "WARNING:root:APPENDING RESULT: <(yen_Noun)(-)(yen:noun_S + a3sg_S + pnon_S + i:acc_ST)>\n"
     ]
    },
    {
     "name": "stdout",
     "output_type": "stream",
     "text": [
      "2020-12-01 21:35:25,103 - root - WARNING\n",
      "Msg: APPENDING RESULT: <(yen_Noun)(-)(yen:noun_S + a3sg_S + pnon_S + i:acc_ST)>\n",
      "\n"
     ]
    },
    {
     "name": "stderr",
     "output_type": "stream",
     "text": [
      "WARNING:root:APPENDING RESULT: <(yen_Noun)(-)(yen:noun_S + a3sg_S + i:p3sg_S + nom_ST)>\n"
     ]
    },
    {
     "name": "stdout",
     "output_type": "stream",
     "text": [
      "2020-12-01 21:35:25,104 - root - WARNING\n",
      "Msg: APPENDING RESULT: <(yen_Noun)(-)(yen:noun_S + a3sg_S + i:p3sg_S + nom_ST)>\n",
      "\n"
     ]
    },
    {
     "name": "stderr",
     "output_type": "stream",
     "text": [
      "WARNING:root:APPENDING RESULT: <(enfeksiyon_Noun)(-)(enfeksiyon:noun_S + a3sg_S + pnon_S + un:gen_ST)>\n"
     ]
    },
    {
     "name": "stdout",
     "output_type": "stream",
     "text": [
      "2020-12-01 21:35:25,107 - root - WARNING\n",
      "Msg: APPENDING RESULT: <(enfeksiyon_Noun)(-)(enfeksiyon:noun_S + a3sg_S + pnon_S + un:gen_ST)>\n",
      "\n"
     ]
    },
    {
     "name": "stderr",
     "output_type": "stream",
     "text": [
      "WARNING:root:APPENDING RESULT: <(enfeksiyon_Noun)(-)(enfeksiyon:noun_S + a3sg_S + un:p2sg_S + nom_ST)>\n"
     ]
    },
    {
     "name": "stdout",
     "output_type": "stream",
     "text": [
      "2020-12-01 21:35:25,109 - root - WARNING\n",
      "Msg: APPENDING RESULT: <(enfeksiyon_Noun)(-)(enfeksiyon:noun_S + a3sg_S + un:p2sg_S + nom_ST)>\n",
      "\n"
     ]
    },
    {
     "name": "stderr",
     "output_type": "stream",
     "text": [
      "WARNING:root:APPENDING RESULT: <(doğru_Adj)(-)(doğru:adjectiveRoot_ST + lan:acquire_S + verbRoot_S + dığ:vPastPart_S + adjAfterVerb_S + ı:aP3sg_ST)>\n"
     ]
    },
    {
     "name": "stdout",
     "output_type": "stream",
     "text": [
      "2020-12-01 21:35:25,123 - root - WARNING\n",
      "Msg: APPENDING RESULT: <(doğru_Adj)(-)(doğru:adjectiveRoot_ST + lan:acquire_S + verbRoot_S + dığ:vPastPart_S + adjAfterVerb_S + ı:aP3sg_ST)>\n",
      "\n"
     ]
    },
    {
     "name": "stderr",
     "output_type": "stream",
     "text": [
      "WARNING:root:APPENDING RESULT: <(doğrulamak_Verb)(-)(doğrula:verbRoot_S + n:vPass_S + verbRoot_S + dığ:vPastPart_S + adjAfterVerb_S + ı:aP3sg_ST)>\n"
     ]
    },
    {
     "name": "stdout",
     "output_type": "stream",
     "text": [
      "2020-12-01 21:35:25,125 - root - WARNING\n",
      "Msg: APPENDING RESULT: <(doğrulamak_Verb)(-)(doğrula:verbRoot_S + n:vPass_S + verbRoot_S + dığ:vPastPart_S + adjAfterVerb_S + ı:aP3sg_ST)>\n",
      "\n"
     ]
    },
    {
     "name": "stderr",
     "output_type": "stream",
     "text": [
      "WARNING:root:APPENDING RESULT: <(doğru_Adj)(-)(doğru:adjectiveRoot_ST + lan:acquire_S + verbRoot_S + dığ:vPastPart_S + noun_S + a3sg_S + pnon_S + ı:acc_ST)>\n"
     ]
    },
    {
     "name": "stdout",
     "output_type": "stream",
     "text": [
      "2020-12-01 21:35:25,128 - root - WARNING\n",
      "Msg: APPENDING RESULT: <(doğru_Adj)(-)(doğru:adjectiveRoot_ST + lan:acquire_S + verbRoot_S + dığ:vPastPart_S + noun_S + a3sg_S + pnon_S + ı:acc_ST)>\n",
      "\n"
     ]
    },
    {
     "name": "stderr",
     "output_type": "stream",
     "text": [
      "WARNING:root:APPENDING RESULT: <(doğru_Adj)(-)(doğru:adjectiveRoot_ST + lan:acquire_S + verbRoot_S + dığ:vPastPart_S + noun_S + a3sg_S + ı:p3sg_S + nom_ST)>\n"
     ]
    },
    {
     "name": "stdout",
     "output_type": "stream",
     "text": [
      "2020-12-01 21:35:25,129 - root - WARNING\n",
      "Msg: APPENDING RESULT: <(doğru_Adj)(-)(doğru:adjectiveRoot_ST + lan:acquire_S + verbRoot_S + dığ:vPastPart_S + noun_S + a3sg_S + ı:p3sg_S + nom_ST)>\n",
      "\n"
     ]
    },
    {
     "name": "stderr",
     "output_type": "stream",
     "text": [
      "WARNING:root:APPENDING RESULT: <(doğrulamak_Verb)(-)(doğrula:verbRoot_S + n:vPass_S + verbRoot_S + dığ:vPastPart_S + noun_S + a3sg_S + pnon_S + ı:acc_ST)>\n"
     ]
    },
    {
     "name": "stdout",
     "output_type": "stream",
     "text": [
      "2020-12-01 21:35:25,130 - root - WARNING\n",
      "Msg: APPENDING RESULT: <(doğrulamak_Verb)(-)(doğrula:verbRoot_S + n:vPass_S + verbRoot_S + dığ:vPastPart_S + noun_S + a3sg_S + pnon_S + ı:acc_ST)>\n",
      "\n"
     ]
    },
    {
     "name": "stderr",
     "output_type": "stream",
     "text": [
      "WARNING:root:APPENDING RESULT: <(doğrulamak_Verb)(-)(doğrula:verbRoot_S + n:vPass_S + verbRoot_S + dığ:vPastPart_S + noun_S + a3sg_S + ı:p3sg_S + nom_ST)>\n"
     ]
    },
    {
     "name": "stdout",
     "output_type": "stream",
     "text": [
      "2020-12-01 21:35:25,132 - root - WARNING\n",
      "Msg: APPENDING RESULT: <(doğrulamak_Verb)(-)(doğrula:verbRoot_S + n:vPass_S + verbRoot_S + dığ:vPastPart_S + noun_S + a3sg_S + ı:p3sg_S + nom_ST)>\n",
      "\n"
     ]
    },
    {
     "name": "stderr",
     "output_type": "stream",
     "text": [
      "WARNING:root:APPENDING RESULT: <(doğru_Noun)(-)(doğru:noun_S + a3sg_S + pnon_S + nom_ST + lan:acquire_S + verbRoot_S + dığ:vPastPart_S + adjAfterVerb_S + ı:aP3sg_ST)>\n"
     ]
    },
    {
     "name": "stdout",
     "output_type": "stream",
     "text": [
      "2020-12-01 21:35:25,133 - root - WARNING\n",
      "Msg: APPENDING RESULT: <(doğru_Noun)(-)(doğru:noun_S + a3sg_S + pnon_S + nom_ST + lan:acquire_S + verbRoot_S + dığ:vPastPart_S + adjAfterVerb_S + ı:aP3sg_ST)>\n",
      "\n"
     ]
    },
    {
     "name": "stderr",
     "output_type": "stream",
     "text": [
      "WARNING:root:APPENDING RESULT: <(doğru_Noun)(-)(doğru:noun_S + a3sg_S + pnon_S + nom_ST + lan:acquire_S + verbRoot_S + dığ:vPastPart_S + noun_S + a3sg_S + pnon_S + ı:acc_ST)>\n"
     ]
    },
    {
     "name": "stdout",
     "output_type": "stream",
     "text": [
      "2020-12-01 21:35:25,137 - root - WARNING\n",
      "Msg: APPENDING RESULT: <(doğru_Noun)(-)(doğru:noun_S + a3sg_S + pnon_S + nom_ST + lan:acquire_S + verbRoot_S + dığ:vPastPart_S + noun_S + a3sg_S + pnon_S + ı:acc_ST)>\n",
      "\n"
     ]
    },
    {
     "name": "stderr",
     "output_type": "stream",
     "text": [
      "WARNING:root:APPENDING RESULT: <(doğru_Noun)(-)(doğru:noun_S + a3sg_S + pnon_S + nom_ST + lan:acquire_S + verbRoot_S + dığ:vPastPart_S + noun_S + a3sg_S + ı:p3sg_S + nom_ST)>\n"
     ]
    },
    {
     "name": "stdout",
     "output_type": "stream",
     "text": [
      "2020-12-01 21:35:25,139 - root - WARNING\n",
      "Msg: APPENDING RESULT: <(doğru_Noun)(-)(doğru:noun_S + a3sg_S + pnon_S + nom_ST + lan:acquire_S + verbRoot_S + dığ:vPastPart_S + noun_S + a3sg_S + ı:p3sg_S + nom_ST)>\n",
      "\n"
     ]
    },
    {
     "name": "stderr",
     "output_type": "stream",
     "text": [
      "WARNING:root:APPENDING RESULT: <(Japonya_Noun_Prop)(-)(japonya:nounProper_S + a3sg_S + pnon_S + da:loc_ST)>\n"
     ]
    },
    {
     "name": "stdout",
     "output_type": "stream",
     "text": [
      "2020-12-01 21:35:25,142 - root - WARNING\n",
      "Msg: APPENDING RESULT: <(Japonya_Noun_Prop)(-)(japonya:nounProper_S + a3sg_S + pnon_S + da:loc_ST)>\n",
      "\n"
     ]
    },
    {
     "name": "stderr",
     "output_type": "stream",
     "text": [
      "WARNING:root:APPENDING RESULT: <(dün_Adv)(-)(dün:advRoot_ST)>\n"
     ]
    },
    {
     "name": "stdout",
     "output_type": "stream",
     "text": [
      "2020-12-01 21:35:25,144 - root - WARNING\n",
      "Msg: APPENDING RESULT: <(dün_Adv)(-)(dün:advRoot_ST)>\n",
      "\n"
     ]
    },
    {
     "name": "stderr",
     "output_type": "stream",
     "text": [
      "WARNING:root:APPENDING RESULT: <(dü_Noun)(-)(dü:noun_S + a3sg_S + n:p2sg_S + nom_ST)>\n"
     ]
    },
    {
     "name": "stdout",
     "output_type": "stream",
     "text": [
      "2020-12-01 21:35:25,146 - root - WARNING\n",
      "Msg: APPENDING RESULT: <(dü_Noun)(-)(dü:noun_S + a3sg_S + n:p2sg_S + nom_ST)>\n",
      "\n"
     ]
    },
    {
     "name": "stderr",
     "output_type": "stream",
     "text": [
      "WARNING:root:APPENDING RESULT: <(dün_Noun_Time)(-)(dün:noun_S + a3sg_S + pnon_S + nom_ST)>\n"
     ]
    },
    {
     "name": "stdout",
     "output_type": "stream",
     "text": [
      "2020-12-01 21:35:25,147 - root - WARNING\n",
      "Msg: APPENDING RESULT: <(dün_Noun_Time)(-)(dün:noun_S + a3sg_S + pnon_S + nom_ST)>\n",
      "\n"
     ]
    },
    {
     "name": "stderr",
     "output_type": "stream",
     "text": [
      "WARNING:root:APPENDING RESULT: <(ülke_Noun)(-)(ülke:noun_S + a3sg_S + pnon_S + nom_ST)>\n"
     ]
    },
    {
     "name": "stdout",
     "output_type": "stream",
     "text": [
      "2020-12-01 21:35:25,149 - root - WARNING\n",
      "Msg: APPENDING RESULT: <(ülke_Noun)(-)(ülke:noun_S + a3sg_S + pnon_S + nom_ST)>\n",
      "\n"
     ]
    },
    {
     "name": "stderr",
     "output_type": "stream",
     "text": [
      "WARNING:root:APPENDING RESULT: <(Ülke_Noun_Prop)(-)(ülke:nounProper_S + a3sg_S + pnon_S + nom_ST)>\n"
     ]
    },
    {
     "name": "stdout",
     "output_type": "stream",
     "text": [
      "2020-12-01 21:35:25,151 - root - WARNING\n",
      "Msg: APPENDING RESULT: <(Ülke_Noun_Prop)(-)(ülke:nounProper_S + a3sg_S + pnon_S + nom_ST)>\n",
      "\n"
     ]
    },
    {
     "name": "stderr",
     "output_type": "stream",
     "text": [
      "WARNING:root:APPENDING RESULT: <(genel_Adj)(-)(genel:adjectiveRoot_ST + adjZeroDeriv_S + noun_S + a3sg_S + pnon_S + i:acc_ST)>\n"
     ]
    },
    {
     "name": "stdout",
     "output_type": "stream",
     "text": [
      "2020-12-01 21:35:25,157 - root - WARNING\n",
      "Msg: APPENDING RESULT: <(genel_Adj)(-)(genel:adjectiveRoot_ST + adjZeroDeriv_S + noun_S + a3sg_S + pnon_S + i:acc_ST)>\n",
      "\n"
     ]
    },
    {
     "name": "stderr",
     "output_type": "stream",
     "text": [
      "WARNING:root:APPENDING RESULT: <(genel_Adj)(-)(genel:adjectiveRoot_ST + adjZeroDeriv_S + noun_S + a3sg_S + i:p3sg_S + nom_ST)>\n"
     ]
    },
    {
     "name": "stdout",
     "output_type": "stream",
     "text": [
      "2020-12-01 21:35:25,158 - root - WARNING\n",
      "Msg: APPENDING RESULT: <(genel_Adj)(-)(genel:adjectiveRoot_ST + adjZeroDeriv_S + noun_S + a3sg_S + i:p3sg_S + nom_ST)>\n",
      "\n"
     ]
    },
    {
     "name": "stderr",
     "output_type": "stream",
     "text": [
      "WARNING:root:APPENDING RESULT: <(vaka_Noun)(-)(vaka:noun_S + a3sg_S + pnon_S + nom_ST)>\n"
     ]
    },
    {
     "name": "stdout",
     "output_type": "stream",
     "text": [
      "2020-12-01 21:35:25,161 - root - WARNING\n",
      "Msg: APPENDING RESULT: <(vaka_Noun)(-)(vaka:noun_S + a3sg_S + pnon_S + nom_ST)>\n",
      "\n"
     ]
    },
    {
     "name": "stderr",
     "output_type": "stream",
     "text": [
      "WARNING:root:APPENDING RESULT: <(sayı_Noun)(-)(sayı:noun_S + a3sg_S + sı:p3sg_S + nom_ST)>\n"
     ]
    },
    {
     "name": "stdout",
     "output_type": "stream",
     "text": [
      "2020-12-01 21:35:25,164 - root - WARNING\n",
      "Msg: APPENDING RESULT: <(sayı_Noun)(-)(sayı:noun_S + a3sg_S + sı:p3sg_S + nom_ST)>\n",
      "\n"
     ]
    },
    {
     "name": "stderr",
     "output_type": "stream",
     "text": [
      "WARNING:root:APPENDING RESULT: <(bin_Num_Card)(-)(bin:numeralRoot_ST)>\n"
     ]
    },
    {
     "name": "stdout",
     "output_type": "stream",
     "text": [
      "2020-12-01 21:35:25,166 - root - WARNING\n",
      "Msg: APPENDING RESULT: <(bin_Num_Card)(-)(bin:numeralRoot_ST)>\n",
      "\n"
     ]
    },
    {
     "name": "stderr",
     "output_type": "stream",
     "text": [
      "WARNING:root:APPENDING RESULT: <(binmek_Verb)(-)(bin:verbRoot_S + vImp_S + vA2sg_ST)>\n"
     ]
    },
    {
     "name": "stdout",
     "output_type": "stream",
     "text": [
      "2020-12-01 21:35:25,168 - root - WARNING\n",
      "Msg: APPENDING RESULT: <(binmek_Verb)(-)(bin:verbRoot_S + vImp_S + vA2sg_ST)>\n",
      "\n"
     ]
    },
    {
     "name": "stderr",
     "output_type": "stream",
     "text": [
      "WARNING:root:APPENDING RESULT: <(olmak_Verb)(-)(ol:verbRoot_S + ur:vAor_S + ken:vWhile_S + advRoot_ST)>\n"
     ]
    },
    {
     "name": "stdout",
     "output_type": "stream",
     "text": [
      "2020-12-01 21:35:25,172 - root - WARNING\n",
      "Msg: APPENDING RESULT: <(olmak_Verb)(-)(ol:verbRoot_S + ur:vAor_S + ken:vWhile_S + advRoot_ST)>\n",
      "\n"
     ]
    },
    {
     "name": "stderr",
     "output_type": "stream",
     "text": [
      "WARNING:root:APPENDING RESULT: <(olur_Adj)(-)(olur:adjectiveRoot_ST + adjZeroDeriv_S + nVerb_S + ken:vWhile_S + advRoot_ST)>\n"
     ]
    },
    {
     "name": "stdout",
     "output_type": "stream",
     "text": [
      "2020-12-01 21:35:25,176 - root - WARNING\n",
      "Msg: APPENDING RESULT: <(olur_Adj)(-)(olur:adjectiveRoot_ST + adjZeroDeriv_S + nVerb_S + ken:vWhile_S + advRoot_ST)>\n",
      "\n"
     ]
    },
    {
     "name": "stderr",
     "output_type": "stream",
     "text": [
      "WARNING:root:APPENDING RESULT: <(olur_Noun)(-)(olur:noun_S + a3sg_S + pnon_S + nom_ST + nounZeroDeriv_S + nVerb_S + ken:vWhile_S + advRoot_ST)>\n"
     ]
    },
    {
     "name": "stdout",
     "output_type": "stream",
     "text": [
      "2020-12-01 21:35:25,178 - root - WARNING\n",
      "Msg: APPENDING RESULT: <(olur_Noun)(-)(olur:noun_S + a3sg_S + pnon_S + nom_ST + nounZeroDeriv_S + nVerb_S + ken:vWhile_S + advRoot_ST)>\n",
      "\n"
     ]
    },
    {
     "name": "stderr",
     "output_type": "stream",
     "text": [
      "WARNING:root:APPENDING RESULT: <(Olur_Noun_Prop)(-)(olur:nounProper_S + a3sg_S + pnon_S + nom_ST + nounZeroDeriv_S + nVerb_S + ken:vWhile_S + advRoot_ST)>\n"
     ]
    },
    {
     "name": "stdout",
     "output_type": "stream",
     "text": [
      "2020-12-01 21:35:25,180 - root - WARNING\n",
      "Msg: APPENDING RESULT: <(Olur_Noun_Prop)(-)(olur:nounProper_S + a3sg_S + pnon_S + nom_ST + nounZeroDeriv_S + nVerb_S + ken:vWhile_S + advRoot_ST)>\n",
      "\n"
     ]
    },
    {
     "name": "stderr",
     "output_type": "stream",
     "text": [
      "WARNING:root:APPENDING RESULT: <(,_Punc)(-)(,:puncRoot_ST)>\n"
     ]
    },
    {
     "name": "stdout",
     "output_type": "stream",
     "text": [
      "2020-12-01 21:35:25,183 - root - WARNING\n",
      "Msg: APPENDING RESULT: <(,_Punc)(-)(,:puncRoot_ST)>\n",
      "\n"
     ]
    },
    {
     "name": "stderr",
     "output_type": "stream",
     "text": [
      "WARNING:root:APPENDING RESULT: <(eyalet_Noun)(-)(eyalet:noun_S + a3sg_S + pnon_S + in:gen_ST)>\n"
     ]
    },
    {
     "name": "stdout",
     "output_type": "stream",
     "text": [
      "2020-12-01 21:35:25,186 - root - WARNING\n",
      "Msg: APPENDING RESULT: <(eyalet_Noun)(-)(eyalet:noun_S + a3sg_S + pnon_S + in:gen_ST)>\n",
      "\n"
     ]
    },
    {
     "name": "stderr",
     "output_type": "stream",
     "text": [
      "WARNING:root:APPENDING RESULT: <(eyalet_Noun)(-)(eyalet:noun_S + a3sg_S + in:p2sg_S + nom_ST)>\n"
     ]
    },
    {
     "name": "stdout",
     "output_type": "stream",
     "text": [
      "2020-12-01 21:35:25,187 - root - WARNING\n",
      "Msg: APPENDING RESULT: <(eyalet_Noun)(-)(eyalet:noun_S + a3sg_S + in:p2sg_S + nom_ST)>\n",
      "\n"
     ]
    },
    {
     "name": "stderr",
     "output_type": "stream",
     "text": [
      "WARNING:root:APPENDING RESULT: <(günlük_Adj)(-)(günlük:adjectiveRoot_ST)>\n"
     ]
    },
    {
     "name": "stdout",
     "output_type": "stream",
     "text": [
      "2020-12-01 21:35:25,190 - root - WARNING\n",
      "Msg: APPENDING RESULT: <(günlük_Adj)(-)(günlük:adjectiveRoot_ST)>\n",
      "\n"
     ]
    },
    {
     "name": "stderr",
     "output_type": "stream",
     "text": [
      "WARNING:root:APPENDING RESULT: <(günlük_Noun)(-)(günlük:noun_S + a3sg_S + pnon_S + nom_ST)>\n"
     ]
    },
    {
     "name": "stdout",
     "output_type": "stream",
     "text": [
      "2020-12-01 21:35:25,193 - root - WARNING\n",
      "Msg: APPENDING RESULT: <(günlük_Noun)(-)(günlük:noun_S + a3sg_S + pnon_S + nom_ST)>\n",
      "\n"
     ]
    },
    {
     "name": "stderr",
     "output_type": "stream",
     "text": [
      "WARNING:root:APPENDING RESULT: <(gün_Noun_Time)(-)(gün:noun_S + a3sg_S + pnon_S + nom_ST + lük:ness_S + noun_S + a3sg_S + pnon_S + nom_ST)>\n"
     ]
    },
    {
     "name": "stdout",
     "output_type": "stream",
     "text": [
      "2020-12-01 21:35:25,195 - root - WARNING\n",
      "Msg: APPENDING RESULT: <(gün_Noun_Time)(-)(gün:noun_S + a3sg_S + pnon_S + nom_ST + lük:ness_S + noun_S + a3sg_S + pnon_S + nom_ST)>\n",
      "\n"
     ]
    },
    {
     "name": "stderr",
     "output_type": "stream",
     "text": [
      "WARNING:root:APPENDING RESULT: <(vaka_Noun)(-)(vaka:noun_S + a3sg_S + pnon_S + nom_ST)>\n"
     ]
    },
    {
     "name": "stdout",
     "output_type": "stream",
     "text": [
      "2020-12-01 21:35:25,198 - root - WARNING\n",
      "Msg: APPENDING RESULT: <(vaka_Noun)(-)(vaka:noun_S + a3sg_S + pnon_S + nom_ST)>\n",
      "\n"
     ]
    },
    {
     "name": "stderr",
     "output_type": "stream",
     "text": [
      "WARNING:root:APPENDING RESULT: <(rekor_Noun)(-)(rekor:noun_S + a3sg_S + pnon_S + u:acc_ST)>\n"
     ]
    },
    {
     "name": "stdout",
     "output_type": "stream",
     "text": [
      "2020-12-01 21:35:25,201 - root - WARNING\n",
      "Msg: APPENDING RESULT: <(rekor_Noun)(-)(rekor:noun_S + a3sg_S + pnon_S + u:acc_ST)>\n",
      "\n"
     ]
    },
    {
     "name": "stderr",
     "output_type": "stream",
     "text": [
      "WARNING:root:APPENDING RESULT: <(rekor_Noun)(-)(rekor:noun_S + a3sg_S + u:p3sg_S + nom_ST)>\n"
     ]
    },
    {
     "name": "stdout",
     "output_type": "stream",
     "text": [
      "2020-12-01 21:35:25,202 - root - WARNING\n",
      "Msg: APPENDING RESULT: <(rekor_Noun)(-)(rekor:noun_S + a3sg_S + u:p3sg_S + nom_ST)>\n",
      "\n"
     ]
    },
    {
     "name": "stderr",
     "output_type": "stream",
     "text": [
      "WARNING:root:APPENDING RESULT: <(kırmak_Verb)(-)(kır:verbRoot_S + ıl:vPass_S + verbRoot_S + dı:vPast_S + vA3sg_ST)>\n"
     ]
    },
    {
     "name": "stdout",
     "output_type": "stream",
     "text": [
      "2020-12-01 21:35:25,208 - root - WARNING\n",
      "Msg: APPENDING RESULT: <(kırmak_Verb)(-)(kır:verbRoot_S + ıl:vPass_S + verbRoot_S + dı:vPast_S + vA3sg_ST)>\n",
      "\n"
     ]
    },
    {
     "name": "stderr",
     "output_type": "stream",
     "text": [
      "WARNING:root:APPENDING RESULT: <(._Punc)(-)(.:puncRoot_ST)>\n"
     ]
    },
    {
     "name": "stdout",
     "output_type": "stream",
     "text": [
      "2020-12-01 21:35:25,212 - root - WARNING\n",
      "Msg: APPENDING RESULT: <(._Punc)(-)(.:puncRoot_ST)>\n",
      "\n"
     ]
    },
    {
     "name": "stderr",
     "output_type": "stream",
     "text": [
      "WARNING:root:APPENDING RESULT: <(bin_Num_Card)(-)(bin:numeralRoot_ST)>\n"
     ]
    },
    {
     "name": "stdout",
     "output_type": "stream",
     "text": [
      "2020-12-01 21:35:25,214 - root - WARNING\n",
      "Msg: APPENDING RESULT: <(bin_Num_Card)(-)(bin:numeralRoot_ST)>\n",
      "\n"
     ]
    },
    {
     "name": "stderr",
     "output_type": "stream",
     "text": [
      "WARNING:root:APPENDING RESULT: <(binmek_Verb)(-)(bin:verbRoot_S + vImp_S + vA2sg_ST)>\n"
     ]
    },
    {
     "name": "stdout",
     "output_type": "stream",
     "text": [
      "2020-12-01 21:35:25,216 - root - WARNING\n",
      "Msg: APPENDING RESULT: <(binmek_Verb)(-)(bin:verbRoot_S + vImp_S + vA2sg_ST)>\n",
      "\n"
     ]
    },
    {
     "name": "stderr",
     "output_type": "stream",
     "text": [
      "WARNING:root:APPENDING RESULT: <(toplam_Noun)(-)(toplam:noun_S + a3sg_S + pnon_S + nom_ST)>\n"
     ]
    },
    {
     "name": "stdout",
     "output_type": "stream",
     "text": [
      "2020-12-01 21:35:25,220 - root - WARNING\n",
      "Msg: APPENDING RESULT: <(toplam_Noun)(-)(toplam:noun_S + a3sg_S + pnon_S + nom_ST)>\n",
      "\n"
     ]
    },
    {
     "name": "stderr",
     "output_type": "stream",
     "text": [
      "WARNING:root:APPENDING RESULT: <(enfeksiyon_Noun)(-)(enfeksiyon:noun_S + a3sg_S + pnon_S + nom_ST)>\n"
     ]
    },
    {
     "name": "stdout",
     "output_type": "stream",
     "text": [
      "2020-12-01 21:35:25,224 - root - WARNING\n",
      "Msg: APPENDING RESULT: <(enfeksiyon_Noun)(-)(enfeksiyon:noun_S + a3sg_S + pnon_S + nom_ST)>\n",
      "\n"
     ]
    },
    {
     "name": "stderr",
     "output_type": "stream",
     "text": [
      "WARNING:root:APPENDING RESULT: <(sayı_Noun)(-)(sayı:noun_S + a3sg_S + sı:p3sg_S + na:dat_ST)>\n"
     ]
    },
    {
     "name": "stdout",
     "output_type": "stream",
     "text": [
      "2020-12-01 21:35:25,228 - root - WARNING\n",
      "Msg: APPENDING RESULT: <(sayı_Noun)(-)(sayı:noun_S + a3sg_S + sı:p3sg_S + na:dat_ST)>\n",
      "\n"
     ]
    },
    {
     "name": "stderr",
     "output_type": "stream",
     "text": [
      "WARNING:root:APPENDING RESULT: <(ulaşmak_Verb)(-)(ulaş:verbRoot_S + an:vPresPart_S + adjAfterVerb_ST)>\n"
     ]
    },
    {
     "name": "stdout",
     "output_type": "stream",
     "text": [
      "2020-12-01 21:35:25,232 - root - WARNING\n",
      "Msg: APPENDING RESULT: <(ulaşmak_Verb)(-)(ulaş:verbRoot_S + an:vPresPart_S + adjAfterVerb_ST)>\n",
      "\n"
     ]
    },
    {
     "name": "stderr",
     "output_type": "stream",
     "text": [
      "WARNING:root:APPENDING RESULT: <(U_Noun_Abbrv)(-)(u:nounAbbrv_S + a3sg_S + pnon_S + nom_ST + laş:become_S + verbRoot_S + an:vPresPart_S + adjAfterVerb_ST)>\n"
     ]
    },
    {
     "name": "stdout",
     "output_type": "stream",
     "text": [
      "2020-12-01 21:35:25,236 - root - WARNING\n",
      "Msg: APPENDING RESULT: <(U_Noun_Abbrv)(-)(u:nounAbbrv_S + a3sg_S + pnon_S + nom_ST + laş:become_S + verbRoot_S + an:vPresPart_S + adjAfterVerb_ST)>\n",
      "\n"
     ]
    },
    {
     "name": "stderr",
     "output_type": "stream",
     "text": [
      "WARNING:root:APPENDING RESULT: <(Japonya_Noun_Prop)(-)(japonya:nounProper_S + a3sg_S + pnon_S + da:loc_ST)>\n"
     ]
    },
    {
     "name": "stdout",
     "output_type": "stream",
     "text": [
      "2020-12-01 21:35:25,239 - root - WARNING\n",
      "Msg: APPENDING RESULT: <(Japonya_Noun_Prop)(-)(japonya:nounProper_S + a3sg_S + pnon_S + da:loc_ST)>\n",
      "\n"
     ]
    },
    {
     "name": "stderr",
     "output_type": "stream",
     "text": [
      "WARNING:root:APPENDING RESULT: <(tokyo_Noun)(-)(tokyo:noun_S + a3sg_S + pnon_S + dan:abl_ST)>\n"
     ]
    },
    {
     "name": "stdout",
     "output_type": "stream",
     "text": [
      "2020-12-01 21:35:25,243 - root - WARNING\n",
      "Msg: APPENDING RESULT: <(tokyo_Noun)(-)(tokyo:noun_S + a3sg_S + pnon_S + dan:abl_ST)>\n",
      "\n"
     ]
    },
    {
     "name": "stderr",
     "output_type": "stream",
     "text": [
      "WARNING:root:APPENDING RESULT: <(bugün_Adv)(-)(bugün:advRoot_ST)>\n"
     ]
    },
    {
     "name": "stdout",
     "output_type": "stream",
     "text": [
      "2020-12-01 21:35:25,247 - root - WARNING\n",
      "Msg: APPENDING RESULT: <(bugün_Adv)(-)(bugün:advRoot_ST)>\n",
      "\n"
     ]
    },
    {
     "name": "stderr",
     "output_type": "stream",
     "text": [
      "WARNING:root:APPENDING RESULT: <(bugün_Noun_Time)(-)(bugün:noun_S + a3sg_S + pnon_S + nom_ST)>\n"
     ]
    },
    {
     "name": "stdout",
     "output_type": "stream",
     "text": [
      "2020-12-01 21:35:25,250 - root - WARNING\n",
      "Msg: APPENDING RESULT: <(bugün_Noun_Time)(-)(bugün:noun_S + a3sg_S + pnon_S + nom_ST)>\n",
      "\n"
     ]
    },
    {
     "name": "stderr",
     "output_type": "stream",
     "text": [
      "WARNING:root:APPENDING RESULT: <(de_Conj)(-)(de:conjRoot_ST)>\n"
     ]
    },
    {
     "name": "stdout",
     "output_type": "stream",
     "text": [
      "2020-12-01 21:35:25,252 - root - WARNING\n",
      "Msg: APPENDING RESULT: <(de_Conj)(-)(de:conjRoot_ST)>\n",
      "\n"
     ]
    },
    {
     "name": "stderr",
     "output_type": "stream",
     "text": [
      "WARNING:root:APPENDING RESULT: <(demek_Verb)(-)(de:vDeYeRoot_S + vImp_S + vA2sg_ST)>\n"
     ]
    },
    {
     "name": "stdout",
     "output_type": "stream",
     "text": [
      "2020-12-01 21:35:25,255 - root - WARNING\n",
      "Msg: APPENDING RESULT: <(demek_Verb)(-)(de:vDeYeRoot_S + vImp_S + vA2sg_ST)>\n",
      "\n"
     ]
    },
    {
     "name": "stderr",
     "output_type": "stream",
     "text": [
      "WARNING:root:APPENDING RESULT: <(de_Noun)(-)(de:noun_S + a3sg_S + pnon_S + nom_ST)>\n"
     ]
    },
    {
     "name": "stdout",
     "output_type": "stream",
     "text": [
      "2020-12-01 21:35:25,256 - root - WARNING\n",
      "Msg: APPENDING RESULT: <(de_Noun)(-)(de:noun_S + a3sg_S + pnon_S + nom_ST)>\n",
      "\n"
     ]
    },
    {
     "name": "stderr",
     "output_type": "stream",
     "text": [
      "WARNING:root:APPENDING RESULT: <(kötü_Adv)(-)(kötü:advRoot_ST)>\n"
     ]
    },
    {
     "name": "stdout",
     "output_type": "stream",
     "text": [
      "2020-12-01 21:35:25,258 - root - WARNING\n",
      "Msg: APPENDING RESULT: <(kötü_Adv)(-)(kötü:advRoot_ST)>\n",
      "\n"
     ]
    },
    {
     "name": "stderr",
     "output_type": "stream",
     "text": [
      "WARNING:root:APPENDING RESULT: <(kötü_Adj)(-)(kötü:adjectiveRoot_ST)>\n"
     ]
    },
    {
     "name": "stdout",
     "output_type": "stream",
     "text": [
      "2020-12-01 21:35:25,259 - root - WARNING\n",
      "Msg: APPENDING RESULT: <(kötü_Adj)(-)(kötü:adjectiveRoot_ST)>\n",
      "\n"
     ]
    },
    {
     "name": "stderr",
     "output_type": "stream",
     "text": [
      "WARNING:root:APPENDING RESULT: <(haber_Noun)(-)(haber:noun_S + a3sg_S + pnon_S + nom_ST)>\n"
     ]
    },
    {
     "name": "stdout",
     "output_type": "stream",
     "text": [
      "2020-12-01 21:35:25,262 - root - WARNING\n",
      "Msg: APPENDING RESULT: <(haber_Noun)(-)(haber:noun_S + a3sg_S + pnon_S + nom_ST)>\n",
      "\n"
     ]
    },
    {
     "name": "stderr",
     "output_type": "stream",
     "text": [
      "WARNING:root:APPENDING RESULT: <(gelmek_Verb)(-)(gel:verbRoot_S + di:vPast_S + vA3sg_ST)>\n"
     ]
    },
    {
     "name": "stdout",
     "output_type": "stream",
     "text": [
      "2020-12-01 21:35:25,266 - root - WARNING\n",
      "Msg: APPENDING RESULT: <(gelmek_Verb)(-)(gel:verbRoot_S + di:vPast_S + vA3sg_ST)>\n",
      "\n"
     ]
    },
    {
     "name": "stderr",
     "output_type": "stream",
     "text": [
      "WARNING:root:APPENDING RESULT: <(._Punc)(-)(.:puncRoot_ST)>\n"
     ]
    },
    {
     "name": "stdout",
     "output_type": "stream",
     "text": [
      "2020-12-01 21:35:25,269 - root - WARNING\n",
      "Msg: APPENDING RESULT: <(._Punc)(-)(.:puncRoot_ST)>\n",
      "\n"
     ]
    },
    {
     "name": "stderr",
     "output_type": "stream",
     "text": [
      "WARNING:root:APPENDING RESULT: <(başkent_Noun)(-)(başkent:noun_S + a3sg_S + pnon_S + te:loc_ST)>\n"
     ]
    },
    {
     "name": "stdout",
     "output_type": "stream",
     "text": [
      "2020-12-01 21:35:25,272 - root - WARNING\n",
      "Msg: APPENDING RESULT: <(başkent_Noun)(-)(başkent:noun_S + a3sg_S + pnon_S + te:loc_ST)>\n",
      "\n"
     ]
    },
    {
     "name": "stderr",
     "output_type": "stream",
     "text": [
      "WARNING:root:APPENDING RESULT: <(öğle_Noun)(-)(öğle:noun_S + a3sg_S + pnon_S + nom_ST)>\n"
     ]
    },
    {
     "name": "stdout",
     "output_type": "stream",
     "text": [
      "2020-12-01 21:35:25,277 - root - WARNING\n",
      "Msg: APPENDING RESULT: <(öğle_Noun)(-)(öğle:noun_S + a3sg_S + pnon_S + nom_ST)>\n",
      "\n"
     ]
    },
    {
     "name": "stderr",
     "output_type": "stream",
     "text": [
      "WARNING:root:APPENDING RESULT: <(saat_Noun)(-)(saat:noun_S + a3sg_S + leri:p3pl_S + nom_ST)>\n"
     ]
    },
    {
     "name": "stdout",
     "output_type": "stream",
     "text": [
      "2020-12-01 21:35:25,280 - root - WARNING\n",
      "Msg: APPENDING RESULT: <(saat_Noun)(-)(saat:noun_S + a3sg_S + leri:p3pl_S + nom_ST)>\n",
      "\n"
     ]
    },
    {
     "name": "stderr",
     "output_type": "stream",
     "text": [
      "WARNING:root:APPENDING RESULT: <(saat_Noun)(-)(saat:noun_S + ler:a3pl_S + pnon_S + i:acc_ST)>\n"
     ]
    },
    {
     "name": "stdout",
     "output_type": "stream",
     "text": [
      "2020-12-01 21:35:25,281 - root - WARNING\n",
      "Msg: APPENDING RESULT: <(saat_Noun)(-)(saat:noun_S + ler:a3pl_S + pnon_S + i:acc_ST)>\n",
      "\n"
     ]
    },
    {
     "name": "stderr",
     "output_type": "stream",
     "text": [
      "WARNING:root:APPENDING RESULT: <(saat_Noun)(-)(saat:noun_S + ler:a3pl_S + i:p3sg_S + nom_ST)>\n"
     ]
    },
    {
     "name": "stdout",
     "output_type": "stream",
     "text": [
      "2020-12-01 21:35:25,283 - root - WARNING\n",
      "Msg: APPENDING RESULT: <(saat_Noun)(-)(saat:noun_S + ler:a3pl_S + i:p3sg_S + nom_ST)>\n",
      "\n"
     ]
    },
    {
     "name": "stderr",
     "output_type": "stream",
     "text": [
      "WARNING:root:APPENDING RESULT: <(saat_Noun)(-)(saat:noun_S + ler:a3pl_S + i:p3pl_S + nom_ST)>\n"
     ]
    },
    {
     "name": "stdout",
     "output_type": "stream",
     "text": [
      "2020-12-01 21:35:25,284 - root - WARNING\n",
      "Msg: APPENDING RESULT: <(saat_Noun)(-)(saat:noun_S + ler:a3pl_S + i:p3pl_S + nom_ST)>\n",
      "\n"
     ]
    },
    {
     "name": "stderr",
     "output_type": "stream",
     "text": [
      "WARNING:root:APPENDING RESULT: <(itibarî_Noun)(-)(itibari:noun_S + a3sg_S + pnon_S + yle:ins_ST)>\n"
     ]
    },
    {
     "name": "stdout",
     "output_type": "stream",
     "text": [
      "2020-12-01 21:35:25,290 - root - WARNING\n",
      "Msg: APPENDING RESULT: <(itibarî_Noun)(-)(itibari:noun_S + a3sg_S + pnon_S + yle:ins_ST)>\n",
      "\n"
     ]
    },
    {
     "name": "stderr",
     "output_type": "stream",
     "text": [
      "WARNING:root:APPENDING RESULT: <(tüm_Adj)(-)(tüm:adjectiveRoot_ST)>\n"
     ]
    },
    {
     "name": "stdout",
     "output_type": "stream",
     "text": [
      "2020-12-01 21:35:25,293 - root - WARNING\n",
      "Msg: APPENDING RESULT: <(tüm_Adj)(-)(tüm:adjectiveRoot_ST)>\n",
      "\n"
     ]
    },
    {
     "name": "stderr",
     "output_type": "stream",
     "text": [
      "WARNING:root:APPENDING RESULT: <(tüm_Det)(-)(tüm:detRoot_ST)>\n"
     ]
    },
    {
     "name": "stdout",
     "output_type": "stream",
     "text": [
      "2020-12-01 21:35:25,294 - root - WARNING\n",
      "Msg: APPENDING RESULT: <(tüm_Det)(-)(tüm:detRoot_ST)>\n",
      "\n"
     ]
    },
    {
     "name": "stderr",
     "output_type": "stream",
     "text": [
      "WARNING:root:APPENDING RESULT: <(tüm_Noun)(-)(tüm:noun_S + a3sg_S + pnon_S + nom_ST)>\n"
     ]
    },
    {
     "name": "stdout",
     "output_type": "stream",
     "text": [
      "2020-12-01 21:35:25,296 - root - WARNING\n",
      "Msg: APPENDING RESULT: <(tüm_Noun)(-)(tüm:noun_S + a3sg_S + pnon_S + nom_ST)>\n",
      "\n"
     ]
    },
    {
     "name": "stderr",
     "output_type": "stream",
     "text": [
      "WARNING:root:APPENDING RESULT: <(zaman_Noun_Time)(-)(zaman:noun_S + lar:a3pl_S + pnon_S + ın:gen_ST)>\n"
     ]
    },
    {
     "name": "stdout",
     "output_type": "stream",
     "text": [
      "2020-12-01 21:35:25,302 - root - WARNING\n",
      "Msg: APPENDING RESULT: <(zaman_Noun_Time)(-)(zaman:noun_S + lar:a3pl_S + pnon_S + ın:gen_ST)>\n",
      "\n"
     ]
    },
    {
     "name": "stderr",
     "output_type": "stream",
     "text": [
      "WARNING:root:APPENDING RESULT: <(zaman_Noun_Time)(-)(zaman:noun_S + lar:a3pl_S + ın:p2sg_S + nom_ST)>\n"
     ]
    },
    {
     "name": "stdout",
     "output_type": "stream",
     "text": [
      "2020-12-01 21:35:25,303 - root - WARNING\n",
      "Msg: APPENDING RESULT: <(zaman_Noun_Time)(-)(zaman:noun_S + lar:a3pl_S + ın:p2sg_S + nom_ST)>\n",
      "\n"
     ]
    },
    {
     "name": "stderr",
     "output_type": "stream",
     "text": [
      "WARNING:root:APPENDING RESULT: <(en_Adv)(-)(en:advRoot_ST)>\n"
     ]
    },
    {
     "name": "stdout",
     "output_type": "stream",
     "text": [
      "2020-12-01 21:35:25,307 - root - WARNING\n",
      "Msg: APPENDING RESULT: <(en_Adv)(-)(en:advRoot_ST)>\n",
      "\n"
     ]
    },
    {
     "name": "stderr",
     "output_type": "stream",
     "text": [
      "WARNING:root:APPENDING RESULT: <(en_Noun)(-)(en:noun_S + a3sg_S + pnon_S + nom_ST)>\n"
     ]
    },
    {
     "name": "stdout",
     "output_type": "stream",
     "text": [
      "2020-12-01 21:35:25,309 - root - WARNING\n",
      "Msg: APPENDING RESULT: <(en_Noun)(-)(en:noun_S + a3sg_S + pnon_S + nom_ST)>\n",
      "\n"
     ]
    },
    {
     "name": "stderr",
     "output_type": "stream",
     "text": [
      "WARNING:root:APPENDING RESULT: <(yüksek_Adj)(-)(yüksek:adjectiveRoot_ST)>\n"
     ]
    },
    {
     "name": "stdout",
     "output_type": "stream",
     "text": [
      "2020-12-01 21:35:25,311 - root - WARNING\n",
      "Msg: APPENDING RESULT: <(yüksek_Adj)(-)(yüksek:adjectiveRoot_ST)>\n",
      "\n"
     ]
    },
    {
     "name": "stderr",
     "output_type": "stream",
     "text": [
      "WARNING:root:APPENDING RESULT: <(yüksek_Noun)(-)(yüksek:noun_S + a3sg_S + pnon_S + nom_ST)>\n"
     ]
    },
    {
     "name": "stdout",
     "output_type": "stream",
     "text": [
      "2020-12-01 21:35:25,313 - root - WARNING\n",
      "Msg: APPENDING RESULT: <(yüksek_Noun)(-)(yüksek:noun_S + a3sg_S + pnon_S + nom_ST)>\n",
      "\n"
     ]
    },
    {
     "name": "stderr",
     "output_type": "stream",
     "text": [
      "WARNING:root:APPENDING RESULT: <(Yüksek_Noun_Prop)(-)(yüksek:nounProper_S + a3sg_S + pnon_S + nom_ST)>\n"
     ]
    },
    {
     "name": "stdout",
     "output_type": "stream",
     "text": [
      "2020-12-01 21:35:25,315 - root - WARNING\n",
      "Msg: APPENDING RESULT: <(Yüksek_Noun_Prop)(-)(yüksek:nounProper_S + a3sg_S + pnon_S + nom_ST)>\n",
      "\n"
     ]
    },
    {
     "name": "stderr",
     "output_type": "stream",
     "text": [
      "WARNING:root:APPENDING RESULT: <(yük_Noun)(-)(yük:noun_S + a3sg_S + pnon_S + nom_ST + nounZeroDeriv_S + nVerb_S + se:nCond_S + k:nA1pl_ST)>\n"
     ]
    },
    {
     "name": "stdout",
     "output_type": "stream",
     "text": [
      "2020-12-01 21:35:25,317 - root - WARNING\n",
      "Msg: APPENDING RESULT: <(yük_Noun)(-)(yük:noun_S + a3sg_S + pnon_S + nom_ST + nounZeroDeriv_S + nVerb_S + se:nCond_S + k:nA1pl_ST)>\n",
      "\n"
     ]
    },
    {
     "name": "stderr",
     "output_type": "stream",
     "text": [
      "WARNING:root:APPENDING RESULT: <(vaka_Noun)(-)(vaka:noun_S + a3sg_S + pnon_S + nom_ST)>\n"
     ]
    },
    {
     "name": "stdout",
     "output_type": "stream",
     "text": [
      "2020-12-01 21:35:25,319 - root - WARNING\n",
      "Msg: APPENDING RESULT: <(vaka_Noun)(-)(vaka:noun_S + a3sg_S + pnon_S + nom_ST)>\n",
      "\n"
     ]
    },
    {
     "name": "stderr",
     "output_type": "stream",
     "text": [
      "WARNING:root:APPENDING RESULT: <(sayı_Noun)(-)(sayı:noun_S + a3sg_S + sı:p3sg_S + nom_ST)>\n"
     ]
    },
    {
     "name": "stdout",
     "output_type": "stream",
     "text": [
      "2020-12-01 21:35:25,324 - root - WARNING\n",
      "Msg: APPENDING RESULT: <(sayı_Noun)(-)(sayı:noun_S + a3sg_S + sı:p3sg_S + nom_ST)>\n",
      "\n"
     ]
    },
    {
     "name": "stderr",
     "output_type": "stream",
     "text": [
      "WARNING:root:APPENDING RESULT: <(olmak_Verb)(-)(ol:verbRoot_S + an:vPresPart_S + adjAfterVerb_ST)>\n"
     ]
    },
    {
     "name": "stdout",
     "output_type": "stream",
     "text": [
      "2020-12-01 21:35:25,328 - root - WARNING\n",
      "Msg: APPENDING RESULT: <(olmak_Verb)(-)(ol:verbRoot_S + an:vPresPart_S + adjAfterVerb_ST)>\n",
      "\n"
     ]
    },
    {
     "name": "stderr",
     "output_type": "stream",
     "text": [
      "WARNING:root:APPENDING RESULT: <(o_Adj)(-)(o:adjectiveRoot_ST + lan:acquire_S + verbRoot_S + vImp_S + vA2sg_ST)>\n"
     ]
    },
    {
     "name": "stdout",
     "output_type": "stream",
     "text": [
      "2020-12-01 21:35:25,330 - root - WARNING\n",
      "Msg: APPENDING RESULT: <(o_Adj)(-)(o:adjectiveRoot_ST + lan:acquire_S + verbRoot_S + vImp_S + vA2sg_ST)>\n",
      "\n"
     ]
    },
    {
     "name": "stderr",
     "output_type": "stream",
     "text": [
      "WARNING:root:APPENDING RESULT: <(vaka_Noun)(-)(vaka:noun_S + a3sg_S + pnon_S + nın:gen_ST)>\n"
     ]
    },
    {
     "name": "stdout",
     "output_type": "stream",
     "text": [
      "2020-12-01 21:35:25,333 - root - WARNING\n",
      "Msg: APPENDING RESULT: <(vaka_Noun)(-)(vaka:noun_S + a3sg_S + pnon_S + nın:gen_ST)>\n",
      "\n"
     ]
    },
    {
     "name": "stderr",
     "output_type": "stream",
     "text": [
      "WARNING:root:APPENDING RESULT: <(vaka_Noun)(-)(vaka:noun_S + a3sg_S + n:p2sg_S + ın:gen_ST)>\n"
     ]
    },
    {
     "name": "stdout",
     "output_type": "stream",
     "text": [
      "2020-12-01 21:35:25,336 - root - WARNING\n",
      "Msg: APPENDING RESULT: <(vaka_Noun)(-)(vaka:noun_S + a3sg_S + n:p2sg_S + ın:gen_ST)>\n",
      "\n"
     ]
    },
    {
     "name": "stderr",
     "output_type": "stream",
     "text": [
      "WARNING:root:APPENDING RESULT: <(kay_Noun)(-)(kay:noun_S + a3sg_S + pnon_S + da:loc_ST)>\n"
     ]
    },
    {
     "name": "stdout",
     "output_type": "stream",
     "text": [
      "2020-12-01 21:35:25,339 - root - WARNING\n",
      "Msg: APPENDING RESULT: <(kay_Noun)(-)(kay:noun_S + a3sg_S + pnon_S + da:loc_ST)>\n",
      "\n"
     ]
    },
    {
     "name": "stderr",
     "output_type": "stream",
     "text": [
      "WARNING:root:APPENDING RESULT: <(kayıt_Noun)(-)(kayd:noun_S + a3sg_S + pnon_S + a:dat_ST)>\n"
     ]
    },
    {
     "name": "stdout",
     "output_type": "stream",
     "text": [
      "2020-12-01 21:35:25,340 - root - WARNING\n",
      "Msg: APPENDING RESULT: <(kayıt_Noun)(-)(kayd:noun_S + a3sg_S + pnon_S + a:dat_ST)>\n",
      "\n"
     ]
    },
    {
     "name": "stderr",
     "output_type": "stream",
     "text": [
      "WARNING:root:APPENDING RESULT: <(geçmek_Verb)(-)(geç:verbRoot_S + tiğ:vPastPart_S + adjAfterVerb_S + i:aP3sg_ST)>\n"
     ]
    },
    {
     "name": "stdout",
     "output_type": "stream",
     "text": [
      "2020-12-01 21:35:25,345 - root - WARNING\n",
      "Msg: APPENDING RESULT: <(geçmek_Verb)(-)(geç:verbRoot_S + tiğ:vPastPart_S + adjAfterVerb_S + i:aP3sg_ST)>\n",
      "\n"
     ]
    },
    {
     "name": "stderr",
     "output_type": "stream",
     "text": [
      "WARNING:root:APPENDING RESULT: <(geçmek_Verb)(-)(geç:verbRoot_S + tiğ:vPastPart_S + noun_S + a3sg_S + pnon_S + i:acc_ST)>\n"
     ]
    },
    {
     "name": "stdout",
     "output_type": "stream",
     "text": [
      "2020-12-01 21:35:25,347 - root - WARNING\n",
      "Msg: APPENDING RESULT: <(geçmek_Verb)(-)(geç:verbRoot_S + tiğ:vPastPart_S + noun_S + a3sg_S + pnon_S + i:acc_ST)>\n",
      "\n"
     ]
    },
    {
     "name": "stderr",
     "output_type": "stream",
     "text": [
      "WARNING:root:APPENDING RESULT: <(geçmek_Verb)(-)(geç:verbRoot_S + tiğ:vPastPart_S + noun_S + a3sg_S + i:p3sg_S + nom_ST)>\n"
     ]
    },
    {
     "name": "stdout",
     "output_type": "stream",
     "text": [
      "2020-12-01 21:35:25,349 - root - WARNING\n",
      "Msg: APPENDING RESULT: <(geçmek_Verb)(-)(geç:verbRoot_S + tiğ:vPastPart_S + noun_S + a3sg_S + i:p3sg_S + nom_ST)>\n",
      "\n"
     ]
    },
    {
     "name": "stderr",
     "output_type": "stream",
     "text": [
      "WARNING:root:APPENDING RESULT: <(açık_Adj)(-)(açık:adjectiveRoot_ST + lan:acquire_S + verbRoot_S + dı:vPast_S + vA3sg_ST)>\n"
     ]
    },
    {
     "name": "stdout",
     "output_type": "stream",
     "text": [
      "2020-12-01 21:35:25,358 - root - WARNING\n",
      "Msg: APPENDING RESULT: <(açık_Adj)(-)(açık:adjectiveRoot_ST + lan:acquire_S + verbRoot_S + dı:vPast_S + vA3sg_ST)>\n",
      "\n"
     ]
    },
    {
     "name": "stderr",
     "output_type": "stream",
     "text": [
      "WARNING:root:APPENDING RESULT: <(açıklamak_Verb)(-)(açıkla:verbRoot_S + n:vPass_S + verbRoot_S + dı:vPast_S + vA3sg_ST)>\n"
     ]
    },
    {
     "name": "stdout",
     "output_type": "stream",
     "text": [
      "2020-12-01 21:35:25,359 - root - WARNING\n",
      "Msg: APPENDING RESULT: <(açıklamak_Verb)(-)(açıkla:verbRoot_S + n:vPass_S + verbRoot_S + dı:vPast_S + vA3sg_ST)>\n",
      "\n"
     ]
    },
    {
     "name": "stderr",
     "output_type": "stream",
     "text": [
      "WARNING:root:APPENDING RESULT: <(Açık_Noun_Prop)(-)(açık:nounProper_S + a3sg_S + pnon_S + nom_ST + lan:acquire_S + verbRoot_S + dı:vPast_S + vA3sg_ST)>\n"
     ]
    },
    {
     "name": "stdout",
     "output_type": "stream",
     "text": [
      "2020-12-01 21:35:25,364 - root - WARNING\n",
      "Msg: APPENDING RESULT: <(Açık_Noun_Prop)(-)(açık:nounProper_S + a3sg_S + pnon_S + nom_ST + lan:acquire_S + verbRoot_S + dı:vPast_S + vA3sg_ST)>\n",
      "\n"
     ]
    },
    {
     "name": "stderr",
     "output_type": "stream",
     "text": [
      "WARNING:root:APPENDING RESULT: <(açık_Noun)(-)(açık:noun_S + a3sg_S + pnon_S + nom_ST + lan:acquire_S + verbRoot_S + dı:vPast_S + vA3sg_ST)>\n"
     ]
    },
    {
     "name": "stdout",
     "output_type": "stream",
     "text": [
      "2020-12-01 21:35:25,365 - root - WARNING\n",
      "Msg: APPENDING RESULT: <(açık_Noun)(-)(açık:noun_S + a3sg_S + pnon_S + nom_ST + lan:acquire_S + verbRoot_S + dı:vPast_S + vA3sg_ST)>\n",
      "\n"
     ]
    },
    {
     "name": "stderr",
     "output_type": "stream",
     "text": [
      "WARNING:root:APPENDING RESULT: <(._Punc)(-)(.:puncRoot_ST)>\n"
     ]
    },
    {
     "name": "stdout",
     "output_type": "stream",
     "text": [
      "2020-12-01 21:35:25,367 - root - WARNING\n",
      "Msg: APPENDING RESULT: <(._Punc)(-)(.:puncRoot_ST)>\n",
      "\n"
     ]
    },
    {
     "name": "stderr",
     "output_type": "stream",
     "text": [
      "WARNING:root:APPENDING RESULT: <(ilerlemek_Verb)(-)(ilerle:verbRoot_S + yen:vPresPart_S + adjAfterVerb_ST)>\n"
     ]
    },
    {
     "name": "stdout",
     "output_type": "stream",
     "text": [
      "2020-12-01 21:35:25,371 - root - WARNING\n",
      "Msg: APPENDING RESULT: <(ilerlemek_Verb)(-)(ilerle:verbRoot_S + yen:vPresPart_S + adjAfterVerb_ST)>\n",
      "\n"
     ]
    },
    {
     "name": "stderr",
     "output_type": "stream",
     "text": [
      "WARNING:root:APPENDING RESULT: <(saat_Noun)(-)(saat:noun_S + ler:a3pl_S + pnon_S + de:loc_ST)>\n"
     ]
    },
    {
     "name": "stdout",
     "output_type": "stream",
     "text": [
      "2020-12-01 21:35:25,376 - root - WARNING\n",
      "Msg: APPENDING RESULT: <(saat_Noun)(-)(saat:noun_S + ler:a3pl_S + pnon_S + de:loc_ST)>\n",
      "\n"
     ]
    },
    {
     "name": "stderr",
     "output_type": "stream",
     "text": [
      "WARNING:root:APPENDING RESULT: <(başkent_Noun)(-)(başkent:noun_S + a3sg_S + pnon_S + te:loc_ST + ki:rel_S + adjectiveRoot_ST)>\n"
     ]
    },
    {
     "name": "stdout",
     "output_type": "stream",
     "text": [
      "2020-12-01 21:35:25,381 - root - WARNING\n",
      "Msg: APPENDING RESULT: <(başkent_Noun)(-)(başkent:noun_S + a3sg_S + pnon_S + te:loc_ST + ki:rel_S + adjectiveRoot_ST)>\n",
      "\n"
     ]
    },
    {
     "name": "stderr",
     "output_type": "stream",
     "text": [
      "WARNING:root:APPENDING RESULT: <(günlük_Adj)(-)(günlük:adjectiveRoot_ST)>\n"
     ]
    },
    {
     "name": "stdout",
     "output_type": "stream",
     "text": [
      "2020-12-01 21:35:25,383 - root - WARNING\n",
      "Msg: APPENDING RESULT: <(günlük_Adj)(-)(günlük:adjectiveRoot_ST)>\n",
      "\n"
     ]
    },
    {
     "name": "stderr",
     "output_type": "stream",
     "text": [
      "WARNING:root:APPENDING RESULT: <(günlük_Noun)(-)(günlük:noun_S + a3sg_S + pnon_S + nom_ST)>\n"
     ]
    },
    {
     "name": "stdout",
     "output_type": "stream",
     "text": [
      "2020-12-01 21:35:25,385 - root - WARNING\n",
      "Msg: APPENDING RESULT: <(günlük_Noun)(-)(günlük:noun_S + a3sg_S + pnon_S + nom_ST)>\n",
      "\n"
     ]
    },
    {
     "name": "stderr",
     "output_type": "stream",
     "text": [
      "WARNING:root:APPENDING RESULT: <(gün_Noun_Time)(-)(gün:noun_S + a3sg_S + pnon_S + nom_ST + lük:ness_S + noun_S + a3sg_S + pnon_S + nom_ST)>\n"
     ]
    },
    {
     "name": "stdout",
     "output_type": "stream",
     "text": [
      "2020-12-01 21:35:25,389 - root - WARNING\n",
      "Msg: APPENDING RESULT: <(gün_Noun_Time)(-)(gün:noun_S + a3sg_S + pnon_S + nom_ST + lük:ness_S + noun_S + a3sg_S + pnon_S + nom_ST)>\n",
      "\n"
     ]
    },
    {
     "name": "stderr",
     "output_type": "stream",
     "text": [
      "WARNING:root:APPENDING RESULT: <(doğru_Adj)(-)(doğru:adjectiveRoot_ST + lan:acquire_S + verbRoot_S + mış:vNarrPart_S + adjectiveRoot_ST)>\n"
     ]
    },
    {
     "name": "stdout",
     "output_type": "stream",
     "text": [
      "2020-12-01 21:35:25,399 - root - WARNING\n",
      "Msg: APPENDING RESULT: <(doğru_Adj)(-)(doğru:adjectiveRoot_ST + lan:acquire_S + verbRoot_S + mış:vNarrPart_S + adjectiveRoot_ST)>\n",
      "\n"
     ]
    },
    {
     "name": "stderr",
     "output_type": "stream",
     "text": [
      "WARNING:root:APPENDING RESULT: <(doğru_Adj)(-)(doğru:adjectiveRoot_ST + lan:acquire_S + verbRoot_S + mış:vNarr_S + vA3sg_ST)>\n"
     ]
    },
    {
     "name": "stdout",
     "output_type": "stream",
     "text": [
      "2020-12-01 21:35:25,400 - root - WARNING\n",
      "Msg: APPENDING RESULT: <(doğru_Adj)(-)(doğru:adjectiveRoot_ST + lan:acquire_S + verbRoot_S + mış:vNarr_S + vA3sg_ST)>\n",
      "\n"
     ]
    },
    {
     "name": "stderr",
     "output_type": "stream",
     "text": [
      "WARNING:root:APPENDING RESULT: <(doğrulamak_Verb)(-)(doğrula:verbRoot_S + n:vPass_S + verbRoot_S + mış:vNarrPart_S + adjectiveRoot_ST)>\n"
     ]
    },
    {
     "name": "stdout",
     "output_type": "stream",
     "text": [
      "2020-12-01 21:35:25,401 - root - WARNING\n",
      "Msg: APPENDING RESULT: <(doğrulamak_Verb)(-)(doğrula:verbRoot_S + n:vPass_S + verbRoot_S + mış:vNarrPart_S + adjectiveRoot_ST)>\n",
      "\n"
     ]
    },
    {
     "name": "stderr",
     "output_type": "stream",
     "text": [
      "WARNING:root:APPENDING RESULT: <(doğrulamak_Verb)(-)(doğrula:verbRoot_S + n:vPass_S + verbRoot_S + mış:vNarr_S + vA3sg_ST)>\n"
     ]
    },
    {
     "name": "stdout",
     "output_type": "stream",
     "text": [
      "2020-12-01 21:35:25,403 - root - WARNING\n",
      "Msg: APPENDING RESULT: <(doğrulamak_Verb)(-)(doğrula:verbRoot_S + n:vPass_S + verbRoot_S + mış:vNarr_S + vA3sg_ST)>\n",
      "\n"
     ]
    },
    {
     "name": "stderr",
     "output_type": "stream",
     "text": [
      "WARNING:root:APPENDING RESULT: <(doğru_Noun)(-)(doğru:noun_S + a3sg_S + pnon_S + nom_ST + lan:acquire_S + verbRoot_S + mış:vNarrPart_S + adjectiveRoot_ST)>\n"
     ]
    },
    {
     "name": "stdout",
     "output_type": "stream",
     "text": [
      "2020-12-01 21:35:25,436 - root - WARNING\n",
      "Msg: APPENDING RESULT: <(doğru_Noun)(-)(doğru:noun_S + a3sg_S + pnon_S + nom_ST + lan:acquire_S + verbRoot_S + mış:vNarrPart_S + adjectiveRoot_ST)>\n",
      "\n"
     ]
    },
    {
     "name": "stderr",
     "output_type": "stream",
     "text": [
      "WARNING:root:APPENDING RESULT: <(doğru_Noun)(-)(doğru:noun_S + a3sg_S + pnon_S + nom_ST + lan:acquire_S + verbRoot_S + mış:vNarr_S + vA3sg_ST)>\n"
     ]
    },
    {
     "name": "stdout",
     "output_type": "stream",
     "text": [
      "2020-12-01 21:35:25,437 - root - WARNING\n",
      "Msg: APPENDING RESULT: <(doğru_Noun)(-)(doğru:noun_S + a3sg_S + pnon_S + nom_ST + lan:acquire_S + verbRoot_S + mış:vNarr_S + vA3sg_ST)>\n",
      "\n"
     ]
    },
    {
     "name": "stderr",
     "output_type": "stream",
     "text": [
      "WARNING:root:APPENDING RESULT: <(doğrulmak_Verb)(-)(doğrul:verbRoot_S + an:vPresPart_S + noun_S + a3sg_S + pnon_S + nom_ST + nounZeroDeriv_S + nVerb_S + mış:nNarr_S + nA3sg_ST)>\n"
     ]
    },
    {
     "name": "stdout",
     "output_type": "stream",
     "text": [
      "2020-12-01 21:35:25,439 - root - WARNING\n",
      "Msg: APPENDING RESULT: <(doğrulmak_Verb)(-)(doğrul:verbRoot_S + an:vPresPart_S + noun_S + a3sg_S + pnon_S + nom_ST + nounZeroDeriv_S + nVerb_S + mış:nNarr_S + nA3sg_ST)>\n",
      "\n"
     ]
    },
    {
     "name": "stderr",
     "output_type": "stream",
     "text": [
      "WARNING:root:APPENDING RESULT: <(vaka_Noun)(-)(vaka:noun_S + a3sg_S + pnon_S + nom_ST)>\n"
     ]
    },
    {
     "name": "stdout",
     "output_type": "stream",
     "text": [
      "2020-12-01 21:35:25,441 - root - WARNING\n",
      "Msg: APPENDING RESULT: <(vaka_Noun)(-)(vaka:noun_S + a3sg_S + pnon_S + nom_ST)>\n",
      "\n"
     ]
    },
    {
     "name": "stderr",
     "output_type": "stream",
     "text": [
      "WARNING:root:APPENDING RESULT: <(sayı_Noun)(-)(sayı:noun_S + a3sg_S + sı:p3sg_S + nın:gen_ST)>\n"
     ]
    },
    {
     "name": "stdout",
     "output_type": "stream",
     "text": [
      "2020-12-01 21:35:25,445 - root - WARNING\n",
      "Msg: APPENDING RESULT: <(sayı_Noun)(-)(sayı:noun_S + a3sg_S + sı:p3sg_S + nın:gen_ST)>\n",
      "\n"
     ]
    },
    {
     "name": "stderr",
     "output_type": "stream",
     "text": [
      "WARNING:root:APPENDING RESULT: <(artmak_Verb)(-)(art:verbRoot_S + ma:vInf2_S + noun_S + a3sg_S + sı:p3sg_S + ndan:abl_ST)>\n"
     ]
    },
    {
     "name": "stdout",
     "output_type": "stream",
     "text": [
      "2020-12-01 21:35:25,451 - root - WARNING\n",
      "Msg: APPENDING RESULT: <(artmak_Verb)(-)(art:verbRoot_S + ma:vInf2_S + noun_S + a3sg_S + sı:p3sg_S + ndan:abl_ST)>\n",
      "\n"
     ]
    },
    {
     "name": "stderr",
     "output_type": "stream",
     "text": [
      "WARNING:root:APPENDING RESULT: <(endişe_Noun)(-)(endişe:noun_S + a3sg_S + pnon_S + nom_ST)>\n"
     ]
    },
    {
     "name": "stdout",
     "output_type": "stream",
     "text": [
      "2020-12-01 21:35:25,456 - root - WARNING\n",
      "Msg: APPENDING RESULT: <(endişe_Noun)(-)(endişe:noun_S + a3sg_S + pnon_S + nom_ST)>\n",
      "\n"
     ]
    },
    {
     "name": "stderr",
     "output_type": "stream",
     "text": [
      "WARNING:root:APPENDING RESULT: <(etmek_Verb)(-)(ed:verbRoot_S + il:vPass_S + verbRoot_S + iyor:vProgYor_S + vA3sg_ST)>\n"
     ]
    },
    {
     "name": "stdout",
     "output_type": "stream",
     "text": [
      "2020-12-01 21:35:25,462 - root - WARNING\n",
      "Msg: APPENDING RESULT: <(etmek_Verb)(-)(ed:verbRoot_S + il:vPass_S + verbRoot_S + iyor:vProgYor_S + vA3sg_ST)>\n",
      "\n"
     ]
    },
    {
     "name": "stderr",
     "output_type": "stream",
     "text": [
      "WARNING:root:APPENDING RESULT: <(._Punc)(-)(.:puncRoot_ST)>\n"
     ]
    },
    {
     "name": "stdout",
     "output_type": "stream",
     "text": [
      "2020-12-01 21:35:25,467 - root - WARNING\n",
      "Msg: APPENDING RESULT: <(._Punc)(-)(.:puncRoot_ST)>\n",
      "\n"
     ]
    }
   ],
   "source": [
    "text= open(r\"C:\\Users\\SEHER\\OneDrive\\Masaüstü\\task2-milliyet.txt\",\"r\",encoding=\"utf-8\").read()\n",
    "postags=pos.analyze(text)"
   ]
  },
  {
   "cell_type": "code",
   "execution_count": 39,
   "metadata": {},
   "outputs": [
    {
     "name": "stdout",
     "output_type": "stream",
     "text": [
      "Japonyanın Noun\n",
      "başkenti Noun\n",
      "Tokyoda Noun\n",
      "bugüne Noun\n",
      "kadar Postp\n",
      "görülen Adj\n",
      "en Adv\n",
      "yüksek Adj\n",
      "günlük Adj\n",
      "Covid-19 Unk\n",
      "vaka Noun\n",
      "sayısı Noun\n",
      "kayda Noun\n",
      "geçti Verb\n",
      ". Punc\n",
      "Yerel Adj\n",
      "hükümet Unk\n",
      ", Punc\n",
      "artan Adj\n",
      "enfeksiyonlar Noun\n",
      "karşısında Noun\n",
      "alarm Noun\n",
      "seviyesinin Noun\n",
      "en Adv\n",
      "üst Adj\n",
      "düzeye Verb\n",
      "çıkarılacağını Noun\n",
      "açıkladı Verb\n",
      ". Punc\n",
      "Dünya Noun\n",
      "genelinde Noun\n",
      "yaklaşık Adj\n",
      "55.3 Unk\n",
      "milyon Num\n",
      "kişiye Noun\n",
      "bulaşarak Adv\n",
      "1.3 Unk\n",
      "milyonu Noun\n",
      "aşkın Postp\n",
      "ölüme Noun\n",
      "neden Adv\n",
      "olan Adj\n",
      "Kovid-19 Unk\n",
      "salgınının Noun\n",
      "Japonyada Noun\n",
      "yeniden Adv\n",
      "tırmanışa Noun\n",
      "geçmesi Noun\n",
      ", Punc\n",
      "başkent Noun\n",
      "Tokyonun Noun\n",
      "yerel Adj\n",
      "yönetimini Noun\n",
      "harekete Noun\n",
      "geçirdi Verb\n",
      ". Punc\n",
      "Şimdiye Noun\n",
      "dek Postp\n",
      "doğrulanan Adj\n",
      "yaklaşık Adj\n",
      "35 Unk\n",
      "bin Num\n",
      "vakayla Noun\n",
      "salgından Noun\n",
      "en Adv\n",
      "fazla Postp\n",
      "etkilenen Adj\n",
      "bölge Noun\n",
      "olan Adj\n",
      "Tokyoda Noun\n",
      "bugün Adv\n",
      "493 Unk\n",
      "yeni Adv\n",
      "enfeksiyon Noun\n",
      "tespit Noun\n",
      "edildi Verb\n",
      ". Punc\n",
      "Kayda Noun\n",
      "geçen Adj\n",
      "rekor Noun\n",
      "sayıdaki Adj\n",
      "493 Unk\n",
      "yeni Adv\n",
      "enfeksiyonun Noun\n",
      "ardından Adv\n",
      "yerel Adj\n",
      "hükümet Unk\n",
      ", Punc\n",
      "alarm Noun\n",
      "seviyesinin Noun\n",
      "en Adv\n",
      "üst Adj\n",
      "düzeye Verb\n",
      "çıkarılacağını Noun\n",
      "açıkladı Verb\n",
      ". Punc\n",
      "Restoran Noun\n",
      "ve Conj\n",
      "bar Noun\n",
      "benzeri Adj\n",
      "işletmelerden Noun\n",
      "çalışma Verb\n",
      "saatlerini Noun\n",
      "kısaltmalarını Noun\n",
      "isteyip Adv\n",
      "istemeyeceği Adj\n",
      "merak Noun\n",
      "konusu Noun\n",
      "olan Adj\n",
      "yerel Adj\n",
      "otoritelerin Noun\n",
      ", Punc\n",
      "alınacak Adj\n",
      "tedbirler Noun\n",
      "üzerinde Adv\n",
      "istişare Noun\n",
      "ettiği Adj\n",
      "öğrenildi Verb\n",
      ". Punc\n",
      "Öte Postp\n",
      "yandan Noun\n",
      "son Num\n",
      "günlerde Noun\n",
      "art Adj\n",
      "arda Noun\n",
      "bin Num\n",
      "ve Conj\n",
      "üzeri Noun\n",
      "yeni Adv\n",
      "enfeksiyonun Noun\n",
      "doğrulandığı Adj\n",
      "Japonyada Noun\n",
      "dün Adv\n",
      "ülke Noun\n",
      "geneli Noun\n",
      "vaka Noun\n",
      "sayısı Noun\n",
      "bin Num\n",
      "699 Unk\n",
      "olurken Adv\n",
      ", Punc\n",
      "47 Unk\n",
      "eyaletin Noun\n",
      "6sında Unk\n",
      "günlük Adj\n",
      "vaka Noun\n",
      "rekoru Noun\n",
      "kırıldı Verb\n",
      ". Punc\n",
      "122 Unk\n",
      "bin Num\n",
      "57lik Unk\n",
      "toplam Noun\n",
      "enfeksiyon Noun\n",
      "sayısına Noun\n",
      "ulaşan Adj\n",
      "Japonyada Noun\n",
      "Tokyodan Noun\n",
      "bugün Adv\n",
      "de Conj\n",
      "kötü Adv\n",
      "haber Noun\n",
      "geldi Verb\n",
      ". Punc\n",
      "Başkentte Noun\n",
      "öğle Noun\n",
      "saatleri Noun\n",
      "itibariyle Noun\n",
      "tüm Adj\n",
      "zamanların Noun\n",
      "en Adv\n",
      "yüksek Adj\n",
      "vaka Noun\n",
      "sayısı Noun\n",
      "olan Adj\n",
      "493 Unk\n",
      "vakanın Noun\n",
      "kayda Noun\n",
      "geçtiği Adj\n",
      "açıklandı Verb\n",
      ". Punc\n",
      "İlerleyen Adj\n",
      "saatlerde Noun\n",
      "başkentteki Adj\n",
      "günlük Adj\n",
      "doğrulanmış Adj\n",
      "vaka Noun\n",
      "sayısının Noun\n",
      "artmasından Noun\n",
      "endişe Noun\n",
      "ediliyor Verb\n",
      ". Punc\n"
     ]
    }
   ],
   "source": [
    "for i in postags:\n",
    "    try:\n",
    "        \n",
    "        print(i[0].word,i[0].pos)\n",
    "    except:\n",
    "        pass"
   ]
  },
  {
   "cell_type": "code",
   "execution_count": 8,
   "metadata": {},
   "outputs": [
    {
     "name": "stdout",
     "output_type": "stream",
     "text": [
      "Collecting zeyrek\n",
      "  Downloading https://files.pythonhosted.org/packages/ee/b8/aee47177d9bbcda8165469ff206be8be3f45615dc0c9c823523abadd42c8/zeyrek-0.1.0-py2.py3-none-any.whl (939kB)\n",
      "Requirement already satisfied: nltk>=3 in c:\\users\\seher\\anaconda3\\lib\\site-packages (from zeyrek) (3.4.5)\n",
      "Requirement already satisfied: six in c:\\users\\seher\\anaconda3\\lib\\site-packages (from nltk>=3->zeyrek) (1.12.0)\n",
      "Installing collected packages: zeyrek\n",
      "Successfully installed zeyrek-0.1.0\n",
      "Note: you may need to restart the kernel to use updated packages.\n"
     ]
    }
   ],
   "source": [
    "pip install zeyrek"
   ]
  },
  {
   "cell_type": "code",
   "execution_count": 2,
   "metadata": {},
   "outputs": [],
   "source": [
    "import zeyrek"
   ]
  },
  {
   "cell_type": "code",
   "execution_count": 35,
   "metadata": {},
   "outputs": [],
   "source": [
    "pos = zeyrek.MorphAnalyzer()\n",
    "txt = open(r\"C:\\Users\\SEHER\\OneDrive\\Masaüstü\\task2-milliyet.txt\",encoding=\"utf-8\").read()"
   ]
  },
  {
   "cell_type": "code",
   "execution_count": 36,
   "metadata": {},
   "outputs": [
    {
     "name": "stderr",
     "output_type": "stream",
     "text": [
      "WARNING:root:APPENDING RESULT: <(Japonya_Noun_Prop)(-)(japonya:nounProper_S + a3sg_S + pnon_S + nın:gen_ST)>\n"
     ]
    },
    {
     "name": "stdout",
     "output_type": "stream",
     "text": [
      "2020-12-01 21:34:06,068 - root - WARNING\n",
      "Msg: APPENDING RESULT: <(Japonya_Noun_Prop)(-)(japonya:nounProper_S + a3sg_S + pnon_S + nın:gen_ST)>\n",
      "\n"
     ]
    },
    {
     "name": "stderr",
     "output_type": "stream",
     "text": [
      "WARNING:root:APPENDING RESULT: <(Japonya_Noun_Prop)(-)(japonya:nounProper_S + a3sg_S + n:p2sg_S + ın:gen_ST)>\n"
     ]
    },
    {
     "name": "stdout",
     "output_type": "stream",
     "text": [
      "2020-12-01 21:34:06,071 - root - WARNING\n",
      "Msg: APPENDING RESULT: <(Japonya_Noun_Prop)(-)(japonya:nounProper_S + a3sg_S + n:p2sg_S + ın:gen_ST)>\n",
      "\n"
     ]
    },
    {
     "name": "stderr",
     "output_type": "stream",
     "text": [
      "WARNING:root:APPENDING RESULT: <(başkent_Noun)(-)(başkent:noun_S + a3sg_S + pnon_S + i:acc_ST)>\n"
     ]
    },
    {
     "name": "stdout",
     "output_type": "stream",
     "text": [
      "2020-12-01 21:34:06,078 - root - WARNING\n",
      "Msg: APPENDING RESULT: <(başkent_Noun)(-)(başkent:noun_S + a3sg_S + pnon_S + i:acc_ST)>\n",
      "\n"
     ]
    },
    {
     "name": "stderr",
     "output_type": "stream",
     "text": [
      "WARNING:root:APPENDING RESULT: <(başkent_Noun)(-)(başkent:noun_S + a3sg_S + i:p3sg_S + nom_ST)>\n"
     ]
    },
    {
     "name": "stdout",
     "output_type": "stream",
     "text": [
      "2020-12-01 21:34:06,079 - root - WARNING\n",
      "Msg: APPENDING RESULT: <(başkent_Noun)(-)(başkent:noun_S + a3sg_S + i:p3sg_S + nom_ST)>\n",
      "\n"
     ]
    },
    {
     "name": "stderr",
     "output_type": "stream",
     "text": [
      "WARNING:root:APPENDING RESULT: <(tokyo_Noun)(-)(tokyo:noun_S + a3sg_S + pnon_S + da:loc_ST)>\n"
     ]
    },
    {
     "name": "stdout",
     "output_type": "stream",
     "text": [
      "2020-12-01 21:34:06,083 - root - WARNING\n",
      "Msg: APPENDING RESULT: <(tokyo_Noun)(-)(tokyo:noun_S + a3sg_S + pnon_S + da:loc_ST)>\n",
      "\n"
     ]
    },
    {
     "name": "stderr",
     "output_type": "stream",
     "text": [
      "WARNING:root:APPENDING RESULT: <(bugün_Noun_Time)(-)(bugün:noun_S + a3sg_S + pnon_S + e:dat_ST)>\n"
     ]
    },
    {
     "name": "stdout",
     "output_type": "stream",
     "text": [
      "2020-12-01 21:34:06,087 - root - WARNING\n",
      "Msg: APPENDING RESULT: <(bugün_Noun_Time)(-)(bugün:noun_S + a3sg_S + pnon_S + e:dat_ST)>\n",
      "\n"
     ]
    },
    {
     "name": "stderr",
     "output_type": "stream",
     "text": [
      "WARNING:root:APPENDING RESULT: <(kadar_Postp_PCDat)(-)(kadar:postpRoot_ST)>\n"
     ]
    },
    {
     "name": "stdout",
     "output_type": "stream",
     "text": [
      "2020-12-01 21:34:06,089 - root - WARNING\n",
      "Msg: APPENDING RESULT: <(kadar_Postp_PCDat)(-)(kadar:postpRoot_ST)>\n",
      "\n"
     ]
    },
    {
     "name": "stderr",
     "output_type": "stream",
     "text": [
      "WARNING:root:APPENDING RESULT: <(kadar_Postp_PCGen)(-)(kadar:postpRoot_ST)>\n"
     ]
    },
    {
     "name": "stdout",
     "output_type": "stream",
     "text": [
      "2020-12-01 21:34:06,090 - root - WARNING\n",
      "Msg: APPENDING RESULT: <(kadar_Postp_PCGen)(-)(kadar:postpRoot_ST)>\n",
      "\n"
     ]
    },
    {
     "name": "stderr",
     "output_type": "stream",
     "text": [
      "WARNING:root:APPENDING RESULT: <(kadar_Postp_PCNom)(-)(kadar:postpRoot_ST)>\n"
     ]
    },
    {
     "name": "stdout",
     "output_type": "stream",
     "text": [
      "2020-12-01 21:34:06,092 - root - WARNING\n",
      "Msg: APPENDING RESULT: <(kadar_Postp_PCNom)(-)(kadar:postpRoot_ST)>\n",
      "\n"
     ]
    },
    {
     "name": "stderr",
     "output_type": "stream",
     "text": [
      "WARNING:root:APPENDING RESULT: <(Kadar_Noun_Prop)(-)(kadar:nounProper_S + a3sg_S + pnon_S + nom_ST)>\n"
     ]
    },
    {
     "name": "stdout",
     "output_type": "stream",
     "text": [
      "2020-12-01 21:34:06,094 - root - WARNING\n",
      "Msg: APPENDING RESULT: <(Kadar_Noun_Prop)(-)(kadar:nounProper_S + a3sg_S + pnon_S + nom_ST)>\n",
      "\n"
     ]
    },
    {
     "name": "stderr",
     "output_type": "stream",
     "text": [
      "WARNING:root:APPENDING RESULT: <(kadar_Noun)(-)(kadar:noun_S + a3sg_S + pnon_S + nom_ST)>\n"
     ]
    },
    {
     "name": "stdout",
     "output_type": "stream",
     "text": [
      "2020-12-01 21:34:06,096 - root - WARNING\n",
      "Msg: APPENDING RESULT: <(kadar_Noun)(-)(kadar:noun_S + a3sg_S + pnon_S + nom_ST)>\n",
      "\n"
     ]
    },
    {
     "name": "stderr",
     "output_type": "stream",
     "text": [
      "WARNING:root:APPENDING RESULT: <(görmek_Verb)(-)(gör:verbRoot_S + ül:vPass_S + verbRoot_S + en:vPresPart_S + adjAfterVerb_ST)>\n"
     ]
    },
    {
     "name": "stdout",
     "output_type": "stream",
     "text": [
      "2020-12-01 21:34:06,102 - root - WARNING\n",
      "Msg: APPENDING RESULT: <(görmek_Verb)(-)(gör:verbRoot_S + ül:vPass_S + verbRoot_S + en:vPresPart_S + adjAfterVerb_ST)>\n",
      "\n"
     ]
    },
    {
     "name": "stderr",
     "output_type": "stream",
     "text": [
      "WARNING:root:APPENDING RESULT: <(görü_Noun)(-)(görü:noun_S + a3sg_S + pnon_S + nom_ST + len:acquire_S + verbRoot_S + vImp_S + vA2sg_ST)>\n"
     ]
    },
    {
     "name": "stdout",
     "output_type": "stream",
     "text": [
      "2020-12-01 21:34:06,104 - root - WARNING\n",
      "Msg: APPENDING RESULT: <(görü_Noun)(-)(görü:noun_S + a3sg_S + pnon_S + nom_ST + len:acquire_S + verbRoot_S + vImp_S + vA2sg_ST)>\n",
      "\n"
     ]
    },
    {
     "name": "stderr",
     "output_type": "stream",
     "text": [
      "WARNING:root:APPENDING RESULT: <(en_Adv)(-)(en:advRoot_ST)>\n"
     ]
    },
    {
     "name": "stdout",
     "output_type": "stream",
     "text": [
      "2020-12-01 21:34:06,106 - root - WARNING\n",
      "Msg: APPENDING RESULT: <(en_Adv)(-)(en:advRoot_ST)>\n",
      "\n"
     ]
    },
    {
     "name": "stderr",
     "output_type": "stream",
     "text": [
      "WARNING:root:APPENDING RESULT: <(en_Noun)(-)(en:noun_S + a3sg_S + pnon_S + nom_ST)>\n"
     ]
    },
    {
     "name": "stdout",
     "output_type": "stream",
     "text": [
      "2020-12-01 21:34:06,108 - root - WARNING\n",
      "Msg: APPENDING RESULT: <(en_Noun)(-)(en:noun_S + a3sg_S + pnon_S + nom_ST)>\n",
      "\n"
     ]
    },
    {
     "name": "stderr",
     "output_type": "stream",
     "text": [
      "WARNING:root:APPENDING RESULT: <(yüksek_Adj)(-)(yüksek:adjectiveRoot_ST)>\n"
     ]
    },
    {
     "name": "stdout",
     "output_type": "stream",
     "text": [
      "2020-12-01 21:34:06,110 - root - WARNING\n",
      "Msg: APPENDING RESULT: <(yüksek_Adj)(-)(yüksek:adjectiveRoot_ST)>\n",
      "\n"
     ]
    },
    {
     "name": "stderr",
     "output_type": "stream",
     "text": [
      "WARNING:root:APPENDING RESULT: <(yüksek_Noun)(-)(yüksek:noun_S + a3sg_S + pnon_S + nom_ST)>\n"
     ]
    },
    {
     "name": "stdout",
     "output_type": "stream",
     "text": [
      "2020-12-01 21:34:06,113 - root - WARNING\n",
      "Msg: APPENDING RESULT: <(yüksek_Noun)(-)(yüksek:noun_S + a3sg_S + pnon_S + nom_ST)>\n",
      "\n"
     ]
    },
    {
     "name": "stderr",
     "output_type": "stream",
     "text": [
      "WARNING:root:APPENDING RESULT: <(Yüksek_Noun_Prop)(-)(yüksek:nounProper_S + a3sg_S + pnon_S + nom_ST)>\n"
     ]
    },
    {
     "name": "stdout",
     "output_type": "stream",
     "text": [
      "2020-12-01 21:34:06,115 - root - WARNING\n",
      "Msg: APPENDING RESULT: <(Yüksek_Noun_Prop)(-)(yüksek:nounProper_S + a3sg_S + pnon_S + nom_ST)>\n",
      "\n"
     ]
    },
    {
     "name": "stderr",
     "output_type": "stream",
     "text": [
      "WARNING:root:APPENDING RESULT: <(yük_Noun)(-)(yük:noun_S + a3sg_S + pnon_S + nom_ST + nounZeroDeriv_S + nVerb_S + se:nCond_S + k:nA1pl_ST)>\n"
     ]
    },
    {
     "name": "stdout",
     "output_type": "stream",
     "text": [
      "2020-12-01 21:34:06,117 - root - WARNING\n",
      "Msg: APPENDING RESULT: <(yük_Noun)(-)(yük:noun_S + a3sg_S + pnon_S + nom_ST + nounZeroDeriv_S + nVerb_S + se:nCond_S + k:nA1pl_ST)>\n",
      "\n"
     ]
    },
    {
     "name": "stderr",
     "output_type": "stream",
     "text": [
      "WARNING:root:APPENDING RESULT: <(günlük_Adj)(-)(günlük:adjectiveRoot_ST)>\n"
     ]
    },
    {
     "name": "stdout",
     "output_type": "stream",
     "text": [
      "2020-12-01 21:34:06,119 - root - WARNING\n",
      "Msg: APPENDING RESULT: <(günlük_Adj)(-)(günlük:adjectiveRoot_ST)>\n",
      "\n"
     ]
    },
    {
     "name": "stderr",
     "output_type": "stream",
     "text": [
      "WARNING:root:APPENDING RESULT: <(günlük_Noun)(-)(günlük:noun_S + a3sg_S + pnon_S + nom_ST)>\n"
     ]
    },
    {
     "name": "stdout",
     "output_type": "stream",
     "text": [
      "2020-12-01 21:34:06,121 - root - WARNING\n",
      "Msg: APPENDING RESULT: <(günlük_Noun)(-)(günlük:noun_S + a3sg_S + pnon_S + nom_ST)>\n",
      "\n"
     ]
    },
    {
     "name": "stderr",
     "output_type": "stream",
     "text": [
      "WARNING:root:APPENDING RESULT: <(gün_Noun_Time)(-)(gün:noun_S + a3sg_S + pnon_S + nom_ST + lük:ness_S + noun_S + a3sg_S + pnon_S + nom_ST)>\n"
     ]
    },
    {
     "name": "stdout",
     "output_type": "stream",
     "text": [
      "2020-12-01 21:34:06,124 - root - WARNING\n",
      "Msg: APPENDING RESULT: <(gün_Noun_Time)(-)(gün:noun_S + a3sg_S + pnon_S + nom_ST + lük:ness_S + noun_S + a3sg_S + pnon_S + nom_ST)>\n",
      "\n"
     ]
    },
    {
     "name": "stderr",
     "output_type": "stream",
     "text": [
      "WARNING:root:APPENDING RESULT: <(vaka_Noun)(-)(vaka:noun_S + a3sg_S + pnon_S + nom_ST)>\n"
     ]
    },
    {
     "name": "stdout",
     "output_type": "stream",
     "text": [
      "2020-12-01 21:34:06,129 - root - WARNING\n",
      "Msg: APPENDING RESULT: <(vaka_Noun)(-)(vaka:noun_S + a3sg_S + pnon_S + nom_ST)>\n",
      "\n"
     ]
    },
    {
     "name": "stderr",
     "output_type": "stream",
     "text": [
      "WARNING:root:APPENDING RESULT: <(sayı_Noun)(-)(sayı:noun_S + a3sg_S + sı:p3sg_S + nom_ST)>\n"
     ]
    },
    {
     "name": "stdout",
     "output_type": "stream",
     "text": [
      "2020-12-01 21:34:06,134 - root - WARNING\n",
      "Msg: APPENDING RESULT: <(sayı_Noun)(-)(sayı:noun_S + a3sg_S + sı:p3sg_S + nom_ST)>\n",
      "\n"
     ]
    },
    {
     "name": "stderr",
     "output_type": "stream",
     "text": [
      "WARNING:root:APPENDING RESULT: <(kay_Noun)(-)(kay:noun_S + a3sg_S + pnon_S + da:loc_ST)>\n"
     ]
    },
    {
     "name": "stdout",
     "output_type": "stream",
     "text": [
      "2020-12-01 21:34:06,138 - root - WARNING\n",
      "Msg: APPENDING RESULT: <(kay_Noun)(-)(kay:noun_S + a3sg_S + pnon_S + da:loc_ST)>\n",
      "\n"
     ]
    },
    {
     "name": "stderr",
     "output_type": "stream",
     "text": [
      "WARNING:root:APPENDING RESULT: <(kayıt_Noun)(-)(kayd:noun_S + a3sg_S + pnon_S + a:dat_ST)>\n"
     ]
    },
    {
     "name": "stdout",
     "output_type": "stream",
     "text": [
      "2020-12-01 21:34:06,140 - root - WARNING\n",
      "Msg: APPENDING RESULT: <(kayıt_Noun)(-)(kayd:noun_S + a3sg_S + pnon_S + a:dat_ST)>\n",
      "\n"
     ]
    },
    {
     "name": "stderr",
     "output_type": "stream",
     "text": [
      "WARNING:root:APPENDING RESULT: <(geçmek_Verb)(-)(geç:verbRoot_S + ti:vPast_S + vA3sg_ST)>\n"
     ]
    },
    {
     "name": "stdout",
     "output_type": "stream",
     "text": [
      "2020-12-01 21:34:06,144 - root - WARNING\n",
      "Msg: APPENDING RESULT: <(geçmek_Verb)(-)(geç:verbRoot_S + ti:vPast_S + vA3sg_ST)>\n",
      "\n"
     ]
    },
    {
     "name": "stderr",
     "output_type": "stream",
     "text": [
      "WARNING:root:APPENDING RESULT: <(Geçti_Noun_Prop)(-)(geçti:nounProper_S + a3sg_S + pnon_S + nom_ST)>\n"
     ]
    },
    {
     "name": "stdout",
     "output_type": "stream",
     "text": [
      "2020-12-01 21:34:06,146 - root - WARNING\n",
      "Msg: APPENDING RESULT: <(Geçti_Noun_Prop)(-)(geçti:nounProper_S + a3sg_S + pnon_S + nom_ST)>\n",
      "\n"
     ]
    },
    {
     "name": "stderr",
     "output_type": "stream",
     "text": [
      "WARNING:root:APPENDING RESULT: <(geç_Adj)(-)(geç:adjectiveRoot_ST + adjZeroDeriv_S + nVerb_S + ti:nPast_S + nA3sg_ST)>\n"
     ]
    },
    {
     "name": "stdout",
     "output_type": "stream",
     "text": [
      "2020-12-01 21:34:06,147 - root - WARNING\n",
      "Msg: APPENDING RESULT: <(geç_Adj)(-)(geç:adjectiveRoot_ST + adjZeroDeriv_S + nVerb_S + ti:nPast_S + nA3sg_ST)>\n",
      "\n"
     ]
    },
    {
     "name": "stderr",
     "output_type": "stream",
     "text": [
      "WARNING:root:APPENDING RESULT: <(._Punc)(-)(.:puncRoot_ST)>\n"
     ]
    },
    {
     "name": "stdout",
     "output_type": "stream",
     "text": [
      "2020-12-01 21:34:06,149 - root - WARNING\n",
      "Msg: APPENDING RESULT: <(._Punc)(-)(.:puncRoot_ST)>\n",
      "\n"
     ]
    },
    {
     "name": "stderr",
     "output_type": "stream",
     "text": [
      "WARNING:root:APPENDING RESULT: <(yerel_Adj)(-)(yerel:adjectiveRoot_ST)>\n"
     ]
    },
    {
     "name": "stdout",
     "output_type": "stream",
     "text": [
      "2020-12-01 21:34:06,151 - root - WARNING\n",
      "Msg: APPENDING RESULT: <(yerel_Adj)(-)(yerel:adjectiveRoot_ST)>\n",
      "\n"
     ]
    },
    {
     "name": "stderr",
     "output_type": "stream",
     "text": [
      "WARNING:root:APPENDING RESULT: <(Yerel_Noun_Prop)(-)(yerel:nounProper_S + a3sg_S + pnon_S + nom_ST)>\n"
     ]
    },
    {
     "name": "stdout",
     "output_type": "stream",
     "text": [
      "2020-12-01 21:34:06,154 - root - WARNING\n",
      "Msg: APPENDING RESULT: <(Yerel_Noun_Prop)(-)(yerel:nounProper_S + a3sg_S + pnon_S + nom_ST)>\n",
      "\n"
     ]
    },
    {
     "name": "stderr",
     "output_type": "stream",
     "text": [
      "WARNING:root:APPENDING RESULT: <(,_Punc)(-)(,:puncRoot_ST)>\n"
     ]
    },
    {
     "name": "stdout",
     "output_type": "stream",
     "text": [
      "2020-12-01 21:34:06,158 - root - WARNING\n",
      "Msg: APPENDING RESULT: <(,_Punc)(-)(,:puncRoot_ST)>\n",
      "\n"
     ]
    },
    {
     "name": "stderr",
     "output_type": "stream",
     "text": [
      "WARNING:root:APPENDING RESULT: <(artmak_Verb)(-)(art:verbRoot_S + an:vPresPart_S + adjAfterVerb_ST)>\n"
     ]
    },
    {
     "name": "stdout",
     "output_type": "stream",
     "text": [
      "2020-12-01 21:34:06,162 - root - WARNING\n",
      "Msg: APPENDING RESULT: <(artmak_Verb)(-)(art:verbRoot_S + an:vPresPart_S + adjAfterVerb_ST)>\n",
      "\n"
     ]
    },
    {
     "name": "stderr",
     "output_type": "stream",
     "text": [
      "WARNING:root:APPENDING RESULT: <(Artan_Noun_Prop)(-)(artan:nounProper_S + a3sg_S + pnon_S + nom_ST)>\n"
     ]
    },
    {
     "name": "stdout",
     "output_type": "stream",
     "text": [
      "2020-12-01 21:34:06,164 - root - WARNING\n",
      "Msg: APPENDING RESULT: <(Artan_Noun_Prop)(-)(artan:nounProper_S + a3sg_S + pnon_S + nom_ST)>\n",
      "\n"
     ]
    },
    {
     "name": "stderr",
     "output_type": "stream",
     "text": [
      "WARNING:root:APPENDING RESULT: <(enfeksiyon_Noun)(-)(enfeksiyon:noun_S + lar:a3pl_S + pnon_S + nom_ST)>\n"
     ]
    },
    {
     "name": "stdout",
     "output_type": "stream",
     "text": [
      "2020-12-01 21:34:06,169 - root - WARNING\n",
      "Msg: APPENDING RESULT: <(enfeksiyon_Noun)(-)(enfeksiyon:noun_S + lar:a3pl_S + pnon_S + nom_ST)>\n",
      "\n"
     ]
    },
    {
     "name": "stderr",
     "output_type": "stream",
     "text": [
      "WARNING:root:APPENDING RESULT: <(enfeksiyon_Noun)(-)(enfeksiyon:noun_S + a3sg_S + pnon_S + nom_ST + nounZeroDeriv_S + nVerb_S + nPresent_S + lar:nA3pl_ST)>\n"
     ]
    },
    {
     "name": "stdout",
     "output_type": "stream",
     "text": [
      "2020-12-01 21:34:06,172 - root - WARNING\n",
      "Msg: APPENDING RESULT: <(enfeksiyon_Noun)(-)(enfeksiyon:noun_S + a3sg_S + pnon_S + nom_ST + nounZeroDeriv_S + nVerb_S + nPresent_S + lar:nA3pl_ST)>\n",
      "\n"
     ]
    },
    {
     "name": "stderr",
     "output_type": "stream",
     "text": [
      "WARNING:root:APPENDING RESULT: <(karşı_Noun)(-)(karşı:noun_S + a3sg_S + sı:p3sg_S + nda:loc_ST)>\n"
     ]
    },
    {
     "name": "stdout",
     "output_type": "stream",
     "text": [
      "2020-12-01 21:34:06,178 - root - WARNING\n",
      "Msg: APPENDING RESULT: <(karşı_Noun)(-)(karşı:noun_S + a3sg_S + sı:p3sg_S + nda:loc_ST)>\n",
      "\n"
     ]
    },
    {
     "name": "stderr",
     "output_type": "stream",
     "text": [
      "WARNING:root:APPENDING RESULT: <(karşı_Adj)(-)(karşı:adjectiveRoot_ST + adjZeroDeriv_S + noun_S + a3sg_S + sı:p3sg_S + nda:loc_ST)>\n"
     ]
    },
    {
     "name": "stdout",
     "output_type": "stream",
     "text": [
      "2020-12-01 21:34:06,181 - root - WARNING\n",
      "Msg: APPENDING RESULT: <(karşı_Adj)(-)(karşı:adjectiveRoot_ST + adjZeroDeriv_S + noun_S + a3sg_S + sı:p3sg_S + nda:loc_ST)>\n",
      "\n"
     ]
    },
    {
     "name": "stderr",
     "output_type": "stream",
     "text": [
      "WARNING:root:APPENDING RESULT: <(alarm_Noun)(-)(alarm:noun_S + a3sg_S + pnon_S + nom_ST)>\n"
     ]
    },
    {
     "name": "stdout",
     "output_type": "stream",
     "text": [
      "2020-12-01 21:34:06,187 - root - WARNING\n",
      "Msg: APPENDING RESULT: <(alarm_Noun)(-)(alarm:noun_S + a3sg_S + pnon_S + nom_ST)>\n",
      "\n"
     ]
    },
    {
     "name": "stderr",
     "output_type": "stream",
     "text": [
      "WARNING:root:APPENDING RESULT: <(seviye_Noun)(-)(seviye:noun_S + a3sg_S + si:p3sg_S + nin:gen_ST)>\n"
     ]
    },
    {
     "name": "stdout",
     "output_type": "stream",
     "text": [
      "2020-12-01 21:34:06,198 - root - WARNING\n",
      "Msg: APPENDING RESULT: <(seviye_Noun)(-)(seviye:noun_S + a3sg_S + si:p3sg_S + nin:gen_ST)>\n",
      "\n"
     ]
    },
    {
     "name": "stderr",
     "output_type": "stream",
     "text": [
      "WARNING:root:APPENDING RESULT: <(en_Adv)(-)(en:advRoot_ST)>\n"
     ]
    },
    {
     "name": "stdout",
     "output_type": "stream",
     "text": [
      "2020-12-01 21:34:06,201 - root - WARNING\n",
      "Msg: APPENDING RESULT: <(en_Adv)(-)(en:advRoot_ST)>\n",
      "\n"
     ]
    },
    {
     "name": "stderr",
     "output_type": "stream",
     "text": [
      "WARNING:root:APPENDING RESULT: <(en_Noun)(-)(en:noun_S + a3sg_S + pnon_S + nom_ST)>\n"
     ]
    },
    {
     "name": "stdout",
     "output_type": "stream",
     "text": [
      "2020-12-01 21:34:06,203 - root - WARNING\n",
      "Msg: APPENDING RESULT: <(en_Noun)(-)(en:noun_S + a3sg_S + pnon_S + nom_ST)>\n",
      "\n"
     ]
    },
    {
     "name": "stderr",
     "output_type": "stream",
     "text": [
      "WARNING:root:APPENDING RESULT: <(üst_Adj)(-)(üst:adjectiveRoot_ST)>\n"
     ]
    },
    {
     "name": "stdout",
     "output_type": "stream",
     "text": [
      "2020-12-01 21:34:06,205 - root - WARNING\n",
      "Msg: APPENDING RESULT: <(üst_Adj)(-)(üst:adjectiveRoot_ST)>\n",
      "\n"
     ]
    },
    {
     "name": "stderr",
     "output_type": "stream",
     "text": [
      "WARNING:root:APPENDING RESULT: <(üst_Noun)(-)(üst:noun_S + a3sg_S + pnon_S + nom_ST)>\n"
     ]
    },
    {
     "name": "stdout",
     "output_type": "stream",
     "text": [
      "2020-12-01 21:34:06,207 - root - WARNING\n",
      "Msg: APPENDING RESULT: <(üst_Noun)(-)(üst:noun_S + a3sg_S + pnon_S + nom_ST)>\n",
      "\n"
     ]
    },
    {
     "name": "stderr",
     "output_type": "stream",
     "text": [
      "WARNING:root:APPENDING RESULT: <(düzemek_Verb)(-)(düze:verbRoot_S + ye:vOpt_S + vA3sg_ST)>\n"
     ]
    },
    {
     "name": "stdout",
     "output_type": "stream",
     "text": [
      "2020-12-01 21:34:06,216 - root - WARNING\n",
      "Msg: APPENDING RESULT: <(düzemek_Verb)(-)(düze:verbRoot_S + ye:vOpt_S + vA3sg_ST)>\n",
      "\n"
     ]
    },
    {
     "name": "stderr",
     "output_type": "stream",
     "text": [
      "WARNING:root:APPENDING RESULT: <(düze_Noun)(-)(düze:noun_S + a3sg_S + pnon_S + ye:dat_ST)>\n"
     ]
    },
    {
     "name": "stdout",
     "output_type": "stream",
     "text": [
      "2020-12-01 21:34:06,221 - root - WARNING\n",
      "Msg: APPENDING RESULT: <(düze_Noun)(-)(düze:noun_S + a3sg_S + pnon_S + ye:dat_ST)>\n",
      "\n"
     ]
    },
    {
     "name": "stderr",
     "output_type": "stream",
     "text": [
      "WARNING:root:APPENDING RESULT: <(düzey_Noun)(-)(düzey:noun_S + a3sg_S + pnon_S + e:dat_ST)>\n"
     ]
    },
    {
     "name": "stdout",
     "output_type": "stream",
     "text": [
      "2020-12-01 21:34:06,223 - root - WARNING\n",
      "Msg: APPENDING RESULT: <(düzey_Noun)(-)(düzey:noun_S + a3sg_S + pnon_S + e:dat_ST)>\n",
      "\n"
     ]
    },
    {
     "name": "stderr",
     "output_type": "stream",
     "text": [
      "WARNING:root:APPENDING RESULT: <(Düzey_Noun_Prop)(-)(düzey:nounProper_S + a3sg_S + pnon_S + e:dat_ST)>\n"
     ]
    },
    {
     "name": "stdout",
     "output_type": "stream",
     "text": [
      "2020-12-01 21:34:06,225 - root - WARNING\n",
      "Msg: APPENDING RESULT: <(Düzey_Noun_Prop)(-)(düzey:nounProper_S + a3sg_S + pnon_S + e:dat_ST)>\n",
      "\n"
     ]
    },
    {
     "name": "stderr",
     "output_type": "stream",
     "text": [
      "WARNING:root:APPENDING RESULT: <(çıkarmak_Verb)(-)(çıkar:verbRoot_S + ıl:vPass_S + verbRoot_S + acağ:vFutPart_S + noun_S + a3sg_S + ın:p2sg_S + ı:acc_ST)>\n"
     ]
    },
    {
     "name": "stdout",
     "output_type": "stream",
     "text": [
      "2020-12-01 21:34:06,238 - root - WARNING\n",
      "Msg: APPENDING RESULT: <(çıkarmak_Verb)(-)(çıkar:verbRoot_S + ıl:vPass_S + verbRoot_S + acağ:vFutPart_S + noun_S + a3sg_S + ın:p2sg_S + ı:acc_ST)>\n",
      "\n"
     ]
    },
    {
     "name": "stderr",
     "output_type": "stream",
     "text": [
      "WARNING:root:APPENDING RESULT: <(çıkarmak_Verb)(-)(çıkar:verbRoot_S + ıl:vPass_S + verbRoot_S + acağ:vFutPart_S + noun_S + a3sg_S + ı:p3sg_S + nı:acc_ST)>\n"
     ]
    },
    {
     "name": "stdout",
     "output_type": "stream",
     "text": [
      "2020-12-01 21:34:06,239 - root - WARNING\n",
      "Msg: APPENDING RESULT: <(çıkarmak_Verb)(-)(çıkar:verbRoot_S + ıl:vPass_S + verbRoot_S + acağ:vFutPart_S + noun_S + a3sg_S + ı:p3sg_S + nı:acc_ST)>\n",
      "\n"
     ]
    },
    {
     "name": "stderr",
     "output_type": "stream",
     "text": [
      "WARNING:root:APPENDING RESULT: <(açıklamak_Verb)(-)(açıkla:verbRoot_S + dı:vPast_S + vA3sg_ST)>\n"
     ]
    },
    {
     "name": "stdout",
     "output_type": "stream",
     "text": [
      "2020-12-01 21:34:06,248 - root - WARNING\n",
      "Msg: APPENDING RESULT: <(açıklamak_Verb)(-)(açıkla:verbRoot_S + dı:vPast_S + vA3sg_ST)>\n",
      "\n"
     ]
    },
    {
     "name": "stderr",
     "output_type": "stream",
     "text": [
      "WARNING:root:APPENDING RESULT: <(._Punc)(-)(.:puncRoot_ST)>\n"
     ]
    },
    {
     "name": "stdout",
     "output_type": "stream",
     "text": [
      "2020-12-01 21:34:06,254 - root - WARNING\n",
      "Msg: APPENDING RESULT: <(._Punc)(-)(.:puncRoot_ST)>\n",
      "\n"
     ]
    },
    {
     "name": "stderr",
     "output_type": "stream",
     "text": [
      "WARNING:root:APPENDING RESULT: <(Dünya_Noun_Prop)(-)(dünya:nounProper_S + a3sg_S + pnon_S + nom_ST)>\n"
     ]
    },
    {
     "name": "stdout",
     "output_type": "stream",
     "text": [
      "2020-12-01 21:34:06,257 - root - WARNING\n",
      "Msg: APPENDING RESULT: <(Dünya_Noun_Prop)(-)(dünya:nounProper_S + a3sg_S + pnon_S + nom_ST)>\n",
      "\n"
     ]
    },
    {
     "name": "stderr",
     "output_type": "stream",
     "text": [
      "WARNING:root:APPENDING RESULT: <(dünya_Noun)(-)(dünya:noun_S + a3sg_S + pnon_S + nom_ST)>\n"
     ]
    },
    {
     "name": "stdout",
     "output_type": "stream",
     "text": [
      "2020-12-01 21:34:06,259 - root - WARNING\n",
      "Msg: APPENDING RESULT: <(dünya_Noun)(-)(dünya:noun_S + a3sg_S + pnon_S + nom_ST)>\n",
      "\n"
     ]
    },
    {
     "name": "stderr",
     "output_type": "stream",
     "text": [
      "WARNING:root:APPENDING RESULT: <(genel_Adj)(-)(genel:adjectiveRoot_ST + adjZeroDeriv_S + noun_S + a3sg_S + in:p2sg_S + de:loc_ST)>\n"
     ]
    },
    {
     "name": "stdout",
     "output_type": "stream",
     "text": [
      "2020-12-01 21:34:06,269 - root - WARNING\n",
      "Msg: APPENDING RESULT: <(genel_Adj)(-)(genel:adjectiveRoot_ST + adjZeroDeriv_S + noun_S + a3sg_S + in:p2sg_S + de:loc_ST)>\n",
      "\n"
     ]
    },
    {
     "name": "stderr",
     "output_type": "stream",
     "text": [
      "WARNING:root:APPENDING RESULT: <(genel_Adj)(-)(genel:adjectiveRoot_ST + adjZeroDeriv_S + noun_S + a3sg_S + i:p3sg_S + nde:loc_ST)>\n"
     ]
    },
    {
     "name": "stdout",
     "output_type": "stream",
     "text": [
      "2020-12-01 21:34:06,271 - root - WARNING\n",
      "Msg: APPENDING RESULT: <(genel_Adj)(-)(genel:adjectiveRoot_ST + adjZeroDeriv_S + noun_S + a3sg_S + i:p3sg_S + nde:loc_ST)>\n",
      "\n"
     ]
    },
    {
     "name": "stderr",
     "output_type": "stream",
     "text": [
      "WARNING:root:APPENDING RESULT: <(yaklaşık_Adj)(-)(yaklaşık:adjectiveRoot_ST)>\n"
     ]
    },
    {
     "name": "stdout",
     "output_type": "stream",
     "text": [
      "2020-12-01 21:34:06,277 - root - WARNING\n",
      "Msg: APPENDING RESULT: <(yaklaşık_Adj)(-)(yaklaşık:adjectiveRoot_ST)>\n",
      "\n"
     ]
    },
    {
     "name": "stderr",
     "output_type": "stream",
     "text": [
      "WARNING:root:APPENDING RESULT: <(milyon_Num_Card)(-)(milyon:numeralRoot_ST)>\n"
     ]
    },
    {
     "name": "stdout",
     "output_type": "stream",
     "text": [
      "2020-12-01 21:34:06,281 - root - WARNING\n",
      "Msg: APPENDING RESULT: <(milyon_Num_Card)(-)(milyon:numeralRoot_ST)>\n",
      "\n"
     ]
    },
    {
     "name": "stderr",
     "output_type": "stream",
     "text": [
      "WARNING:root:APPENDING RESULT: <(kişi_Noun)(-)(kişi:noun_S + a3sg_S + pnon_S + ye:dat_ST)>\n"
     ]
    },
    {
     "name": "stdout",
     "output_type": "stream",
     "text": [
      "2020-12-01 21:34:06,285 - root - WARNING\n",
      "Msg: APPENDING RESULT: <(kişi_Noun)(-)(kişi:noun_S + a3sg_S + pnon_S + ye:dat_ST)>\n",
      "\n"
     ]
    },
    {
     "name": "stderr",
     "output_type": "stream",
     "text": [
      "WARNING:root:APPENDING RESULT: <(bulaşmak_Verb)(-)(bulaş:verbRoot_S + arak:vByDoingSo_S + advRoot_ST)>\n"
     ]
    },
    {
     "name": "stdout",
     "output_type": "stream",
     "text": [
      "2020-12-01 21:34:06,290 - root - WARNING\n",
      "Msg: APPENDING RESULT: <(bulaşmak_Verb)(-)(bulaş:verbRoot_S + arak:vByDoingSo_S + advRoot_ST)>\n",
      "\n"
     ]
    },
    {
     "name": "stderr",
     "output_type": "stream",
     "text": [
      "WARNING:root:APPENDING RESULT: <(milyon_Num_Card)(-)(milyon:numeralRoot_ST + numZeroDeriv_S + noun_S + a3sg_S + pnon_S + u:acc_ST)>\n"
     ]
    },
    {
     "name": "stdout",
     "output_type": "stream",
     "text": [
      "2020-12-01 21:34:06,298 - root - WARNING\n",
      "Msg: APPENDING RESULT: <(milyon_Num_Card)(-)(milyon:numeralRoot_ST + numZeroDeriv_S + noun_S + a3sg_S + pnon_S + u:acc_ST)>\n",
      "\n"
     ]
    },
    {
     "name": "stderr",
     "output_type": "stream",
     "text": [
      "WARNING:root:APPENDING RESULT: <(milyon_Num_Card)(-)(milyon:numeralRoot_ST + numZeroDeriv_S + noun_S + a3sg_S + u:p3sg_S + nom_ST)>\n"
     ]
    },
    {
     "name": "stdout",
     "output_type": "stream",
     "text": [
      "2020-12-01 21:34:06,300 - root - WARNING\n",
      "Msg: APPENDING RESULT: <(milyon_Num_Card)(-)(milyon:numeralRoot_ST + numZeroDeriv_S + noun_S + a3sg_S + u:p3sg_S + nom_ST)>\n",
      "\n"
     ]
    },
    {
     "name": "stderr",
     "output_type": "stream",
     "text": [
      "WARNING:root:APPENDING RESULT: <(aşkın_Postp_PCAcc)(-)(aşkın:postpRoot_ST)>\n"
     ]
    },
    {
     "name": "stdout",
     "output_type": "stream",
     "text": [
      "2020-12-01 21:34:06,303 - root - WARNING\n",
      "Msg: APPENDING RESULT: <(aşkın_Postp_PCAcc)(-)(aşkın:postpRoot_ST)>\n",
      "\n"
     ]
    },
    {
     "name": "stderr",
     "output_type": "stream",
     "text": [
      "WARNING:root:APPENDING RESULT: <(aşkın_Adj)(-)(aşkın:adjectiveRoot_ST)>\n"
     ]
    },
    {
     "name": "stdout",
     "output_type": "stream",
     "text": [
      "2020-12-01 21:34:06,304 - root - WARNING\n",
      "Msg: APPENDING RESULT: <(aşkın_Adj)(-)(aşkın:adjectiveRoot_ST)>\n",
      "\n"
     ]
    },
    {
     "name": "stderr",
     "output_type": "stream",
     "text": [
      "WARNING:root:APPENDING RESULT: <(aşk_Noun)(-)(aşk:noun_S + a3sg_S + pnon_S + ın:gen_ST)>\n"
     ]
    },
    {
     "name": "stdout",
     "output_type": "stream",
     "text": [
      "2020-12-01 21:34:06,307 - root - WARNING\n",
      "Msg: APPENDING RESULT: <(aşk_Noun)(-)(aşk:noun_S + a3sg_S + pnon_S + ın:gen_ST)>\n",
      "\n"
     ]
    },
    {
     "name": "stderr",
     "output_type": "stream",
     "text": [
      "WARNING:root:APPENDING RESULT: <(aşk_Noun)(-)(aşk:noun_S + a3sg_S + ın:p2sg_S + nom_ST)>\n"
     ]
    },
    {
     "name": "stdout",
     "output_type": "stream",
     "text": [
      "2020-12-01 21:34:06,309 - root - WARNING\n",
      "Msg: APPENDING RESULT: <(aşk_Noun)(-)(aşk:noun_S + a3sg_S + ın:p2sg_S + nom_ST)>\n",
      "\n"
     ]
    },
    {
     "name": "stderr",
     "output_type": "stream",
     "text": [
      "WARNING:root:APPENDING RESULT: <(Aşkın_Noun_Prop)(-)(aşkın:nounProper_S + a3sg_S + pnon_S + nom_ST)>\n"
     ]
    },
    {
     "name": "stdout",
     "output_type": "stream",
     "text": [
      "2020-12-01 21:34:06,310 - root - WARNING\n",
      "Msg: APPENDING RESULT: <(Aşkın_Noun_Prop)(-)(aşkın:nounProper_S + a3sg_S + pnon_S + nom_ST)>\n",
      "\n"
     ]
    },
    {
     "name": "stderr",
     "output_type": "stream",
     "text": [
      "WARNING:root:APPENDING RESULT: <(ölü_Noun)(-)(ölü:noun_S + a3sg_S + m:p1sg_S + e:dat_ST)>\n"
     ]
    },
    {
     "name": "stdout",
     "output_type": "stream",
     "text": [
      "2020-12-01 21:34:06,315 - root - WARNING\n",
      "Msg: APPENDING RESULT: <(ölü_Noun)(-)(ölü:noun_S + a3sg_S + m:p1sg_S + e:dat_ST)>\n",
      "\n"
     ]
    },
    {
     "name": "stderr",
     "output_type": "stream",
     "text": [
      "WARNING:root:APPENDING RESULT: <(ölüm_Noun)(-)(ölüm:noun_S + a3sg_S + pnon_S + e:dat_ST)>\n"
     ]
    },
    {
     "name": "stdout",
     "output_type": "stream",
     "text": [
      "2020-12-01 21:34:06,317 - root - WARNING\n",
      "Msg: APPENDING RESULT: <(ölüm_Noun)(-)(ölüm:noun_S + a3sg_S + pnon_S + e:dat_ST)>\n",
      "\n"
     ]
    },
    {
     "name": "stderr",
     "output_type": "stream",
     "text": [
      "WARNING:root:APPENDING RESULT: <(ölü_Adj)(-)(ölü:adjectiveRoot_ST + adjZeroDeriv_S + noun_S + a3sg_S + m:p1sg_S + e:dat_ST)>\n"
     ]
    },
    {
     "name": "stdout",
     "output_type": "stream",
     "text": [
      "2020-12-01 21:34:06,320 - root - WARNING\n",
      "Msg: APPENDING RESULT: <(ölü_Adj)(-)(ölü:adjectiveRoot_ST + adjZeroDeriv_S + noun_S + a3sg_S + m:p1sg_S + e:dat_ST)>\n",
      "\n"
     ]
    },
    {
     "name": "stderr",
     "output_type": "stream",
     "text": [
      "WARNING:root:APPENDING RESULT: <(neden_Adv)(-)(neden:advRoot_ST)>\n"
     ]
    },
    {
     "name": "stdout",
     "output_type": "stream",
     "text": [
      "2020-12-01 21:34:06,324 - root - WARNING\n",
      "Msg: APPENDING RESULT: <(neden_Adv)(-)(neden:advRoot_ST)>\n",
      "\n"
     ]
    },
    {
     "name": "stderr",
     "output_type": "stream",
     "text": [
      "WARNING:root:APPENDING RESULT: <(ne_Pron_Ques)(-)(ne:pronQues_S + pQuesA3sg_S + pPnon_S + den:pAbl_ST)>\n"
     ]
    },
    {
     "name": "stdout",
     "output_type": "stream",
     "text": [
      "2020-12-01 21:34:06,327 - root - WARNING\n",
      "Msg: APPENDING RESULT: <(ne_Pron_Ques)(-)(ne:pronQues_S + pQuesA3sg_S + pPnon_S + den:pAbl_ST)>\n",
      "\n"
     ]
    },
    {
     "name": "stderr",
     "output_type": "stream",
     "text": [
      "WARNING:root:APPENDING RESULT: <(Ne_Noun_Abbrv)(-)(ne:nounAbbrv_S + a3sg_S + pnon_S + den:abl_ST)>\n"
     ]
    },
    {
     "name": "stdout",
     "output_type": "stream",
     "text": [
      "2020-12-01 21:34:06,329 - root - WARNING\n",
      "Msg: APPENDING RESULT: <(Ne_Noun_Abbrv)(-)(ne:nounAbbrv_S + a3sg_S + pnon_S + den:abl_ST)>\n",
      "\n"
     ]
    },
    {
     "name": "stderr",
     "output_type": "stream",
     "text": [
      "WARNING:root:APPENDING RESULT: <(ne_Noun)(-)(ne:noun_S + a3sg_S + pnon_S + den:abl_ST)>\n"
     ]
    },
    {
     "name": "stdout",
     "output_type": "stream",
     "text": [
      "2020-12-01 21:34:06,331 - root - WARNING\n",
      "Msg: APPENDING RESULT: <(ne_Noun)(-)(ne:noun_S + a3sg_S + pnon_S + den:abl_ST)>\n",
      "\n"
     ]
    },
    {
     "name": "stderr",
     "output_type": "stream",
     "text": [
      "WARNING:root:APPENDING RESULT: <(neden_Noun)(-)(neden:noun_S + a3sg_S + pnon_S + nom_ST)>\n"
     ]
    },
    {
     "name": "stdout",
     "output_type": "stream",
     "text": [
      "2020-12-01 21:34:06,333 - root - WARNING\n",
      "Msg: APPENDING RESULT: <(neden_Noun)(-)(neden:noun_S + a3sg_S + pnon_S + nom_ST)>\n",
      "\n"
     ]
    },
    {
     "name": "stderr",
     "output_type": "stream",
     "text": [
      "WARNING:root:APPENDING RESULT: <(ne_Adj)(-)(ne:adjectiveRoot_ST + adjZeroDeriv_S + noun_S + a3sg_S + pnon_S + den:abl_ST)>\n"
     ]
    },
    {
     "name": "stdout",
     "output_type": "stream",
     "text": [
      "2020-12-01 21:34:06,335 - root - WARNING\n",
      "Msg: APPENDING RESULT: <(ne_Adj)(-)(ne:adjectiveRoot_ST + adjZeroDeriv_S + noun_S + a3sg_S + pnon_S + den:abl_ST)>\n",
      "\n"
     ]
    },
    {
     "name": "stderr",
     "output_type": "stream",
     "text": [
      "WARNING:root:APPENDING RESULT: <(olmak_Verb)(-)(ol:verbRoot_S + an:vPresPart_S + adjAfterVerb_ST)>\n"
     ]
    },
    {
     "name": "stdout",
     "output_type": "stream",
     "text": [
      "2020-12-01 21:34:06,342 - root - WARNING\n",
      "Msg: APPENDING RESULT: <(olmak_Verb)(-)(ol:verbRoot_S + an:vPresPart_S + adjAfterVerb_ST)>\n",
      "\n"
     ]
    },
    {
     "name": "stderr",
     "output_type": "stream",
     "text": [
      "WARNING:root:APPENDING RESULT: <(o_Adj)(-)(o:adjectiveRoot_ST + lan:acquire_S + verbRoot_S + vImp_S + vA2sg_ST)>\n"
     ]
    },
    {
     "name": "stdout",
     "output_type": "stream",
     "text": [
      "2020-12-01 21:34:06,343 - root - WARNING\n",
      "Msg: APPENDING RESULT: <(o_Adj)(-)(o:adjectiveRoot_ST + lan:acquire_S + verbRoot_S + vImp_S + vA2sg_ST)>\n",
      "\n"
     ]
    },
    {
     "name": "stderr",
     "output_type": "stream",
     "text": [
      "WARNING:root:APPENDING RESULT: <(salgın_Noun)(-)(salgın:noun_S + a3sg_S + ın:p2sg_S + ın:gen_ST)>\n"
     ]
    },
    {
     "name": "stdout",
     "output_type": "stream",
     "text": [
      "2020-12-01 21:34:06,353 - root - WARNING\n",
      "Msg: APPENDING RESULT: <(salgın_Noun)(-)(salgın:noun_S + a3sg_S + ın:p2sg_S + ın:gen_ST)>\n",
      "\n"
     ]
    },
    {
     "name": "stderr",
     "output_type": "stream",
     "text": [
      "WARNING:root:APPENDING RESULT: <(salgın_Noun)(-)(salgın:noun_S + a3sg_S + ı:p3sg_S + nın:gen_ST)>\n"
     ]
    },
    {
     "name": "stdout",
     "output_type": "stream",
     "text": [
      "2020-12-01 21:34:06,355 - root - WARNING\n",
      "Msg: APPENDING RESULT: <(salgın_Noun)(-)(salgın:noun_S + a3sg_S + ı:p3sg_S + nın:gen_ST)>\n",
      "\n"
     ]
    },
    {
     "name": "stderr",
     "output_type": "stream",
     "text": [
      "WARNING:root:APPENDING RESULT: <(salgın_Adj)(-)(salgın:adjectiveRoot_ST + adjZeroDeriv_S + noun_S + a3sg_S + ın:p2sg_S + ın:gen_ST)>\n"
     ]
    },
    {
     "name": "stdout",
     "output_type": "stream",
     "text": [
      "2020-12-01 21:34:06,359 - root - WARNING\n",
      "Msg: APPENDING RESULT: <(salgın_Adj)(-)(salgın:adjectiveRoot_ST + adjZeroDeriv_S + noun_S + a3sg_S + ın:p2sg_S + ın:gen_ST)>\n",
      "\n"
     ]
    },
    {
     "name": "stderr",
     "output_type": "stream",
     "text": [
      "WARNING:root:APPENDING RESULT: <(salgın_Adj)(-)(salgın:adjectiveRoot_ST + adjZeroDeriv_S + noun_S + a3sg_S + ı:p3sg_S + nın:gen_ST)>\n"
     ]
    },
    {
     "name": "stdout",
     "output_type": "stream",
     "text": [
      "2020-12-01 21:34:06,360 - root - WARNING\n",
      "Msg: APPENDING RESULT: <(salgın_Adj)(-)(salgın:adjectiveRoot_ST + adjZeroDeriv_S + noun_S + a3sg_S + ı:p3sg_S + nın:gen_ST)>\n",
      "\n"
     ]
    },
    {
     "name": "stderr",
     "output_type": "stream",
     "text": [
      "WARNING:root:APPENDING RESULT: <(Japonya_Noun_Prop)(-)(japonya:nounProper_S + a3sg_S + pnon_S + da:loc_ST)>\n"
     ]
    },
    {
     "name": "stdout",
     "output_type": "stream",
     "text": [
      "2020-12-01 21:34:06,367 - root - WARNING\n",
      "Msg: APPENDING RESULT: <(Japonya_Noun_Prop)(-)(japonya:nounProper_S + a3sg_S + pnon_S + da:loc_ST)>\n",
      "\n"
     ]
    },
    {
     "name": "stderr",
     "output_type": "stream",
     "text": [
      "WARNING:root:APPENDING RESULT: <(yeniden_Adv)(-)(yeniden:advRoot_ST)>\n"
     ]
    },
    {
     "name": "stdout",
     "output_type": "stream",
     "text": [
      "2020-12-01 21:34:06,370 - root - WARNING\n",
      "Msg: APPENDING RESULT: <(yeniden_Adv)(-)(yeniden:advRoot_ST)>\n",
      "\n"
     ]
    },
    {
     "name": "stderr",
     "output_type": "stream",
     "text": [
      "WARNING:root:APPENDING RESULT: <(yeni_Adj)(-)(yeni:adjectiveRoot_ST + adjZeroDeriv_S + noun_S + a3sg_S + pnon_S + den:abl_ST)>\n"
     ]
    },
    {
     "name": "stdout",
     "output_type": "stream",
     "text": [
      "2020-12-01 21:34:06,375 - root - WARNING\n",
      "Msg: APPENDING RESULT: <(yeni_Adj)(-)(yeni:adjectiveRoot_ST + adjZeroDeriv_S + noun_S + a3sg_S + pnon_S + den:abl_ST)>\n",
      "\n"
     ]
    },
    {
     "name": "stderr",
     "output_type": "stream",
     "text": [
      "WARNING:root:APPENDING RESULT: <(tırmanmak_Verb)(-)(tırman:verbRoot_S + ış:vInf3_S + noun_S + a3sg_S + pnon_S + a:dat_ST)>\n"
     ]
    },
    {
     "name": "stdout",
     "output_type": "stream",
     "text": [
      "2020-12-01 21:34:06,380 - root - WARNING\n",
      "Msg: APPENDING RESULT: <(tırmanmak_Verb)(-)(tırman:verbRoot_S + ış:vInf3_S + noun_S + a3sg_S + pnon_S + a:dat_ST)>\n",
      "\n"
     ]
    },
    {
     "name": "stderr",
     "output_type": "stream",
     "text": [
      "WARNING:root:APPENDING RESULT: <(geçmek_Verb)(-)(geç:verbRoot_S + me:vInf2_S + noun_S + a3sg_S + si:p3sg_S + nom_ST)>\n"
     ]
    },
    {
     "name": "stdout",
     "output_type": "stream",
     "text": [
      "2020-12-01 21:34:06,385 - root - WARNING\n",
      "Msg: APPENDING RESULT: <(geçmek_Verb)(-)(geç:verbRoot_S + me:vInf2_S + noun_S + a3sg_S + si:p3sg_S + nom_ST)>\n",
      "\n"
     ]
    },
    {
     "name": "stderr",
     "output_type": "stream",
     "text": [
      "WARNING:root:APPENDING RESULT: <(,_Punc)(-)(,:puncRoot_ST)>\n"
     ]
    },
    {
     "name": "stdout",
     "output_type": "stream",
     "text": [
      "2020-12-01 21:34:06,388 - root - WARNING\n",
      "Msg: APPENDING RESULT: <(,_Punc)(-)(,:puncRoot_ST)>\n",
      "\n"
     ]
    },
    {
     "name": "stderr",
     "output_type": "stream",
     "text": [
      "WARNING:root:APPENDING RESULT: <(başkent_Noun)(-)(başkent:noun_S + a3sg_S + pnon_S + nom_ST)>\n"
     ]
    },
    {
     "name": "stdout",
     "output_type": "stream",
     "text": [
      "2020-12-01 21:34:06,391 - root - WARNING\n",
      "Msg: APPENDING RESULT: <(başkent_Noun)(-)(başkent:noun_S + a3sg_S + pnon_S + nom_ST)>\n",
      "\n"
     ]
    },
    {
     "name": "stderr",
     "output_type": "stream",
     "text": [
      "WARNING:root:APPENDING RESULT: <(tokyo_Noun)(-)(tokyo:noun_S + a3sg_S + pnon_S + nun:gen_ST)>\n"
     ]
    },
    {
     "name": "stdout",
     "output_type": "stream",
     "text": [
      "2020-12-01 21:34:06,397 - root - WARNING\n",
      "Msg: APPENDING RESULT: <(tokyo_Noun)(-)(tokyo:noun_S + a3sg_S + pnon_S + nun:gen_ST)>\n",
      "\n"
     ]
    },
    {
     "name": "stderr",
     "output_type": "stream",
     "text": [
      "WARNING:root:APPENDING RESULT: <(tokyo_Noun)(-)(tokyo:noun_S + a3sg_S + n:p2sg_S + un:gen_ST)>\n"
     ]
    },
    {
     "name": "stdout",
     "output_type": "stream",
     "text": [
      "2020-12-01 21:34:06,399 - root - WARNING\n",
      "Msg: APPENDING RESULT: <(tokyo_Noun)(-)(tokyo:noun_S + a3sg_S + n:p2sg_S + un:gen_ST)>\n",
      "\n"
     ]
    },
    {
     "name": "stderr",
     "output_type": "stream",
     "text": [
      "WARNING:root:APPENDING RESULT: <(yerel_Adj)(-)(yerel:adjectiveRoot_ST)>\n"
     ]
    },
    {
     "name": "stdout",
     "output_type": "stream",
     "text": [
      "2020-12-01 21:34:06,403 - root - WARNING\n",
      "Msg: APPENDING RESULT: <(yerel_Adj)(-)(yerel:adjectiveRoot_ST)>\n",
      "\n"
     ]
    },
    {
     "name": "stderr",
     "output_type": "stream",
     "text": [
      "WARNING:root:APPENDING RESULT: <(Yerel_Noun_Prop)(-)(yerel:nounProper_S + a3sg_S + pnon_S + nom_ST)>\n"
     ]
    },
    {
     "name": "stdout",
     "output_type": "stream",
     "text": [
      "2020-12-01 21:34:06,406 - root - WARNING\n",
      "Msg: APPENDING RESULT: <(Yerel_Noun_Prop)(-)(yerel:nounProper_S + a3sg_S + pnon_S + nom_ST)>\n",
      "\n"
     ]
    },
    {
     "name": "stderr",
     "output_type": "stream",
     "text": [
      "WARNING:root:APPENDING RESULT: <(yönetim_Noun)(-)(yönetim:noun_S + a3sg_S + in:p2sg_S + i:acc_ST)>\n"
     ]
    },
    {
     "name": "stdout",
     "output_type": "stream",
     "text": [
      "2020-12-01 21:34:06,411 - root - WARNING\n",
      "Msg: APPENDING RESULT: <(yönetim_Noun)(-)(yönetim:noun_S + a3sg_S + in:p2sg_S + i:acc_ST)>\n",
      "\n"
     ]
    },
    {
     "name": "stderr",
     "output_type": "stream",
     "text": [
      "WARNING:root:APPENDING RESULT: <(yönetim_Noun)(-)(yönetim:noun_S + a3sg_S + i:p3sg_S + ni:acc_ST)>\n"
     ]
    },
    {
     "name": "stdout",
     "output_type": "stream",
     "text": [
      "2020-12-01 21:34:06,413 - root - WARNING\n",
      "Msg: APPENDING RESULT: <(yönetim_Noun)(-)(yönetim:noun_S + a3sg_S + i:p3sg_S + ni:acc_ST)>\n",
      "\n"
     ]
    },
    {
     "name": "stderr",
     "output_type": "stream",
     "text": [
      "WARNING:root:APPENDING RESULT: <(hareket_Noun)(-)(hareket:noun_S + a3sg_S + pnon_S + e:dat_ST)>\n"
     ]
    },
    {
     "name": "stdout",
     "output_type": "stream",
     "text": [
      "2020-12-01 21:34:06,422 - root - WARNING\n",
      "Msg: APPENDING RESULT: <(hareket_Noun)(-)(hareket:noun_S + a3sg_S + pnon_S + e:dat_ST)>\n",
      "\n"
     ]
    },
    {
     "name": "stderr",
     "output_type": "stream",
     "text": [
      "WARNING:root:APPENDING RESULT: <(geçirmek_Verb)(-)(geçir:verbRoot_S + di:vPast_S + vA3sg_ST)>\n"
     ]
    },
    {
     "name": "stdout",
     "output_type": "stream",
     "text": [
      "2020-12-01 21:34:06,429 - root - WARNING\n",
      "Msg: APPENDING RESULT: <(geçirmek_Verb)(-)(geçir:verbRoot_S + di:vPast_S + vA3sg_ST)>\n",
      "\n"
     ]
    },
    {
     "name": "stderr",
     "output_type": "stream",
     "text": [
      "WARNING:root:APPENDING RESULT: <(._Punc)(-)(.:puncRoot_ST)>\n"
     ]
    },
    {
     "name": "stdout",
     "output_type": "stream",
     "text": [
      "2020-12-01 21:34:06,433 - root - WARNING\n",
      "Msg: APPENDING RESULT: <(._Punc)(-)(.:puncRoot_ST)>\n",
      "\n"
     ]
    },
    {
     "name": "stderr",
     "output_type": "stream",
     "text": [
      "WARNING:root:APPENDING RESULT: <(şimdi_Noun_Time)(-)(şimdi:noun_S + a3sg_S + pnon_S + ye:dat_ST)>\n"
     ]
    },
    {
     "name": "stdout",
     "output_type": "stream",
     "text": [
      "2020-12-01 21:34:06,436 - root - WARNING\n",
      "Msg: APPENDING RESULT: <(şimdi_Noun_Time)(-)(şimdi:noun_S + a3sg_S + pnon_S + ye:dat_ST)>\n",
      "\n"
     ]
    },
    {
     "name": "stderr",
     "output_type": "stream",
     "text": [
      "WARNING:root:APPENDING RESULT: <(dek_Postp_PCDat)(-)(dek:postpRoot_ST)>\n"
     ]
    },
    {
     "name": "stdout",
     "output_type": "stream",
     "text": [
      "2020-12-01 21:34:06,438 - root - WARNING\n",
      "Msg: APPENDING RESULT: <(dek_Postp_PCDat)(-)(dek:postpRoot_ST)>\n",
      "\n"
     ]
    },
    {
     "name": "stderr",
     "output_type": "stream",
     "text": [
      "WARNING:root:APPENDING RESULT: <(dek_Noun)(-)(dek:noun_S + a3sg_S + pnon_S + nom_ST)>\n"
     ]
    },
    {
     "name": "stdout",
     "output_type": "stream",
     "text": [
      "2020-12-01 21:34:06,440 - root - WARNING\n",
      "Msg: APPENDING RESULT: <(dek_Noun)(-)(dek:noun_S + a3sg_S + pnon_S + nom_ST)>\n",
      "\n"
     ]
    },
    {
     "name": "stderr",
     "output_type": "stream",
     "text": [
      "WARNING:root:APPENDING RESULT: <(doğru_Adj)(-)(doğru:adjectiveRoot_ST + lan:acquire_S + verbRoot_S + an:vPresPart_S + adjAfterVerb_ST)>\n"
     ]
    },
    {
     "name": "stdout",
     "output_type": "stream",
     "text": [
      "2020-12-01 21:34:06,448 - root - WARNING\n",
      "Msg: APPENDING RESULT: <(doğru_Adj)(-)(doğru:adjectiveRoot_ST + lan:acquire_S + verbRoot_S + an:vPresPart_S + adjAfterVerb_ST)>\n",
      "\n"
     ]
    },
    {
     "name": "stderr",
     "output_type": "stream",
     "text": [
      "WARNING:root:APPENDING RESULT: <(doğrulamak_Verb)(-)(doğrula:verbRoot_S + n:vPass_S + verbRoot_S + an:vPresPart_S + adjAfterVerb_ST)>\n"
     ]
    },
    {
     "name": "stdout",
     "output_type": "stream",
     "text": [
      "2020-12-01 21:34:06,449 - root - WARNING\n",
      "Msg: APPENDING RESULT: <(doğrulamak_Verb)(-)(doğrula:verbRoot_S + n:vPass_S + verbRoot_S + an:vPresPart_S + adjAfterVerb_ST)>\n",
      "\n"
     ]
    },
    {
     "name": "stderr",
     "output_type": "stream",
     "text": [
      "WARNING:root:APPENDING RESULT: <(doğru_Noun)(-)(doğru:noun_S + a3sg_S + pnon_S + nom_ST + lan:acquire_S + verbRoot_S + an:vPresPart_S + adjAfterVerb_ST)>\n"
     ]
    },
    {
     "name": "stdout",
     "output_type": "stream",
     "text": [
      "2020-12-01 21:34:06,452 - root - WARNING\n",
      "Msg: APPENDING RESULT: <(doğru_Noun)(-)(doğru:noun_S + a3sg_S + pnon_S + nom_ST + lan:acquire_S + verbRoot_S + an:vPresPart_S + adjAfterVerb_ST)>\n",
      "\n"
     ]
    },
    {
     "name": "stderr",
     "output_type": "stream",
     "text": [
      "WARNING:root:APPENDING RESULT: <(yaklaşık_Adj)(-)(yaklaşık:adjectiveRoot_ST)>\n"
     ]
    },
    {
     "name": "stdout",
     "output_type": "stream",
     "text": [
      "2020-12-01 21:34:06,456 - root - WARNING\n",
      "Msg: APPENDING RESULT: <(yaklaşık_Adj)(-)(yaklaşık:adjectiveRoot_ST)>\n",
      "\n"
     ]
    },
    {
     "name": "stderr",
     "output_type": "stream",
     "text": [
      "WARNING:root:APPENDING RESULT: <(bin_Num_Card)(-)(bin:numeralRoot_ST)>\n"
     ]
    },
    {
     "name": "stdout",
     "output_type": "stream",
     "text": [
      "2020-12-01 21:34:06,462 - root - WARNING\n",
      "Msg: APPENDING RESULT: <(bin_Num_Card)(-)(bin:numeralRoot_ST)>\n",
      "\n"
     ]
    },
    {
     "name": "stderr",
     "output_type": "stream",
     "text": [
      "WARNING:root:APPENDING RESULT: <(binmek_Verb)(-)(bin:verbRoot_S + vImp_S + vA2sg_ST)>\n"
     ]
    },
    {
     "name": "stdout",
     "output_type": "stream",
     "text": [
      "2020-12-01 21:34:06,463 - root - WARNING\n",
      "Msg: APPENDING RESULT: <(binmek_Verb)(-)(bin:verbRoot_S + vImp_S + vA2sg_ST)>\n",
      "\n"
     ]
    },
    {
     "name": "stderr",
     "output_type": "stream",
     "text": [
      "WARNING:root:APPENDING RESULT: <(vaka_Noun)(-)(vaka:noun_S + a3sg_S + pnon_S + yla:ins_ST)>\n"
     ]
    },
    {
     "name": "stdout",
     "output_type": "stream",
     "text": [
      "2020-12-01 21:34:06,467 - root - WARNING\n",
      "Msg: APPENDING RESULT: <(vaka_Noun)(-)(vaka:noun_S + a3sg_S + pnon_S + yla:ins_ST)>\n",
      "\n"
     ]
    },
    {
     "name": "stderr",
     "output_type": "stream",
     "text": [
      "WARNING:root:APPENDING RESULT: <(salgı_Noun)(-)(salgı:noun_S + a3sg_S + n:p2sg_S + dan:abl_ST)>\n"
     ]
    },
    {
     "name": "stdout",
     "output_type": "stream",
     "text": [
      "2020-12-01 21:34:06,471 - root - WARNING\n",
      "Msg: APPENDING RESULT: <(salgı_Noun)(-)(salgı:noun_S + a3sg_S + n:p2sg_S + dan:abl_ST)>\n",
      "\n"
     ]
    },
    {
     "name": "stderr",
     "output_type": "stream",
     "text": [
      "WARNING:root:APPENDING RESULT: <(salgın_Noun)(-)(salgın:noun_S + a3sg_S + pnon_S + dan:abl_ST)>\n"
     ]
    },
    {
     "name": "stdout",
     "output_type": "stream",
     "text": [
      "2020-12-01 21:34:06,473 - root - WARNING\n",
      "Msg: APPENDING RESULT: <(salgın_Noun)(-)(salgın:noun_S + a3sg_S + pnon_S + dan:abl_ST)>\n",
      "\n"
     ]
    },
    {
     "name": "stderr",
     "output_type": "stream",
     "text": [
      "WARNING:root:APPENDING RESULT: <(salgın_Adj)(-)(salgın:adjectiveRoot_ST + adjZeroDeriv_S + noun_S + a3sg_S + pnon_S + dan:abl_ST)>\n"
     ]
    },
    {
     "name": "stdout",
     "output_type": "stream",
     "text": [
      "2020-12-01 21:34:06,476 - root - WARNING\n",
      "Msg: APPENDING RESULT: <(salgın_Adj)(-)(salgın:adjectiveRoot_ST + adjZeroDeriv_S + noun_S + a3sg_S + pnon_S + dan:abl_ST)>\n",
      "\n"
     ]
    },
    {
     "name": "stderr",
     "output_type": "stream",
     "text": [
      "WARNING:root:APPENDING RESULT: <(en_Adv)(-)(en:advRoot_ST)>\n"
     ]
    },
    {
     "name": "stdout",
     "output_type": "stream",
     "text": [
      "2020-12-01 21:34:06,479 - root - WARNING\n",
      "Msg: APPENDING RESULT: <(en_Adv)(-)(en:advRoot_ST)>\n",
      "\n"
     ]
    },
    {
     "name": "stderr",
     "output_type": "stream",
     "text": [
      "WARNING:root:APPENDING RESULT: <(en_Noun)(-)(en:noun_S + a3sg_S + pnon_S + nom_ST)>\n"
     ]
    },
    {
     "name": "stdout",
     "output_type": "stream",
     "text": [
      "2020-12-01 21:34:06,482 - root - WARNING\n",
      "Msg: APPENDING RESULT: <(en_Noun)(-)(en:noun_S + a3sg_S + pnon_S + nom_ST)>\n",
      "\n"
     ]
    },
    {
     "name": "stderr",
     "output_type": "stream",
     "text": [
      "WARNING:root:APPENDING RESULT: <(fazla_Postp_PCAbl)(-)(fazla:postpRoot_ST)>\n"
     ]
    },
    {
     "name": "stdout",
     "output_type": "stream",
     "text": [
      "2020-12-01 21:34:06,484 - root - WARNING\n",
      "Msg: APPENDING RESULT: <(fazla_Postp_PCAbl)(-)(fazla:postpRoot_ST)>\n",
      "\n"
     ]
    },
    {
     "name": "stderr",
     "output_type": "stream",
     "text": [
      "WARNING:root:APPENDING RESULT: <(fazla_Adv)(-)(fazla:advRoot_ST)>\n"
     ]
    },
    {
     "name": "stdout",
     "output_type": "stream",
     "text": [
      "2020-12-01 21:34:06,485 - root - WARNING\n",
      "Msg: APPENDING RESULT: <(fazla_Adv)(-)(fazla:advRoot_ST)>\n",
      "\n"
     ]
    },
    {
     "name": "stderr",
     "output_type": "stream",
     "text": [
      "WARNING:root:APPENDING RESULT: <(fazla_Adj)(-)(fazla:adjectiveRoot_ST)>\n"
     ]
    },
    {
     "name": "stdout",
     "output_type": "stream",
     "text": [
      "2020-12-01 21:34:06,486 - root - WARNING\n",
      "Msg: APPENDING RESULT: <(fazla_Adj)(-)(fazla:adjectiveRoot_ST)>\n",
      "\n"
     ]
    },
    {
     "name": "stderr",
     "output_type": "stream",
     "text": [
      "WARNING:root:APPENDING RESULT: <(faz_Noun)(-)(faz:noun_S + a3sg_S + pnon_S + la:ins_ST)>\n"
     ]
    },
    {
     "name": "stdout",
     "output_type": "stream",
     "text": [
      "2020-12-01 21:34:06,489 - root - WARNING\n",
      "Msg: APPENDING RESULT: <(faz_Noun)(-)(faz:noun_S + a3sg_S + pnon_S + la:ins_ST)>\n",
      "\n"
     ]
    },
    {
     "name": "stderr",
     "output_type": "stream",
     "text": [
      "WARNING:root:APPENDING RESULT: <(etkilemek_Verb)(-)(etkile:verbRoot_S + n:vPass_S + verbRoot_S + en:vPresPart_S + adjAfterVerb_ST)>\n"
     ]
    },
    {
     "name": "stdout",
     "output_type": "stream",
     "text": [
      "2020-12-01 21:34:06,495 - root - WARNING\n",
      "Msg: APPENDING RESULT: <(etkilemek_Verb)(-)(etkile:verbRoot_S + n:vPass_S + verbRoot_S + en:vPresPart_S + adjAfterVerb_ST)>\n",
      "\n"
     ]
    },
    {
     "name": "stderr",
     "output_type": "stream",
     "text": [
      "WARNING:root:APPENDING RESULT: <(etki_Noun)(-)(etki:noun_S + a3sg_S + pnon_S + nom_ST + len:acquire_S + verbRoot_S + en:vPresPart_S + adjAfterVerb_ST)>\n"
     ]
    },
    {
     "name": "stdout",
     "output_type": "stream",
     "text": [
      "2020-12-01 21:34:06,497 - root - WARNING\n",
      "Msg: APPENDING RESULT: <(etki_Noun)(-)(etki:noun_S + a3sg_S + pnon_S + nom_ST + len:acquire_S + verbRoot_S + en:vPresPart_S + adjAfterVerb_ST)>\n",
      "\n"
     ]
    },
    {
     "name": "stderr",
     "output_type": "stream",
     "text": [
      "WARNING:root:APPENDING RESULT: <(bölge_Noun)(-)(bölge:noun_S + a3sg_S + pnon_S + nom_ST)>\n"
     ]
    },
    {
     "name": "stdout",
     "output_type": "stream",
     "text": [
      "2020-12-01 21:34:06,500 - root - WARNING\n",
      "Msg: APPENDING RESULT: <(bölge_Noun)(-)(bölge:noun_S + a3sg_S + pnon_S + nom_ST)>\n",
      "\n"
     ]
    },
    {
     "name": "stderr",
     "output_type": "stream",
     "text": [
      "WARNING:root:APPENDING RESULT: <(olmak_Verb)(-)(ol:verbRoot_S + an:vPresPart_S + adjAfterVerb_ST)>\n"
     ]
    },
    {
     "name": "stdout",
     "output_type": "stream",
     "text": [
      "2020-12-01 21:34:06,504 - root - WARNING\n",
      "Msg: APPENDING RESULT: <(olmak_Verb)(-)(ol:verbRoot_S + an:vPresPart_S + adjAfterVerb_ST)>\n",
      "\n"
     ]
    },
    {
     "name": "stderr",
     "output_type": "stream",
     "text": [
      "WARNING:root:APPENDING RESULT: <(o_Adj)(-)(o:adjectiveRoot_ST + lan:acquire_S + verbRoot_S + vImp_S + vA2sg_ST)>\n"
     ]
    },
    {
     "name": "stdout",
     "output_type": "stream",
     "text": [
      "2020-12-01 21:34:06,506 - root - WARNING\n",
      "Msg: APPENDING RESULT: <(o_Adj)(-)(o:adjectiveRoot_ST + lan:acquire_S + verbRoot_S + vImp_S + vA2sg_ST)>\n",
      "\n"
     ]
    },
    {
     "name": "stderr",
     "output_type": "stream",
     "text": [
      "WARNING:root:APPENDING RESULT: <(tokyo_Noun)(-)(tokyo:noun_S + a3sg_S + pnon_S + da:loc_ST)>\n"
     ]
    },
    {
     "name": "stdout",
     "output_type": "stream",
     "text": [
      "2020-12-01 21:34:06,511 - root - WARNING\n",
      "Msg: APPENDING RESULT: <(tokyo_Noun)(-)(tokyo:noun_S + a3sg_S + pnon_S + da:loc_ST)>\n",
      "\n"
     ]
    },
    {
     "name": "stderr",
     "output_type": "stream",
     "text": [
      "WARNING:root:APPENDING RESULT: <(bugün_Adv)(-)(bugün:advRoot_ST)>\n"
     ]
    },
    {
     "name": "stdout",
     "output_type": "stream",
     "text": [
      "2020-12-01 21:34:06,515 - root - WARNING\n",
      "Msg: APPENDING RESULT: <(bugün_Adv)(-)(bugün:advRoot_ST)>\n",
      "\n"
     ]
    },
    {
     "name": "stderr",
     "output_type": "stream",
     "text": [
      "WARNING:root:APPENDING RESULT: <(bugün_Noun_Time)(-)(bugün:noun_S + a3sg_S + pnon_S + nom_ST)>\n"
     ]
    },
    {
     "name": "stdout",
     "output_type": "stream",
     "text": [
      "2020-12-01 21:34:06,518 - root - WARNING\n",
      "Msg: APPENDING RESULT: <(bugün_Noun_Time)(-)(bugün:noun_S + a3sg_S + pnon_S + nom_ST)>\n",
      "\n"
     ]
    },
    {
     "name": "stderr",
     "output_type": "stream",
     "text": [
      "WARNING:root:APPENDING RESULT: <(yeni_Adv)(-)(yeni:advRoot_ST)>\n"
     ]
    },
    {
     "name": "stdout",
     "output_type": "stream",
     "text": [
      "2020-12-01 21:34:06,520 - root - WARNING\n",
      "Msg: APPENDING RESULT: <(yeni_Adv)(-)(yeni:advRoot_ST)>\n",
      "\n"
     ]
    },
    {
     "name": "stderr",
     "output_type": "stream",
     "text": [
      "WARNING:root:APPENDING RESULT: <(yeni_Adj)(-)(yeni:adjectiveRoot_ST)>\n"
     ]
    },
    {
     "name": "stdout",
     "output_type": "stream",
     "text": [
      "2020-12-01 21:34:06,521 - root - WARNING\n",
      "Msg: APPENDING RESULT: <(yeni_Adj)(-)(yeni:adjectiveRoot_ST)>\n",
      "\n"
     ]
    },
    {
     "name": "stderr",
     "output_type": "stream",
     "text": [
      "WARNING:root:APPENDING RESULT: <(yen_Noun)(-)(yen:noun_S + a3sg_S + pnon_S + i:acc_ST)>\n"
     ]
    },
    {
     "name": "stdout",
     "output_type": "stream",
     "text": [
      "2020-12-01 21:34:06,525 - root - WARNING\n",
      "Msg: APPENDING RESULT: <(yen_Noun)(-)(yen:noun_S + a3sg_S + pnon_S + i:acc_ST)>\n",
      "\n"
     ]
    },
    {
     "name": "stderr",
     "output_type": "stream",
     "text": [
      "WARNING:root:APPENDING RESULT: <(yen_Noun)(-)(yen:noun_S + a3sg_S + i:p3sg_S + nom_ST)>\n"
     ]
    },
    {
     "name": "stdout",
     "output_type": "stream",
     "text": [
      "2020-12-01 21:34:06,526 - root - WARNING\n",
      "Msg: APPENDING RESULT: <(yen_Noun)(-)(yen:noun_S + a3sg_S + i:p3sg_S + nom_ST)>\n",
      "\n"
     ]
    },
    {
     "name": "stderr",
     "output_type": "stream",
     "text": [
      "WARNING:root:APPENDING RESULT: <(enfeksiyon_Noun)(-)(enfeksiyon:noun_S + a3sg_S + pnon_S + nom_ST)>\n"
     ]
    },
    {
     "name": "stdout",
     "output_type": "stream",
     "text": [
      "2020-12-01 21:34:06,529 - root - WARNING\n",
      "Msg: APPENDING RESULT: <(enfeksiyon_Noun)(-)(enfeksiyon:noun_S + a3sg_S + pnon_S + nom_ST)>\n",
      "\n"
     ]
    },
    {
     "name": "stderr",
     "output_type": "stream",
     "text": [
      "WARNING:root:APPENDING RESULT: <(tespit_Noun)(-)(tespit:noun_S + a3sg_S + pnon_S + nom_ST)>\n"
     ]
    },
    {
     "name": "stdout",
     "output_type": "stream",
     "text": [
      "2020-12-01 21:34:06,533 - root - WARNING\n",
      "Msg: APPENDING RESULT: <(tespit_Noun)(-)(tespit:noun_S + a3sg_S + pnon_S + nom_ST)>\n",
      "\n"
     ]
    },
    {
     "name": "stderr",
     "output_type": "stream",
     "text": [
      "WARNING:root:APPENDING RESULT: <(etmek_Verb)(-)(ed:verbRoot_S + il:vPass_S + verbRoot_S + di:vPast_S + vA3sg_ST)>\n"
     ]
    },
    {
     "name": "stdout",
     "output_type": "stream",
     "text": [
      "2020-12-01 21:34:06,538 - root - WARNING\n",
      "Msg: APPENDING RESULT: <(etmek_Verb)(-)(ed:verbRoot_S + il:vPass_S + verbRoot_S + di:vPast_S + vA3sg_ST)>\n",
      "\n"
     ]
    },
    {
     "name": "stderr",
     "output_type": "stream",
     "text": [
      "WARNING:root:APPENDING RESULT: <(._Punc)(-)(.:puncRoot_ST)>\n"
     ]
    },
    {
     "name": "stdout",
     "output_type": "stream",
     "text": [
      "2020-12-01 21:34:06,540 - root - WARNING\n",
      "Msg: APPENDING RESULT: <(._Punc)(-)(.:puncRoot_ST)>\n",
      "\n"
     ]
    },
    {
     "name": "stderr",
     "output_type": "stream",
     "text": [
      "WARNING:root:APPENDING RESULT: <(kay_Noun)(-)(kay:noun_S + a3sg_S + pnon_S + da:loc_ST)>\n"
     ]
    },
    {
     "name": "stdout",
     "output_type": "stream",
     "text": [
      "2020-12-01 21:34:06,544 - root - WARNING\n",
      "Msg: APPENDING RESULT: <(kay_Noun)(-)(kay:noun_S + a3sg_S + pnon_S + da:loc_ST)>\n",
      "\n"
     ]
    },
    {
     "name": "stderr",
     "output_type": "stream",
     "text": [
      "WARNING:root:APPENDING RESULT: <(kayıt_Noun)(-)(kayd:noun_S + a3sg_S + pnon_S + a:dat_ST)>\n"
     ]
    },
    {
     "name": "stdout",
     "output_type": "stream",
     "text": [
      "2020-12-01 21:34:06,545 - root - WARNING\n",
      "Msg: APPENDING RESULT: <(kayıt_Noun)(-)(kayd:noun_S + a3sg_S + pnon_S + a:dat_ST)>\n",
      "\n"
     ]
    },
    {
     "name": "stderr",
     "output_type": "stream",
     "text": [
      "WARNING:root:APPENDING RESULT: <(geçen_Adj)(-)(geçen:adjectiveRoot_ST)>\n"
     ]
    },
    {
     "name": "stdout",
     "output_type": "stream",
     "text": [
      "2020-12-01 21:34:06,548 - root - WARNING\n",
      "Msg: APPENDING RESULT: <(geçen_Adj)(-)(geçen:adjectiveRoot_ST)>\n",
      "\n"
     ]
    },
    {
     "name": "stderr",
     "output_type": "stream",
     "text": [
      "WARNING:root:APPENDING RESULT: <(geçmek_Verb)(-)(geç:verbRoot_S + en:vPresPart_S + adjAfterVerb_ST)>\n"
     ]
    },
    {
     "name": "stdout",
     "output_type": "stream",
     "text": [
      "2020-12-01 21:34:06,550 - root - WARNING\n",
      "Msg: APPENDING RESULT: <(geçmek_Verb)(-)(geç:verbRoot_S + en:vPresPart_S + adjAfterVerb_ST)>\n",
      "\n"
     ]
    },
    {
     "name": "stderr",
     "output_type": "stream",
     "text": [
      "WARNING:root:APPENDING RESULT: <(rekor_Noun)(-)(rekor:noun_S + a3sg_S + pnon_S + nom_ST)>\n"
     ]
    },
    {
     "name": "stdout",
     "output_type": "stream",
     "text": [
      "2020-12-01 21:34:06,556 - root - WARNING\n",
      "Msg: APPENDING RESULT: <(rekor_Noun)(-)(rekor:noun_S + a3sg_S + pnon_S + nom_ST)>\n",
      "\n"
     ]
    },
    {
     "name": "stderr",
     "output_type": "stream",
     "text": [
      "WARNING:root:APPENDING RESULT: <(sayı_Noun)(-)(sayı:noun_S + a3sg_S + pnon_S + da:loc_ST + ki:rel_S + adjectiveRoot_ST)>\n"
     ]
    },
    {
     "name": "stdout",
     "output_type": "stream",
     "text": [
      "2020-12-01 21:34:06,561 - root - WARNING\n",
      "Msg: APPENDING RESULT: <(sayı_Noun)(-)(sayı:noun_S + a3sg_S + pnon_S + da:loc_ST + ki:rel_S + adjectiveRoot_ST)>\n",
      "\n"
     ]
    },
    {
     "name": "stderr",
     "output_type": "stream",
     "text": [
      "WARNING:root:APPENDING RESULT: <(yeni_Adv)(-)(yeni:advRoot_ST)>\n"
     ]
    },
    {
     "name": "stdout",
     "output_type": "stream",
     "text": [
      "2020-12-01 21:34:06,564 - root - WARNING\n",
      "Msg: APPENDING RESULT: <(yeni_Adv)(-)(yeni:advRoot_ST)>\n",
      "\n"
     ]
    },
    {
     "name": "stderr",
     "output_type": "stream",
     "text": [
      "WARNING:root:APPENDING RESULT: <(yeni_Adj)(-)(yeni:adjectiveRoot_ST)>\n"
     ]
    },
    {
     "name": "stdout",
     "output_type": "stream",
     "text": [
      "2020-12-01 21:34:06,565 - root - WARNING\n",
      "Msg: APPENDING RESULT: <(yeni_Adj)(-)(yeni:adjectiveRoot_ST)>\n",
      "\n"
     ]
    },
    {
     "name": "stderr",
     "output_type": "stream",
     "text": [
      "WARNING:root:APPENDING RESULT: <(yen_Noun)(-)(yen:noun_S + a3sg_S + pnon_S + i:acc_ST)>\n"
     ]
    },
    {
     "name": "stdout",
     "output_type": "stream",
     "text": [
      "2020-12-01 21:34:06,569 - root - WARNING\n",
      "Msg: APPENDING RESULT: <(yen_Noun)(-)(yen:noun_S + a3sg_S + pnon_S + i:acc_ST)>\n",
      "\n"
     ]
    },
    {
     "name": "stderr",
     "output_type": "stream",
     "text": [
      "WARNING:root:APPENDING RESULT: <(yen_Noun)(-)(yen:noun_S + a3sg_S + i:p3sg_S + nom_ST)>\n"
     ]
    },
    {
     "name": "stdout",
     "output_type": "stream",
     "text": [
      "2020-12-01 21:34:06,570 - root - WARNING\n",
      "Msg: APPENDING RESULT: <(yen_Noun)(-)(yen:noun_S + a3sg_S + i:p3sg_S + nom_ST)>\n",
      "\n"
     ]
    },
    {
     "name": "stderr",
     "output_type": "stream",
     "text": [
      "WARNING:root:APPENDING RESULT: <(enfeksiyon_Noun)(-)(enfeksiyon:noun_S + a3sg_S + pnon_S + un:gen_ST)>\n"
     ]
    },
    {
     "name": "stdout",
     "output_type": "stream",
     "text": [
      "2020-12-01 21:34:06,574 - root - WARNING\n",
      "Msg: APPENDING RESULT: <(enfeksiyon_Noun)(-)(enfeksiyon:noun_S + a3sg_S + pnon_S + un:gen_ST)>\n",
      "\n"
     ]
    },
    {
     "name": "stderr",
     "output_type": "stream",
     "text": [
      "WARNING:root:APPENDING RESULT: <(enfeksiyon_Noun)(-)(enfeksiyon:noun_S + a3sg_S + un:p2sg_S + nom_ST)>\n"
     ]
    },
    {
     "name": "stdout",
     "output_type": "stream",
     "text": [
      "2020-12-01 21:34:06,577 - root - WARNING\n",
      "Msg: APPENDING RESULT: <(enfeksiyon_Noun)(-)(enfeksiyon:noun_S + a3sg_S + un:p2sg_S + nom_ST)>\n",
      "\n"
     ]
    },
    {
     "name": "stderr",
     "output_type": "stream",
     "text": [
      "WARNING:root:APPENDING RESULT: <(ardından_Adv)(-)(ardından:advRoot_ST)>\n"
     ]
    },
    {
     "name": "stdout",
     "output_type": "stream",
     "text": [
      "2020-12-01 21:34:06,579 - root - WARNING\n",
      "Msg: APPENDING RESULT: <(ardından_Adv)(-)(ardından:advRoot_ST)>\n",
      "\n"
     ]
    },
    {
     "name": "stderr",
     "output_type": "stream",
     "text": [
      "WARNING:root:APPENDING RESULT: <(art_Noun)(-)(ard:noun_S + a3sg_S + ın:p2sg_S + dan:abl_ST)>\n"
     ]
    },
    {
     "name": "stdout",
     "output_type": "stream",
     "text": [
      "2020-12-01 21:34:06,584 - root - WARNING\n",
      "Msg: APPENDING RESULT: <(art_Noun)(-)(ard:noun_S + a3sg_S + ın:p2sg_S + dan:abl_ST)>\n",
      "\n"
     ]
    },
    {
     "name": "stderr",
     "output_type": "stream",
     "text": [
      "WARNING:root:APPENDING RESULT: <(art_Noun)(-)(ard:noun_S + a3sg_S + ı:p3sg_S + ndan:abl_ST)>\n"
     ]
    },
    {
     "name": "stdout",
     "output_type": "stream",
     "text": [
      "2020-12-01 21:34:06,585 - root - WARNING\n",
      "Msg: APPENDING RESULT: <(art_Noun)(-)(ard:noun_S + a3sg_S + ı:p3sg_S + ndan:abl_ST)>\n",
      "\n"
     ]
    },
    {
     "name": "stderr",
     "output_type": "stream",
     "text": [
      "WARNING:root:APPENDING RESULT: <(art_Adj)(-)(ard:adjectiveRoot_ST + adjZeroDeriv_S + noun_S + a3sg_S + ın:p2sg_S + dan:abl_ST)>\n"
     ]
    },
    {
     "name": "stdout",
     "output_type": "stream",
     "text": [
      "2020-12-01 21:34:06,589 - root - WARNING\n",
      "Msg: APPENDING RESULT: <(art_Adj)(-)(ard:adjectiveRoot_ST + adjZeroDeriv_S + noun_S + a3sg_S + ın:p2sg_S + dan:abl_ST)>\n",
      "\n"
     ]
    },
    {
     "name": "stderr",
     "output_type": "stream",
     "text": [
      "WARNING:root:APPENDING RESULT: <(art_Adj)(-)(ard:adjectiveRoot_ST + adjZeroDeriv_S + noun_S + a3sg_S + ı:p3sg_S + ndan:abl_ST)>\n"
     ]
    },
    {
     "name": "stdout",
     "output_type": "stream",
     "text": [
      "2020-12-01 21:34:06,590 - root - WARNING\n",
      "Msg: APPENDING RESULT: <(art_Adj)(-)(ard:adjectiveRoot_ST + adjZeroDeriv_S + noun_S + a3sg_S + ı:p3sg_S + ndan:abl_ST)>\n",
      "\n"
     ]
    },
    {
     "name": "stderr",
     "output_type": "stream",
     "text": [
      "WARNING:root:APPENDING RESULT: <(yerel_Adj)(-)(yerel:adjectiveRoot_ST)>\n"
     ]
    },
    {
     "name": "stdout",
     "output_type": "stream",
     "text": [
      "2020-12-01 21:34:06,595 - root - WARNING\n",
      "Msg: APPENDING RESULT: <(yerel_Adj)(-)(yerel:adjectiveRoot_ST)>\n",
      "\n"
     ]
    },
    {
     "name": "stderr",
     "output_type": "stream",
     "text": [
      "WARNING:root:APPENDING RESULT: <(Yerel_Noun_Prop)(-)(yerel:nounProper_S + a3sg_S + pnon_S + nom_ST)>\n"
     ]
    },
    {
     "name": "stdout",
     "output_type": "stream",
     "text": [
      "2020-12-01 21:34:06,598 - root - WARNING\n",
      "Msg: APPENDING RESULT: <(Yerel_Noun_Prop)(-)(yerel:nounProper_S + a3sg_S + pnon_S + nom_ST)>\n",
      "\n"
     ]
    },
    {
     "name": "stderr",
     "output_type": "stream",
     "text": [
      "WARNING:root:APPENDING RESULT: <(,_Punc)(-)(,:puncRoot_ST)>\n"
     ]
    },
    {
     "name": "stdout",
     "output_type": "stream",
     "text": [
      "2020-12-01 21:34:06,602 - root - WARNING\n",
      "Msg: APPENDING RESULT: <(,_Punc)(-)(,:puncRoot_ST)>\n",
      "\n"
     ]
    },
    {
     "name": "stderr",
     "output_type": "stream",
     "text": [
      "WARNING:root:APPENDING RESULT: <(alarm_Noun)(-)(alarm:noun_S + a3sg_S + pnon_S + nom_ST)>\n"
     ]
    },
    {
     "name": "stdout",
     "output_type": "stream",
     "text": [
      "2020-12-01 21:34:06,607 - root - WARNING\n",
      "Msg: APPENDING RESULT: <(alarm_Noun)(-)(alarm:noun_S + a3sg_S + pnon_S + nom_ST)>\n",
      "\n"
     ]
    },
    {
     "name": "stderr",
     "output_type": "stream",
     "text": [
      "WARNING:root:APPENDING RESULT: <(seviye_Noun)(-)(seviye:noun_S + a3sg_S + si:p3sg_S + nin:gen_ST)>\n"
     ]
    },
    {
     "name": "stdout",
     "output_type": "stream",
     "text": [
      "2020-12-01 21:34:06,617 - root - WARNING\n",
      "Msg: APPENDING RESULT: <(seviye_Noun)(-)(seviye:noun_S + a3sg_S + si:p3sg_S + nin:gen_ST)>\n",
      "\n"
     ]
    },
    {
     "name": "stderr",
     "output_type": "stream",
     "text": [
      "WARNING:root:APPENDING RESULT: <(en_Adv)(-)(en:advRoot_ST)>\n"
     ]
    },
    {
     "name": "stdout",
     "output_type": "stream",
     "text": [
      "2020-12-01 21:34:06,620 - root - WARNING\n",
      "Msg: APPENDING RESULT: <(en_Adv)(-)(en:advRoot_ST)>\n",
      "\n"
     ]
    },
    {
     "name": "stderr",
     "output_type": "stream",
     "text": [
      "WARNING:root:APPENDING RESULT: <(en_Noun)(-)(en:noun_S + a3sg_S + pnon_S + nom_ST)>\n"
     ]
    },
    {
     "name": "stdout",
     "output_type": "stream",
     "text": [
      "2020-12-01 21:34:06,622 - root - WARNING\n",
      "Msg: APPENDING RESULT: <(en_Noun)(-)(en:noun_S + a3sg_S + pnon_S + nom_ST)>\n",
      "\n"
     ]
    },
    {
     "name": "stderr",
     "output_type": "stream",
     "text": [
      "WARNING:root:APPENDING RESULT: <(üst_Adj)(-)(üst:adjectiveRoot_ST)>\n"
     ]
    },
    {
     "name": "stdout",
     "output_type": "stream",
     "text": [
      "2020-12-01 21:34:06,623 - root - WARNING\n",
      "Msg: APPENDING RESULT: <(üst_Adj)(-)(üst:adjectiveRoot_ST)>\n",
      "\n"
     ]
    },
    {
     "name": "stderr",
     "output_type": "stream",
     "text": [
      "WARNING:root:APPENDING RESULT: <(üst_Noun)(-)(üst:noun_S + a3sg_S + pnon_S + nom_ST)>\n"
     ]
    },
    {
     "name": "stdout",
     "output_type": "stream",
     "text": [
      "2020-12-01 21:34:06,625 - root - WARNING\n",
      "Msg: APPENDING RESULT: <(üst_Noun)(-)(üst:noun_S + a3sg_S + pnon_S + nom_ST)>\n",
      "\n"
     ]
    },
    {
     "name": "stderr",
     "output_type": "stream",
     "text": [
      "WARNING:root:APPENDING RESULT: <(düzemek_Verb)(-)(düze:verbRoot_S + ye:vOpt_S + vA3sg_ST)>\n"
     ]
    },
    {
     "name": "stdout",
     "output_type": "stream",
     "text": [
      "2020-12-01 21:34:06,629 - root - WARNING\n",
      "Msg: APPENDING RESULT: <(düzemek_Verb)(-)(düze:verbRoot_S + ye:vOpt_S + vA3sg_ST)>\n",
      "\n"
     ]
    },
    {
     "name": "stderr",
     "output_type": "stream",
     "text": [
      "WARNING:root:APPENDING RESULT: <(düze_Noun)(-)(düze:noun_S + a3sg_S + pnon_S + ye:dat_ST)>\n"
     ]
    },
    {
     "name": "stdout",
     "output_type": "stream",
     "text": [
      "2020-12-01 21:34:06,632 - root - WARNING\n",
      "Msg: APPENDING RESULT: <(düze_Noun)(-)(düze:noun_S + a3sg_S + pnon_S + ye:dat_ST)>\n",
      "\n"
     ]
    },
    {
     "name": "stderr",
     "output_type": "stream",
     "text": [
      "WARNING:root:APPENDING RESULT: <(düzey_Noun)(-)(düzey:noun_S + a3sg_S + pnon_S + e:dat_ST)>\n"
     ]
    },
    {
     "name": "stdout",
     "output_type": "stream",
     "text": [
      "2020-12-01 21:34:06,634 - root - WARNING\n",
      "Msg: APPENDING RESULT: <(düzey_Noun)(-)(düzey:noun_S + a3sg_S + pnon_S + e:dat_ST)>\n",
      "\n"
     ]
    },
    {
     "name": "stderr",
     "output_type": "stream",
     "text": [
      "WARNING:root:APPENDING RESULT: <(Düzey_Noun_Prop)(-)(düzey:nounProper_S + a3sg_S + pnon_S + e:dat_ST)>\n"
     ]
    },
    {
     "name": "stdout",
     "output_type": "stream",
     "text": [
      "2020-12-01 21:34:06,636 - root - WARNING\n",
      "Msg: APPENDING RESULT: <(Düzey_Noun_Prop)(-)(düzey:nounProper_S + a3sg_S + pnon_S + e:dat_ST)>\n",
      "\n"
     ]
    },
    {
     "name": "stderr",
     "output_type": "stream",
     "text": [
      "WARNING:root:APPENDING RESULT: <(çıkarmak_Verb)(-)(çıkar:verbRoot_S + ıl:vPass_S + verbRoot_S + acağ:vFutPart_S + noun_S + a3sg_S + ın:p2sg_S + ı:acc_ST)>\n"
     ]
    },
    {
     "name": "stdout",
     "output_type": "stream",
     "text": [
      "2020-12-01 21:34:06,648 - root - WARNING\n",
      "Msg: APPENDING RESULT: <(çıkarmak_Verb)(-)(çıkar:verbRoot_S + ıl:vPass_S + verbRoot_S + acağ:vFutPart_S + noun_S + a3sg_S + ın:p2sg_S + ı:acc_ST)>\n",
      "\n"
     ]
    },
    {
     "name": "stderr",
     "output_type": "stream",
     "text": [
      "WARNING:root:APPENDING RESULT: <(çıkarmak_Verb)(-)(çıkar:verbRoot_S + ıl:vPass_S + verbRoot_S + acağ:vFutPart_S + noun_S + a3sg_S + ı:p3sg_S + nı:acc_ST)>\n"
     ]
    },
    {
     "name": "stdout",
     "output_type": "stream",
     "text": [
      "2020-12-01 21:34:06,650 - root - WARNING\n",
      "Msg: APPENDING RESULT: <(çıkarmak_Verb)(-)(çıkar:verbRoot_S + ıl:vPass_S + verbRoot_S + acağ:vFutPart_S + noun_S + a3sg_S + ı:p3sg_S + nı:acc_ST)>\n",
      "\n"
     ]
    },
    {
     "name": "stderr",
     "output_type": "stream",
     "text": [
      "WARNING:root:APPENDING RESULT: <(açıklamak_Verb)(-)(açıkla:verbRoot_S + dı:vPast_S + vA3sg_ST)>\n"
     ]
    },
    {
     "name": "stdout",
     "output_type": "stream",
     "text": [
      "2020-12-01 21:34:06,656 - root - WARNING\n",
      "Msg: APPENDING RESULT: <(açıklamak_Verb)(-)(açıkla:verbRoot_S + dı:vPast_S + vA3sg_ST)>\n",
      "\n"
     ]
    },
    {
     "name": "stderr",
     "output_type": "stream",
     "text": [
      "WARNING:root:APPENDING RESULT: <(._Punc)(-)(.:puncRoot_ST)>\n"
     ]
    },
    {
     "name": "stdout",
     "output_type": "stream",
     "text": [
      "2020-12-01 21:34:06,661 - root - WARNING\n",
      "Msg: APPENDING RESULT: <(._Punc)(-)(.:puncRoot_ST)>\n",
      "\n"
     ]
    },
    {
     "name": "stderr",
     "output_type": "stream",
     "text": [
      "WARNING:root:APPENDING RESULT: <(restoran_Noun)(-)(restoran:noun_S + a3sg_S + pnon_S + nom_ST)>\n"
     ]
    },
    {
     "name": "stdout",
     "output_type": "stream",
     "text": [
      "2020-12-01 21:34:06,668 - root - WARNING\n",
      "Msg: APPENDING RESULT: <(restoran_Noun)(-)(restoran:noun_S + a3sg_S + pnon_S + nom_ST)>\n",
      "\n"
     ]
    },
    {
     "name": "stderr",
     "output_type": "stream",
     "text": [
      "WARNING:root:APPENDING RESULT: <(ve_Conj)(-)(ve:conjRoot_ST)>\n"
     ]
    },
    {
     "name": "stdout",
     "output_type": "stream",
     "text": [
      "2020-12-01 21:34:06,670 - root - WARNING\n",
      "Msg: APPENDING RESULT: <(ve_Conj)(-)(ve:conjRoot_ST)>\n",
      "\n"
     ]
    },
    {
     "name": "stderr",
     "output_type": "stream",
     "text": [
      "WARNING:root:APPENDING RESULT: <(bar_Noun)(-)(bar:noun_S + a3sg_S + pnon_S + nom_ST)>\n"
     ]
    },
    {
     "name": "stdout",
     "output_type": "stream",
     "text": [
      "2020-12-01 21:34:06,673 - root - WARNING\n",
      "Msg: APPENDING RESULT: <(bar_Noun)(-)(bar:noun_S + a3sg_S + pnon_S + nom_ST)>\n",
      "\n"
     ]
    },
    {
     "name": "stderr",
     "output_type": "stream",
     "text": [
      "WARNING:root:APPENDING RESULT: <(benzeri_Adj)(-)(benzeri:adjectiveRoot_ST)>\n"
     ]
    },
    {
     "name": "stdout",
     "output_type": "stream",
     "text": [
      "2020-12-01 21:34:06,676 - root - WARNING\n",
      "Msg: APPENDING RESULT: <(benzeri_Adj)(-)(benzeri:adjectiveRoot_ST)>\n",
      "\n"
     ]
    },
    {
     "name": "stderr",
     "output_type": "stream",
     "text": [
      "WARNING:root:APPENDING RESULT: <(benzer_Noun)(-)(benzer:noun_S + a3sg_S + pnon_S + i:acc_ST)>\n"
     ]
    },
    {
     "name": "stdout",
     "output_type": "stream",
     "text": [
      "2020-12-01 21:34:06,681 - root - WARNING\n",
      "Msg: APPENDING RESULT: <(benzer_Noun)(-)(benzer:noun_S + a3sg_S + pnon_S + i:acc_ST)>\n",
      "\n"
     ]
    },
    {
     "name": "stderr",
     "output_type": "stream",
     "text": [
      "WARNING:root:APPENDING RESULT: <(benzer_Noun)(-)(benzer:noun_S + a3sg_S + i:p3sg_S + nom_ST)>\n"
     ]
    },
    {
     "name": "stdout",
     "output_type": "stream",
     "text": [
      "2020-12-01 21:34:06,682 - root - WARNING\n",
      "Msg: APPENDING RESULT: <(benzer_Noun)(-)(benzer:noun_S + a3sg_S + i:p3sg_S + nom_ST)>\n",
      "\n"
     ]
    },
    {
     "name": "stderr",
     "output_type": "stream",
     "text": [
      "WARNING:root:APPENDING RESULT: <(benzeri_Noun)(-)(benzeri:noun_S + a3sg_S + pnon_S + nom_ST)>\n"
     ]
    },
    {
     "name": "stdout",
     "output_type": "stream",
     "text": [
      "2020-12-01 21:34:06,684 - root - WARNING\n",
      "Msg: APPENDING RESULT: <(benzeri_Noun)(-)(benzeri:noun_S + a3sg_S + pnon_S + nom_ST)>\n",
      "\n"
     ]
    },
    {
     "name": "stderr",
     "output_type": "stream",
     "text": [
      "WARNING:root:APPENDING RESULT: <(benzer_Adj)(-)(benzer:adjectiveRoot_ST + adjZeroDeriv_S + noun_S + a3sg_S + pnon_S + i:acc_ST)>\n"
     ]
    },
    {
     "name": "stdout",
     "output_type": "stream",
     "text": [
      "2020-12-01 21:34:06,686 - root - WARNING\n",
      "Msg: APPENDING RESULT: <(benzer_Adj)(-)(benzer:adjectiveRoot_ST + adjZeroDeriv_S + noun_S + a3sg_S + pnon_S + i:acc_ST)>\n",
      "\n"
     ]
    },
    {
     "name": "stderr",
     "output_type": "stream",
     "text": [
      "WARNING:root:APPENDING RESULT: <(benzer_Adj)(-)(benzer:adjectiveRoot_ST + adjZeroDeriv_S + noun_S + a3sg_S + i:p3sg_S + nom_ST)>\n"
     ]
    },
    {
     "name": "stdout",
     "output_type": "stream",
     "text": [
      "2020-12-01 21:34:06,688 - root - WARNING\n",
      "Msg: APPENDING RESULT: <(benzer_Adj)(-)(benzer:adjectiveRoot_ST + adjZeroDeriv_S + noun_S + a3sg_S + i:p3sg_S + nom_ST)>\n",
      "\n"
     ]
    },
    {
     "name": "stderr",
     "output_type": "stream",
     "text": [
      "WARNING:root:APPENDING RESULT: <(işletme_Noun)(-)(işletme:noun_S + ler:a3pl_S + pnon_S + den:abl_ST)>\n"
     ]
    },
    {
     "name": "stdout",
     "output_type": "stream",
     "text": [
      "2020-12-01 21:34:06,694 - root - WARNING\n",
      "Msg: APPENDING RESULT: <(işletme_Noun)(-)(işletme:noun_S + ler:a3pl_S + pnon_S + den:abl_ST)>\n",
      "\n"
     ]
    },
    {
     "name": "stderr",
     "output_type": "stream",
     "text": [
      "WARNING:root:APPENDING RESULT: <(işlemek_Verb)(-)(işle:verbRoot_S + t:vCaus_S + verbRoot_S + me:vInf2_S + noun_S + ler:a3pl_S + pnon_S + den:abl_ST)>\n"
     ]
    },
    {
     "name": "stdout",
     "output_type": "stream",
     "text": [
      "2020-12-01 21:34:06,697 - root - WARNING\n",
      "Msg: APPENDING RESULT: <(işlemek_Verb)(-)(işle:verbRoot_S + t:vCaus_S + verbRoot_S + me:vInf2_S + noun_S + ler:a3pl_S + pnon_S + den:abl_ST)>\n",
      "\n"
     ]
    },
    {
     "name": "stderr",
     "output_type": "stream",
     "text": [
      "WARNING:root:APPENDING RESULT: <(çalışmak_Verb)(-)(çalış:verbRoot_S + ma:vNeg_S + vImp_S + vA2sg_ST)>\n"
     ]
    },
    {
     "name": "stdout",
     "output_type": "stream",
     "text": [
      "2020-12-01 21:34:06,705 - root - WARNING\n",
      "Msg: APPENDING RESULT: <(çalışmak_Verb)(-)(çalış:verbRoot_S + ma:vNeg_S + vImp_S + vA2sg_ST)>\n",
      "\n"
     ]
    },
    {
     "name": "stderr",
     "output_type": "stream",
     "text": [
      "WARNING:root:APPENDING RESULT: <(çalışmak_Verb)(-)(çalış:verbRoot_S + ma:vInf2_S + noun_S + a3sg_S + pnon_S + nom_ST)>\n"
     ]
    },
    {
     "name": "stdout",
     "output_type": "stream",
     "text": [
      "2020-12-01 21:34:06,709 - root - WARNING\n",
      "Msg: APPENDING RESULT: <(çalışmak_Verb)(-)(çalış:verbRoot_S + ma:vInf2_S + noun_S + a3sg_S + pnon_S + nom_ST)>\n",
      "\n"
     ]
    },
    {
     "name": "stderr",
     "output_type": "stream",
     "text": [
      "WARNING:root:APPENDING RESULT: <(saat_Noun)(-)(saat:noun_S + a3sg_S + leri:p3pl_S + ni:acc_ST)>\n"
     ]
    },
    {
     "name": "stdout",
     "output_type": "stream",
     "text": [
      "2020-12-01 21:34:06,713 - root - WARNING\n",
      "Msg: APPENDING RESULT: <(saat_Noun)(-)(saat:noun_S + a3sg_S + leri:p3pl_S + ni:acc_ST)>\n",
      "\n"
     ]
    },
    {
     "name": "stderr",
     "output_type": "stream",
     "text": [
      "WARNING:root:APPENDING RESULT: <(saat_Noun)(-)(saat:noun_S + ler:a3pl_S + in:p2sg_S + i:acc_ST)>\n"
     ]
    },
    {
     "name": "stdout",
     "output_type": "stream",
     "text": [
      "2020-12-01 21:34:06,715 - root - WARNING\n",
      "Msg: APPENDING RESULT: <(saat_Noun)(-)(saat:noun_S + ler:a3pl_S + in:p2sg_S + i:acc_ST)>\n",
      "\n"
     ]
    },
    {
     "name": "stderr",
     "output_type": "stream",
     "text": [
      "WARNING:root:APPENDING RESULT: <(saat_Noun)(-)(saat:noun_S + ler:a3pl_S + i:p3sg_S + ni:acc_ST)>\n"
     ]
    },
    {
     "name": "stdout",
     "output_type": "stream",
     "text": [
      "2020-12-01 21:34:06,716 - root - WARNING\n",
      "Msg: APPENDING RESULT: <(saat_Noun)(-)(saat:noun_S + ler:a3pl_S + i:p3sg_S + ni:acc_ST)>\n",
      "\n"
     ]
    },
    {
     "name": "stderr",
     "output_type": "stream",
     "text": [
      "WARNING:root:APPENDING RESULT: <(saat_Noun)(-)(saat:noun_S + ler:a3pl_S + i:p3pl_S + ni:acc_ST)>\n"
     ]
    },
    {
     "name": "stdout",
     "output_type": "stream",
     "text": [
      "2020-12-01 21:34:06,717 - root - WARNING\n",
      "Msg: APPENDING RESULT: <(saat_Noun)(-)(saat:noun_S + ler:a3pl_S + i:p3pl_S + ni:acc_ST)>\n",
      "\n"
     ]
    },
    {
     "name": "stderr",
     "output_type": "stream",
     "text": [
      "WARNING:root:APPENDING RESULT: <(kısalmak_Verb)(-)(kısal:verbRoot_S + t:vCaus_S + verbRoot_S + ma:vInf2_S + noun_S + a3sg_S + ları:p3pl_S + nı:acc_ST)>\n"
     ]
    },
    {
     "name": "stdout",
     "output_type": "stream",
     "text": [
      "2020-12-01 21:34:06,729 - root - WARNING\n",
      "Msg: APPENDING RESULT: <(kısalmak_Verb)(-)(kısal:verbRoot_S + t:vCaus_S + verbRoot_S + ma:vInf2_S + noun_S + a3sg_S + ları:p3pl_S + nı:acc_ST)>\n",
      "\n"
     ]
    },
    {
     "name": "stderr",
     "output_type": "stream",
     "text": [
      "WARNING:root:APPENDING RESULT: <(kısalmak_Verb)(-)(kısal:verbRoot_S + t:vCaus_S + verbRoot_S + ma:vInf2_S + noun_S + lar:a3pl_S + ın:p2sg_S + ı:acc_ST)>\n"
     ]
    },
    {
     "name": "stdout",
     "output_type": "stream",
     "text": [
      "2020-12-01 21:34:06,730 - root - WARNING\n",
      "Msg: APPENDING RESULT: <(kısalmak_Verb)(-)(kısal:verbRoot_S + t:vCaus_S + verbRoot_S + ma:vInf2_S + noun_S + lar:a3pl_S + ın:p2sg_S + ı:acc_ST)>\n",
      "\n"
     ]
    },
    {
     "name": "stderr",
     "output_type": "stream",
     "text": [
      "WARNING:root:APPENDING RESULT: <(kısalmak_Verb)(-)(kısal:verbRoot_S + t:vCaus_S + verbRoot_S + ma:vInf2_S + noun_S + lar:a3pl_S + ı:p3sg_S + nı:acc_ST)>\n"
     ]
    },
    {
     "name": "stdout",
     "output_type": "stream",
     "text": [
      "2020-12-01 21:34:06,732 - root - WARNING\n",
      "Msg: APPENDING RESULT: <(kısalmak_Verb)(-)(kısal:verbRoot_S + t:vCaus_S + verbRoot_S + ma:vInf2_S + noun_S + lar:a3pl_S + ı:p3sg_S + nı:acc_ST)>\n",
      "\n"
     ]
    },
    {
     "name": "stderr",
     "output_type": "stream",
     "text": [
      "WARNING:root:APPENDING RESULT: <(kısalmak_Verb)(-)(kısal:verbRoot_S + t:vCaus_S + verbRoot_S + ma:vInf2_S + noun_S + lar:a3pl_S + ı:p3pl_S + nı:acc_ST)>\n"
     ]
    },
    {
     "name": "stdout",
     "output_type": "stream",
     "text": [
      "2020-12-01 21:34:06,734 - root - WARNING\n",
      "Msg: APPENDING RESULT: <(kısalmak_Verb)(-)(kısal:verbRoot_S + t:vCaus_S + verbRoot_S + ma:vInf2_S + noun_S + lar:a3pl_S + ı:p3pl_S + nı:acc_ST)>\n",
      "\n"
     ]
    },
    {
     "name": "stderr",
     "output_type": "stream",
     "text": [
      "WARNING:root:APPENDING RESULT: <(istemek_Verb)(-)(iste:verbRoot_S + yip:vAfterDoing_S + advRoot_ST)>\n"
     ]
    },
    {
     "name": "stdout",
     "output_type": "stream",
     "text": [
      "2020-12-01 21:34:06,739 - root - WARNING\n",
      "Msg: APPENDING RESULT: <(istemek_Verb)(-)(iste:verbRoot_S + yip:vAfterDoing_S + advRoot_ST)>\n",
      "\n"
     ]
    },
    {
     "name": "stderr",
     "output_type": "stream",
     "text": [
      "WARNING:root:APPENDING RESULT: <(istemek_Verb)(-)(iste:verbRoot_S + me:vNeg_S + yeceğ:vFutPart_S + adjAfterVerb_S + i:aP3sg_ST)>\n"
     ]
    },
    {
     "name": "stdout",
     "output_type": "stream",
     "text": [
      "2020-12-01 21:34:06,748 - root - WARNING\n",
      "Msg: APPENDING RESULT: <(istemek_Verb)(-)(iste:verbRoot_S + me:vNeg_S + yeceğ:vFutPart_S + adjAfterVerb_S + i:aP3sg_ST)>\n",
      "\n"
     ]
    },
    {
     "name": "stderr",
     "output_type": "stream",
     "text": [
      "WARNING:root:APPENDING RESULT: <(istemek_Verb)(-)(iste:verbRoot_S + me:vNeg_S + yeceğ:vFutPart_S + noun_S + a3sg_S + pnon_S + i:acc_ST)>\n"
     ]
    },
    {
     "name": "stdout",
     "output_type": "stream",
     "text": [
      "2020-12-01 21:34:06,752 - root - WARNING\n",
      "Msg: APPENDING RESULT: <(istemek_Verb)(-)(iste:verbRoot_S + me:vNeg_S + yeceğ:vFutPart_S + noun_S + a3sg_S + pnon_S + i:acc_ST)>\n",
      "\n"
     ]
    },
    {
     "name": "stderr",
     "output_type": "stream",
     "text": [
      "WARNING:root:APPENDING RESULT: <(istemek_Verb)(-)(iste:verbRoot_S + me:vNeg_S + yeceğ:vFutPart_S + noun_S + a3sg_S + i:p3sg_S + nom_ST)>\n"
     ]
    },
    {
     "name": "stdout",
     "output_type": "stream",
     "text": [
      "2020-12-01 21:34:06,753 - root - WARNING\n",
      "Msg: APPENDING RESULT: <(istemek_Verb)(-)(iste:verbRoot_S + me:vNeg_S + yeceğ:vFutPart_S + noun_S + a3sg_S + i:p3sg_S + nom_ST)>\n",
      "\n"
     ]
    },
    {
     "name": "stderr",
     "output_type": "stream",
     "text": [
      "WARNING:root:APPENDING RESULT: <(merak_Noun)(-)(merak:noun_S + a3sg_S + pnon_S + nom_ST)>\n"
     ]
    },
    {
     "name": "stdout",
     "output_type": "stream",
     "text": [
      "2020-12-01 21:34:06,758 - root - WARNING\n",
      "Msg: APPENDING RESULT: <(merak_Noun)(-)(merak:noun_S + a3sg_S + pnon_S + nom_ST)>\n",
      "\n"
     ]
    },
    {
     "name": "stderr",
     "output_type": "stream",
     "text": [
      "WARNING:root:APPENDING RESULT: <(konu_Noun)(-)(konu:noun_S + a3sg_S + su:p3sg_S + nom_ST)>\n"
     ]
    },
    {
     "name": "stdout",
     "output_type": "stream",
     "text": [
      "2020-12-01 21:34:06,764 - root - WARNING\n",
      "Msg: APPENDING RESULT: <(konu_Noun)(-)(konu:noun_S + a3sg_S + su:p3sg_S + nom_ST)>\n",
      "\n"
     ]
    },
    {
     "name": "stderr",
     "output_type": "stream",
     "text": [
      "WARNING:root:APPENDING RESULT: <(olmak_Verb)(-)(ol:verbRoot_S + an:vPresPart_S + adjAfterVerb_ST)>\n"
     ]
    },
    {
     "name": "stdout",
     "output_type": "stream",
     "text": [
      "2020-12-01 21:34:06,767 - root - WARNING\n",
      "Msg: APPENDING RESULT: <(olmak_Verb)(-)(ol:verbRoot_S + an:vPresPart_S + adjAfterVerb_ST)>\n",
      "\n"
     ]
    },
    {
     "name": "stderr",
     "output_type": "stream",
     "text": [
      "WARNING:root:APPENDING RESULT: <(o_Adj)(-)(o:adjectiveRoot_ST + lan:acquire_S + verbRoot_S + vImp_S + vA2sg_ST)>\n"
     ]
    },
    {
     "name": "stdout",
     "output_type": "stream",
     "text": [
      "2020-12-01 21:34:06,769 - root - WARNING\n",
      "Msg: APPENDING RESULT: <(o_Adj)(-)(o:adjectiveRoot_ST + lan:acquire_S + verbRoot_S + vImp_S + vA2sg_ST)>\n",
      "\n"
     ]
    },
    {
     "name": "stderr",
     "output_type": "stream",
     "text": [
      "WARNING:root:APPENDING RESULT: <(yerel_Adj)(-)(yerel:adjectiveRoot_ST)>\n"
     ]
    },
    {
     "name": "stdout",
     "output_type": "stream",
     "text": [
      "2020-12-01 21:34:06,771 - root - WARNING\n",
      "Msg: APPENDING RESULT: <(yerel_Adj)(-)(yerel:adjectiveRoot_ST)>\n",
      "\n"
     ]
    },
    {
     "name": "stderr",
     "output_type": "stream",
     "text": [
      "WARNING:root:APPENDING RESULT: <(Yerel_Noun_Prop)(-)(yerel:nounProper_S + a3sg_S + pnon_S + nom_ST)>\n"
     ]
    },
    {
     "name": "stdout",
     "output_type": "stream",
     "text": [
      "2020-12-01 21:34:06,775 - root - WARNING\n",
      "Msg: APPENDING RESULT: <(Yerel_Noun_Prop)(-)(yerel:nounProper_S + a3sg_S + pnon_S + nom_ST)>\n",
      "\n"
     ]
    },
    {
     "name": "stderr",
     "output_type": "stream",
     "text": [
      "WARNING:root:APPENDING RESULT: <(otorite_Noun)(-)(otorite:noun_S + ler:a3pl_S + pnon_S + in:gen_ST)>\n"
     ]
    },
    {
     "name": "stdout",
     "output_type": "stream",
     "text": [
      "2020-12-01 21:34:06,780 - root - WARNING\n",
      "Msg: APPENDING RESULT: <(otorite_Noun)(-)(otorite:noun_S + ler:a3pl_S + pnon_S + in:gen_ST)>\n",
      "\n"
     ]
    },
    {
     "name": "stderr",
     "output_type": "stream",
     "text": [
      "WARNING:root:APPENDING RESULT: <(otorite_Noun)(-)(otorite:noun_S + ler:a3pl_S + in:p2sg_S + nom_ST)>\n"
     ]
    },
    {
     "name": "stdout",
     "output_type": "stream",
     "text": [
      "2020-12-01 21:34:06,782 - root - WARNING\n",
      "Msg: APPENDING RESULT: <(otorite_Noun)(-)(otorite:noun_S + ler:a3pl_S + in:p2sg_S + nom_ST)>\n",
      "\n"
     ]
    },
    {
     "name": "stderr",
     "output_type": "stream",
     "text": [
      "WARNING:root:APPENDING RESULT: <(,_Punc)(-)(,:puncRoot_ST)>\n"
     ]
    },
    {
     "name": "stdout",
     "output_type": "stream",
     "text": [
      "2020-12-01 21:34:06,788 - root - WARNING\n",
      "Msg: APPENDING RESULT: <(,_Punc)(-)(,:puncRoot_ST)>\n",
      "\n"
     ]
    },
    {
     "name": "stderr",
     "output_type": "stream",
     "text": [
      "WARNING:root:APPENDING RESULT: <(alınmak_Verb)(-)(alın:verbRoot_S + acak:vFutPart_S + adjAfterVerb_S + aPnon_ST)>\n"
     ]
    },
    {
     "name": "stdout",
     "output_type": "stream",
     "text": [
      "2020-12-01 21:34:06,795 - root - WARNING\n",
      "Msg: APPENDING RESULT: <(alınmak_Verb)(-)(alın:verbRoot_S + acak:vFutPart_S + adjAfterVerb_S + aPnon_ST)>\n",
      "\n"
     ]
    },
    {
     "name": "stderr",
     "output_type": "stream",
     "text": [
      "WARNING:root:APPENDING RESULT: <(almak_Verb)(-)(al:verbRoot_S + ın:vPass_S + verbRoot_S + acak:vFutPart_S + adjAfterVerb_S + aPnon_ST)>\n"
     ]
    },
    {
     "name": "stdout",
     "output_type": "stream",
     "text": [
      "2020-12-01 21:34:06,800 - root - WARNING\n",
      "Msg: APPENDING RESULT: <(almak_Verb)(-)(al:verbRoot_S + ın:vPass_S + verbRoot_S + acak:vFutPart_S + adjAfterVerb_S + aPnon_ST)>\n",
      "\n"
     ]
    },
    {
     "name": "stderr",
     "output_type": "stream",
     "text": [
      "WARNING:root:APPENDING RESULT: <(tedbir_Noun)(-)(tedbir:noun_S + ler:a3pl_S + pnon_S + nom_ST)>\n"
     ]
    },
    {
     "name": "stdout",
     "output_type": "stream",
     "text": [
      "2020-12-01 21:34:06,808 - root - WARNING\n",
      "Msg: APPENDING RESULT: <(tedbir_Noun)(-)(tedbir:noun_S + ler:a3pl_S + pnon_S + nom_ST)>\n",
      "\n"
     ]
    },
    {
     "name": "stderr",
     "output_type": "stream",
     "text": [
      "WARNING:root:APPENDING RESULT: <(tedbir_Noun)(-)(tedbir:noun_S + a3sg_S + pnon_S + nom_ST + nounZeroDeriv_S + nVerb_S + nPresent_S + ler:nA3pl_ST)>\n"
     ]
    },
    {
     "name": "stdout",
     "output_type": "stream",
     "text": [
      "2020-12-01 21:34:06,811 - root - WARNING\n",
      "Msg: APPENDING RESULT: <(tedbir_Noun)(-)(tedbir:noun_S + a3sg_S + pnon_S + nom_ST + nounZeroDeriv_S + nVerb_S + nPresent_S + ler:nA3pl_ST)>\n",
      "\n"
     ]
    },
    {
     "name": "stderr",
     "output_type": "stream",
     "text": [
      "WARNING:root:APPENDING RESULT: <(üzerinde_Adv)(-)(üzerinde:advRoot_ST)>\n"
     ]
    },
    {
     "name": "stdout",
     "output_type": "stream",
     "text": [
      "2020-12-01 21:34:06,812 - root - WARNING\n",
      "Msg: APPENDING RESULT: <(üzerinde_Adv)(-)(üzerinde:advRoot_ST)>\n",
      "\n"
     ]
    },
    {
     "name": "stderr",
     "output_type": "stream",
     "text": [
      "WARNING:root:APPENDING RESULT: <(Üzer_Noun_Prop)(-)(üzer:nounProper_S + a3sg_S + in:p2sg_S + de:loc_ST)>\n"
     ]
    },
    {
     "name": "stdout",
     "output_type": "stream",
     "text": [
      "2020-12-01 21:34:06,816 - root - WARNING\n",
      "Msg: APPENDING RESULT: <(Üzer_Noun_Prop)(-)(üzer:nounProper_S + a3sg_S + in:p2sg_S + de:loc_ST)>\n",
      "\n"
     ]
    },
    {
     "name": "stderr",
     "output_type": "stream",
     "text": [
      "WARNING:root:APPENDING RESULT: <(Üzer_Noun_Prop)(-)(üzer:nounProper_S + a3sg_S + i:p3sg_S + nde:loc_ST)>\n"
     ]
    },
    {
     "name": "stdout",
     "output_type": "stream",
     "text": [
      "2020-12-01 21:34:06,817 - root - WARNING\n",
      "Msg: APPENDING RESULT: <(Üzer_Noun_Prop)(-)(üzer:nounProper_S + a3sg_S + i:p3sg_S + nde:loc_ST)>\n",
      "\n"
     ]
    },
    {
     "name": "stderr",
     "output_type": "stream",
     "text": [
      "WARNING:root:APPENDING RESULT: <(istişare_Noun)(-)(istişare:noun_S + a3sg_S + pnon_S + nom_ST)>\n"
     ]
    },
    {
     "name": "stdout",
     "output_type": "stream",
     "text": [
      "2020-12-01 21:34:06,821 - root - WARNING\n",
      "Msg: APPENDING RESULT: <(istişare_Noun)(-)(istişare:noun_S + a3sg_S + pnon_S + nom_ST)>\n",
      "\n"
     ]
    },
    {
     "name": "stderr",
     "output_type": "stream",
     "text": [
      "WARNING:root:APPENDING RESULT: <(etmek_Verb)(-)(et:verbRoot_S + tiğ:vPastPart_S + adjAfterVerb_S + i:aP3sg_ST)>\n"
     ]
    },
    {
     "name": "stdout",
     "output_type": "stream",
     "text": [
      "2020-12-01 21:34:06,825 - root - WARNING\n",
      "Msg: APPENDING RESULT: <(etmek_Verb)(-)(et:verbRoot_S + tiğ:vPastPart_S + adjAfterVerb_S + i:aP3sg_ST)>\n",
      "\n"
     ]
    },
    {
     "name": "stderr",
     "output_type": "stream",
     "text": [
      "WARNING:root:APPENDING RESULT: <(etmek_Verb)(-)(et:verbRoot_S + tiğ:vPastPart_S + noun_S + a3sg_S + pnon_S + i:acc_ST)>\n"
     ]
    },
    {
     "name": "stdout",
     "output_type": "stream",
     "text": [
      "2020-12-01 21:34:06,827 - root - WARNING\n",
      "Msg: APPENDING RESULT: <(etmek_Verb)(-)(et:verbRoot_S + tiğ:vPastPart_S + noun_S + a3sg_S + pnon_S + i:acc_ST)>\n",
      "\n"
     ]
    },
    {
     "name": "stderr",
     "output_type": "stream",
     "text": [
      "WARNING:root:APPENDING RESULT: <(etmek_Verb)(-)(et:verbRoot_S + tiğ:vPastPart_S + noun_S + a3sg_S + i:p3sg_S + nom_ST)>\n"
     ]
    },
    {
     "name": "stdout",
     "output_type": "stream",
     "text": [
      "2020-12-01 21:34:06,828 - root - WARNING\n",
      "Msg: APPENDING RESULT: <(etmek_Verb)(-)(et:verbRoot_S + tiğ:vPastPart_S + noun_S + a3sg_S + i:p3sg_S + nom_ST)>\n",
      "\n"
     ]
    },
    {
     "name": "stderr",
     "output_type": "stream",
     "text": [
      "WARNING:root:APPENDING RESULT: <(öğrenmek_Verb)(-)(öğren:verbRoot_S + il:vPass_S + verbRoot_S + di:vPast_S + vA3sg_ST)>\n"
     ]
    },
    {
     "name": "stdout",
     "output_type": "stream",
     "text": [
      "2020-12-01 21:34:06,833 - root - WARNING\n",
      "Msg: APPENDING RESULT: <(öğrenmek_Verb)(-)(öğren:verbRoot_S + il:vPass_S + verbRoot_S + di:vPast_S + vA3sg_ST)>\n",
      "\n"
     ]
    },
    {
     "name": "stderr",
     "output_type": "stream",
     "text": [
      "WARNING:root:APPENDING RESULT: <(._Punc)(-)(.:puncRoot_ST)>\n"
     ]
    },
    {
     "name": "stdout",
     "output_type": "stream",
     "text": [
      "2020-12-01 21:34:06,835 - root - WARNING\n",
      "Msg: APPENDING RESULT: <(._Punc)(-)(.:puncRoot_ST)>\n",
      "\n"
     ]
    },
    {
     "name": "stderr",
     "output_type": "stream",
     "text": [
      "WARNING:root:APPENDING RESULT: <(öte_Postp_PCAbl)(-)(öte:postpRoot_ST)>\n"
     ]
    },
    {
     "name": "stdout",
     "output_type": "stream",
     "text": [
      "2020-12-01 21:34:06,836 - root - WARNING\n",
      "Msg: APPENDING RESULT: <(öte_Postp_PCAbl)(-)(öte:postpRoot_ST)>\n",
      "\n"
     ]
    },
    {
     "name": "stderr",
     "output_type": "stream",
     "text": [
      "WARNING:root:APPENDING RESULT: <(ötmek_Verb)(-)(öt:verbRoot_S + e:vOpt_S + vA3sg_ST)>\n"
     ]
    },
    {
     "name": "stdout",
     "output_type": "stream",
     "text": [
      "2020-12-01 21:34:06,838 - root - WARNING\n",
      "Msg: APPENDING RESULT: <(ötmek_Verb)(-)(öt:verbRoot_S + e:vOpt_S + vA3sg_ST)>\n",
      "\n"
     ]
    },
    {
     "name": "stderr",
     "output_type": "stream",
     "text": [
      "WARNING:root:APPENDING RESULT: <(öte_Noun)(-)(öte:noun_S + a3sg_S + pnon_S + nom_ST)>\n"
     ]
    },
    {
     "name": "stdout",
     "output_type": "stream",
     "text": [
      "2020-12-01 21:34:06,839 - root - WARNING\n",
      "Msg: APPENDING RESULT: <(öte_Noun)(-)(öte:noun_S + a3sg_S + pnon_S + nom_ST)>\n",
      "\n"
     ]
    },
    {
     "name": "stderr",
     "output_type": "stream",
     "text": [
      "WARNING:root:APPENDING RESULT: <(öte_Noun)(-)(öte:noun_S + a3sg_S + pnon_S + dat_ST)>\n"
     ]
    },
    {
     "name": "stdout",
     "output_type": "stream",
     "text": [
      "2020-12-01 21:34:06,840 - root - WARNING\n",
      "Msg: APPENDING RESULT: <(öte_Noun)(-)(öte:noun_S + a3sg_S + pnon_S + dat_ST)>\n",
      "\n"
     ]
    },
    {
     "name": "stderr",
     "output_type": "stream",
     "text": [
      "WARNING:root:APPENDING RESULT: <(yan_Noun)(-)(yan:noun_S + a3sg_S + pnon_S + dan:abl_ST)>\n"
     ]
    },
    {
     "name": "stdout",
     "output_type": "stream",
     "text": [
      "2020-12-01 21:34:06,845 - root - WARNING\n",
      "Msg: APPENDING RESULT: <(yan_Noun)(-)(yan:noun_S + a3sg_S + pnon_S + dan:abl_ST)>\n",
      "\n"
     ]
    },
    {
     "name": "stderr",
     "output_type": "stream",
     "text": [
      "WARNING:root:APPENDING RESULT: <(son_Num)(-)(son:numeralRoot_ST)>\n"
     ]
    },
    {
     "name": "stdout",
     "output_type": "stream",
     "text": [
      "2020-12-01 21:34:06,848 - root - WARNING\n",
      "Msg: APPENDING RESULT: <(son_Num)(-)(son:numeralRoot_ST)>\n",
      "\n"
     ]
    },
    {
     "name": "stderr",
     "output_type": "stream",
     "text": [
      "WARNING:root:APPENDING RESULT: <(son_Adj)(-)(son:adjectiveRoot_ST)>\n"
     ]
    },
    {
     "name": "stdout",
     "output_type": "stream",
     "text": [
      "2020-12-01 21:34:06,849 - root - WARNING\n",
      "Msg: APPENDING RESULT: <(son_Adj)(-)(son:adjectiveRoot_ST)>\n",
      "\n"
     ]
    },
    {
     "name": "stderr",
     "output_type": "stream",
     "text": [
      "WARNING:root:APPENDING RESULT: <(son_Noun)(-)(son:noun_S + a3sg_S + pnon_S + nom_ST)>\n"
     ]
    },
    {
     "name": "stdout",
     "output_type": "stream",
     "text": [
      "2020-12-01 21:34:06,852 - root - WARNING\n",
      "Msg: APPENDING RESULT: <(son_Noun)(-)(son:noun_S + a3sg_S + pnon_S + nom_ST)>\n",
      "\n"
     ]
    },
    {
     "name": "stderr",
     "output_type": "stream",
     "text": [
      "WARNING:root:APPENDING RESULT: <(gün_Noun_Time)(-)(gün:noun_S + ler:a3pl_S + pnon_S + de:loc_ST)>\n"
     ]
    },
    {
     "name": "stdout",
     "output_type": "stream",
     "text": [
      "2020-12-01 21:34:06,856 - root - WARNING\n",
      "Msg: APPENDING RESULT: <(gün_Noun_Time)(-)(gün:noun_S + ler:a3pl_S + pnon_S + de:loc_ST)>\n",
      "\n"
     ]
    },
    {
     "name": "stderr",
     "output_type": "stream",
     "text": [
      "WARNING:root:APPENDING RESULT: <(art_Adj)(-)(art:adjectiveRoot_ST)>\n"
     ]
    },
    {
     "name": "stdout",
     "output_type": "stream",
     "text": [
      "2020-12-01 21:34:06,859 - root - WARNING\n",
      "Msg: APPENDING RESULT: <(art_Adj)(-)(art:adjectiveRoot_ST)>\n",
      "\n"
     ]
    },
    {
     "name": "stderr",
     "output_type": "stream",
     "text": [
      "WARNING:root:APPENDING RESULT: <(artmak_Verb)(-)(art:verbRoot_S + vImp_S + vA2sg_ST)>\n"
     ]
    },
    {
     "name": "stdout",
     "output_type": "stream",
     "text": [
      "2020-12-01 21:34:06,861 - root - WARNING\n",
      "Msg: APPENDING RESULT: <(artmak_Verb)(-)(art:verbRoot_S + vImp_S + vA2sg_ST)>\n",
      "\n"
     ]
    },
    {
     "name": "stderr",
     "output_type": "stream",
     "text": [
      "WARNING:root:APPENDING RESULT: <(art_Noun)(-)(art:noun_S + a3sg_S + pnon_S + nom_ST)>\n"
     ]
    },
    {
     "name": "stdout",
     "output_type": "stream",
     "text": [
      "2020-12-01 21:34:06,863 - root - WARNING\n",
      "Msg: APPENDING RESULT: <(art_Noun)(-)(art:noun_S + a3sg_S + pnon_S + nom_ST)>\n",
      "\n"
     ]
    },
    {
     "name": "stderr",
     "output_type": "stream",
     "text": [
      "WARNING:root:APPENDING RESULT: <(Ar_Noun_Prop)(-)(ar:nounProper_S + a3sg_S + pnon_S + da:loc_ST)>\n"
     ]
    },
    {
     "name": "stdout",
     "output_type": "stream",
     "text": [
      "2020-12-01 21:34:06,867 - root - WARNING\n",
      "Msg: APPENDING RESULT: <(Ar_Noun_Prop)(-)(ar:nounProper_S + a3sg_S + pnon_S + da:loc_ST)>\n",
      "\n"
     ]
    },
    {
     "name": "stderr",
     "output_type": "stream",
     "text": [
      "WARNING:root:APPENDING RESULT: <(ar_Noun)(-)(ar:noun_S + a3sg_S + pnon_S + da:loc_ST)>\n"
     ]
    },
    {
     "name": "stdout",
     "output_type": "stream",
     "text": [
      "2020-12-01 21:34:06,868 - root - WARNING\n",
      "Msg: APPENDING RESULT: <(ar_Noun)(-)(ar:noun_S + a3sg_S + pnon_S + da:loc_ST)>\n",
      "\n"
     ]
    },
    {
     "name": "stderr",
     "output_type": "stream",
     "text": [
      "WARNING:root:APPENDING RESULT: <(art_Noun)(-)(ard:noun_S + a3sg_S + pnon_S + a:dat_ST)>\n"
     ]
    },
    {
     "name": "stdout",
     "output_type": "stream",
     "text": [
      "2020-12-01 21:34:06,870 - root - WARNING\n",
      "Msg: APPENDING RESULT: <(art_Noun)(-)(ard:noun_S + a3sg_S + pnon_S + a:dat_ST)>\n",
      "\n"
     ]
    },
    {
     "name": "stderr",
     "output_type": "stream",
     "text": [
      "WARNING:root:APPENDING RESULT: <(arda_Noun)(-)(arda:noun_S + a3sg_S + pnon_S + nom_ST)>\n"
     ]
    },
    {
     "name": "stdout",
     "output_type": "stream",
     "text": [
      "2020-12-01 21:34:06,871 - root - WARNING\n",
      "Msg: APPENDING RESULT: <(arda_Noun)(-)(arda:noun_S + a3sg_S + pnon_S + nom_ST)>\n",
      "\n"
     ]
    },
    {
     "name": "stderr",
     "output_type": "stream",
     "text": [
      "WARNING:root:APPENDING RESULT: <(Arda_Noun_Prop)(-)(arda:nounProper_S + a3sg_S + pnon_S + nom_ST)>\n"
     ]
    },
    {
     "name": "stdout",
     "output_type": "stream",
     "text": [
      "2020-12-01 21:34:06,873 - root - WARNING\n",
      "Msg: APPENDING RESULT: <(Arda_Noun_Prop)(-)(arda:nounProper_S + a3sg_S + pnon_S + nom_ST)>\n",
      "\n"
     ]
    },
    {
     "name": "stderr",
     "output_type": "stream",
     "text": [
      "WARNING:root:APPENDING RESULT: <(art_Adj)(-)(ard:adjectiveRoot_ST + adjZeroDeriv_S + noun_S + a3sg_S + pnon_S + a:dat_ST)>\n"
     ]
    },
    {
     "name": "stdout",
     "output_type": "stream",
     "text": [
      "2020-12-01 21:34:06,876 - root - WARNING\n",
      "Msg: APPENDING RESULT: <(art_Adj)(-)(ard:adjectiveRoot_ST + adjZeroDeriv_S + noun_S + a3sg_S + pnon_S + a:dat_ST)>\n",
      "\n"
     ]
    },
    {
     "name": "stderr",
     "output_type": "stream",
     "text": [
      "WARNING:root:APPENDING RESULT: <(bin_Num_Card)(-)(bin:numeralRoot_ST)>\n"
     ]
    },
    {
     "name": "stdout",
     "output_type": "stream",
     "text": [
      "2020-12-01 21:34:06,877 - root - WARNING\n",
      "Msg: APPENDING RESULT: <(bin_Num_Card)(-)(bin:numeralRoot_ST)>\n",
      "\n"
     ]
    },
    {
     "name": "stderr",
     "output_type": "stream",
     "text": [
      "WARNING:root:APPENDING RESULT: <(binmek_Verb)(-)(bin:verbRoot_S + vImp_S + vA2sg_ST)>\n"
     ]
    },
    {
     "name": "stdout",
     "output_type": "stream",
     "text": [
      "2020-12-01 21:34:06,879 - root - WARNING\n",
      "Msg: APPENDING RESULT: <(binmek_Verb)(-)(bin:verbRoot_S + vImp_S + vA2sg_ST)>\n",
      "\n"
     ]
    },
    {
     "name": "stderr",
     "output_type": "stream",
     "text": [
      "WARNING:root:APPENDING RESULT: <(ve_Conj)(-)(ve:conjRoot_ST)>\n"
     ]
    },
    {
     "name": "stdout",
     "output_type": "stream",
     "text": [
      "2020-12-01 21:34:06,881 - root - WARNING\n",
      "Msg: APPENDING RESULT: <(ve_Conj)(-)(ve:conjRoot_ST)>\n",
      "\n"
     ]
    },
    {
     "name": "stderr",
     "output_type": "stream",
     "text": [
      "WARNING:root:APPENDING RESULT: <(Üzer_Noun_Prop)(-)(üzer:nounProper_S + a3sg_S + pnon_S + i:acc_ST)>\n"
     ]
    },
    {
     "name": "stdout",
     "output_type": "stream",
     "text": [
      "2020-12-01 21:34:06,884 - root - WARNING\n",
      "Msg: APPENDING RESULT: <(Üzer_Noun_Prop)(-)(üzer:nounProper_S + a3sg_S + pnon_S + i:acc_ST)>\n",
      "\n"
     ]
    },
    {
     "name": "stderr",
     "output_type": "stream",
     "text": [
      "WARNING:root:APPENDING RESULT: <(Üzer_Noun_Prop)(-)(üzer:nounProper_S + a3sg_S + i:p3sg_S + nom_ST)>\n"
     ]
    },
    {
     "name": "stdout",
     "output_type": "stream",
     "text": [
      "2020-12-01 21:34:06,886 - root - WARNING\n",
      "Msg: APPENDING RESULT: <(Üzer_Noun_Prop)(-)(üzer:nounProper_S + a3sg_S + i:p3sg_S + nom_ST)>\n",
      "\n"
     ]
    },
    {
     "name": "stderr",
     "output_type": "stream",
     "text": [
      "WARNING:root:APPENDING RESULT: <(yeni_Adv)(-)(yeni:advRoot_ST)>\n"
     ]
    },
    {
     "name": "stdout",
     "output_type": "stream",
     "text": [
      "2020-12-01 21:34:06,888 - root - WARNING\n",
      "Msg: APPENDING RESULT: <(yeni_Adv)(-)(yeni:advRoot_ST)>\n",
      "\n"
     ]
    },
    {
     "name": "stderr",
     "output_type": "stream",
     "text": [
      "WARNING:root:APPENDING RESULT: <(yeni_Adj)(-)(yeni:adjectiveRoot_ST)>\n"
     ]
    },
    {
     "name": "stdout",
     "output_type": "stream",
     "text": [
      "2020-12-01 21:34:06,890 - root - WARNING\n",
      "Msg: APPENDING RESULT: <(yeni_Adj)(-)(yeni:adjectiveRoot_ST)>\n",
      "\n"
     ]
    },
    {
     "name": "stderr",
     "output_type": "stream",
     "text": [
      "WARNING:root:APPENDING RESULT: <(yen_Noun)(-)(yen:noun_S + a3sg_S + pnon_S + i:acc_ST)>\n"
     ]
    },
    {
     "name": "stdout",
     "output_type": "stream",
     "text": [
      "2020-12-01 21:34:06,893 - root - WARNING\n",
      "Msg: APPENDING RESULT: <(yen_Noun)(-)(yen:noun_S + a3sg_S + pnon_S + i:acc_ST)>\n",
      "\n"
     ]
    },
    {
     "name": "stderr",
     "output_type": "stream",
     "text": [
      "WARNING:root:APPENDING RESULT: <(yen_Noun)(-)(yen:noun_S + a3sg_S + i:p3sg_S + nom_ST)>\n"
     ]
    },
    {
     "name": "stdout",
     "output_type": "stream",
     "text": [
      "2020-12-01 21:34:06,894 - root - WARNING\n",
      "Msg: APPENDING RESULT: <(yen_Noun)(-)(yen:noun_S + a3sg_S + i:p3sg_S + nom_ST)>\n",
      "\n"
     ]
    },
    {
     "name": "stderr",
     "output_type": "stream",
     "text": [
      "WARNING:root:APPENDING RESULT: <(enfeksiyon_Noun)(-)(enfeksiyon:noun_S + a3sg_S + pnon_S + un:gen_ST)>\n"
     ]
    },
    {
     "name": "stdout",
     "output_type": "stream",
     "text": [
      "2020-12-01 21:34:06,898 - root - WARNING\n",
      "Msg: APPENDING RESULT: <(enfeksiyon_Noun)(-)(enfeksiyon:noun_S + a3sg_S + pnon_S + un:gen_ST)>\n",
      "\n"
     ]
    },
    {
     "name": "stderr",
     "output_type": "stream",
     "text": [
      "WARNING:root:APPENDING RESULT: <(enfeksiyon_Noun)(-)(enfeksiyon:noun_S + a3sg_S + un:p2sg_S + nom_ST)>\n"
     ]
    },
    {
     "name": "stdout",
     "output_type": "stream",
     "text": [
      "2020-12-01 21:34:06,900 - root - WARNING\n",
      "Msg: APPENDING RESULT: <(enfeksiyon_Noun)(-)(enfeksiyon:noun_S + a3sg_S + un:p2sg_S + nom_ST)>\n",
      "\n"
     ]
    },
    {
     "name": "stderr",
     "output_type": "stream",
     "text": [
      "WARNING:root:APPENDING RESULT: <(doğru_Adj)(-)(doğru:adjectiveRoot_ST + lan:acquire_S + verbRoot_S + dığ:vPastPart_S + adjAfterVerb_S + ı:aP3sg_ST)>\n"
     ]
    },
    {
     "name": "stdout",
     "output_type": "stream",
     "text": [
      "2020-12-01 21:34:06,915 - root - WARNING\n",
      "Msg: APPENDING RESULT: <(doğru_Adj)(-)(doğru:adjectiveRoot_ST + lan:acquire_S + verbRoot_S + dığ:vPastPart_S + adjAfterVerb_S + ı:aP3sg_ST)>\n",
      "\n"
     ]
    },
    {
     "name": "stderr",
     "output_type": "stream",
     "text": [
      "WARNING:root:APPENDING RESULT: <(doğrulamak_Verb)(-)(doğrula:verbRoot_S + n:vPass_S + verbRoot_S + dığ:vPastPart_S + adjAfterVerb_S + ı:aP3sg_ST)>\n"
     ]
    },
    {
     "name": "stdout",
     "output_type": "stream",
     "text": [
      "2020-12-01 21:34:06,917 - root - WARNING\n",
      "Msg: APPENDING RESULT: <(doğrulamak_Verb)(-)(doğrula:verbRoot_S + n:vPass_S + verbRoot_S + dığ:vPastPart_S + adjAfterVerb_S + ı:aP3sg_ST)>\n",
      "\n"
     ]
    },
    {
     "name": "stderr",
     "output_type": "stream",
     "text": [
      "WARNING:root:APPENDING RESULT: <(doğru_Adj)(-)(doğru:adjectiveRoot_ST + lan:acquire_S + verbRoot_S + dığ:vPastPart_S + noun_S + a3sg_S + pnon_S + ı:acc_ST)>\n"
     ]
    },
    {
     "name": "stdout",
     "output_type": "stream",
     "text": [
      "2020-12-01 21:34:06,921 - root - WARNING\n",
      "Msg: APPENDING RESULT: <(doğru_Adj)(-)(doğru:adjectiveRoot_ST + lan:acquire_S + verbRoot_S + dığ:vPastPart_S + noun_S + a3sg_S + pnon_S + ı:acc_ST)>\n",
      "\n"
     ]
    },
    {
     "name": "stderr",
     "output_type": "stream",
     "text": [
      "WARNING:root:APPENDING RESULT: <(doğru_Adj)(-)(doğru:adjectiveRoot_ST + lan:acquire_S + verbRoot_S + dığ:vPastPart_S + noun_S + a3sg_S + ı:p3sg_S + nom_ST)>\n"
     ]
    },
    {
     "name": "stdout",
     "output_type": "stream",
     "text": [
      "2020-12-01 21:34:06,922 - root - WARNING\n",
      "Msg: APPENDING RESULT: <(doğru_Adj)(-)(doğru:adjectiveRoot_ST + lan:acquire_S + verbRoot_S + dığ:vPastPart_S + noun_S + a3sg_S + ı:p3sg_S + nom_ST)>\n",
      "\n"
     ]
    },
    {
     "name": "stderr",
     "output_type": "stream",
     "text": [
      "WARNING:root:APPENDING RESULT: <(doğrulamak_Verb)(-)(doğrula:verbRoot_S + n:vPass_S + verbRoot_S + dığ:vPastPart_S + noun_S + a3sg_S + pnon_S + ı:acc_ST)>\n"
     ]
    },
    {
     "name": "stdout",
     "output_type": "stream",
     "text": [
      "2020-12-01 21:34:06,924 - root - WARNING\n",
      "Msg: APPENDING RESULT: <(doğrulamak_Verb)(-)(doğrula:verbRoot_S + n:vPass_S + verbRoot_S + dığ:vPastPart_S + noun_S + a3sg_S + pnon_S + ı:acc_ST)>\n",
      "\n"
     ]
    },
    {
     "name": "stderr",
     "output_type": "stream",
     "text": [
      "WARNING:root:APPENDING RESULT: <(doğrulamak_Verb)(-)(doğrula:verbRoot_S + n:vPass_S + verbRoot_S + dığ:vPastPart_S + noun_S + a3sg_S + ı:p3sg_S + nom_ST)>\n"
     ]
    },
    {
     "name": "stdout",
     "output_type": "stream",
     "text": [
      "2020-12-01 21:34:06,925 - root - WARNING\n",
      "Msg: APPENDING RESULT: <(doğrulamak_Verb)(-)(doğrula:verbRoot_S + n:vPass_S + verbRoot_S + dığ:vPastPart_S + noun_S + a3sg_S + ı:p3sg_S + nom_ST)>\n",
      "\n"
     ]
    },
    {
     "name": "stderr",
     "output_type": "stream",
     "text": [
      "WARNING:root:APPENDING RESULT: <(doğru_Noun)(-)(doğru:noun_S + a3sg_S + pnon_S + nom_ST + lan:acquire_S + verbRoot_S + dığ:vPastPart_S + adjAfterVerb_S + ı:aP3sg_ST)>\n"
     ]
    },
    {
     "name": "stdout",
     "output_type": "stream",
     "text": [
      "2020-12-01 21:34:06,927 - root - WARNING\n",
      "Msg: APPENDING RESULT: <(doğru_Noun)(-)(doğru:noun_S + a3sg_S + pnon_S + nom_ST + lan:acquire_S + verbRoot_S + dığ:vPastPart_S + adjAfterVerb_S + ı:aP3sg_ST)>\n",
      "\n"
     ]
    },
    {
     "name": "stderr",
     "output_type": "stream",
     "text": [
      "WARNING:root:APPENDING RESULT: <(doğru_Noun)(-)(doğru:noun_S + a3sg_S + pnon_S + nom_ST + lan:acquire_S + verbRoot_S + dığ:vPastPart_S + noun_S + a3sg_S + pnon_S + ı:acc_ST)>\n"
     ]
    },
    {
     "name": "stdout",
     "output_type": "stream",
     "text": [
      "2020-12-01 21:34:06,929 - root - WARNING\n",
      "Msg: APPENDING RESULT: <(doğru_Noun)(-)(doğru:noun_S + a3sg_S + pnon_S + nom_ST + lan:acquire_S + verbRoot_S + dığ:vPastPart_S + noun_S + a3sg_S + pnon_S + ı:acc_ST)>\n",
      "\n"
     ]
    },
    {
     "name": "stderr",
     "output_type": "stream",
     "text": [
      "WARNING:root:APPENDING RESULT: <(doğru_Noun)(-)(doğru:noun_S + a3sg_S + pnon_S + nom_ST + lan:acquire_S + verbRoot_S + dığ:vPastPart_S + noun_S + a3sg_S + ı:p3sg_S + nom_ST)>\n"
     ]
    },
    {
     "name": "stdout",
     "output_type": "stream",
     "text": [
      "2020-12-01 21:34:06,930 - root - WARNING\n",
      "Msg: APPENDING RESULT: <(doğru_Noun)(-)(doğru:noun_S + a3sg_S + pnon_S + nom_ST + lan:acquire_S + verbRoot_S + dığ:vPastPart_S + noun_S + a3sg_S + ı:p3sg_S + nom_ST)>\n",
      "\n"
     ]
    },
    {
     "name": "stderr",
     "output_type": "stream",
     "text": [
      "WARNING:root:APPENDING RESULT: <(Japonya_Noun_Prop)(-)(japonya:nounProper_S + a3sg_S + pnon_S + da:loc_ST)>\n"
     ]
    },
    {
     "name": "stdout",
     "output_type": "stream",
     "text": [
      "2020-12-01 21:34:06,935 - root - WARNING\n",
      "Msg: APPENDING RESULT: <(Japonya_Noun_Prop)(-)(japonya:nounProper_S + a3sg_S + pnon_S + da:loc_ST)>\n",
      "\n"
     ]
    },
    {
     "name": "stderr",
     "output_type": "stream",
     "text": [
      "WARNING:root:APPENDING RESULT: <(dün_Adv)(-)(dün:advRoot_ST)>\n"
     ]
    },
    {
     "name": "stdout",
     "output_type": "stream",
     "text": [
      "2020-12-01 21:34:06,937 - root - WARNING\n",
      "Msg: APPENDING RESULT: <(dün_Adv)(-)(dün:advRoot_ST)>\n",
      "\n"
     ]
    },
    {
     "name": "stderr",
     "output_type": "stream",
     "text": [
      "WARNING:root:APPENDING RESULT: <(dü_Noun)(-)(dü:noun_S + a3sg_S + n:p2sg_S + nom_ST)>\n"
     ]
    },
    {
     "name": "stdout",
     "output_type": "stream",
     "text": [
      "2020-12-01 21:34:06,939 - root - WARNING\n",
      "Msg: APPENDING RESULT: <(dü_Noun)(-)(dü:noun_S + a3sg_S + n:p2sg_S + nom_ST)>\n",
      "\n"
     ]
    },
    {
     "name": "stderr",
     "output_type": "stream",
     "text": [
      "WARNING:root:APPENDING RESULT: <(dün_Noun_Time)(-)(dün:noun_S + a3sg_S + pnon_S + nom_ST)>\n"
     ]
    },
    {
     "name": "stdout",
     "output_type": "stream",
     "text": [
      "2020-12-01 21:34:06,940 - root - WARNING\n",
      "Msg: APPENDING RESULT: <(dün_Noun_Time)(-)(dün:noun_S + a3sg_S + pnon_S + nom_ST)>\n",
      "\n"
     ]
    },
    {
     "name": "stderr",
     "output_type": "stream",
     "text": [
      "WARNING:root:APPENDING RESULT: <(ülke_Noun)(-)(ülke:noun_S + a3sg_S + pnon_S + nom_ST)>\n"
     ]
    },
    {
     "name": "stdout",
     "output_type": "stream",
     "text": [
      "2020-12-01 21:34:06,944 - root - WARNING\n",
      "Msg: APPENDING RESULT: <(ülke_Noun)(-)(ülke:noun_S + a3sg_S + pnon_S + nom_ST)>\n",
      "\n"
     ]
    },
    {
     "name": "stderr",
     "output_type": "stream",
     "text": [
      "WARNING:root:APPENDING RESULT: <(Ülke_Noun_Prop)(-)(ülke:nounProper_S + a3sg_S + pnon_S + nom_ST)>\n"
     ]
    },
    {
     "name": "stdout",
     "output_type": "stream",
     "text": [
      "2020-12-01 21:34:06,946 - root - WARNING\n",
      "Msg: APPENDING RESULT: <(Ülke_Noun_Prop)(-)(ülke:nounProper_S + a3sg_S + pnon_S + nom_ST)>\n",
      "\n"
     ]
    },
    {
     "name": "stderr",
     "output_type": "stream",
     "text": [
      "WARNING:root:APPENDING RESULT: <(genel_Adj)(-)(genel:adjectiveRoot_ST + adjZeroDeriv_S + noun_S + a3sg_S + pnon_S + i:acc_ST)>\n"
     ]
    },
    {
     "name": "stdout",
     "output_type": "stream",
     "text": [
      "2020-12-01 21:34:06,952 - root - WARNING\n",
      "Msg: APPENDING RESULT: <(genel_Adj)(-)(genel:adjectiveRoot_ST + adjZeroDeriv_S + noun_S + a3sg_S + pnon_S + i:acc_ST)>\n",
      "\n"
     ]
    },
    {
     "name": "stderr",
     "output_type": "stream",
     "text": [
      "WARNING:root:APPENDING RESULT: <(genel_Adj)(-)(genel:adjectiveRoot_ST + adjZeroDeriv_S + noun_S + a3sg_S + i:p3sg_S + nom_ST)>\n"
     ]
    },
    {
     "name": "stdout",
     "output_type": "stream",
     "text": [
      "2020-12-01 21:34:06,953 - root - WARNING\n",
      "Msg: APPENDING RESULT: <(genel_Adj)(-)(genel:adjectiveRoot_ST + adjZeroDeriv_S + noun_S + a3sg_S + i:p3sg_S + nom_ST)>\n",
      "\n"
     ]
    },
    {
     "name": "stderr",
     "output_type": "stream",
     "text": [
      "WARNING:root:APPENDING RESULT: <(vaka_Noun)(-)(vaka:noun_S + a3sg_S + pnon_S + nom_ST)>\n"
     ]
    },
    {
     "name": "stdout",
     "output_type": "stream",
     "text": [
      "2020-12-01 21:34:06,957 - root - WARNING\n",
      "Msg: APPENDING RESULT: <(vaka_Noun)(-)(vaka:noun_S + a3sg_S + pnon_S + nom_ST)>\n",
      "\n"
     ]
    },
    {
     "name": "stderr",
     "output_type": "stream",
     "text": [
      "WARNING:root:APPENDING RESULT: <(sayı_Noun)(-)(sayı:noun_S + a3sg_S + sı:p3sg_S + nom_ST)>\n"
     ]
    },
    {
     "name": "stdout",
     "output_type": "stream",
     "text": [
      "2020-12-01 21:34:06,961 - root - WARNING\n",
      "Msg: APPENDING RESULT: <(sayı_Noun)(-)(sayı:noun_S + a3sg_S + sı:p3sg_S + nom_ST)>\n",
      "\n"
     ]
    },
    {
     "name": "stderr",
     "output_type": "stream",
     "text": [
      "WARNING:root:APPENDING RESULT: <(bin_Num_Card)(-)(bin:numeralRoot_ST)>\n"
     ]
    },
    {
     "name": "stdout",
     "output_type": "stream",
     "text": [
      "2020-12-01 21:34:06,963 - root - WARNING\n",
      "Msg: APPENDING RESULT: <(bin_Num_Card)(-)(bin:numeralRoot_ST)>\n",
      "\n"
     ]
    },
    {
     "name": "stderr",
     "output_type": "stream",
     "text": [
      "WARNING:root:APPENDING RESULT: <(binmek_Verb)(-)(bin:verbRoot_S + vImp_S + vA2sg_ST)>\n"
     ]
    },
    {
     "name": "stdout",
     "output_type": "stream",
     "text": [
      "2020-12-01 21:34:06,965 - root - WARNING\n",
      "Msg: APPENDING RESULT: <(binmek_Verb)(-)(bin:verbRoot_S + vImp_S + vA2sg_ST)>\n",
      "\n"
     ]
    },
    {
     "name": "stderr",
     "output_type": "stream",
     "text": [
      "WARNING:root:APPENDING RESULT: <(olmak_Verb)(-)(ol:verbRoot_S + ur:vAor_S + ken:vWhile_S + advRoot_ST)>\n"
     ]
    },
    {
     "name": "stdout",
     "output_type": "stream",
     "text": [
      "2020-12-01 21:34:06,970 - root - WARNING\n",
      "Msg: APPENDING RESULT: <(olmak_Verb)(-)(ol:verbRoot_S + ur:vAor_S + ken:vWhile_S + advRoot_ST)>\n",
      "\n"
     ]
    },
    {
     "name": "stderr",
     "output_type": "stream",
     "text": [
      "WARNING:root:APPENDING RESULT: <(olur_Adj)(-)(olur:adjectiveRoot_ST + adjZeroDeriv_S + nVerb_S + ken:vWhile_S + advRoot_ST)>\n"
     ]
    },
    {
     "name": "stdout",
     "output_type": "stream",
     "text": [
      "2020-12-01 21:34:06,974 - root - WARNING\n",
      "Msg: APPENDING RESULT: <(olur_Adj)(-)(olur:adjectiveRoot_ST + adjZeroDeriv_S + nVerb_S + ken:vWhile_S + advRoot_ST)>\n",
      "\n"
     ]
    },
    {
     "name": "stderr",
     "output_type": "stream",
     "text": [
      "WARNING:root:APPENDING RESULT: <(olur_Noun)(-)(olur:noun_S + a3sg_S + pnon_S + nom_ST + nounZeroDeriv_S + nVerb_S + ken:vWhile_S + advRoot_ST)>\n"
     ]
    },
    {
     "name": "stdout",
     "output_type": "stream",
     "text": [
      "2020-12-01 21:34:06,977 - root - WARNING\n",
      "Msg: APPENDING RESULT: <(olur_Noun)(-)(olur:noun_S + a3sg_S + pnon_S + nom_ST + nounZeroDeriv_S + nVerb_S + ken:vWhile_S + advRoot_ST)>\n",
      "\n"
     ]
    },
    {
     "name": "stderr",
     "output_type": "stream",
     "text": [
      "WARNING:root:APPENDING RESULT: <(Olur_Noun_Prop)(-)(olur:nounProper_S + a3sg_S + pnon_S + nom_ST + nounZeroDeriv_S + nVerb_S + ken:vWhile_S + advRoot_ST)>\n"
     ]
    },
    {
     "name": "stdout",
     "output_type": "stream",
     "text": [
      "2020-12-01 21:34:06,978 - root - WARNING\n",
      "Msg: APPENDING RESULT: <(Olur_Noun_Prop)(-)(olur:nounProper_S + a3sg_S + pnon_S + nom_ST + nounZeroDeriv_S + nVerb_S + ken:vWhile_S + advRoot_ST)>\n",
      "\n"
     ]
    },
    {
     "name": "stderr",
     "output_type": "stream",
     "text": [
      "WARNING:root:APPENDING RESULT: <(,_Punc)(-)(,:puncRoot_ST)>\n"
     ]
    },
    {
     "name": "stdout",
     "output_type": "stream",
     "text": [
      "2020-12-01 21:34:06,980 - root - WARNING\n",
      "Msg: APPENDING RESULT: <(,_Punc)(-)(,:puncRoot_ST)>\n",
      "\n"
     ]
    },
    {
     "name": "stderr",
     "output_type": "stream",
     "text": [
      "WARNING:root:APPENDING RESULT: <(eyalet_Noun)(-)(eyalet:noun_S + a3sg_S + pnon_S + in:gen_ST)>\n"
     ]
    },
    {
     "name": "stdout",
     "output_type": "stream",
     "text": [
      "2020-12-01 21:34:06,983 - root - WARNING\n",
      "Msg: APPENDING RESULT: <(eyalet_Noun)(-)(eyalet:noun_S + a3sg_S + pnon_S + in:gen_ST)>\n",
      "\n"
     ]
    },
    {
     "name": "stderr",
     "output_type": "stream",
     "text": [
      "WARNING:root:APPENDING RESULT: <(eyalet_Noun)(-)(eyalet:noun_S + a3sg_S + in:p2sg_S + nom_ST)>\n"
     ]
    },
    {
     "name": "stdout",
     "output_type": "stream",
     "text": [
      "2020-12-01 21:34:06,984 - root - WARNING\n",
      "Msg: APPENDING RESULT: <(eyalet_Noun)(-)(eyalet:noun_S + a3sg_S + in:p2sg_S + nom_ST)>\n",
      "\n"
     ]
    },
    {
     "name": "stderr",
     "output_type": "stream",
     "text": [
      "WARNING:root:APPENDING RESULT: <(günlük_Adj)(-)(günlük:adjectiveRoot_ST)>\n"
     ]
    },
    {
     "name": "stdout",
     "output_type": "stream",
     "text": [
      "2020-12-01 21:34:06,987 - root - WARNING\n",
      "Msg: APPENDING RESULT: <(günlük_Adj)(-)(günlük:adjectiveRoot_ST)>\n",
      "\n"
     ]
    },
    {
     "name": "stderr",
     "output_type": "stream",
     "text": [
      "WARNING:root:APPENDING RESULT: <(günlük_Noun)(-)(günlük:noun_S + a3sg_S + pnon_S + nom_ST)>\n"
     ]
    },
    {
     "name": "stdout",
     "output_type": "stream",
     "text": [
      "2020-12-01 21:34:06,990 - root - WARNING\n",
      "Msg: APPENDING RESULT: <(günlük_Noun)(-)(günlük:noun_S + a3sg_S + pnon_S + nom_ST)>\n",
      "\n"
     ]
    },
    {
     "name": "stderr",
     "output_type": "stream",
     "text": [
      "WARNING:root:APPENDING RESULT: <(gün_Noun_Time)(-)(gün:noun_S + a3sg_S + pnon_S + nom_ST + lük:ness_S + noun_S + a3sg_S + pnon_S + nom_ST)>\n"
     ]
    },
    {
     "name": "stdout",
     "output_type": "stream",
     "text": [
      "2020-12-01 21:34:06,993 - root - WARNING\n",
      "Msg: APPENDING RESULT: <(gün_Noun_Time)(-)(gün:noun_S + a3sg_S + pnon_S + nom_ST + lük:ness_S + noun_S + a3sg_S + pnon_S + nom_ST)>\n",
      "\n"
     ]
    },
    {
     "name": "stderr",
     "output_type": "stream",
     "text": [
      "WARNING:root:APPENDING RESULT: <(vaka_Noun)(-)(vaka:noun_S + a3sg_S + pnon_S + nom_ST)>\n"
     ]
    },
    {
     "name": "stdout",
     "output_type": "stream",
     "text": [
      "2020-12-01 21:34:06,996 - root - WARNING\n",
      "Msg: APPENDING RESULT: <(vaka_Noun)(-)(vaka:noun_S + a3sg_S + pnon_S + nom_ST)>\n",
      "\n"
     ]
    },
    {
     "name": "stderr",
     "output_type": "stream",
     "text": [
      "WARNING:root:APPENDING RESULT: <(rekor_Noun)(-)(rekor:noun_S + a3sg_S + pnon_S + u:acc_ST)>\n"
     ]
    },
    {
     "name": "stdout",
     "output_type": "stream",
     "text": [
      "2020-12-01 21:34:07,001 - root - WARNING\n",
      "Msg: APPENDING RESULT: <(rekor_Noun)(-)(rekor:noun_S + a3sg_S + pnon_S + u:acc_ST)>\n",
      "\n"
     ]
    },
    {
     "name": "stderr",
     "output_type": "stream",
     "text": [
      "WARNING:root:APPENDING RESULT: <(rekor_Noun)(-)(rekor:noun_S + a3sg_S + u:p3sg_S + nom_ST)>\n"
     ]
    },
    {
     "name": "stdout",
     "output_type": "stream",
     "text": [
      "2020-12-01 21:34:07,004 - root - WARNING\n",
      "Msg: APPENDING RESULT: <(rekor_Noun)(-)(rekor:noun_S + a3sg_S + u:p3sg_S + nom_ST)>\n",
      "\n"
     ]
    },
    {
     "name": "stderr",
     "output_type": "stream",
     "text": [
      "WARNING:root:APPENDING RESULT: <(kırmak_Verb)(-)(kır:verbRoot_S + ıl:vPass_S + verbRoot_S + dı:vPast_S + vA3sg_ST)>\n"
     ]
    },
    {
     "name": "stdout",
     "output_type": "stream",
     "text": [
      "2020-12-01 21:34:07,023 - root - WARNING\n",
      "Msg: APPENDING RESULT: <(kırmak_Verb)(-)(kır:verbRoot_S + ıl:vPass_S + verbRoot_S + dı:vPast_S + vA3sg_ST)>\n",
      "\n"
     ]
    },
    {
     "name": "stderr",
     "output_type": "stream",
     "text": [
      "WARNING:root:APPENDING RESULT: <(._Punc)(-)(.:puncRoot_ST)>\n"
     ]
    },
    {
     "name": "stdout",
     "output_type": "stream",
     "text": [
      "2020-12-01 21:34:07,027 - root - WARNING\n",
      "Msg: APPENDING RESULT: <(._Punc)(-)(.:puncRoot_ST)>\n",
      "\n"
     ]
    },
    {
     "name": "stderr",
     "output_type": "stream",
     "text": [
      "WARNING:root:APPENDING RESULT: <(bin_Num_Card)(-)(bin:numeralRoot_ST)>\n"
     ]
    },
    {
     "name": "stdout",
     "output_type": "stream",
     "text": [
      "2020-12-01 21:34:07,029 - root - WARNING\n",
      "Msg: APPENDING RESULT: <(bin_Num_Card)(-)(bin:numeralRoot_ST)>\n",
      "\n"
     ]
    },
    {
     "name": "stderr",
     "output_type": "stream",
     "text": [
      "WARNING:root:APPENDING RESULT: <(binmek_Verb)(-)(bin:verbRoot_S + vImp_S + vA2sg_ST)>\n"
     ]
    },
    {
     "name": "stdout",
     "output_type": "stream",
     "text": [
      "2020-12-01 21:34:07,030 - root - WARNING\n",
      "Msg: APPENDING RESULT: <(binmek_Verb)(-)(bin:verbRoot_S + vImp_S + vA2sg_ST)>\n",
      "\n"
     ]
    },
    {
     "name": "stderr",
     "output_type": "stream",
     "text": [
      "WARNING:root:APPENDING RESULT: <(toplam_Noun)(-)(toplam:noun_S + a3sg_S + pnon_S + nom_ST)>\n"
     ]
    },
    {
     "name": "stdout",
     "output_type": "stream",
     "text": [
      "2020-12-01 21:34:07,033 - root - WARNING\n",
      "Msg: APPENDING RESULT: <(toplam_Noun)(-)(toplam:noun_S + a3sg_S + pnon_S + nom_ST)>\n",
      "\n"
     ]
    },
    {
     "name": "stderr",
     "output_type": "stream",
     "text": [
      "WARNING:root:APPENDING RESULT: <(enfeksiyon_Noun)(-)(enfeksiyon:noun_S + a3sg_S + pnon_S + nom_ST)>\n"
     ]
    },
    {
     "name": "stdout",
     "output_type": "stream",
     "text": [
      "2020-12-01 21:34:07,038 - root - WARNING\n",
      "Msg: APPENDING RESULT: <(enfeksiyon_Noun)(-)(enfeksiyon:noun_S + a3sg_S + pnon_S + nom_ST)>\n",
      "\n"
     ]
    },
    {
     "name": "stderr",
     "output_type": "stream",
     "text": [
      "WARNING:root:APPENDING RESULT: <(sayı_Noun)(-)(sayı:noun_S + a3sg_S + sı:p3sg_S + na:dat_ST)>\n"
     ]
    },
    {
     "name": "stdout",
     "output_type": "stream",
     "text": [
      "2020-12-01 21:34:07,043 - root - WARNING\n",
      "Msg: APPENDING RESULT: <(sayı_Noun)(-)(sayı:noun_S + a3sg_S + sı:p3sg_S + na:dat_ST)>\n",
      "\n"
     ]
    },
    {
     "name": "stderr",
     "output_type": "stream",
     "text": [
      "WARNING:root:APPENDING RESULT: <(ulaşmak_Verb)(-)(ulaş:verbRoot_S + an:vPresPart_S + adjAfterVerb_ST)>\n"
     ]
    },
    {
     "name": "stdout",
     "output_type": "stream",
     "text": [
      "2020-12-01 21:34:07,047 - root - WARNING\n",
      "Msg: APPENDING RESULT: <(ulaşmak_Verb)(-)(ulaş:verbRoot_S + an:vPresPart_S + adjAfterVerb_ST)>\n",
      "\n"
     ]
    },
    {
     "name": "stderr",
     "output_type": "stream",
     "text": [
      "WARNING:root:APPENDING RESULT: <(U_Noun_Abbrv)(-)(u:nounAbbrv_S + a3sg_S + pnon_S + nom_ST + laş:become_S + verbRoot_S + an:vPresPart_S + adjAfterVerb_ST)>\n"
     ]
    },
    {
     "name": "stdout",
     "output_type": "stream",
     "text": [
      "2020-12-01 21:34:07,052 - root - WARNING\n",
      "Msg: APPENDING RESULT: <(U_Noun_Abbrv)(-)(u:nounAbbrv_S + a3sg_S + pnon_S + nom_ST + laş:become_S + verbRoot_S + an:vPresPart_S + adjAfterVerb_ST)>\n",
      "\n"
     ]
    },
    {
     "name": "stderr",
     "output_type": "stream",
     "text": [
      "WARNING:root:APPENDING RESULT: <(Japonya_Noun_Prop)(-)(japonya:nounProper_S + a3sg_S + pnon_S + da:loc_ST)>\n"
     ]
    },
    {
     "name": "stdout",
     "output_type": "stream",
     "text": [
      "2020-12-01 21:34:07,055 - root - WARNING\n",
      "Msg: APPENDING RESULT: <(Japonya_Noun_Prop)(-)(japonya:nounProper_S + a3sg_S + pnon_S + da:loc_ST)>\n",
      "\n"
     ]
    },
    {
     "name": "stderr",
     "output_type": "stream",
     "text": [
      "WARNING:root:APPENDING RESULT: <(tokyo_Noun)(-)(tokyo:noun_S + a3sg_S + pnon_S + dan:abl_ST)>\n"
     ]
    },
    {
     "name": "stdout",
     "output_type": "stream",
     "text": [
      "2020-12-01 21:34:07,060 - root - WARNING\n",
      "Msg: APPENDING RESULT: <(tokyo_Noun)(-)(tokyo:noun_S + a3sg_S + pnon_S + dan:abl_ST)>\n",
      "\n"
     ]
    },
    {
     "name": "stderr",
     "output_type": "stream",
     "text": [
      "WARNING:root:APPENDING RESULT: <(bugün_Adv)(-)(bugün:advRoot_ST)>\n"
     ]
    },
    {
     "name": "stdout",
     "output_type": "stream",
     "text": [
      "2020-12-01 21:34:07,065 - root - WARNING\n",
      "Msg: APPENDING RESULT: <(bugün_Adv)(-)(bugün:advRoot_ST)>\n",
      "\n"
     ]
    },
    {
     "name": "stderr",
     "output_type": "stream",
     "text": [
      "WARNING:root:APPENDING RESULT: <(bugün_Noun_Time)(-)(bugün:noun_S + a3sg_S + pnon_S + nom_ST)>\n"
     ]
    },
    {
     "name": "stdout",
     "output_type": "stream",
     "text": [
      "2020-12-01 21:34:07,067 - root - WARNING\n",
      "Msg: APPENDING RESULT: <(bugün_Noun_Time)(-)(bugün:noun_S + a3sg_S + pnon_S + nom_ST)>\n",
      "\n"
     ]
    },
    {
     "name": "stderr",
     "output_type": "stream",
     "text": [
      "WARNING:root:APPENDING RESULT: <(de_Conj)(-)(de:conjRoot_ST)>\n"
     ]
    },
    {
     "name": "stdout",
     "output_type": "stream",
     "text": [
      "2020-12-01 21:34:07,069 - root - WARNING\n",
      "Msg: APPENDING RESULT: <(de_Conj)(-)(de:conjRoot_ST)>\n",
      "\n"
     ]
    },
    {
     "name": "stderr",
     "output_type": "stream",
     "text": [
      "WARNING:root:APPENDING RESULT: <(demek_Verb)(-)(de:vDeYeRoot_S + vImp_S + vA2sg_ST)>\n"
     ]
    },
    {
     "name": "stdout",
     "output_type": "stream",
     "text": [
      "2020-12-01 21:34:07,072 - root - WARNING\n",
      "Msg: APPENDING RESULT: <(demek_Verb)(-)(de:vDeYeRoot_S + vImp_S + vA2sg_ST)>\n",
      "\n"
     ]
    },
    {
     "name": "stderr",
     "output_type": "stream",
     "text": [
      "WARNING:root:APPENDING RESULT: <(de_Noun)(-)(de:noun_S + a3sg_S + pnon_S + nom_ST)>\n"
     ]
    },
    {
     "name": "stdout",
     "output_type": "stream",
     "text": [
      "2020-12-01 21:34:07,095 - root - WARNING\n",
      "Msg: APPENDING RESULT: <(de_Noun)(-)(de:noun_S + a3sg_S + pnon_S + nom_ST)>\n",
      "\n"
     ]
    },
    {
     "name": "stderr",
     "output_type": "stream",
     "text": [
      "WARNING:root:APPENDING RESULT: <(kötü_Adv)(-)(kötü:advRoot_ST)>\n"
     ]
    },
    {
     "name": "stdout",
     "output_type": "stream",
     "text": [
      "2020-12-01 21:34:07,096 - root - WARNING\n",
      "Msg: APPENDING RESULT: <(kötü_Adv)(-)(kötü:advRoot_ST)>\n",
      "\n"
     ]
    },
    {
     "name": "stderr",
     "output_type": "stream",
     "text": [
      "WARNING:root:APPENDING RESULT: <(kötü_Adj)(-)(kötü:adjectiveRoot_ST)>\n"
     ]
    },
    {
     "name": "stdout",
     "output_type": "stream",
     "text": [
      "2020-12-01 21:34:07,098 - root - WARNING\n",
      "Msg: APPENDING RESULT: <(kötü_Adj)(-)(kötü:adjectiveRoot_ST)>\n",
      "\n"
     ]
    },
    {
     "name": "stderr",
     "output_type": "stream",
     "text": [
      "WARNING:root:APPENDING RESULT: <(haber_Noun)(-)(haber:noun_S + a3sg_S + pnon_S + nom_ST)>\n"
     ]
    },
    {
     "name": "stdout",
     "output_type": "stream",
     "text": [
      "2020-12-01 21:34:07,102 - root - WARNING\n",
      "Msg: APPENDING RESULT: <(haber_Noun)(-)(haber:noun_S + a3sg_S + pnon_S + nom_ST)>\n",
      "\n"
     ]
    },
    {
     "name": "stderr",
     "output_type": "stream",
     "text": [
      "WARNING:root:APPENDING RESULT: <(gelmek_Verb)(-)(gel:verbRoot_S + di:vPast_S + vA3sg_ST)>\n"
     ]
    },
    {
     "name": "stdout",
     "output_type": "stream",
     "text": [
      "2020-12-01 21:34:07,105 - root - WARNING\n",
      "Msg: APPENDING RESULT: <(gelmek_Verb)(-)(gel:verbRoot_S + di:vPast_S + vA3sg_ST)>\n",
      "\n"
     ]
    },
    {
     "name": "stderr",
     "output_type": "stream",
     "text": [
      "WARNING:root:APPENDING RESULT: <(._Punc)(-)(.:puncRoot_ST)>\n"
     ]
    },
    {
     "name": "stdout",
     "output_type": "stream",
     "text": [
      "2020-12-01 21:34:07,109 - root - WARNING\n",
      "Msg: APPENDING RESULT: <(._Punc)(-)(.:puncRoot_ST)>\n",
      "\n"
     ]
    },
    {
     "name": "stderr",
     "output_type": "stream",
     "text": [
      "WARNING:root:APPENDING RESULT: <(başkent_Noun)(-)(başkent:noun_S + a3sg_S + pnon_S + te:loc_ST)>\n"
     ]
    },
    {
     "name": "stdout",
     "output_type": "stream",
     "text": [
      "2020-12-01 21:34:07,112 - root - WARNING\n",
      "Msg: APPENDING RESULT: <(başkent_Noun)(-)(başkent:noun_S + a3sg_S + pnon_S + te:loc_ST)>\n",
      "\n"
     ]
    },
    {
     "name": "stderr",
     "output_type": "stream",
     "text": [
      "WARNING:root:APPENDING RESULT: <(öğle_Noun)(-)(öğle:noun_S + a3sg_S + pnon_S + nom_ST)>\n"
     ]
    },
    {
     "name": "stdout",
     "output_type": "stream",
     "text": [
      "2020-12-01 21:34:07,116 - root - WARNING\n",
      "Msg: APPENDING RESULT: <(öğle_Noun)(-)(öğle:noun_S + a3sg_S + pnon_S + nom_ST)>\n",
      "\n"
     ]
    },
    {
     "name": "stderr",
     "output_type": "stream",
     "text": [
      "WARNING:root:APPENDING RESULT: <(saat_Noun)(-)(saat:noun_S + a3sg_S + leri:p3pl_S + nom_ST)>\n"
     ]
    },
    {
     "name": "stdout",
     "output_type": "stream",
     "text": [
      "2020-12-01 21:34:07,120 - root - WARNING\n",
      "Msg: APPENDING RESULT: <(saat_Noun)(-)(saat:noun_S + a3sg_S + leri:p3pl_S + nom_ST)>\n",
      "\n"
     ]
    },
    {
     "name": "stderr",
     "output_type": "stream",
     "text": [
      "WARNING:root:APPENDING RESULT: <(saat_Noun)(-)(saat:noun_S + ler:a3pl_S + pnon_S + i:acc_ST)>\n"
     ]
    },
    {
     "name": "stdout",
     "output_type": "stream",
     "text": [
      "2020-12-01 21:34:07,122 - root - WARNING\n",
      "Msg: APPENDING RESULT: <(saat_Noun)(-)(saat:noun_S + ler:a3pl_S + pnon_S + i:acc_ST)>\n",
      "\n"
     ]
    },
    {
     "name": "stderr",
     "output_type": "stream",
     "text": [
      "WARNING:root:APPENDING RESULT: <(saat_Noun)(-)(saat:noun_S + ler:a3pl_S + i:p3sg_S + nom_ST)>\n"
     ]
    },
    {
     "name": "stdout",
     "output_type": "stream",
     "text": [
      "2020-12-01 21:34:07,123 - root - WARNING\n",
      "Msg: APPENDING RESULT: <(saat_Noun)(-)(saat:noun_S + ler:a3pl_S + i:p3sg_S + nom_ST)>\n",
      "\n"
     ]
    },
    {
     "name": "stderr",
     "output_type": "stream",
     "text": [
      "WARNING:root:APPENDING RESULT: <(saat_Noun)(-)(saat:noun_S + ler:a3pl_S + i:p3pl_S + nom_ST)>\n"
     ]
    },
    {
     "name": "stdout",
     "output_type": "stream",
     "text": [
      "2020-12-01 21:34:07,125 - root - WARNING\n",
      "Msg: APPENDING RESULT: <(saat_Noun)(-)(saat:noun_S + ler:a3pl_S + i:p3pl_S + nom_ST)>\n",
      "\n"
     ]
    },
    {
     "name": "stderr",
     "output_type": "stream",
     "text": [
      "WARNING:root:APPENDING RESULT: <(itibarî_Noun)(-)(itibari:noun_S + a3sg_S + pnon_S + yle:ins_ST)>\n"
     ]
    },
    {
     "name": "stdout",
     "output_type": "stream",
     "text": [
      "2020-12-01 21:34:07,130 - root - WARNING\n",
      "Msg: APPENDING RESULT: <(itibarî_Noun)(-)(itibari:noun_S + a3sg_S + pnon_S + yle:ins_ST)>\n",
      "\n"
     ]
    },
    {
     "name": "stderr",
     "output_type": "stream",
     "text": [
      "WARNING:root:APPENDING RESULT: <(tüm_Adj)(-)(tüm:adjectiveRoot_ST)>\n"
     ]
    },
    {
     "name": "stdout",
     "output_type": "stream",
     "text": [
      "2020-12-01 21:34:07,133 - root - WARNING\n",
      "Msg: APPENDING RESULT: <(tüm_Adj)(-)(tüm:adjectiveRoot_ST)>\n",
      "\n"
     ]
    },
    {
     "name": "stderr",
     "output_type": "stream",
     "text": [
      "WARNING:root:APPENDING RESULT: <(tüm_Det)(-)(tüm:detRoot_ST)>\n"
     ]
    },
    {
     "name": "stdout",
     "output_type": "stream",
     "text": [
      "2020-12-01 21:34:07,134 - root - WARNING\n",
      "Msg: APPENDING RESULT: <(tüm_Det)(-)(tüm:detRoot_ST)>\n",
      "\n"
     ]
    },
    {
     "name": "stderr",
     "output_type": "stream",
     "text": [
      "WARNING:root:APPENDING RESULT: <(tüm_Noun)(-)(tüm:noun_S + a3sg_S + pnon_S + nom_ST)>\n"
     ]
    },
    {
     "name": "stdout",
     "output_type": "stream",
     "text": [
      "2020-12-01 21:34:07,137 - root - WARNING\n",
      "Msg: APPENDING RESULT: <(tüm_Noun)(-)(tüm:noun_S + a3sg_S + pnon_S + nom_ST)>\n",
      "\n"
     ]
    },
    {
     "name": "stderr",
     "output_type": "stream",
     "text": [
      "WARNING:root:APPENDING RESULT: <(zaman_Noun_Time)(-)(zaman:noun_S + lar:a3pl_S + pnon_S + ın:gen_ST)>\n"
     ]
    },
    {
     "name": "stdout",
     "output_type": "stream",
     "text": [
      "2020-12-01 21:34:07,143 - root - WARNING\n",
      "Msg: APPENDING RESULT: <(zaman_Noun_Time)(-)(zaman:noun_S + lar:a3pl_S + pnon_S + ın:gen_ST)>\n",
      "\n"
     ]
    },
    {
     "name": "stderr",
     "output_type": "stream",
     "text": [
      "WARNING:root:APPENDING RESULT: <(zaman_Noun_Time)(-)(zaman:noun_S + lar:a3pl_S + ın:p2sg_S + nom_ST)>\n"
     ]
    },
    {
     "name": "stdout",
     "output_type": "stream",
     "text": [
      "2020-12-01 21:34:07,144 - root - WARNING\n",
      "Msg: APPENDING RESULT: <(zaman_Noun_Time)(-)(zaman:noun_S + lar:a3pl_S + ın:p2sg_S + nom_ST)>\n",
      "\n"
     ]
    },
    {
     "name": "stderr",
     "output_type": "stream",
     "text": [
      "WARNING:root:APPENDING RESULT: <(en_Adv)(-)(en:advRoot_ST)>\n"
     ]
    },
    {
     "name": "stdout",
     "output_type": "stream",
     "text": [
      "2020-12-01 21:34:07,148 - root - WARNING\n",
      "Msg: APPENDING RESULT: <(en_Adv)(-)(en:advRoot_ST)>\n",
      "\n"
     ]
    },
    {
     "name": "stderr",
     "output_type": "stream",
     "text": [
      "WARNING:root:APPENDING RESULT: <(en_Noun)(-)(en:noun_S + a3sg_S + pnon_S + nom_ST)>\n"
     ]
    },
    {
     "name": "stdout",
     "output_type": "stream",
     "text": [
      "2020-12-01 21:34:07,150 - root - WARNING\n",
      "Msg: APPENDING RESULT: <(en_Noun)(-)(en:noun_S + a3sg_S + pnon_S + nom_ST)>\n",
      "\n"
     ]
    },
    {
     "name": "stderr",
     "output_type": "stream",
     "text": [
      "WARNING:root:APPENDING RESULT: <(yüksek_Adj)(-)(yüksek:adjectiveRoot_ST)>\n"
     ]
    },
    {
     "name": "stdout",
     "output_type": "stream",
     "text": [
      "2020-12-01 21:34:07,152 - root - WARNING\n",
      "Msg: APPENDING RESULT: <(yüksek_Adj)(-)(yüksek:adjectiveRoot_ST)>\n",
      "\n"
     ]
    },
    {
     "name": "stderr",
     "output_type": "stream",
     "text": [
      "WARNING:root:APPENDING RESULT: <(yüksek_Noun)(-)(yüksek:noun_S + a3sg_S + pnon_S + nom_ST)>\n"
     ]
    },
    {
     "name": "stdout",
     "output_type": "stream",
     "text": [
      "2020-12-01 21:34:07,156 - root - WARNING\n",
      "Msg: APPENDING RESULT: <(yüksek_Noun)(-)(yüksek:noun_S + a3sg_S + pnon_S + nom_ST)>\n",
      "\n"
     ]
    },
    {
     "name": "stderr",
     "output_type": "stream",
     "text": [
      "WARNING:root:APPENDING RESULT: <(Yüksek_Noun_Prop)(-)(yüksek:nounProper_S + a3sg_S + pnon_S + nom_ST)>\n"
     ]
    },
    {
     "name": "stdout",
     "output_type": "stream",
     "text": [
      "2020-12-01 21:34:07,157 - root - WARNING\n",
      "Msg: APPENDING RESULT: <(Yüksek_Noun_Prop)(-)(yüksek:nounProper_S + a3sg_S + pnon_S + nom_ST)>\n",
      "\n"
     ]
    },
    {
     "name": "stderr",
     "output_type": "stream",
     "text": [
      "WARNING:root:APPENDING RESULT: <(yük_Noun)(-)(yük:noun_S + a3sg_S + pnon_S + nom_ST + nounZeroDeriv_S + nVerb_S + se:nCond_S + k:nA1pl_ST)>\n"
     ]
    },
    {
     "name": "stdout",
     "output_type": "stream",
     "text": [
      "2020-12-01 21:34:07,159 - root - WARNING\n",
      "Msg: APPENDING RESULT: <(yük_Noun)(-)(yük:noun_S + a3sg_S + pnon_S + nom_ST + nounZeroDeriv_S + nVerb_S + se:nCond_S + k:nA1pl_ST)>\n",
      "\n"
     ]
    },
    {
     "name": "stderr",
     "output_type": "stream",
     "text": [
      "WARNING:root:APPENDING RESULT: <(vaka_Noun)(-)(vaka:noun_S + a3sg_S + pnon_S + nom_ST)>\n"
     ]
    },
    {
     "name": "stdout",
     "output_type": "stream",
     "text": [
      "2020-12-01 21:34:07,161 - root - WARNING\n",
      "Msg: APPENDING RESULT: <(vaka_Noun)(-)(vaka:noun_S + a3sg_S + pnon_S + nom_ST)>\n",
      "\n"
     ]
    },
    {
     "name": "stderr",
     "output_type": "stream",
     "text": [
      "WARNING:root:APPENDING RESULT: <(sayı_Noun)(-)(sayı:noun_S + a3sg_S + sı:p3sg_S + nom_ST)>\n"
     ]
    },
    {
     "name": "stdout",
     "output_type": "stream",
     "text": [
      "2020-12-01 21:34:07,164 - root - WARNING\n",
      "Msg: APPENDING RESULT: <(sayı_Noun)(-)(sayı:noun_S + a3sg_S + sı:p3sg_S + nom_ST)>\n",
      "\n"
     ]
    },
    {
     "name": "stderr",
     "output_type": "stream",
     "text": [
      "WARNING:root:APPENDING RESULT: <(olmak_Verb)(-)(ol:verbRoot_S + an:vPresPart_S + adjAfterVerb_ST)>\n"
     ]
    },
    {
     "name": "stdout",
     "output_type": "stream",
     "text": [
      "2020-12-01 21:34:07,168 - root - WARNING\n",
      "Msg: APPENDING RESULT: <(olmak_Verb)(-)(ol:verbRoot_S + an:vPresPart_S + adjAfterVerb_ST)>\n",
      "\n"
     ]
    },
    {
     "name": "stderr",
     "output_type": "stream",
     "text": [
      "WARNING:root:APPENDING RESULT: <(o_Adj)(-)(o:adjectiveRoot_ST + lan:acquire_S + verbRoot_S + vImp_S + vA2sg_ST)>\n"
     ]
    },
    {
     "name": "stdout",
     "output_type": "stream",
     "text": [
      "2020-12-01 21:34:07,170 - root - WARNING\n",
      "Msg: APPENDING RESULT: <(o_Adj)(-)(o:adjectiveRoot_ST + lan:acquire_S + verbRoot_S + vImp_S + vA2sg_ST)>\n",
      "\n"
     ]
    },
    {
     "name": "stderr",
     "output_type": "stream",
     "text": [
      "WARNING:root:APPENDING RESULT: <(vaka_Noun)(-)(vaka:noun_S + a3sg_S + pnon_S + nın:gen_ST)>\n"
     ]
    },
    {
     "name": "stdout",
     "output_type": "stream",
     "text": [
      "2020-12-01 21:34:07,174 - root - WARNING\n",
      "Msg: APPENDING RESULT: <(vaka_Noun)(-)(vaka:noun_S + a3sg_S + pnon_S + nın:gen_ST)>\n",
      "\n"
     ]
    },
    {
     "name": "stderr",
     "output_type": "stream",
     "text": [
      "WARNING:root:APPENDING RESULT: <(vaka_Noun)(-)(vaka:noun_S + a3sg_S + n:p2sg_S + ın:gen_ST)>\n"
     ]
    },
    {
     "name": "stdout",
     "output_type": "stream",
     "text": [
      "2020-12-01 21:34:07,176 - root - WARNING\n",
      "Msg: APPENDING RESULT: <(vaka_Noun)(-)(vaka:noun_S + a3sg_S + n:p2sg_S + ın:gen_ST)>\n",
      "\n"
     ]
    },
    {
     "name": "stderr",
     "output_type": "stream",
     "text": [
      "WARNING:root:APPENDING RESULT: <(kay_Noun)(-)(kay:noun_S + a3sg_S + pnon_S + da:loc_ST)>\n"
     ]
    },
    {
     "name": "stdout",
     "output_type": "stream",
     "text": [
      "2020-12-01 21:34:07,180 - root - WARNING\n",
      "Msg: APPENDING RESULT: <(kay_Noun)(-)(kay:noun_S + a3sg_S + pnon_S + da:loc_ST)>\n",
      "\n"
     ]
    },
    {
     "name": "stderr",
     "output_type": "stream",
     "text": [
      "WARNING:root:APPENDING RESULT: <(kayıt_Noun)(-)(kayd:noun_S + a3sg_S + pnon_S + a:dat_ST)>\n"
     ]
    },
    {
     "name": "stdout",
     "output_type": "stream",
     "text": [
      "2020-12-01 21:34:07,181 - root - WARNING\n",
      "Msg: APPENDING RESULT: <(kayıt_Noun)(-)(kayd:noun_S + a3sg_S + pnon_S + a:dat_ST)>\n",
      "\n"
     ]
    },
    {
     "name": "stderr",
     "output_type": "stream",
     "text": [
      "WARNING:root:APPENDING RESULT: <(geçmek_Verb)(-)(geç:verbRoot_S + tiğ:vPastPart_S + adjAfterVerb_S + i:aP3sg_ST)>\n"
     ]
    },
    {
     "name": "stdout",
     "output_type": "stream",
     "text": [
      "2020-12-01 21:34:07,186 - root - WARNING\n",
      "Msg: APPENDING RESULT: <(geçmek_Verb)(-)(geç:verbRoot_S + tiğ:vPastPart_S + adjAfterVerb_S + i:aP3sg_ST)>\n",
      "\n"
     ]
    },
    {
     "name": "stderr",
     "output_type": "stream",
     "text": [
      "WARNING:root:APPENDING RESULT: <(geçmek_Verb)(-)(geç:verbRoot_S + tiğ:vPastPart_S + noun_S + a3sg_S + pnon_S + i:acc_ST)>\n"
     ]
    },
    {
     "name": "stdout",
     "output_type": "stream",
     "text": [
      "2020-12-01 21:34:07,189 - root - WARNING\n",
      "Msg: APPENDING RESULT: <(geçmek_Verb)(-)(geç:verbRoot_S + tiğ:vPastPart_S + noun_S + a3sg_S + pnon_S + i:acc_ST)>\n",
      "\n"
     ]
    },
    {
     "name": "stderr",
     "output_type": "stream",
     "text": [
      "WARNING:root:APPENDING RESULT: <(geçmek_Verb)(-)(geç:verbRoot_S + tiğ:vPastPart_S + noun_S + a3sg_S + i:p3sg_S + nom_ST)>\n"
     ]
    },
    {
     "name": "stdout",
     "output_type": "stream",
     "text": [
      "2020-12-01 21:34:07,190 - root - WARNING\n",
      "Msg: APPENDING RESULT: <(geçmek_Verb)(-)(geç:verbRoot_S + tiğ:vPastPart_S + noun_S + a3sg_S + i:p3sg_S + nom_ST)>\n",
      "\n"
     ]
    },
    {
     "name": "stderr",
     "output_type": "stream",
     "text": [
      "WARNING:root:APPENDING RESULT: <(açık_Adj)(-)(açık:adjectiveRoot_ST + lan:acquire_S + verbRoot_S + dı:vPast_S + vA3sg_ST)>\n"
     ]
    },
    {
     "name": "stdout",
     "output_type": "stream",
     "text": [
      "2020-12-01 21:34:07,199 - root - WARNING\n",
      "Msg: APPENDING RESULT: <(açık_Adj)(-)(açık:adjectiveRoot_ST + lan:acquire_S + verbRoot_S + dı:vPast_S + vA3sg_ST)>\n",
      "\n"
     ]
    },
    {
     "name": "stderr",
     "output_type": "stream",
     "text": [
      "WARNING:root:APPENDING RESULT: <(açıklamak_Verb)(-)(açıkla:verbRoot_S + n:vPass_S + verbRoot_S + dı:vPast_S + vA3sg_ST)>\n"
     ]
    },
    {
     "name": "stdout",
     "output_type": "stream",
     "text": [
      "2020-12-01 21:34:07,200 - root - WARNING\n",
      "Msg: APPENDING RESULT: <(açıklamak_Verb)(-)(açıkla:verbRoot_S + n:vPass_S + verbRoot_S + dı:vPast_S + vA3sg_ST)>\n",
      "\n"
     ]
    },
    {
     "name": "stderr",
     "output_type": "stream",
     "text": [
      "WARNING:root:APPENDING RESULT: <(Açık_Noun_Prop)(-)(açık:nounProper_S + a3sg_S + pnon_S + nom_ST + lan:acquire_S + verbRoot_S + dı:vPast_S + vA3sg_ST)>\n"
     ]
    },
    {
     "name": "stdout",
     "output_type": "stream",
     "text": [
      "2020-12-01 21:34:07,206 - root - WARNING\n",
      "Msg: APPENDING RESULT: <(Açık_Noun_Prop)(-)(açık:nounProper_S + a3sg_S + pnon_S + nom_ST + lan:acquire_S + verbRoot_S + dı:vPast_S + vA3sg_ST)>\n",
      "\n"
     ]
    },
    {
     "name": "stderr",
     "output_type": "stream",
     "text": [
      "WARNING:root:APPENDING RESULT: <(açık_Noun)(-)(açık:noun_S + a3sg_S + pnon_S + nom_ST + lan:acquire_S + verbRoot_S + dı:vPast_S + vA3sg_ST)>\n"
     ]
    },
    {
     "name": "stdout",
     "output_type": "stream",
     "text": [
      "2020-12-01 21:34:07,207 - root - WARNING\n",
      "Msg: APPENDING RESULT: <(açık_Noun)(-)(açık:noun_S + a3sg_S + pnon_S + nom_ST + lan:acquire_S + verbRoot_S + dı:vPast_S + vA3sg_ST)>\n",
      "\n"
     ]
    },
    {
     "name": "stderr",
     "output_type": "stream",
     "text": [
      "WARNING:root:APPENDING RESULT: <(._Punc)(-)(.:puncRoot_ST)>\n"
     ]
    },
    {
     "name": "stdout",
     "output_type": "stream",
     "text": [
      "2020-12-01 21:34:07,209 - root - WARNING\n",
      "Msg: APPENDING RESULT: <(._Punc)(-)(.:puncRoot_ST)>\n",
      "\n"
     ]
    },
    {
     "name": "stderr",
     "output_type": "stream",
     "text": [
      "WARNING:root:APPENDING RESULT: <(ilerlemek_Verb)(-)(ilerle:verbRoot_S + yen:vPresPart_S + adjAfterVerb_ST)>\n"
     ]
    },
    {
     "name": "stdout",
     "output_type": "stream",
     "text": [
      "2020-12-01 21:34:07,212 - root - WARNING\n",
      "Msg: APPENDING RESULT: <(ilerlemek_Verb)(-)(ilerle:verbRoot_S + yen:vPresPart_S + adjAfterVerb_ST)>\n",
      "\n"
     ]
    },
    {
     "name": "stderr",
     "output_type": "stream",
     "text": [
      "WARNING:root:APPENDING RESULT: <(saat_Noun)(-)(saat:noun_S + ler:a3pl_S + pnon_S + de:loc_ST)>\n"
     ]
    },
    {
     "name": "stdout",
     "output_type": "stream",
     "text": [
      "2020-12-01 21:34:07,216 - root - WARNING\n",
      "Msg: APPENDING RESULT: <(saat_Noun)(-)(saat:noun_S + ler:a3pl_S + pnon_S + de:loc_ST)>\n",
      "\n"
     ]
    },
    {
     "name": "stderr",
     "output_type": "stream",
     "text": [
      "WARNING:root:APPENDING RESULT: <(başkent_Noun)(-)(başkent:noun_S + a3sg_S + pnon_S + te:loc_ST + ki:rel_S + adjectiveRoot_ST)>\n"
     ]
    },
    {
     "name": "stdout",
     "output_type": "stream",
     "text": [
      "2020-12-01 21:34:07,221 - root - WARNING\n",
      "Msg: APPENDING RESULT: <(başkent_Noun)(-)(başkent:noun_S + a3sg_S + pnon_S + te:loc_ST + ki:rel_S + adjectiveRoot_ST)>\n",
      "\n"
     ]
    },
    {
     "name": "stderr",
     "output_type": "stream",
     "text": [
      "WARNING:root:APPENDING RESULT: <(günlük_Adj)(-)(günlük:adjectiveRoot_ST)>\n"
     ]
    },
    {
     "name": "stdout",
     "output_type": "stream",
     "text": [
      "2020-12-01 21:34:07,224 - root - WARNING\n",
      "Msg: APPENDING RESULT: <(günlük_Adj)(-)(günlük:adjectiveRoot_ST)>\n",
      "\n"
     ]
    },
    {
     "name": "stderr",
     "output_type": "stream",
     "text": [
      "WARNING:root:APPENDING RESULT: <(günlük_Noun)(-)(günlük:noun_S + a3sg_S + pnon_S + nom_ST)>\n"
     ]
    },
    {
     "name": "stdout",
     "output_type": "stream",
     "text": [
      "2020-12-01 21:34:07,227 - root - WARNING\n",
      "Msg: APPENDING RESULT: <(günlük_Noun)(-)(günlük:noun_S + a3sg_S + pnon_S + nom_ST)>\n",
      "\n"
     ]
    },
    {
     "name": "stderr",
     "output_type": "stream",
     "text": [
      "WARNING:root:APPENDING RESULT: <(gün_Noun_Time)(-)(gün:noun_S + a3sg_S + pnon_S + nom_ST + lük:ness_S + noun_S + a3sg_S + pnon_S + nom_ST)>\n"
     ]
    },
    {
     "name": "stdout",
     "output_type": "stream",
     "text": [
      "2020-12-01 21:34:07,230 - root - WARNING\n",
      "Msg: APPENDING RESULT: <(gün_Noun_Time)(-)(gün:noun_S + a3sg_S + pnon_S + nom_ST + lük:ness_S + noun_S + a3sg_S + pnon_S + nom_ST)>\n",
      "\n"
     ]
    },
    {
     "name": "stderr",
     "output_type": "stream",
     "text": [
      "WARNING:root:APPENDING RESULT: <(doğru_Adj)(-)(doğru:adjectiveRoot_ST + lan:acquire_S + verbRoot_S + mış:vNarrPart_S + adjectiveRoot_ST)>\n"
     ]
    },
    {
     "name": "stdout",
     "output_type": "stream",
     "text": [
      "2020-12-01 21:34:07,240 - root - WARNING\n",
      "Msg: APPENDING RESULT: <(doğru_Adj)(-)(doğru:adjectiveRoot_ST + lan:acquire_S + verbRoot_S + mış:vNarrPart_S + adjectiveRoot_ST)>\n",
      "\n"
     ]
    },
    {
     "name": "stderr",
     "output_type": "stream",
     "text": [
      "WARNING:root:APPENDING RESULT: <(doğru_Adj)(-)(doğru:adjectiveRoot_ST + lan:acquire_S + verbRoot_S + mış:vNarr_S + vA3sg_ST)>\n"
     ]
    },
    {
     "name": "stdout",
     "output_type": "stream",
     "text": [
      "2020-12-01 21:34:07,241 - root - WARNING\n",
      "Msg: APPENDING RESULT: <(doğru_Adj)(-)(doğru:adjectiveRoot_ST + lan:acquire_S + verbRoot_S + mış:vNarr_S + vA3sg_ST)>\n",
      "\n"
     ]
    },
    {
     "name": "stderr",
     "output_type": "stream",
     "text": [
      "WARNING:root:APPENDING RESULT: <(doğrulamak_Verb)(-)(doğrula:verbRoot_S + n:vPass_S + verbRoot_S + mış:vNarrPart_S + adjectiveRoot_ST)>\n"
     ]
    },
    {
     "name": "stdout",
     "output_type": "stream",
     "text": [
      "2020-12-01 21:34:07,243 - root - WARNING\n",
      "Msg: APPENDING RESULT: <(doğrulamak_Verb)(-)(doğrula:verbRoot_S + n:vPass_S + verbRoot_S + mış:vNarrPart_S + adjectiveRoot_ST)>\n",
      "\n"
     ]
    },
    {
     "name": "stderr",
     "output_type": "stream",
     "text": [
      "WARNING:root:APPENDING RESULT: <(doğrulamak_Verb)(-)(doğrula:verbRoot_S + n:vPass_S + verbRoot_S + mış:vNarr_S + vA3sg_ST)>\n"
     ]
    },
    {
     "name": "stdout",
     "output_type": "stream",
     "text": [
      "2020-12-01 21:34:07,244 - root - WARNING\n",
      "Msg: APPENDING RESULT: <(doğrulamak_Verb)(-)(doğrula:verbRoot_S + n:vPass_S + verbRoot_S + mış:vNarr_S + vA3sg_ST)>\n",
      "\n"
     ]
    },
    {
     "name": "stderr",
     "output_type": "stream",
     "text": [
      "WARNING:root:APPENDING RESULT: <(doğru_Noun)(-)(doğru:noun_S + a3sg_S + pnon_S + nom_ST + lan:acquire_S + verbRoot_S + mış:vNarrPart_S + adjectiveRoot_ST)>\n"
     ]
    },
    {
     "name": "stdout",
     "output_type": "stream",
     "text": [
      "2020-12-01 21:34:07,247 - root - WARNING\n",
      "Msg: APPENDING RESULT: <(doğru_Noun)(-)(doğru:noun_S + a3sg_S + pnon_S + nom_ST + lan:acquire_S + verbRoot_S + mış:vNarrPart_S + adjectiveRoot_ST)>\n",
      "\n"
     ]
    },
    {
     "name": "stderr",
     "output_type": "stream",
     "text": [
      "WARNING:root:APPENDING RESULT: <(doğru_Noun)(-)(doğru:noun_S + a3sg_S + pnon_S + nom_ST + lan:acquire_S + verbRoot_S + mış:vNarr_S + vA3sg_ST)>\n"
     ]
    },
    {
     "name": "stdout",
     "output_type": "stream",
     "text": [
      "2020-12-01 21:34:07,248 - root - WARNING\n",
      "Msg: APPENDING RESULT: <(doğru_Noun)(-)(doğru:noun_S + a3sg_S + pnon_S + nom_ST + lan:acquire_S + verbRoot_S + mış:vNarr_S + vA3sg_ST)>\n",
      "\n"
     ]
    },
    {
     "name": "stderr",
     "output_type": "stream",
     "text": [
      "WARNING:root:APPENDING RESULT: <(doğrulmak_Verb)(-)(doğrul:verbRoot_S + an:vPresPart_S + noun_S + a3sg_S + pnon_S + nom_ST + nounZeroDeriv_S + nVerb_S + mış:nNarr_S + nA3sg_ST)>\n"
     ]
    },
    {
     "name": "stdout",
     "output_type": "stream",
     "text": [
      "2020-12-01 21:34:07,250 - root - WARNING\n",
      "Msg: APPENDING RESULT: <(doğrulmak_Verb)(-)(doğrul:verbRoot_S + an:vPresPart_S + noun_S + a3sg_S + pnon_S + nom_ST + nounZeroDeriv_S + nVerb_S + mış:nNarr_S + nA3sg_ST)>\n",
      "\n"
     ]
    },
    {
     "name": "stderr",
     "output_type": "stream",
     "text": [
      "WARNING:root:APPENDING RESULT: <(vaka_Noun)(-)(vaka:noun_S + a3sg_S + pnon_S + nom_ST)>\n"
     ]
    },
    {
     "name": "stdout",
     "output_type": "stream",
     "text": [
      "2020-12-01 21:34:07,252 - root - WARNING\n",
      "Msg: APPENDING RESULT: <(vaka_Noun)(-)(vaka:noun_S + a3sg_S + pnon_S + nom_ST)>\n",
      "\n"
     ]
    },
    {
     "name": "stderr",
     "output_type": "stream",
     "text": [
      "WARNING:root:APPENDING RESULT: <(sayı_Noun)(-)(sayı:noun_S + a3sg_S + sı:p3sg_S + nın:gen_ST)>\n"
     ]
    },
    {
     "name": "stdout",
     "output_type": "stream",
     "text": [
      "2020-12-01 21:34:07,257 - root - WARNING\n",
      "Msg: APPENDING RESULT: <(sayı_Noun)(-)(sayı:noun_S + a3sg_S + sı:p3sg_S + nın:gen_ST)>\n",
      "\n"
     ]
    },
    {
     "name": "stderr",
     "output_type": "stream",
     "text": [
      "WARNING:root:APPENDING RESULT: <(artmak_Verb)(-)(art:verbRoot_S + ma:vInf2_S + noun_S + a3sg_S + sı:p3sg_S + ndan:abl_ST)>\n"
     ]
    },
    {
     "name": "stdout",
     "output_type": "stream",
     "text": [
      "2020-12-01 21:34:07,264 - root - WARNING\n",
      "Msg: APPENDING RESULT: <(artmak_Verb)(-)(art:verbRoot_S + ma:vInf2_S + noun_S + a3sg_S + sı:p3sg_S + ndan:abl_ST)>\n",
      "\n"
     ]
    },
    {
     "name": "stderr",
     "output_type": "stream",
     "text": [
      "WARNING:root:APPENDING RESULT: <(endişe_Noun)(-)(endişe:noun_S + a3sg_S + pnon_S + nom_ST)>\n"
     ]
    },
    {
     "name": "stdout",
     "output_type": "stream",
     "text": [
      "2020-12-01 21:34:07,269 - root - WARNING\n",
      "Msg: APPENDING RESULT: <(endişe_Noun)(-)(endişe:noun_S + a3sg_S + pnon_S + nom_ST)>\n",
      "\n"
     ]
    },
    {
     "name": "stderr",
     "output_type": "stream",
     "text": [
      "WARNING:root:APPENDING RESULT: <(etmek_Verb)(-)(ed:verbRoot_S + il:vPass_S + verbRoot_S + iyor:vProgYor_S + vA3sg_ST)>\n"
     ]
    },
    {
     "name": "stdout",
     "output_type": "stream",
     "text": [
      "2020-12-01 21:34:07,273 - root - WARNING\n",
      "Msg: APPENDING RESULT: <(etmek_Verb)(-)(ed:verbRoot_S + il:vPass_S + verbRoot_S + iyor:vProgYor_S + vA3sg_ST)>\n",
      "\n"
     ]
    },
    {
     "name": "stderr",
     "output_type": "stream",
     "text": [
      "WARNING:root:APPENDING RESULT: <(._Punc)(-)(.:puncRoot_ST)>\n"
     ]
    },
    {
     "name": "stdout",
     "output_type": "stream",
     "text": [
      "2020-12-01 21:34:07,278 - root - WARNING\n",
      "Msg: APPENDING RESULT: <(._Punc)(-)(.:puncRoot_ST)>\n",
      "\n"
     ]
    }
   ],
   "source": [
    "postags=pos.analyze(txt)"
   ]
  },
  {
   "cell_type": "code",
   "execution_count": 37,
   "metadata": {},
   "outputs": [
    {
     "name": "stdout",
     "output_type": "stream",
     "text": [
      "Japonyanın Noun\n",
      "başkenti Noun\n",
      "Tokyoda Noun\n",
      "bugüne Noun\n",
      "kadar Postp\n",
      "görülen Adj\n",
      "en Adv\n",
      "yüksek Adj\n",
      "günlük Adj\n",
      "Covid-19 Unk\n",
      "vaka Noun\n",
      "sayısı Noun\n",
      "kayda Noun\n",
      "geçti Verb\n",
      ". Punc\n",
      "Yerel Adj\n",
      "hükümet Unk\n",
      ", Punc\n",
      "artan Adj\n",
      "enfeksiyonlar Noun\n",
      "karşısında Noun\n",
      "alarm Noun\n",
      "seviyesinin Noun\n",
      "en Adv\n",
      "üst Adj\n",
      "düzeye Verb\n",
      "çıkarılacağını Noun\n",
      "açıkladı Verb\n",
      ". Punc\n",
      "Dünya Noun\n",
      "genelinde Noun\n",
      "yaklaşık Adj\n",
      "55.3 Unk\n",
      "milyon Num\n",
      "kişiye Noun\n",
      "bulaşarak Adv\n",
      "1.3 Unk\n",
      "milyonu Noun\n",
      "aşkın Postp\n",
      "ölüme Noun\n",
      "neden Adv\n",
      "olan Adj\n",
      "Kovid-19 Unk\n",
      "salgınının Noun\n",
      "Japonyada Noun\n",
      "yeniden Adv\n",
      "tırmanışa Noun\n",
      "geçmesi Noun\n",
      ", Punc\n",
      "başkent Noun\n",
      "Tokyonun Noun\n",
      "yerel Adj\n",
      "yönetimini Noun\n",
      "harekete Noun\n",
      "geçirdi Verb\n",
      ". Punc\n",
      "Şimdiye Noun\n",
      "dek Postp\n",
      "doğrulanan Adj\n",
      "yaklaşık Adj\n",
      "35 Unk\n",
      "bin Num\n",
      "vakayla Noun\n",
      "salgından Noun\n",
      "en Adv\n",
      "fazla Postp\n",
      "etkilenen Adj\n",
      "bölge Noun\n",
      "olan Adj\n",
      "Tokyoda Noun\n",
      "bugün Adv\n",
      "493 Unk\n",
      "yeni Adv\n",
      "enfeksiyon Noun\n",
      "tespit Noun\n",
      "edildi Verb\n",
      ". Punc\n",
      "Kayda Noun\n",
      "geçen Adj\n",
      "rekor Noun\n",
      "sayıdaki Adj\n",
      "493 Unk\n",
      "yeni Adv\n",
      "enfeksiyonun Noun\n",
      "ardından Adv\n",
      "yerel Adj\n",
      "hükümet Unk\n",
      ", Punc\n",
      "alarm Noun\n",
      "seviyesinin Noun\n",
      "en Adv\n",
      "üst Adj\n",
      "düzeye Verb\n",
      "çıkarılacağını Noun\n",
      "açıkladı Verb\n",
      ". Punc\n",
      "Restoran Noun\n",
      "ve Conj\n",
      "bar Noun\n",
      "benzeri Adj\n",
      "işletmelerden Noun\n",
      "çalışma Verb\n",
      "saatlerini Noun\n",
      "kısaltmalarını Noun\n",
      "isteyip Adv\n",
      "istemeyeceği Adj\n",
      "merak Noun\n",
      "konusu Noun\n",
      "olan Adj\n",
      "yerel Adj\n",
      "otoritelerin Noun\n",
      ", Punc\n",
      "alınacak Adj\n",
      "tedbirler Noun\n",
      "üzerinde Adv\n",
      "istişare Noun\n",
      "ettiği Adj\n",
      "öğrenildi Verb\n",
      ". Punc\n",
      "Öte Postp\n",
      "yandan Noun\n",
      "son Num\n",
      "günlerde Noun\n",
      "art Adj\n",
      "arda Noun\n",
      "bin Num\n",
      "ve Conj\n",
      "üzeri Noun\n",
      "yeni Adv\n",
      "enfeksiyonun Noun\n",
      "doğrulandığı Adj\n",
      "Japonyada Noun\n",
      "dün Adv\n",
      "ülke Noun\n",
      "geneli Noun\n",
      "vaka Noun\n",
      "sayısı Noun\n",
      "bin Num\n",
      "699 Unk\n",
      "olurken Adv\n",
      ", Punc\n",
      "47 Unk\n",
      "eyaletin Noun\n",
      "6sında Unk\n",
      "günlük Adj\n",
      "vaka Noun\n",
      "rekoru Noun\n",
      "kırıldı Verb\n",
      ". Punc\n",
      "122 Unk\n",
      "bin Num\n",
      "57lik Unk\n",
      "toplam Noun\n",
      "enfeksiyon Noun\n",
      "sayısına Noun\n",
      "ulaşan Adj\n",
      "Japonyada Noun\n",
      "Tokyodan Noun\n",
      "bugün Adv\n",
      "de Conj\n",
      "kötü Adv\n",
      "haber Noun\n",
      "geldi Verb\n",
      ". Punc\n",
      "Başkentte Noun\n",
      "öğle Noun\n",
      "saatleri Noun\n",
      "itibariyle Noun\n",
      "tüm Adj\n",
      "zamanların Noun\n",
      "en Adv\n",
      "yüksek Adj\n",
      "vaka Noun\n",
      "sayısı Noun\n",
      "olan Adj\n",
      "493 Unk\n",
      "vakanın Noun\n",
      "kayda Noun\n",
      "geçtiği Adj\n",
      "açıklandı Verb\n",
      ". Punc\n",
      "İlerleyen Adj\n",
      "saatlerde Noun\n",
      "başkentteki Adj\n",
      "günlük Adj\n",
      "doğrulanmış Adj\n",
      "vaka Noun\n",
      "sayısının Noun\n",
      "artmasından Noun\n",
      "endişe Noun\n",
      "ediliyor Verb\n",
      ". Punc\n"
     ]
    }
   ],
   "source": [
    "for i in postags:\n",
    "    try:\n",
    "        print(i[0].word,i[0].pos)\n",
    "    except:\n",
    "        pass"
   ]
  },
  {
   "cell_type": "code",
   "execution_count": null,
   "metadata": {},
   "outputs": [],
   "source": []
  }
 ],
 "metadata": {
  "kernelspec": {
   "display_name": "Python 3",
   "language": "python",
   "name": "python3"
  },
  "language_info": {
   "codemirror_mode": {
    "name": "ipython",
    "version": 3
   },
   "file_extension": ".py",
   "mimetype": "text/x-python",
   "name": "python",
   "nbconvert_exporter": "python",
   "pygments_lexer": "ipython3",
   "version": "3.7.4"
  }
 },
 "nbformat": 4,
 "nbformat_minor": 2
}
