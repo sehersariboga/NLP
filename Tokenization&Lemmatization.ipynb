{
 "cells": [
  {
   "cell_type": "code",
   "execution_count": 9,
   "metadata": {},
   "outputs": [
    {
     "name": "stdout",
     "output_type": "stream",
     "text": [
      "['World_War_I', 'was', 'a', 'global_war', 'originating', 'in', 'Europe', 'that', 'lasted', 'from', '28', 'July', '1914', 'to', '11', 'November', '1918.', 'Contemporaneously', 'known', 'as', 'the', 'Great', 'War', 'or', '\"the', 'war', 'to', 'end', 'all', 'wars\",', 'it', 'led', 'to', 'the', 'mobilisation', 'of', 'more', 'than', '70', 'million', 'military', 'personnel,', 'including', '60', 'million', 'Europeans,', 'making', 'it', 'one', 'of', 'the', 'largest', 'wars', 'in', 'history.', 'It', 'is', 'also', 'one', 'of', 'the', 'deadliest', 'conflicts', 'in', 'history,[10]', 'with', 'an', 'estimated', '9', 'million', 'combatant', 'deaths', 'and', '13', 'million', 'civilian', 'deaths', 'as', 'a', 'direct', 'result', 'of', 'the', 'war,', 'while', 'resulting', 'genocides', 'and', 'the', 'related', '1918', 'Spanish_flu', 'pandemic', 'caused', 'another', '17â€“100', 'million', 'deaths', 'worldwide,', 'including', 'an', 'estimated', '2.64', 'million', 'Spanish_flu', 'deaths', 'in', 'Europe', 'and', 'as', 'many', 'as', '675,000', 'Spanish_flu', 'deaths', 'in', 'the', 'United', 'States.']\n"
     ]
    },
    {
     "data": {
      "text/plain": [
       "'world war i be a global war originate in europe that last from 28 july 1914 to 11 november 1918. contemporaneously know a the great war or \"the war to end all wars\", it lead to the mobilisation of more than 70 million military personnel, include 60 million europeans, make it one of the largest war in history. it be also one of the deadliest conflict in history,[10] with an estimate 9 million combatant death and 13 million civilian death a a direct result of the war, while result genocide and the relate 1918 spanish flu pandemic cause another 17â€“100 million death worldwide, include an estimate 2.64 million spanish flu death in europe and a many a 675,000 spanish flu death in the unite states.'"
      ]
     },
     "execution_count": 9,
     "metadata": {},
     "output_type": "execute_result"
    }
   ],
   "source": [
    "import nltk\n",
    "from nltk.tokenize import MWETokenizer\n",
    "f=open(r\"C:\\Users\\SEHER\\OneDrive\\Masaüstü\\tokenize.txt\",\"r\")\n",
    "text=f.read()\n",
    "tokenizer=MWETokenizer()\n",
    "tokenizer.add_mwe(('World','War','I'))\n",
    "tokenizer.add_mwe(('global','war'))\n",
    "tokenizer.add_mwe(('Spanish','flu'))\n",
    "tokenizer.add_mwe(('United','States'))\n",
    "print(tokenizer.tokenize(text.split()))\n",
    "import pattern\n",
    "\" \".join([lemma(wd) for wd in text.split()])"
   ]
  },
  {
   "cell_type": "markdown",
   "metadata": {},
   "source": [
    "#Another Example"
   ]
  },
  {
   "cell_type": "code",
   "execution_count": 10,
   "metadata": {},
   "outputs": [
    {
     "name": "stdout",
     "output_type": "stream",
     "text": [
      "['World War I  was a global war originating in Europe that lasted from 28 July 1914 to 11 November 1918.', 'Contemporaneously known as the Great War or \"the war to end all wars\", it led to the mobilisation of more than 70 million military personnel, including 60 million Europeans, making it one of the largest wars in history.', 'It is also one of the deadliest conflicts in history,[10] with an estimated 9 million combatant deaths and 13 million civilian deaths as a direct result of the war, while resulting genocides and the related 1918 Spanish flu pandemic caused another 17â€“100 million deaths worldwide, including an estimated 2.64 million Spanish flu deaths in Europe and as many as 675,000 Spanish flu deaths in the United States.']\n",
      "['World', 'War', 'I', 'was', 'a', 'global', 'war', 'originating', 'in', 'Europe', 'that', 'lasted', 'from', '28', 'July', '1914', 'to', '11', 'November', '1918', '.', 'Contemporaneously', 'known', 'as', 'the', 'Great', 'War', 'or', '``', 'the', 'war', 'to', 'end', 'all', 'wars', \"''\", ',', 'it', 'led', 'to', 'the', 'mobilisation', 'of', 'more', 'than', '70', 'million', 'military', 'personnel', ',', 'including', '60', 'million', 'Europeans', ',', 'making', 'it', 'one', 'of', 'the', 'largest', 'wars', 'in', 'history', '.', 'It', 'is', 'also', 'one', 'of', 'the', 'deadliest', 'conflicts', 'in', 'history', ',', '[', '10', ']', 'with', 'an', 'estimated', '9', 'million', 'combatant', 'deaths', 'and', '13', 'million', 'civilian', 'deaths', 'as', 'a', 'direct', 'result', 'of', 'the', 'war', ',', 'while', 'resulting', 'genocides', 'and', 'the', 'related', '1918', 'Spanish', 'flu', 'pandemic', 'caused', 'another', '17â€', '“', '100', 'million', 'deaths', 'worldwide', ',', 'including', 'an', 'estimated', '2.64', 'million', 'Spanish', 'flu', 'deaths', 'in', 'Europe', 'and', 'as', 'many', 'as', '675,000', 'Spanish', 'flu', 'deaths', 'in', 'the', 'United', 'States', '.']\n",
      "be\n",
      "originate\n"
     ]
    }
   ],
   "source": [
    "from nltk.tokenize import sent_tokenize\n",
    "f=open(r\"C:\\Users\\SEHER\\OneDrive\\Masaüstü\\tokenize.txt\",\"r\")\n",
    "text=f.read()\n",
    "print(sent_tokenize(text))\n",
    "from nltk.stem import WordNetLemmatizer\n",
    "lemmatizer = WordNetLemmatizer()\n",
    "word_list = nltk.word_tokenize(text)\n",
    "print(word_list)\n",
    "print(lemmatizer.lemmatize(\"was\",\"v\"))\n",
    "print(lemmatizer.lemmatize(\"originating\",\"v\"))"
   ]
  },
  {
   "cell_type": "code",
   "execution_count": null,
   "metadata": {},
   "outputs": [],
   "source": []
  }
 ],
 "metadata": {
  "kernelspec": {
   "display_name": "Python 3",
   "language": "python",
   "name": "python3"
  },
  "language_info": {
   "codemirror_mode": {
    "name": "ipython",
    "version": 3
   },
   "file_extension": ".py",
   "mimetype": "text/x-python",
   "name": "python",
   "nbconvert_exporter": "python",
   "pygments_lexer": "ipython3",
   "version": "3.7.4"
  }
 },
 "nbformat": 4,
 "nbformat_minor": 2
}
