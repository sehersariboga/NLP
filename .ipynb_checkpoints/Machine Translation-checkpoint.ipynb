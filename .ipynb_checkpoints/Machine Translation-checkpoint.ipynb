{
 "cells": [
  {
   "cell_type": "code",
   "execution_count": 1,
   "metadata": {},
   "outputs": [
    {
     "name": "stdout",
     "output_type": "stream",
     "text": [
      "Collecting simpletransformers\n",
      "  Downloading https://files.pythonhosted.org/packages/8e/8f/4607b72b25ded04835b2282b401c904e24da873e934a0e976b2debe27a41/simpletransformers-0.51.10-py3-none-any.whl (201kB)\n",
      "Requirement already satisfied: regex in c:\\users\\seher\\anaconda3\\lib\\site-packages (from simpletransformers) (2020.11.13)\n",
      "Collecting seqeval (from simpletransformers)\n",
      "  Downloading https://files.pythonhosted.org/packages/9d/2d/233c79d5b4e5ab1dbf111242299153f3caddddbb691219f363ad55ce783d/seqeval-1.2.2.tar.gz (43kB)\n",
      "Requirement already satisfied: scipy in c:\\users\\seher\\anaconda3\\lib\\site-packages (from simpletransformers) (1.3.1)\n",
      "Requirement already satisfied: requests in c:\\users\\seher\\anaconda3\\lib\\site-packages (from simpletransformers) (2.25.0)\n",
      "Requirement already satisfied: tqdm>=4.47.0 in c:\\users\\seher\\anaconda3\\lib\\site-packages (from simpletransformers) (4.51.0)\n",
      "Collecting tensorboardx (from simpletransformers)\n",
      "  Downloading https://files.pythonhosted.org/packages/af/0c/4f41bcd45db376e6fe5c619c01100e9b7531c55791b7244815bac6eac32c/tensorboardX-2.1-py2.py3-none-any.whl (308kB)\n",
      "Collecting sentencepiece (from simpletransformers)\n",
      "  Downloading https://files.pythonhosted.org/packages/88/c4/de7da5c8702a1e8a7af7b9e77b5456120b025894d5e3a9be5e0404d065a1/sentencepiece-0.1.94-cp37-cp37m-win_amd64.whl (1.2MB)\n",
      "Requirement already satisfied: numpy in c:\\users\\seher\\anaconda3\\lib\\site-packages (from simpletransformers) (1.18.5)\n",
      "Requirement already satisfied: scikit-learn in c:\\users\\seher\\anaconda3\\lib\\site-packages (from simpletransformers) (0.21.3)\n",
      "Requirement already satisfied: tokenizers in c:\\users\\seher\\anaconda3\\lib\\site-packages (from simpletransformers) (0.9.4)\n",
      "Requirement already satisfied: pandas in c:\\users\\seher\\anaconda3\\lib\\site-packages (from simpletransformers) (1.1.4)\n",
      "Collecting wandb (from simpletransformers)\n",
      "  Downloading https://files.pythonhosted.org/packages/ca/5e/9df94df3bfee51b92b54a5e6fa277d6e1fcdf1f27b1872214b98f55ec0f7/wandb-0.10.12-py2.py3-none-any.whl (1.8MB)\n",
      "Collecting streamlit (from simpletransformers)\n",
      "  Downloading https://files.pythonhosted.org/packages/dd/8d/4c7676d01e90852254e2275fb4639b747274430f2fa066aa94848d3a6ee4/streamlit-0.73.1-py2.py3-none-any.whl (7.4MB)\n",
      "Requirement already satisfied: transformers>=4.0.0 in c:\\users\\seher\\anaconda3\\lib\\site-packages (from simpletransformers) (4.0.1)\n",
      "Requirement already satisfied: certifi>=2017.4.17 in c:\\users\\seher\\anaconda3\\lib\\site-packages (from requests->simpletransformers) (2019.9.11)\n",
      "Requirement already satisfied: chardet<4,>=3.0.2 in c:\\users\\seher\\anaconda3\\lib\\site-packages (from requests->simpletransformers) (3.0.4)\n",
      "Requirement already satisfied: idna<3,>=2.5 in c:\\users\\seher\\anaconda3\\lib\\site-packages (from requests->simpletransformers) (2.8)\n",
      "Requirement already satisfied: urllib3<1.27,>=1.21.1 in c:\\users\\seher\\anaconda3\\lib\\site-packages (from requests->simpletransformers) (1.24.2)\n",
      "Requirement already satisfied: protobuf>=3.8.0 in c:\\users\\seher\\anaconda3\\lib\\site-packages (from tensorboardx->simpletransformers) (3.14.0)\n",
      "Requirement already satisfied: six in c:\\users\\seher\\anaconda3\\lib\\site-packages (from tensorboardx->simpletransformers) (1.12.0)\n",
      "Requirement already satisfied: joblib>=0.11 in c:\\users\\seher\\anaconda3\\lib\\site-packages (from scikit-learn->simpletransformers) (0.13.2)\n",
      "Requirement already satisfied: python-dateutil>=2.7.3 in c:\\users\\seher\\anaconda3\\lib\\site-packages (from pandas->simpletransformers) (2.8.0)\n",
      "Requirement already satisfied: pytz>=2017.2 in c:\\users\\seher\\anaconda3\\lib\\site-packages (from pandas->simpletransformers) (2019.3)\n",
      "Collecting docker-pycreds>=0.4.0 (from wandb->simpletransformers)\n",
      "  Downloading https://files.pythonhosted.org/packages/f5/e8/f6bd1eee09314e7e6dee49cbe2c5e22314ccdb38db16c9fc72d2fa80d054/docker_pycreds-0.4.0-py2.py3-none-any.whl\n",
      "Collecting shortuuid>=0.5.0 (from wandb->simpletransformers)\n",
      "  Downloading https://files.pythonhosted.org/packages/25/a6/2ecc1daa6a304e7f1b216f0896b26156b78e7c38e1211e9b798b4716c53d/shortuuid-1.0.1-py3-none-any.whl\n",
      "Collecting configparser>=3.8.1 (from wandb->simpletransformers)\n",
      "  Downloading https://files.pythonhosted.org/packages/08/b2/ef713e0e67f6e7ec7d59aea3ee78d05b39c15930057e724cc6d362a8c3bb/configparser-5.0.1-py3-none-any.whl\n",
      "Collecting watchdog>=0.8.3 (from wandb->simpletransformers)\n",
      "  Downloading https://files.pythonhosted.org/packages/b5/db/8b7c15e98bf54931a980e5430838fb35f3a5b112a0f4fb9609a07e80f949/watchdog-1.0.2-py3-none-win_amd64.whl (72kB)\n",
      "Collecting GitPython>=1.0.0 (from wandb->simpletransformers)\n",
      "  Downloading https://files.pythonhosted.org/packages/24/d1/a7f8fe3df258549b303415157328bfcc63e9b11d06a7ad7a3327f3d32606/GitPython-3.1.11-py3-none-any.whl (159kB)\n",
      "Collecting sentry-sdk>=0.4.0 (from wandb->simpletransformers)\n",
      "  Downloading https://files.pythonhosted.org/packages/b1/5c/018bf9a5c24343a664deaea70e61f33f53bb1bd3caf193110f827bfd07e2/sentry_sdk-0.19.5-py2.py3-none-any.whl (128kB)\n",
      "Requirement already satisfied: PyYAML in c:\\users\\seher\\anaconda3\\lib\\site-packages (from wandb->simpletransformers) (5.1.2)\n",
      "Collecting promise<3,>=2.0 (from wandb->simpletransformers)\n",
      "  Downloading https://files.pythonhosted.org/packages/cf/9c/fb5d48abfe5d791cd496e4242ebcf87a4bb2e0c3dcd6e0ae68c11426a528/promise-2.3.tar.gz\n",
      "Collecting subprocess32>=3.5.3 (from wandb->simpletransformers)\n",
      "  Downloading https://files.pythonhosted.org/packages/32/c8/564be4d12629b912ea431f1a50eb8b3b9d00f1a0b1ceff17f266be190007/subprocess32-3.5.4.tar.gz (97kB)\n",
      "Requirement already satisfied: Click>=7.0 in c:\\users\\seher\\anaconda3\\lib\\site-packages (from wandb->simpletransformers) (7.0)\n",
      "Requirement already satisfied: psutil>=5.0.0 in c:\\users\\seher\\anaconda3\\lib\\site-packages (from wandb->simpletransformers) (5.6.3)\n",
      "Requirement already satisfied: altair>=3.2.0 in c:\\users\\seher\\anaconda3\\lib\\site-packages (from streamlit->simpletransformers) (4.1.0)\n",
      "Collecting validators (from streamlit->simpletransformers)\n",
      "  Downloading https://files.pythonhosted.org/packages/db/2f/7fed3ee94ad665ad2c1de87f858f10a7785251ff75b4fd47987888d07ef1/validators-0.18.2-py3-none-any.whl\n",
      "Requirement already satisfied: toml in c:\\users\\seher\\anaconda3\\lib\\site-packages (from streamlit->simpletransformers) (0.10.2)\n",
      "Collecting blinker (from streamlit->simpletransformers)\n",
      "  Downloading https://files.pythonhosted.org/packages/1b/51/e2a9f3b757eb802f61dc1f2b09c8c99f6eb01cf06416c0671253536517b6/blinker-1.4.tar.gz (111kB)\n",
      "Collecting astor (from streamlit->simpletransformers)\n",
      "  Downloading https://files.pythonhosted.org/packages/c3/88/97eef84f48fa04fbd6750e62dcceafba6c63c81b7ac1420856c8dcc0a3f9/astor-0.8.1-py2.py3-none-any.whl\n",
      "Collecting pydeck>=0.1.dev5 (from streamlit->simpletransformers)\n",
      "  Downloading https://files.pythonhosted.org/packages/9e/9d/8fbf1f56cc5891e6c3295bf94fc176e9ab0a3ffdd090cc8b354ac2640f9a/pydeck-0.5.0-py2.py3-none-any.whl (4.5MB)\n",
      "Requirement already satisfied: pillow>=6.2.0 in c:\\users\\seher\\anaconda3\\lib\\site-packages (from streamlit->simpletransformers) (6.2.0)\n",
      "Requirement already satisfied: cachetools>=4.0 in c:\\users\\seher\\anaconda3\\lib\\site-packages (from streamlit->simpletransformers) (4.1.1)\n",
      "Collecting base58 (from streamlit->simpletransformers)\n",
      "  Downloading https://files.pythonhosted.org/packages/3c/03/58572025c77b9e6027155b272a1b96298e711cd4f95c24967f7137ab0c4b/base58-2.0.1-py3-none-any.whl\n",
      "Requirement already satisfied: tornado>=5.0 in c:\\users\\seher\\anaconda3\\lib\\site-packages (from streamlit->simpletransformers) (6.0.3)\n",
      "Collecting pyarrow; python_version < \"3.9\" (from streamlit->simpletransformers)\n",
      "  Downloading https://files.pythonhosted.org/packages/d8/c6/f847631e56f4a8143ccceb0c89f927d4e2f32eea22b300acd21b51f22562/pyarrow-2.0.0-cp37-cp37m-win_amd64.whl (10.7MB)\n",
      "Collecting tzlocal (from streamlit->simpletransformers)\n",
      "  Downloading https://files.pythonhosted.org/packages/5d/94/d47b0fd5988e6b7059de05720a646a2930920fff247a826f61674d436ba4/tzlocal-2.1-py2.py3-none-any.whl\n",
      "Requirement already satisfied: packaging in c:\\users\\seher\\anaconda3\\lib\\site-packages (from streamlit->simpletransformers) (19.2)\n",
      "Requirement already satisfied: filelock in c:\\users\\seher\\anaconda3\\lib\\site-packages (from transformers>=4.0.0->simpletransformers) (3.0.12)\n",
      "Requirement already satisfied: sacremoses in c:\\users\\seher\\anaconda3\\lib\\site-packages (from transformers>=4.0.0->simpletransformers) (0.0.43)\n",
      "Collecting gitdb<5,>=4.0.1 (from GitPython>=1.0.0->wandb->simpletransformers)\n",
      "  Downloading https://files.pythonhosted.org/packages/48/11/d1800bca0a3bae820b84b7d813ad1eff15a48a64caea9c823fc8c1b119e8/gitdb-4.0.5-py3-none-any.whl (63kB)\n",
      "Requirement already satisfied: entrypoints in c:\\users\\seher\\anaconda3\\lib\\site-packages (from altair>=3.2.0->streamlit->simpletransformers) (0.3)\n",
      "Requirement already satisfied: jsonschema in c:\\users\\seher\\anaconda3\\lib\\site-packages (from altair>=3.2.0->streamlit->simpletransformers) (3.0.2)\n",
      "Requirement already satisfied: toolz in c:\\users\\seher\\anaconda3\\lib\\site-packages (from altair>=3.2.0->streamlit->simpletransformers) (0.10.0)\n",
      "Requirement already satisfied: jinja2 in c:\\users\\seher\\anaconda3\\lib\\site-packages (from altair>=3.2.0->streamlit->simpletransformers) (2.10.3)\n",
      "Requirement already satisfied: decorator>=3.4.0 in c:\\users\\seher\\anaconda3\\lib\\site-packages (from validators->streamlit->simpletransformers) (4.4.0)\n",
      "Requirement already satisfied: ipykernel>=5.1.2; python_version >= \"3.4\" in c:\\users\\seher\\anaconda3\\lib\\site-packages (from pydeck>=0.1.dev5->streamlit->simpletransformers) (5.1.2)\n",
      "Requirement already satisfied: traitlets>=4.3.2 in c:\\users\\seher\\anaconda3\\lib\\site-packages (from pydeck>=0.1.dev5->streamlit->simpletransformers) (4.3.3)\n",
      "Requirement already satisfied: ipywidgets>=7.0.0 in c:\\users\\seher\\anaconda3\\lib\\site-packages (from pydeck>=0.1.dev5->streamlit->simpletransformers) (7.5.1)\n",
      "Requirement already satisfied: pyparsing>=2.0.2 in c:\\users\\seher\\anaconda3\\lib\\site-packages (from packaging->streamlit->simpletransformers) (2.4.2)\n",
      "Collecting smmap<4,>=3.0.1 (from gitdb<5,>=4.0.1->GitPython>=1.0.0->wandb->simpletransformers)\n",
      "  Downloading https://files.pythonhosted.org/packages/b0/9a/4d409a6234eb940e6a78dfdfc66156e7522262f5f2fecca07dc55915952d/smmap-3.0.4-py2.py3-none-any.whl\n",
      "Requirement already satisfied: setuptools in c:\\users\\seher\\anaconda3\\lib\\site-packages (from jsonschema->altair>=3.2.0->streamlit->simpletransformers) (41.4.0)\n",
      "Requirement already satisfied: attrs>=17.4.0 in c:\\users\\seher\\anaconda3\\lib\\site-packages (from jsonschema->altair>=3.2.0->streamlit->simpletransformers) (19.2.0)\n",
      "Requirement already satisfied: pyrsistent>=0.14.0 in c:\\users\\seher\\anaconda3\\lib\\site-packages (from jsonschema->altair>=3.2.0->streamlit->simpletransformers) (0.15.4)\n",
      "Requirement already satisfied: MarkupSafe>=0.23 in c:\\users\\seher\\anaconda3\\lib\\site-packages (from jinja2->altair>=3.2.0->streamlit->simpletransformers) (1.1.1)\n",
      "Requirement already satisfied: jupyter-client in c:\\users\\seher\\anaconda3\\lib\\site-packages (from ipykernel>=5.1.2; python_version >= \"3.4\"->pydeck>=0.1.dev5->streamlit->simpletransformers) (5.3.3)\n",
      "Requirement already satisfied: ipython>=5.0.0 in c:\\users\\seher\\anaconda3\\lib\\site-packages (from ipykernel>=5.1.2; python_version >= \"3.4\"->pydeck>=0.1.dev5->streamlit->simpletransformers) (7.8.0)\n",
      "Requirement already satisfied: ipython-genutils in c:\\users\\seher\\anaconda3\\lib\\site-packages (from traitlets>=4.3.2->pydeck>=0.1.dev5->streamlit->simpletransformers) (0.2.0)\n",
      "Requirement already satisfied: widgetsnbextension~=3.5.0 in c:\\users\\seher\\anaconda3\\lib\\site-packages (from ipywidgets>=7.0.0->pydeck>=0.1.dev5->streamlit->simpletransformers) (3.5.1)\n",
      "Requirement already satisfied: nbformat>=4.2.0 in c:\\users\\seher\\anaconda3\\lib\\site-packages (from ipywidgets>=7.0.0->pydeck>=0.1.dev5->streamlit->simpletransformers) (4.4.0)\n",
      "Requirement already satisfied: jupyter-core in c:\\users\\seher\\anaconda3\\lib\\site-packages (from jupyter-client->ipykernel>=5.1.2; python_version >= \"3.4\"->pydeck>=0.1.dev5->streamlit->simpletransformers) (4.5.0)\n",
      "Requirement already satisfied: pywin32>=1.0; sys_platform == \"win32\" in c:\\users\\seher\\anaconda3\\lib\\site-packages (from jupyter-client->ipykernel>=5.1.2; python_version >= \"3.4\"->pydeck>=0.1.dev5->streamlit->simpletransformers) (223)\n",
      "Requirement already satisfied: pyzmq>=13 in c:\\users\\seher\\anaconda3\\lib\\site-packages (from jupyter-client->ipykernel>=5.1.2; python_version >= \"3.4\"->pydeck>=0.1.dev5->streamlit->simpletransformers) (18.1.0)\n",
      "Requirement already satisfied: colorama; sys_platform == \"win32\" in c:\\users\\seher\\anaconda3\\lib\\site-packages (from ipython>=5.0.0->ipykernel>=5.1.2; python_version >= \"3.4\"->pydeck>=0.1.dev5->streamlit->simpletransformers) (0.4.1)\n",
      "Requirement already satisfied: pickleshare in c:\\users\\seher\\anaconda3\\lib\\site-packages (from ipython>=5.0.0->ipykernel>=5.1.2; python_version >= \"3.4\"->pydeck>=0.1.dev5->streamlit->simpletransformers) (0.7.5)\n",
      "Requirement already satisfied: prompt-toolkit<2.1.0,>=2.0.0 in c:\\users\\seher\\anaconda3\\lib\\site-packages (from ipython>=5.0.0->ipykernel>=5.1.2; python_version >= \"3.4\"->pydeck>=0.1.dev5->streamlit->simpletransformers) (2.0.10)\n",
      "Requirement already satisfied: backcall in c:\\users\\seher\\anaconda3\\lib\\site-packages (from ipython>=5.0.0->ipykernel>=5.1.2; python_version >= \"3.4\"->pydeck>=0.1.dev5->streamlit->simpletransformers) (0.1.0)\n",
      "Requirement already satisfied: jedi>=0.10 in c:\\users\\seher\\anaconda3\\lib\\site-packages (from ipython>=5.0.0->ipykernel>=5.1.2; python_version >= \"3.4\"->pydeck>=0.1.dev5->streamlit->simpletransformers) (0.15.1)\n",
      "Requirement already satisfied: pygments in c:\\users\\seher\\anaconda3\\lib\\site-packages (from ipython>=5.0.0->ipykernel>=5.1.2; python_version >= \"3.4\"->pydeck>=0.1.dev5->streamlit->simpletransformers) (2.4.2)\n",
      "Requirement already satisfied: notebook>=4.4.1 in c:\\users\\seher\\anaconda3\\lib\\site-packages (from widgetsnbextension~=3.5.0->ipywidgets>=7.0.0->pydeck>=0.1.dev5->streamlit->simpletransformers) (6.0.1)\n",
      "Requirement already satisfied: wcwidth in c:\\users\\seher\\anaconda3\\lib\\site-packages (from prompt-toolkit<2.1.0,>=2.0.0->ipython>=5.0.0->ipykernel>=5.1.2; python_version >= \"3.4\"->pydeck>=0.1.dev5->streamlit->simpletransformers) (0.1.7)\n",
      "Requirement already satisfied: parso>=0.5.0 in c:\\users\\seher\\anaconda3\\lib\\site-packages (from jedi>=0.10->ipython>=5.0.0->ipykernel>=5.1.2; python_version >= \"3.4\"->pydeck>=0.1.dev5->streamlit->simpletransformers) (0.5.1)\n",
      "Requirement already satisfied: Send2Trash in c:\\users\\seher\\anaconda3\\lib\\site-packages (from notebook>=4.4.1->widgetsnbextension~=3.5.0->ipywidgets>=7.0.0->pydeck>=0.1.dev5->streamlit->simpletransformers) (1.5.0)\n",
      "Requirement already satisfied: nbconvert in c:\\users\\seher\\anaconda3\\lib\\site-packages (from notebook>=4.4.1->widgetsnbextension~=3.5.0->ipywidgets>=7.0.0->pydeck>=0.1.dev5->streamlit->simpletransformers) (5.6.0)\n",
      "Requirement already satisfied: terminado>=0.8.1 in c:\\users\\seher\\anaconda3\\lib\\site-packages (from notebook>=4.4.1->widgetsnbextension~=3.5.0->ipywidgets>=7.0.0->pydeck>=0.1.dev5->streamlit->simpletransformers) (0.8.2)\n",
      "Requirement already satisfied: prometheus-client in c:\\users\\seher\\anaconda3\\lib\\site-packages (from notebook>=4.4.1->widgetsnbextension~=3.5.0->ipywidgets>=7.0.0->pydeck>=0.1.dev5->streamlit->simpletransformers) (0.7.1)\n",
      "Requirement already satisfied: testpath in c:\\users\\seher\\anaconda3\\lib\\site-packages (from nbconvert->notebook>=4.4.1->widgetsnbextension~=3.5.0->ipywidgets>=7.0.0->pydeck>=0.1.dev5->streamlit->simpletransformers) (0.4.2)\n",
      "Requirement already satisfied: pandocfilters>=1.4.1 in c:\\users\\seher\\anaconda3\\lib\\site-packages (from nbconvert->notebook>=4.4.1->widgetsnbextension~=3.5.0->ipywidgets>=7.0.0->pydeck>=0.1.dev5->streamlit->simpletransformers) (1.4.2)\n",
      "Requirement already satisfied: defusedxml in c:\\users\\seher\\anaconda3\\lib\\site-packages (from nbconvert->notebook>=4.4.1->widgetsnbextension~=3.5.0->ipywidgets>=7.0.0->pydeck>=0.1.dev5->streamlit->simpletransformers) (0.6.0)\n",
      "Requirement already satisfied: bleach in c:\\users\\seher\\anaconda3\\lib\\site-packages (from nbconvert->notebook>=4.4.1->widgetsnbextension~=3.5.0->ipywidgets>=7.0.0->pydeck>=0.1.dev5->streamlit->simpletransformers) (3.1.0)\n",
      "Requirement already satisfied: mistune<2,>=0.8.1 in c:\\users\\seher\\anaconda3\\lib\\site-packages (from nbconvert->notebook>=4.4.1->widgetsnbextension~=3.5.0->ipywidgets>=7.0.0->pydeck>=0.1.dev5->streamlit->simpletransformers) (0.8.4)\n",
      "Requirement already satisfied: webencodings in c:\\users\\seher\\anaconda3\\lib\\site-packages (from bleach->nbconvert->notebook>=4.4.1->widgetsnbextension~=3.5.0->ipywidgets>=7.0.0->pydeck>=0.1.dev5->streamlit->simpletransformers) (0.5.1)\n",
      "Building wheels for collected packages: seqeval, promise, subprocess32, blinker\n",
      "  Building wheel for seqeval (setup.py): started\n",
      "  Building wheel for seqeval (setup.py): finished with status 'done'\n",
      "  Created wheel for seqeval: filename=seqeval-1.2.2-cp37-none-any.whl size=16176 sha256=27cb07cc20a91115cd1b9b97c5f7d7f06779e5d0d977a583358b4c76f1a0f878\n",
      "  Stored in directory: C:\\Users\\SEHER\\AppData\\Local\\pip\\Cache\\wheels\\52\\df\\1b\\45d75646c37428f7e626214704a0e35bd3cfc32eda37e59e5f\n",
      "  Building wheel for promise (setup.py): started\n",
      "  Building wheel for promise (setup.py): finished with status 'done'\n",
      "  Created wheel for promise: filename=promise-2.3-cp37-none-any.whl size=21500 sha256=b46e098d7312dd4b95ffaebeb60fc87383024cd26f352cc9e0636545fbba5301\n",
      "  Stored in directory: C:\\Users\\SEHER\\AppData\\Local\\pip\\Cache\\wheels\\19\\49\\34\\c3c1e78bcb954c49e5ec0d31784fe63d14d427f316b12fbde9\n",
      "  Building wheel for subprocess32 (setup.py): started\n",
      "  Building wheel for subprocess32 (setup.py): finished with status 'done'\n",
      "  Created wheel for subprocess32: filename=subprocess32-3.5.4-cp37-none-any.whl size=6495 sha256=38de8e6c5c00cd84bceffcfdffe6b6cb9af3b5f308576c69f51a1100730bb87f\n",
      "  Stored in directory: C:\\Users\\SEHER\\AppData\\Local\\pip\\Cache\\wheels\\68\\39\\1a\\5e402bdfdf004af1786c8b853fd92f8c4a04f22aad179654d1\n",
      "  Building wheel for blinker (setup.py): started\n",
      "  Building wheel for blinker (setup.py): finished with status 'done'\n",
      "  Created wheel for blinker: filename=blinker-1.4-cp37-none-any.whl size=13452 sha256=226f260e17edb37533be279d17030478a447b91bdff9a15b03149ee22bfef9b7\n",
      "  Stored in directory: C:\\Users\\SEHER\\AppData\\Local\\pip\\Cache\\wheels\\92\\a0\\00\\8690a57883956a301d91cf4ec999cc0b258b01e3f548f86e89\n",
      "Successfully built seqeval promise subprocess32 blinker\n",
      "Installing collected packages: seqeval, tensorboardx, sentencepiece, docker-pycreds, shortuuid, configparser, watchdog, smmap, gitdb, GitPython, sentry-sdk, promise, subprocess32, wandb, validators, blinker, astor, pydeck, base58, pyarrow, tzlocal, streamlit, simpletransformers\n",
      "Successfully installed GitPython-3.1.11 astor-0.8.1 base58-2.0.1 blinker-1.4 configparser-5.0.1 docker-pycreds-0.4.0 gitdb-4.0.5 promise-2.3 pyarrow-2.0.0 pydeck-0.5.0 sentencepiece-0.1.94 sentry-sdk-0.19.5 seqeval-1.2.2 shortuuid-1.0.1 simpletransformers-0.51.10 smmap-3.0.4 streamlit-0.73.1 subprocess32-3.5.4 tensorboardx-2.1 tzlocal-2.1 validators-0.18.2 wandb-0.10.12 watchdog-1.0.2\n"
     ]
    },
    {
     "name": "stderr",
     "output_type": "stream",
     "text": [
      "ERROR: wandb 0.10.12 has requirement six>=1.13.0, but you'll have six 1.12.0 which is incompatible.\n"
     ]
    }
   ],
   "source": [
    "!pip install simpletransformers"
   ]
  },
  {
   "cell_type": "code",
   "execution_count": 5,
   "metadata": {},
   "outputs": [],
   "source": [
    "# Import the model\n",
    "from simpletransformers.seq2seq import Seq2SeqModel"
   ]
  },
  {
   "cell_type": "code",
   "execution_count": 6,
   "metadata": {},
   "outputs": [],
   "source": [
    "# Setting desired arguments\n",
    "my_args = {    \"train_batch_size\": 2,\n",
    "               \"num_train_epochs\": 10,\n",
    "               \"save_eval_checkpoints\": False,\n",
    "               \"save_model_every_epoch\": False,\n",
    "               \"evaluate_during_training\": True,\n",
    "               \"evaluate_generated_text\": True   }\n"
   ]
  },
  {
   "cell_type": "code",
   "execution_count": 7,
   "metadata": {},
   "outputs": [
    {
     "data": {
      "application/vnd.jupyter.widget-view+json": {
       "model_id": "925d0c2cd7a64dfd8c0b9345a23cd53f",
       "version_major": 2,
       "version_minor": 0
      },
      "text/plain": [
       "HBox(children=(HTML(value='Downloading'), FloatProgress(value=0.0, max=1133.0), HTML(value='')))"
      ]
     },
     "metadata": {},
     "output_type": "display_data"
    },
    {
     "name": "stdout",
     "output_type": "stream",
     "text": [
      "\n"
     ]
    },
    {
     "data": {
      "application/vnd.jupyter.widget-view+json": {
       "model_id": "7bc63b131fbb4e39a985dff52575cc8e",
       "version_major": 2,
       "version_minor": 0
      },
      "text/plain": [
       "HBox(children=(HTML(value='Downloading'), FloatProgress(value=0.0, max=297928209.0), HTML(value='')))"
      ]
     },
     "metadata": {},
     "output_type": "display_data"
    },
    {
     "name": "stdout",
     "output_type": "stream",
     "text": [
      "\n"
     ]
    },
    {
     "data": {
      "application/vnd.jupyter.widget-view+json": {
       "model_id": "3a92a8df2ed8408a831eada023bd0608",
       "version_major": 2,
       "version_minor": 0
      },
      "text/plain": [
       "HBox(children=(HTML(value='Downloading'), FloatProgress(value=0.0, max=768489.0), HTML(value='')))"
      ]
     },
     "metadata": {},
     "output_type": "display_data"
    },
    {
     "name": "stdout",
     "output_type": "stream",
     "text": [
      "\n"
     ]
    },
    {
     "data": {
      "application/vnd.jupyter.widget-view+json": {
       "model_id": "7186e4bde99845389593bb76390f050d",
       "version_major": 2,
       "version_minor": 0
      },
      "text/plain": [
       "HBox(children=(HTML(value='Downloading'), FloatProgress(value=0.0, max=796845.0), HTML(value='')))"
      ]
     },
     "metadata": {},
     "output_type": "display_data"
    },
    {
     "name": "stdout",
     "output_type": "stream",
     "text": [
      "\n"
     ]
    },
    {
     "data": {
      "application/vnd.jupyter.widget-view+json": {
       "model_id": "9c1fa4f81b1f40ae8ccb39d53fae7b67",
       "version_major": 2,
       "version_minor": 0
      },
      "text/plain": [
       "HBox(children=(HTML(value='Downloading'), FloatProgress(value=0.0, max=1273232.0), HTML(value='')))"
      ]
     },
     "metadata": {},
     "output_type": "display_data"
    },
    {
     "name": "stdout",
     "output_type": "stream",
     "text": [
      "\n"
     ]
    },
    {
     "data": {
      "application/vnd.jupyter.widget-view+json": {
       "model_id": "8423ee97d91d451ba1b45d53415e23b1",
       "version_major": 2,
       "version_minor": 0
      },
      "text/plain": [
       "HBox(children=(HTML(value='Downloading'), FloatProgress(value=0.0, max=42.0), HTML(value='')))"
      ]
     },
     "metadata": {},
     "output_type": "display_data"
    },
    {
     "name": "stdout",
     "output_type": "stream",
     "text": [
      "\n"
     ]
    }
   ],
   "source": [
    "# Instantiating the model\n",
    "my_model=Seq2SeqModel(encoder_decoder_name=\"Helsinki-NLP/opus-mt-en-de\",encoder_decoder_type=\"marian\",args=my_args,use_cuda=False)"
   ]
  },
  {
   "cell_type": "code",
   "execution_count": 8,
   "metadata": {},
   "outputs": [
    {
     "data": {
      "application/vnd.jupyter.widget-view+json": {
       "model_id": "9161b8e15e6d41b18327580e0119793d",
       "version_major": 2,
       "version_minor": 0
      },
      "text/plain": [
       "HBox(children=(HTML(value='Generating outputs'), FloatProgress(value=0.0, max=1.0), HTML(value='')))"
      ]
     },
     "metadata": {},
     "output_type": "display_data"
    },
    {
     "name": "stdout",
     "output_type": "stream",
     "text": [
      "\n"
     ]
    },
    {
     "data": {
      "text/plain": [
       "['Unsere erfahrenen Autoren reisen die Welt, um Ihnen informative und inspirierende Funktionen, Destination Rund',\n",
       " 'Jeder Teil Deutschlands ist anders, und es gibt Tausende von denkwürdigen Orten zu besuchen.',\n",
       " 'Weihnachtsmärkte entstanden in Deutschland, und die Tradition stammt aus dem späten Mittelalter.',\n",
       " 'Garmisch-Partenkirchen ist eine kleine Stadt in Bayern, nahe der höchsten Zugspitze Deutschlands',\n",
       " 'Es ist eines der Top-Alpenziele des Landes, extrem beliebt im Winter',\n",
       " 'Im Frühjahr machen Sie eine Roadtrip durch Bayern und genießen den Blick auf die dunkelgrünen Alpen']"
      ]
     },
     "execution_count": 8,
     "metadata": {},
     "output_type": "execute_result"
    }
   ],
   "source": [
    "# translating the text\n",
    "\n",
    "my_model.predict(['Our experienced writers travel the world to bring you informative and inspirational features, destination roundups, travel ideas, tips and beautiful photos in order to help you plan your next holiday',\n",
    "                  'Each part of Germany is different, and there are thousands of memorable places to visit.',\n",
    "                  \"Christmas Markets originated in Germany, and the tradition dates to the Late Middle Ages.\",\n",
    "                  \"Garmisch-Partenkirchen is a small town in Bavaria, near Germany’s highest mountain Zugspitze, which rises to 9,718 feet (2,962 meters)\",\n",
    "                  \"It’s one of the country’s top alpine destinations, extremely popular during the winter\",\n",
    "                  \"In spring, take a road trip through Bavaria and enjoy the view of the dark green Alps and the first alpine wildflowers. \"])"
   ]
  },
  {
   "cell_type": "code",
   "execution_count": null,
   "metadata": {},
   "outputs": [],
   "source": []
  }
 ],
 "metadata": {
  "kernelspec": {
   "display_name": "Python 3",
   "language": "python",
   "name": "python3"
  },
  "language_info": {
   "codemirror_mode": {
    "name": "ipython",
    "version": 3
   },
   "file_extension": ".py",
   "mimetype": "text/x-python",
   "name": "python",
   "nbconvert_exporter": "python",
   "pygments_lexer": "ipython3",
   "version": "3.7.4"
  }
 },
 "nbformat": 4,
 "nbformat_minor": 2
}
