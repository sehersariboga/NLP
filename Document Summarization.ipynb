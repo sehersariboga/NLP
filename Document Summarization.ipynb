{
 "cells": [
  {
   "cell_type": "markdown",
   "metadata": {},
   "source": [
    "#SIMPLE DOCUMENT SUMMARIZATION"
   ]
  },
  {
   "cell_type": "code",
   "execution_count": 9,
   "metadata": {},
   "outputs": [],
   "source": [
    "original_text =\"\"\"\" Harry Potter has been living a difficult life, constantly abused by his cold aunt and uncle, Vernon and Petunia Dursley and bullied by their spoiled son Dudley since the death of his parents ten years prior. His life changes on the day of his eleventh birthday when he receives a letter of acceptance into Hogwarts School of Witchcraft and Wizardry, delivered by a half-giant named Rubeus Hagrid after previous letters had been destroyed by Vernon and Petunia. Hagrid details Harry's past as the son of James and Lily Potter, who were a wizard and witch respectively, and how they were murdered by the most evil and powerful dark wizard of all time, Lord Voldemort, which resulted in the one-year-old Harry being sent to live with his aunt and uncle. Voldemort was not only unable to kill Harry, but his powers were also destroyed in the attempt, forcing him into exile and sparking Harry's immense fame among the magical community.\n",
    "\n",
    "Hagrid introduces Harry to the wizarding world by bringing him to Diagon Alley, a hidden street in London, where Harry uncovers a fortune left to him by his parents at Gringotts Wizarding Bank. He also receives a pet owl, Hedwig, various school supplies, and a wand (which he learns shares a core from the same source as Voldemort's wand). There, he is surprised to discover how famous he truly is among witches and wizards as \"The Boy Who Lived\". A month later, Harry leaves the Dursleys' home to catch the Hogwarts Express from King's Cross railway station's secret Hogwarts platform, Platform ​9 3⁄4. On the train, he quickly befriends fellow first-year Ronald Weasley and the two boys meet Hermione Granger, whose snobbiness and affinity for spells initially causes the two boys to dislike her. There, Harry also makes an enemy of yet another first-year, Draco Malfoy, who shows prejudice against Ron for his family's financial difficulties.\n",
    "\n",
    "Arriving at Hogwarts, the first-years are assigned by the magical Sorting Hat to Houses that best suit their personalities, the four Houses being Gryffindor, Slytherin, Hufflepuff and Ravenclaw. Harry hears from Ron about Slytherin's dark reputation which is known to house potential dark witches and wizards, and thus objects to being sorted into Slytherin despite the Hat claiming that Harry has potential to develop under that House. He winds up in Gryffindor with Ron and Hermione, while Draco is sorted into Slytherin like his family before him.\n",
    "\n",
    "As classes begin at Hogwarts, Harry discovers he has a talent for flying on broomsticks, and is recruited into his House's team for Quidditch (a sport sharing similarities to football) as a Seeker. He also comes to dislike the school's Potions master, Severus Snape, who is also the Head of Slytherin House who acts with bias in favour of members of his House while perpetually looking for opportunities to fail Harry and his friends. Malfoy tricks Harry and Ron into a duel in the trophy room to get them out of their rooms at night and secretly tells Filch, the school's caretaker, where they will be. Hermione unintentionally is forced to come along after her failed attempts to stop them, and they find Gryffindor student Neville Longbottom asleep outside the common area because he had forgotten the password to get in. After realizing the duel was a set-up to get them in trouble, they run away. They then discover a huge three-headed dog standing guard over a trapdoor in a forbidden corridor. The school's Halloween celebrations are interrupted by the entrance of a troll into the school, which enters the girls' bathroom where Hermione was. However, she is saved by Harry and Ron and, as a result, Hermione is grateful and the three become best friends. Coupled with Snape's recent leg injury as well as behaviour, the recent events prompt Harry, Hermione and Ron to suspect him to be looking for a way to enter the trapdoor.\n",
    "\n",
    "Hermione forbids the boys from investigating for fear of expulsion, and instead makes Harry direct his attention to his first ever Quidditch game, where his broomstick begins to lose control and threatens to throw him off. This leads Hermione to suspect that Snape had jinxed Harry's broom, due to his strange behaviour during the match. After the excitement of winning the match has died down, Christmas arrives and Harry receives an invisibility cloak from an anonymous source claiming that the cloak belonged to Harry's father. Using the cloak to explore the school at night to investigate what is under the trapdoor, he discovers the Mirror of Erised, in which the viewer sees his or her deepest desires come true. Within the Mirror, Harry sees himself standing with both of his parents.\n",
    "\n",
    "A visit to Hagrid's hut at the foot of the school leads the trio to find a newspaper report stating there had been an attempted robbery of a Gringotts vault—the same vault that Hagrid and Harry had visited when the latter was getting his school supplies. A further indiscretion from Hagrid allows them to work out that the object kept under that trapdoor is a Philosopher's Stone, which grants its user immortality as well as the ability to turn any metal into pure gold. Harry is also informed by a centaur named Firenze in the forest that a plot to steal the Stone is being orchestrated by none other than Voldemort himself, who schemes to use it to be restored back to his body and return to power. When the school's headmaster Albus Dumbledore is lured from Hogwarts under false pretences, Harry, Hermione and Ron fear that the theft is imminent and descend through the trapdoor themselves.\n",
    "\n",
    "They encounter a series of obstacles, each of which requires unique skills possessed by one of the three, one of which requires Ron to sacrifice himself in a life-sized game of wizard's chess. In the final room, Harry, now alone, finds Quirinus Quirrell, the Defence Against the Dark Arts teacher, who reveals he had been the one working behind the scenes to kill Harry by first jinxing his broom and then letting a troll into the school, while Snape had been trying to protect Harry instead. Quirrell is helping Voldemort, whose face has sprouted on the back of Quirrell's head but is constantly concealed by his oversized turban, to attain the Philosopher's Stone so as to restore his body. Quirrell uses Harry to get past the final obstacle, the Mirror of Erised, by forcing him to stand before the Mirror. It recognises Harry's lack of greed for the Stone and surreptitiously deposits it into his pocket. As Quirrell attempts to seize the stone and kill Harry, his flesh burns on contact with the boy's skin and breaks into blisters. Harry's scar suddenly burns with pain and he passes out.\n",
    "\n",
    "Three days later, he awakens in the school's infirmary, where Dumbledore explains his survival against Voldemort is due to his mother's sacrificing her life in order for him to live. This left a powerful protective charm on Harry that lives in his blood, which caused Quirrell's hands to burn on contact with Harry due to him being possessed by hatred and greed. He also reveals himself as the one who sent Harry his father's invisibility cloak, while Quirrell has been left to die by Voldemort, who still lives, and the Stone has now been destroyed. The eventful school year ends at the final feast, during which Gryffindor wins the House Cup. Harry returns to Privet Drive for the summer, neglecting to tell the Dursleys that the use of spells is forbidden by under-aged wizards and witches and thus anticipating some fun and peace over the holidays.\"\"\""
   ]
  },
  {
   "cell_type": "markdown",
   "metadata": {},
   "source": [
    "Extract the summary of the given text based on the LexRank Algorithm."
   ]
  },
  {
   "cell_type": "code",
   "execution_count": 10,
   "metadata": {},
   "outputs": [
    {
     "name": "stdout",
     "output_type": "stream",
     "text": [
      "(<Sentence: A visit to Hagrid's hut at the foot of the school leads the trio to find a newspaper report stating there had been an attempted robbery of a Gringotts vault—the same vault that Hagrid and Harry had visited when the latter was getting his school supplies.>, <Sentence: He also reveals himself as the one who sent Harry his father's invisibility cloak, while Quirrell has been left to die by Voldemort, who still lives, and the Stone has now been destroyed.>)\n"
     ]
    }
   ],
   "source": [
    "import sumy\n",
    "from sumy.summarizers.lex_rank import LexRankSummarizer\n",
    "\n",
    "#Plain text parsers since we are parsing through text\n",
    "from sumy.parsers.plaintext import PlaintextParser\n",
    "from sumy.nlp.tokenizers import Tokenizer\n",
    "\n",
    "parser=PlaintextParser.from_string(original_text,Tokenizer(\"english\"))\n",
    "\n",
    "summarizer=LexRankSummarizer()\n",
    "my_summary=summarizer(parser.document,2)\n",
    "print(my_summary)"
   ]
  },
  {
   "cell_type": "markdown",
   "metadata": {},
   "source": [
    "Extract the summary of the given text based on the Luhn Algorithm."
   ]
  },
  {
   "cell_type": "code",
   "execution_count": 11,
   "metadata": {},
   "outputs": [
    {
     "name": "stdout",
     "output_type": "stream",
     "text": [
      "(<Sentence: Hagrid details Harry's past as the son of James and Lily Potter, who were a wizard and witch respectively, and how they were murdered by the most evil and powerful dark wizard of all time, Lord Voldemort, which resulted in the one-year-old Harry being sent to live with his aunt and uncle.>, <Sentence: In the final room, Harry, now alone, finds Quirinus Quirrell, the Defence Against the Dark Arts teacher, who reveals he had been the one working behind the scenes to kill Harry by first jinxing his broom and then letting a troll into the school, while Snape had been trying to protect Harry instead.>)\n"
     ]
    }
   ],
   "source": [
    "import sumy\n",
    "from sumy.summarizers.luhn import LuhnSummarizer\n",
    "\n",
    "#Plain text parsers since we are parsing through text\n",
    "from sumy.parsers.plaintext import PlaintextParser\n",
    "from sumy.nlp.tokenizers import Tokenizer\n",
    "\n",
    "parser=PlaintextParser.from_string(original_text,Tokenizer(\"english\"))\n",
    "\n",
    "summarizer=LuhnSummarizer()\n",
    "my_summary=summarizer(parser.document,2)\n",
    "print(my_summary)"
   ]
  },
  {
   "cell_type": "markdown",
   "metadata": {},
   "source": [
    "Extract the summary of the given text based on the LSA Algorithm."
   ]
  },
  {
   "cell_type": "code",
   "execution_count": 12,
   "metadata": {},
   "outputs": [
    {
     "name": "stdout",
     "output_type": "stream",
     "text": [
      "(<Sentence: There, Harry also makes an enemy of yet another first-year, Draco Malfoy, who shows prejudice against Ron for his family's financial difficulties.>, <Sentence: He winds up in Gryffindor with Ron and Hermione, while Draco is sorted into Slytherin like his family before him.>)\n"
     ]
    }
   ],
   "source": [
    "import sumy\n",
    "from sumy.summarizers.lsa import LsaSummarizer\n",
    "\n",
    "#Plain text parsers since we are parsing through text\n",
    "from sumy.parsers.plaintext import PlaintextParser\n",
    "from sumy.nlp.tokenizers import Tokenizer\n",
    "\n",
    "parser=PlaintextParser.from_string(original_text,Tokenizer(\"english\"))\n",
    "\n",
    "summarizer=LsaSummarizer()\n",
    "my_summary=summarizer(parser.document,2)\n",
    "print(my_summary)"
   ]
  },
  {
   "cell_type": "code",
   "execution_count": null,
   "metadata": {},
   "outputs": [],
   "source": []
  }
 ],
 "metadata": {
  "kernelspec": {
   "display_name": "Python 3",
   "language": "python",
   "name": "python3"
  },
  "language_info": {
   "codemirror_mode": {
    "name": "ipython",
    "version": 3
   },
   "file_extension": ".py",
   "mimetype": "text/x-python",
   "name": "python",
   "nbconvert_exporter": "python",
   "pygments_lexer": "ipython3",
   "version": "3.7.4"
  }
 },
 "nbformat": 4,
 "nbformat_minor": 2
}
