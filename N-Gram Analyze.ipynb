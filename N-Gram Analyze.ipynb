{
 "cells": [
  {
   "cell_type": "code",
   "execution_count": 20,
   "metadata": {
    "scrolled": true
   },
   "outputs": [
    {
     "name": "stdout",
     "output_type": "stream",
     "text": [
      "('vaka', 'sayısı') is used 6 times\n",
      "('alarm', 'seviyesinin') is used 4 times\n",
      "('üst', 'düzeye') is used 4 times\n",
      "('düzeye', 'çıkarılacağını') is used 4 times\n",
      "('çıkarılacağını', 'açıkladı') is used 4 times\n",
      "('493', 'yeni') is used 4 times\n",
      "('yeni', 'enfeksiyonun') is used 4 times\n",
      "('üst', 'düzeye', 'çıkarılacağını') is used 4 times\n",
      "('düzeye', 'çıkarılacağını', 'açıkladı') is used 4 times\n"
     ]
    },
    {
     "name": "stderr",
     "output_type": "stream",
     "text": [
      "[nltk_data] Downloading package punkt to\n",
      "[nltk_data]     C:\\Users\\SEHER\\AppData\\Roaming\\nltk_data...\n",
      "[nltk_data]   Package punkt is already up-to-date!\n",
      "[nltk_data] Downloading package stopwords to\n",
      "[nltk_data]     C:\\Users\\SEHER\\AppData\\Roaming\\nltk_data...\n",
      "[nltk_data]   Package stopwords is already up-to-date!\n"
     ]
    }
   ],
   "source": [
    "# Creating bigrams and trigramsfrom nltk import ngrams\n",
    "from nltk import ngrams\n",
    "import nltk\n",
    "nltk.download('punkt')\n",
    "nltk.download('stopwords')\n",
    "from collections import Counter\n",
    "import pandas as pd\n",
    "import re\n",
    "f = open(r\"C:\\Users\\SEHER\\OneDrive\\Masaüstü\\task2-milliyet.txt\",\"r\",encoding = \"utf-8\")\n",
    "text = f.read()\n",
    "from nltk.corpus import stopwords\n",
    "my_stopwords=set(stopwords.words('turkish'))\n",
    "words=[]\n",
    "words = re.sub(r'[^\\w\\s]',\"\",text).split()\n",
    "\n",
    "# Tokenization using word_tokenize()\n",
    "all_tokens=nltk.word_tokenize(text)\n",
    "\n",
    "for token in all_tokens:\n",
    "  if token not in my_stopwords:\n",
    "    words.append(token)\n",
    "\n",
    "\" \".join(words)\n",
    "biagrams=nltk.ngrams(words,2)\n",
    "biagramsFrequency=Counter(biagrams)\n",
    "valuesOfBiagrams=list(biagramsFrequency.values())\n",
    "biagramlist=list(biagramsFrequency)\n",
    "\n",
    "for x in range (0,len(biagramlist)):\n",
    "    if(valuesOfBiagrams[x]>2):\n",
    "        print(biagramlist[x],\"is used\",valuesOfBiagrams[x],\"times\")\n",
    "        \n",
    "trigrams=nltk.ngrams(words,3)\n",
    "trigramsFrequency=Counter(trigrams)\n",
    "valuesOfTrigrams=list(trigramsFrequency.values())\n",
    "triagramlist=list(trigramsFrequency)\n",
    "\n",
    "for x in range (0,len(triagramlist)):\n",
    "    if(valuesOfTrigrams[x]>3):\n",
    "        print(triagramlist[x],\"is used\",valuesOfTrigrams[x],\"times\")"
   ]
  },
  {
   "cell_type": "code",
   "execution_count": null,
   "metadata": {},
   "outputs": [],
   "source": []
  }
 ],
 "metadata": {
  "kernelspec": {
   "display_name": "Python 3",
   "language": "python",
   "name": "python3"
  },
  "language_info": {
   "codemirror_mode": {
    "name": "ipython",
    "version": 3
   },
   "file_extension": ".py",
   "mimetype": "text/x-python",
   "name": "python",
   "nbconvert_exporter": "python",
   "pygments_lexer": "ipython3",
   "version": "3.7.4"
  }
 },
 "nbformat": 4,
 "nbformat_minor": 2
}
